{
 "cells": [
  {
   "cell_type": "markdown",
   "metadata": {},
   "source": [
    "IA & Data science (LU3IN0226) -- 2019-2020\n",
    "--------\n",
    "*&copy; Equipe pédagogique: Gauvain Bourgne, Vincent Guigue, Marie-Jeanne Lesot, Christophe Marsala, Olivier Schwander.*\n"
   ]
  },
  {
   "cell_type": "markdown",
   "metadata": {},
   "source": [
    "# TD-TME04: les $k$-plus proches voisins (*$k$-ppv* ou *$k$-NN*)"
   ]
  },
  {
   "cell_type": "markdown",
   "metadata": {},
   "source": [
    "<font size=\"+1\" color=\"RED\">**[Q]**</font> **Indiquer dans la boîte ci-dessous vos noms et prénoms :**"
   ]
  },
  {
   "cell_type": "markdown",
   "metadata": {},
   "source": [
    "*Double-cliquer ici et insérer les noms et prénoms de votre binôme*"
   ]
  },
  {
   "cell_type": "markdown",
   "metadata": {},
   "source": [
    "<font color=\"RED\" size=\"+1\">**[Q]**</font> **Renommer ce fichier ipython**\n",
    "\n",
    "Tout en haut de cette page, cliquer sur <tt>tme-04</tt> et rajouter à la suite de <tt>tme-04</tt> les noms des membres du binômes séparés par un tiret.\n",
    "\n",
    "Par exemple, pour le binôme Luke Skywalker et Han Solo, le nom de fichier devient `tme-04-Skywalker-Solo`\n",
    "\n",
    "Penser à sauvegarder fréquemment le fichier en cours de travail :\n",
    "- soit en cliquant sur l'icône \"disquette\"\n",
    "- soit par la combinaison de touches [Ctrl]-S"
   ]
  },
  {
   "cell_type": "markdown",
   "metadata": {},
   "source": [
    "<font color=\"RED\" size=\"+1\">**[Q]**</font> **Mise à jour de la librairie `iads`**\n",
    "\n",
    "En premier lieu, vérifier que votre librairie `iads` est bien à jour : elle doit maintenant contenir toutes les fonctions et classes que mises au point et testées dans le tme-03. Une fois à jour, importer la librairie pour pouvoir l'utiliser dans ce notebook."
   ]
  },
  {
   "cell_type": "code",
   "execution_count": 1,
   "metadata": {},
   "outputs": [],
   "source": [
    "# Importation des librairies standards:\n",
    "import numpy as np\n",
    "import pandas as pd\n",
    "import matplotlib.pyplot as plt\n",
    "import seaborn as sns\n",
    "%matplotlib inline  \n",
    "\n",
    "# Importation de votre librairie iads:\n",
    "# La ligne suivante permet de préciser le chemin d'accès à la librairie iads\n",
    "import sys\n",
    "sys.path.append('../')   # iads doit être dans le répertoire frère du répertoire courant !\n",
    "\n",
    "# Importation de la librairie iads\n",
    "import iads as iads\n",
    "\n",
    "# importation de Classifiers\n",
    "from iads import Classifiers as cl\n",
    "\n",
    "# importation de utils\n",
    "from iads import utils as ut\n",
    "from sklearn.model_selection import train_test_split"
   ]
  },
  {
   "cell_type": "markdown",
   "metadata": {},
   "source": [
    "### Objectifs de ce TME\n",
    "\n",
    "L'objectif de ce TME est de programmer l'algorithme des $k$ plus proches voisins (aussi appelé `k-nn` pour *$k$ nearest neighbors*)."
   ]
  },
  {
   "cell_type": "markdown",
   "metadata": {},
   "source": [
    "En reprenant la fonction écrite dans les TME précédents, on commence par générer un petit dataset qui permettra de tester les fonctions."
   ]
  },
  {
   "cell_type": "code",
   "execution_count": 2,
   "metadata": {},
   "outputs": [
    {
     "name": "stdout",
     "output_type": "stream",
     "text": [
      "Le dataset généré contient  20 lignes de  2 colonnes.\n"
     ]
    },
    {
     "data": {
      "image/png": "[encoded data removed]",
      "text/plain": [
       "<Figure size 432x288 with 1 Axes>"
      ]
     },
     "metadata": {
      "needs_background": "light"
     },
     "output_type": "display_data"
    }
   ],
   "source": [
    "np.random.seed(42)   # supprimer cette ligne une fois la mise au point terminée\n",
    "\n",
    "# Exemple d'utilisation:\n",
    "\n",
    "data_desc, data_label = ut.genere_dataset_gaussian(np.array([1,1]),np.array([[1,0],[0,1]]),np.array([-1,-1]),np.array([[1,0],[0,1]]),10)\n",
    "\n",
    "print(\"Le dataset généré contient \", np.shape(data_desc)[0], \"lignes de \", np.shape(data_desc)[1], \"colonnes.\")\n",
    "\n",
    "# Affichage :\n",
    "ut.plot2DSet(data_desc,data_label)"
   ]
  },
  {
   "cell_type": "markdown",
   "metadata": {},
   "source": [
    "### Tri de valeurs\n",
    "Dans ce qui suit, il sera nécessaire de réaliser un tri des distances calculées, on utilise pour cela la méthode `numpy.argsort`. Consulter la documentation pour voir comment utiliser cette fonction.\n",
    "\n",
    "Exemple d'utilisation de `numpy.argsort`:"
   ]
  },
  {
   "cell_type": "code",
   "execution_count": 3,
   "metadata": {},
   "outputs": [
    {
     "data": {
      "text/plain": [
       "array([100,  50,  25,   7,  65,  42,   3,  99,  32])"
      ]
     },
     "execution_count": 3,
     "metadata": {},
     "output_type": "execute_result"
    }
   ],
   "source": [
    "liste = np.array([100, 50, 25, 7, 65, 42, 3, 99, 32])\n",
    "liste"
   ]
  },
  {
   "cell_type": "code",
   "execution_count": 4,
   "metadata": {},
   "outputs": [
    {
     "data": {
      "text/plain": [
       "array([6, 3, 2, 8, 5, 1, 4, 7, 0])"
      ]
     },
     "execution_count": 4,
     "metadata": {},
     "output_type": "execute_result"
    }
   ],
   "source": [
    "indices_tri = np.argsort(liste)\n",
    "indices_tri"
   ]
  },
  {
   "cell_type": "code",
   "execution_count": 5,
   "metadata": {},
   "outputs": [
    {
     "data": {
      "text/plain": [
       "array([  3,   7,  25,  32,  42,  50,  65,  99, 100])"
      ]
     },
     "execution_count": 5,
     "metadata": {},
     "output_type": "execute_result"
    }
   ],
   "source": [
    "liste_triee = liste[indices_tri]\n",
    "liste_triee"
   ]
  },
  {
   "cell_type": "code",
   "execution_count": 6,
   "metadata": {},
   "outputs": [
    {
     "data": {
      "text/plain": [
       "67"
      ]
     },
     "execution_count": 6,
     "metadata": {},
     "output_type": "execute_result"
    }
   ],
   "source": [
    "liste_triee[0:4].sum()"
   ]
  },
  {
   "cell_type": "markdown",
   "metadata": {},
   "source": [
    "## L'algorithme  k-NN\n",
    "\n",
    "De la même façon que les classifieurs ont été définis dans les tme précédents, le classifieur par $k$ plus proches voisins (ou k-NN) est défini comme suit. \n",
    "\n",
    "Description de la classe `ClassifierKNN` (qui étend `Classifier`):\n",
    "- dans le constructeur, on précise, en plus de la dimension du dataset, le nombre de voisins à utiliser (valeur de $k$)\n",
    "- dans la méthode `train`, on donne le dataset qui doit servir de base de référence\n",
    "- dans la méthode `score`, pour une description d'exemple $x$ donnée :\n",
    "    - 1) on construit le tableau des distances entre $x$ et les exemples du dataset de référence, \n",
    "    - 2) on trie ce tableau grâce à la méthode `numpy.argsort`,\n",
    "    - 3) le score qui doit être rendu est alors **la proportion de classe +1** parmi les $k$ plus proches voisins de $x$. Ce score est donc un nombre réel de $[0,1]$ qui vaut $0.0$ si tous les $k$ voisins de $x$ sont de la classe $-1$ et qui vaut $1.0$ si tous les $k$ voisins de $x$ sont de laclasse $+1$. <br/> Par conséquent, si $k$ vaut $1$ (on ne regarde que le plus proche voisin), la méthode `score` rend donc soit $0.0$ soit $1.0$ selon la classe de ce voisin.\n",
    "- dans la méthode `predict`, pour une description d'exemple $x$ donnée, on utilise le score rendu par la fonction précédente pour rendre la classe de l'exemple, c'est-à-dire soit $-1$ soit $+1$. \n"
   ]
  },
  {
   "cell_type": "markdown",
   "metadata": {},
   "source": [
    "<font color=\"RED\" size=\"+1\">**[Q]**</font> Donner l'implémentation de la classe `ClassifierKNN` qui hérite de la classe `Classifier` et permet de définir un classifieur k-NN."
   ]
  },
  {
   "cell_type": "code",
   "execution_count": 7,
   "metadata": {},
   "outputs": [],
   "source": [
    "# ------------------------ A COMPLETER :\n",
    "\n",
    "class ClassifierKNN(cl.Classifier):\n",
    "    \"\"\" Classe pour représenter un classifieur par K plus proches voisins.\n",
    "        Cette classe hérite de la classe Classifier\n",
    "    \"\"\"\n",
    "\n",
    "    #TODO: A Compléter\n",
    "    \n",
    "    def __init__(self, input_dimension, k):\n",
    "        \"\"\" Constructeur de Classifier\n",
    "            Argument:\n",
    "                - intput_dimension (int) : dimension d'entrée des exemples\n",
    "                - k (int) : nombre de voisins à considérer\n",
    "            Hypothèse : input_dimension > 0\n",
    "        \"\"\"\n",
    "        self.input_dimension = input_dimension\n",
    "        self.k = k\n",
    "    \n",
    "    def dist_euc(self, x, y):\n",
    "        dist = sum([(yi - xi) ** 2 for yi, xi in zip(y, x)])\n",
    "        return (dist ** 0.5)\n",
    "    \n",
    "    \"\"\"\n",
    "    def score(self,x):\n",
    "         rend la proportion de +1 parmi les k ppv de x (valeur réelle)\n",
    "            x: une description : un ndarray\n",
    "        \n",
    "        dist_array = np.array([self.dist_euc(x,y) for y in self.desc_set])\n",
    "        sorted_indexs = np.argsort(dist_array)\n",
    "        #sorted_dist_array = dist_array(sorted_indexs)\n",
    "        \n",
    "        proportion = sum([self.label_set[i] for i in sorted_indexs[:self.k] if self.label_set[i] == 1]) / self.k\n",
    "        \n",
    "        return proportion\n",
    "        \n",
    "    def predict(self, x):\n",
    "         rend la prediction sur x (-1 ou +1)\n",
    "            x: une description : un ndarray\n",
    "        \n",
    "        \n",
    "        if self.score(x) > 0.5:\n",
    "            return 1\n",
    "        \n",
    "        return -1\n",
    "    \"\"\"\n",
    "    # optimizing score\n",
    "    def score(self,x):\n",
    "        \"\"\" rend la proportion de +1 parmi les k ppv de x (valeur réelle)\n",
    "            x: une description : un ndarray\n",
    "        \"\"\"\n",
    "        dist_array = np.array([self.dist_euc(x,y) for y in self.desc_set])\n",
    "        # The k-th element will be in its final sorted position and all smaller\n",
    "        # elements will be moved before it and all larger elements behind it. \n",
    "        # perform partial sort ( in O(n) time as opposed to full sort that is O(n) * log(n))\n",
    "        sorted_indexs = np.argpartition(dist_array, self.k)[:self.k]\n",
    "        \n",
    "        somme = sum([self.label_set[i] for i in sorted_indexs])\n",
    "        \n",
    "        return somme\n",
    "        \n",
    "    def predict(self, x):\n",
    "        \"\"\" rend la prediction sur x (-1 ou +1)\n",
    "            x: une description : un ndarray\n",
    "        \"\"\"\n",
    "        \n",
    "        if self.score(x) > 0:\n",
    "            return 1\n",
    "        \n",
    "        return -1\n",
    "\n",
    "    def train(self, desc_set, label_set):\n",
    "        \"\"\" Permet d'entrainer le modele sur l'ensemble donné\n",
    "            desc_set: ndarray avec des descriptions\n",
    "            label_set: ndarray avec les labels correspondants\n",
    "            Hypothèse: desc_set et label_set ont le même nombre de lignes\n",
    "        \"\"\"        \n",
    "        self.desc_set = desc_set.copy()\n",
    "        self.label_set = label_set.copy()"
   ]
  },
  {
   "cell_type": "code",
   "execution_count": 8,
   "metadata": {},
   "outputs": [
    {
     "name": "stdout",
     "output_type": "stream",
     "text": [
      "Classification de l'exemple  [-2 -2] : -1  (score=  -1 )\n",
      "Classification de l'exemple  [ 0.  -0.1] : -1  (score=  -1 )\n",
      "Classification de l'exemple  [0.25 1.  ] : 1  (score=  1 )\n",
      "Classification de l'exemple  [2 2] : 1  (score=  1 )\n"
     ]
    },
    {
     "data": {
      "image/png": "[encoded data removed]",
      "text/plain": [
       "<Figure size 432x288 with 1 Axes>"
      ]
     },
     "metadata": {
      "needs_background": "light"
     },
     "output_type": "display_data"
    }
   ],
   "source": [
    "# Exemple d'utilisation :\n",
    "knn = ClassifierKNN(2,1)\n",
    "knn.train(data_desc, data_label)\n",
    "\n",
    "exemple = np.array([-2,-2])\n",
    "print(\"Classification de l'exemple \",exemple, \":\", knn.predict(exemple), \" (score= \", knn.score(exemple),\")\")\n",
    "exemple = np.array([0,-0.1])\n",
    "print(\"Classification de l'exemple \",exemple, \":\", knn.predict(exemple), \" (score= \", knn.score(exemple),\")\")\n",
    "exemple = np.array([0.25,1])\n",
    "print(\"Classification de l'exemple \",exemple, \":\", knn.predict(exemple), \" (score= \", knn.score(exemple),\")\")\n",
    "exemple = np.array([2,2])\n",
    "print(\"Classification de l'exemple \",exemple, \":\", knn.predict(exemple), \" (score= \", knn.score(exemple),\")\")\n",
    "\n",
    "ut.plot_frontiere(data_desc,data_label,knn,20)\n",
    "ut.plot2DSet(data_desc,data_label)\n"
   ]
  },
  {
   "cell_type": "code",
   "execution_count": 9,
   "metadata": {},
   "outputs": [
    {
     "name": "stdout",
     "output_type": "stream",
     "text": [
      "Classification de l'exemple  [-2 -2] : -1  (score=  -3 )\n",
      "Classification de l'exemple  [ 0.  -0.1] : -1  (score=  -1 )\n",
      "Classification de l'exemple  [0.25 1.  ] : 1  (score=  3 )\n",
      "Classification de l'exemple  [2 2] : 1  (score=  3 )\n"
     ]
    },
    {
     "data": {
      "image/png": "[encoded data removed]",
      "text/plain": [
       "<Figure size 432x288 with 1 Axes>"
      ]
     },
     "metadata": {
      "needs_background": "light"
     },
     "output_type": "display_data"
    }
   ],
   "source": [
    "# Un autre exemple d'utilisation :\n",
    "knn = ClassifierKNN(data_desc.shape[1],3)\n",
    "knn.train(data_desc, data_label)\n",
    "\n",
    "exemple = np.array([-2,-2])\n",
    "print(\"Classification de l'exemple \",exemple, \":\", knn.predict(exemple), \" (score= \", knn.score(exemple),\")\")\n",
    "exemple = np.array([0,-0.1])\n",
    "print(\"Classification de l'exemple \",exemple, \":\", knn.predict(exemple), \" (score= \", knn.score(exemple),\")\")\n",
    "exemple = np.array([0.25,1])\n",
    "print(\"Classification de l'exemple \",exemple, \":\", knn.predict(exemple), \" (score= \", knn.score(exemple),\")\")\n",
    "exemple = np.array([2,2])\n",
    "print(\"Classification de l'exemple \",exemple, \":\", knn.predict(exemple), \" (score= \", knn.score(exemple),\")\")\n",
    "\n",
    "ut.plot_frontiere(data_desc,data_label,knn,20)\n",
    "ut.plot2DSet(data_desc,data_label)\n"
   ]
  },
  {
   "cell_type": "markdown",
   "metadata": {},
   "source": [
    "## Expérimentations\n",
    "\n",
    "Pour expérimenter un classifieur, il est nécessaire de posséder deux datasets distincts: \n",
    "- le dataset d'apprentissage, qui se compose donc de 2 arrays: `train_desc` et `train_labels`\n",
    "- et le dataset de test, qui se compose de 2 arrays: `test_desc` et `test_labels`. \n",
    "\n",
    "\n",
    "On commence par construire le classifieur avec le dataset d'apprentisage, puis, on évalue sa performance en 2 temps :\n",
    "- on calcule son **accuracy d'apprentissage** qui est l'accuracy obtenue sur le dataset d'apprentissage \n",
    "- on calcule son **accuracy de test** qui est l'accuracy obtenue sur le dataset de test\n",
    "\n",
    "La première valeur mesure combien le classifieur a surappris les données d'apprentissage, la deuxième valeur mesure sa performance en généralisation."
   ]
  },
  {
   "cell_type": "code",
   "execution_count": 10,
   "metadata": {},
   "outputs": [],
   "source": [
    "size = 100\n",
    "test_percentage = 0.3\n",
    "\n",
    "def generate_train_test(total, percentage_test):\n",
    "    assert(isinstance(percentage_test, float) and percentage_test > 0 and percentage_test < 1)\n",
    "    data, labels = ut.genere_dataset_gaussian(np.array([1,1]),np.array([[1,0],[0,1]]),np.array([-1,-1]),np.array([[1,0],[0,1]]), total)\n",
    "    \n",
    "    return train_test_split(data, labels, test_size=percentage_test, random_state=42)\n",
    "\n",
    "train_desc, test_desc, train_labels, test_labels = generate_train_test(size, test_percentage)"
   ]
  },
  {
   "cell_type": "code",
   "execution_count": 11,
   "metadata": {},
   "outputs": [
    {
     "name": "stdout",
     "output_type": "stream",
     "text": [
      "Accuracy du training avec k = 3 -> 0.9571428571428572\n",
      "Accuracy du test avec k = 3 -> 0.8833333333333333\n"
     ]
    }
   ],
   "source": [
    "k = 3\n",
    "knn = ClassifierKNN(data_desc.shape[1],k)\n",
    "knn.train(train_desc, train_labels)\n",
    "\n",
    "print(\"Accuracy du training avec k = 3 ->\", knn.accuracy(train_desc, train_labels))\n",
    "print(\"Accuracy du test avec k = 3 ->\", knn.accuracy(test_desc, test_labels))"
   ]
  },
  {
   "cell_type": "markdown",
   "metadata": {},
   "source": [
    "### Différentes expérimentations sur des datasets générés\n",
    "\n",
    "<font color=\"RED\" size=\"+1\">**[Q]**</font> Comparer la performance (en train et test) de plusieurs classifieurs KNN construits avec différentes valeurs de $k$. Que pouvez vous constater ?\n",
    "Tracer la performance (accuracy d'apprentissage et de test) en fonction de la valeur de $k$ et essayer avec différentes façons de générer les dataset (gaussiennes)."
   ]
  },
  {
   "cell_type": "code",
   "execution_count": 12,
   "metadata": {},
   "outputs": [
    {
     "data": {
      "text/plain": [
       "<matplotlib.legend.Legend at 0x7f4ad5353a58>"
      ]
     },
     "execution_count": 12,
     "metadata": {},
     "output_type": "execute_result"
    },
    {
     "data": {
      "image/png": "[encoded data removed]",
      "text/plain": [
       "<Figure size 432x288 with 1 Axes>"
      ]
     },
     "metadata": {
      "needs_background": "light"
     },
     "output_type": "display_data"
    }
   ],
   "source": [
    "# ------------------------ A COMPLETER :\n",
    "k_values = [i for i in range(1, 21) if i%2 == 1]\n",
    "perf_train = []\n",
    "perf_test = []\n",
    "\n",
    "for k in k_values:\n",
    "    knn = ClassifierKNN(data_desc.shape[1],k)\n",
    "    knn.train(train_desc, train_labels)\n",
    "    \n",
    "    perf_train.append(knn.accuracy(train_desc, train_labels))\n",
    "    perf_test.append(knn.accuracy(test_desc, test_labels))\n",
    "    \n",
    "plt.plot(k_values, perf_train, label='Training performane')\n",
    "plt.plot(k_values, perf_test, label='Testing performane')\n",
    "plt.ylabel('Performane')\n",
    "plt.xlabel('k_values')\n",
    "plt.title(\"courbe de performance en fonction de la valeur de k sur les ensembles de train et de test\")\n",
    "plt.legend()"
   ]
  },
  {
   "cell_type": "markdown",
   "metadata": {},
   "source": [
    "Les accuracies d'apprentissage et de test offrent une bonne évaluation du classifieur, mais souvent il est intéressant d'avoir aussi une mesure de la robustesse de ces accuracies ainsi obtenues: c'est-à-dire combien elles sont fiables.\n",
    "\n",
    "C'est un peu comme si on souhaitait comparer 2 étudiants qui ont obtenu 12 de moyenne (sur 20) sur leur 4 premières interrogations. La seule valeur de la moyenne ne donne pas beaucoup d'information sur la note que pourrait obtenir chacun de ces étudiants lors d'une prochaine interrogation. Pour avoir plus d'information, on doit regarder leurs notes: \n",
    "- le premier étudiant a eu les 4 notes suivantes : 12, 11, 13 et 12;\n",
    "- le secont étudiant a eu les 4 notes suivantes : 20, 4, 20, 4.\n",
    "\n",
    "Ainsi, ces 2 étudiants ont tous les deux 12 de moyenne, mais on peut remarquer que le premier est \"plus stable\" que le second. Une mesure classique pour rendre compte de cela est l'*écart type* de la série des notes:\n",
    "- le premier étudiant a une moyenne de 12 avec un écart type de 0.8;\n",
    "- le second étudiant a une moyenne de 12 avec un écart type de 9.2.\n",
    "\n",
    "Pour évaluer un classifieur, on va donc mesurer son accuracy sur plusieurs datasets et calculer la moyenne des valeurs obtenues ainsi que leur écart type pour avoir une information sur sa robustesse de prédiction.\n",
    "\n",
    "Pour cela, on réalise alors une expérimentation par validation croisée (ou *cross-validation*) dont le principe est le suivant.\n",
    "\n",
    "<ol>\n",
    "    <li>Choisir un algorithme de construction de classifieur à évaluer</li>\n",
    "    <li>Générer un dataset suffisamment grand. Soit $DS$ ce dataset</li>\n",
    "    <li>Découper $DS$ en 10 datasets de taille égale tels qu'ils contiennent tous la même proportion d'exemples de chaque classe que $DS$, les exemples pour constituer chacun de ces datasets sont tirés aléatoirement parmi les exemples $DS$ par un tirage *sans remise*. On appelle $DS0$, $DS1$,..., $DS9$ ces 10 datasets.</li>\n",
    "    <li>Construire un classifieur en prenant $DS0$ comme dataset d'apprentissage et en regroupant les 9 autres datasets $DS1$,...,$DS9$ pour constituer un dataset de test et évaluer l'accuracy d'apprentissage $accA_0$ et l'accuracy de test $accT_0$ de ce classifieur.</li>\n",
    "    <li>Construire un nouveau classifier en prenant $DS1$ comme dataset d'apprentissage et les autres datasets $DS0$, $DS3$,...,$DS9$ comme dataset de test et évaluer l'accuracy d'apprentissage $accA_1$ et l'accuracy de test $accT_1$ de ce classifieur.</li>\n",
    "    <li>etc. Chaque dataset $DSi$ sert une fois comme dataset d'apprentissage et 9 fois comme dataset de test</li>\n",
    "</ol>\n",
    "    \n",
    "Au final, on obtient donc 10 valeurs d'accuracy d'apprentissage et 10 valeurs d'accuracy de test, la performance globale de l'algorithme du classifieur choisi est obtenue en donnant:\n",
    "- la moyenne des accuracies de test $\\frac{1}{10}\\sum_{i=0}^{9} accT_i$\n",
    "- l'écart type des accuracies de test $accT_0$, ..., $accT_{9}$\n",
    "\n",
    "De même, la moyenne et l'écart type des accuracies d'apprentissage peut être aussi fournie.\n",
    "\n",
    "*Remarque*: ici, comme on choisit de découper $DS$ en $10$ datasets, on parle de *validation croisée en 10 paquets* (en anglais: *10-folds cross-validation*). Dans d'autres cas, on peut choisir de réaliser un découpage avec un nombre de datasets différents. On parle alors de *validation croisée en m paquets* avec $m$ un nombre entier supérieur ou égal à 2.\n"
   ]
  },
  {
   "cell_type": "markdown",
   "metadata": {},
   "source": [
    "<font color=\"RED\" size=\"+1\">**[Q]**</font> Compléter la fonction suivante qui, étant donné un classifieur $C$, un dataset $DS$ (donné sous la forme d'un tuple (descriptions, labels)) et un entier $m$, réalise une validation croisée en $m$ paquets et rend le quadruplet composé de 2 tuples: le premier tuple donne la moyenne et l'écart type d'apprentissage, le second tuple donne la moyenne et l'écart type de test."
   ]
  },
  {
   "cell_type": "markdown",
   "metadata": {},
   "source": [
    "# IMPORTANT: on a fait les deux versions, la premiere fonction prend a chaque fois un paquet pour l'apprentissage alors que la deuxieme version prend un paquet pour le test."
   ]
  },
  {
   "cell_type": "markdown",
   "metadata": {},
   "source": [
    "### crossvalidation: each iteration we pick 1 for training and the others for testing"
   ]
  },
  {
   "cell_type": "code",
   "execution_count": 13,
   "metadata": {},
   "outputs": [],
   "source": [
    "   \n",
    "def crossvalidation(C, DS, m=10):\n",
    "    \"\"\" Classifieur * tuple[array, array] * int -> tuple[tuple[float,float], tuple[float,float]]\n",
    "        Hypothèse: m>0\n",
    "        Par défaut, m vaut 10\n",
    "    \"\"\"\n",
    "    \n",
    "    ############################ IMPORTANT ####################################\n",
    "    # 𝐷𝑆1 comme dataset d'apprentissage et les autres datasets 𝐷𝑆0, 𝐷𝑆3,...,𝐷𝑆9 comme dataset de test \n",
    "    # each iteration we pick 1 for training and the others for testing \n",
    "    ###########################################################################\n",
    "    \n",
    "    data_desc, data_labels = DS[0].copy() , DS[1].copy()\n",
    "    indices = [i for i in range(len(data_desc))]\n",
    "    train_accs = []\n",
    "    test_accs = []\n",
    "    datasets = []\n",
    "    \n",
    "    for i in range(m-1): # m-1 in case len(DS) % m != 0\n",
    "        # random tirage\n",
    "        np.random.shuffle(indices)\n",
    "        \n",
    "        # how much to take in each one\n",
    "        length = len(data_desc) // m\n",
    "        X = [data_desc[i] for i in indices[:length]]\n",
    "        y = [data_labels[i] for i in indices[:length]]\n",
    "        \n",
    "        # add it to the list\n",
    "        datasets.append([X, y])\n",
    "        # remove the first length indices so that we don't take the same description twice\n",
    "        for j in range(length):\n",
    "            indices.pop(0)\n",
    "        \n",
    "    # add the last remaining dataset\n",
    "    X = [data_desc[i] for i in indices[:length]]\n",
    "    y = [data_labels[i] for i in indices[:length]]\n",
    "    datasets.append([X, y])\n",
    "    \n",
    "    # take one for training, the others for testing\n",
    "    for train_index in range(m):\n",
    "        test_indexs = [i for i in range(m) if i != train_index]\n",
    "        \n",
    "        C.train(datasets[train_index][0], datasets[train_index][1])\n",
    "        train_accs.append(C.accuracy(datasets[train_index][0], datasets[train_index][1]))\n",
    "        \n",
    "        t_acc = 0\n",
    "        for test_index in test_indexs:\n",
    "            t_acc += C.accuracy(datasets[test_index][0], datasets[test_index][1])\n",
    "            \n",
    "        # append avg accuracy to the test_set\n",
    "        test_accs.append(t_acc/len(test_indexs))\n",
    "            \n",
    "        \n",
    "    print(\"[Info debug] liste accuracies Apprentissage: \", train_accs)\n",
    "    print(\"[Info debug] liste accuracies Test         : \", test_accs)\n",
    "    train_accs = np.array(train_accs)\n",
    "    test_accs = np.array(test_accs)\n",
    "    \n",
    "    return (train_accs.mean(), train_accs.std()), (test_accs.mean(), test_accs.std())"
   ]
  },
  {
   "cell_type": "markdown",
   "metadata": {},
   "source": [
    "### crossvalidation: each iteration we pick 1 for testing and the others for training.\n",
    "#### cette version est beaucoup plus lonte que la premiere, car pour la phase d'apprentissage du perceptron c'est 9x plus long."
   ]
  },
  {
   "cell_type": "code",
   "execution_count": 14,
   "metadata": {},
   "outputs": [],
   "source": [
    "def crossvalidation(C, DS, m=10):\n",
    "    \"\"\" Classifieur * tuple[array, array] * int -> tuple[tuple[float,float], tuple[float,float]]\n",
    "        Hypothèse: m>0\n",
    "        Par défaut, m vaut 10\n",
    "    \"\"\"\n",
    "    \n",
    "    \n",
    "    ############################ IMPORTANT ####################################\n",
    "    # 𝐷𝑆1 comme dataset de test et les autres datasets 𝐷𝑆0, 𝐷𝑆3,...,𝐷𝑆9 comme dataset pour apprentissage \n",
    "    # each iteration we pick 1 for testing and the others for training\n",
    "    ###########################################################################\n",
    "    \n",
    "    data_desc, data_labels = DS[0], DS[1]\n",
    "    indices = [i for i in range(len(data_desc))]\n",
    "    train_accs = []\n",
    "    test_accs = []\n",
    "    datasets = []\n",
    "    \n",
    "    for i in range(m): # we're not treating the case where m%len(DS) != 0 (if the rest has a size = 1, it'll kill the avg)\n",
    "        # random tirage\n",
    "        np.random.shuffle(indices)\n",
    "\n",
    "        # how much to take in each one\n",
    "        length = len(data_desc) // m\n",
    "        XX = [data_desc[i] for i in indices[:length]]\n",
    "        yy = [data_labels[i] for i in indices[:length]]\n",
    "\n",
    "        # add it to the list\n",
    "        datasets.append([XX, yy])\n",
    "        # remove the first length indices so that we don't take the same description twice\n",
    "        for j in range(length):\n",
    "            indices.pop(0)\n",
    "\n",
    "    datasets = np.asarray(datasets)\n",
    "    \n",
    "    # take one for training, the others for testing\n",
    "    for test_index in range(m):\n",
    "        train_set = np.concatenate(tuple([datasets[i] for i in range(m) if i != test_index]), axis=1)\n",
    "        \n",
    "        C.train(train_set[0], train_set[1])\n",
    "            \n",
    "        # append training accuracy to the training_set\n",
    "        train_accs.append(C.accuracy(train_set[0], train_set[1]))\n",
    "\n",
    "        # append test accuracy to the test_set\n",
    "        test_accs.append(C.accuracy(datasets[test_index][0], datasets[test_index][1]))    \n",
    "        \n",
    "    print(\"[Info debug] liste accuracies Apprentissage: \", train_accs)\n",
    "    print(\"[Info debug] liste accuracies Test         : \", test_accs)\n",
    "    train_accs = np.array(train_accs)\n",
    "    test_accs = np.array(test_accs)\n",
    "    \n",
    "    return (train_accs.mean(), train_accs.std()), (test_accs.mean(), test_accs.std())"
   ]
  },
  {
   "cell_type": "markdown",
   "metadata": {},
   "source": [
    "## On remarque qu'avec la deuxieme version on a une meilleure performace, et c'est normal car on a (m-1) fois de volume pour l'apprentissage, que la premiere version (ou il y avait juste un paquet pour l'apprentissage)"
   ]
  },
  {
   "cell_type": "code",
   "execution_count": 15,
   "metadata": {},
   "outputs": [
    {
     "name": "stdout",
     "output_type": "stream",
     "text": [
      "[Info debug] liste accuracies Apprentissage:  [1.0, 1.0, 1.0, 1.0, 1.0, 1.0, 1.0, 1.0, 1.0, 1.0]\n",
      "[Info debug] liste accuracies Test         :  [1.0, 1.0, 1.0, 0.5, 1.0, 0.0, 1.0, 1.0, 1.0, 1.0]\n",
      "(moyenne, std) pour apprentissage : (1.0, 0.0)\n",
      "(moyenne, std) pour test          : (0.85, 0.32015621187164245)\n"
     ]
    }
   ],
   "source": [
    "# Exemple d'utilisation:\n",
    "\n",
    "# Un autre exemple d'utilisation :\n",
    "knn = ClassifierKNN(2,1)\n",
    "\n",
    "res_apprentissage, res_test = crossvalidation(knn, (data_desc, data_label), 10)\n",
    "\n",
    "print(\"(moyenne, std) pour apprentissage :\", res_apprentissage)\n",
    "print(\"(moyenne, std) pour test          :\", res_test)"
   ]
  },
  {
   "cell_type": "code",
   "execution_count": 16,
   "metadata": {},
   "outputs": [
    {
     "name": "stdout",
     "output_type": "stream",
     "text": [
      "Le dataset généré contient  400 lignes de  2 colonnes.\n",
      "[Info debug] liste accuracies Apprentissage:  [0.934375, 0.94375, 0.94375, 0.95, 0.9375]\n",
      "[Info debug] liste accuracies Test         :  [0.9375, 0.9125, 0.9375, 0.9, 0.925]\n",
      "(moyenne, std) pour apprentissage : (0.9418749999999999, 0.005448623679425838)\n",
      "(moyenne, std) pour test          : (0.9225, 0.01457737973711325)\n"
     ]
    },
    {
     "data": {
      "image/png": "[encoded data removed]",
      "text/plain": [
       "<Figure size 432x288 with 1 Axes>"
      ]
     },
     "metadata": {
      "needs_background": "light"
     },
     "output_type": "display_data"
    }
   ],
   "source": [
    "np.random.seed(42)   # supprimer cette ligne une fois la mise au point terminée\n",
    "\n",
    "# Un autre exemple d'utilisation:\n",
    "\n",
    "autre_desc, autre_label = ut.genere_dataset_gaussian(np.array([1,1]),np.array([[1,0],[0,1]]),np.array([-1,-1]),np.array([[1,0],[0,1]]),200)\n",
    "\n",
    "print(\"Le dataset généré contient \", np.shape(autre_desc)[0], \"lignes de \", np.shape(autre_desc)[1], \"colonnes.\")\n",
    "\n",
    "# Affichage :\n",
    "ut.plot2DSet(autre_desc,autre_label)\n",
    "\n",
    "# Classifieur :\n",
    "knn = ClassifierKNN(2,3)\n",
    "\n",
    "res_apprentissage, res_test = crossvalidation(knn, (autre_desc, autre_label), 5)\n",
    "\n",
    "print(\"(moyenne, std) pour apprentissage :\", res_apprentissage)\n",
    "print(\"(moyenne, std) pour test          :\", res_test)"
   ]
  },
  {
   "cell_type": "markdown",
   "metadata": {},
   "source": [
    "Lorsqu'on compare plusieurs classifieurs, il est intéressant de mesurer leurs performances par une validation croisée, et idéalement, réalisée avec les mêmes datasets.\n",
    "\n",
    "<font color=\"RED\" size=\"+1\">**[Q]**</font> Réécrire la fonction précédente pour qu'elle prenne en argument non pas un seul classifieur, mais une liste de classifieurs et qu'elle renvoie la liste des quadruplets résultats correspondante.\n",
    "\n",
    "*Attention*: il ne s'agit pas d'écrire une fonction qui appelle la fonction précédente, il faut la réécrire."
   ]
  },
  {
   "cell_type": "code",
   "execution_count": 17,
   "metadata": {},
   "outputs": [],
   "source": [
    "# ------------------------ A COMPLETER :\n",
    "def crossvalidation(LC, DS, m, debug=True):\n",
    "    \"\"\" List[Classifieur] * tuple[array, array] * int ->  List[tuple[tuple[float,float], tuple[float,float]]]\n",
    "        Hypothèse: m>0\n",
    "        Par défaut, m vaut 10\n",
    "    \"\"\"\n",
    "    print(\"Il y a \", len(LC), \"classifieurs à comparer.\")\n",
    "    \n",
    "    data_desc, data_labels = DS[0].copy(), DS[1].copy()\n",
    "    indices = [i for i in range(len(data_desc))]\n",
    "    train_accs = []\n",
    "    test_accs = []\n",
    "    datasets = []\n",
    "    \n",
    "    for i in range(len(LC)):\n",
    "        train_accs.append([])\n",
    "        test_accs.append([])\n",
    "    \n",
    "    for i in range(m): # we're not treating the case where m%len(DS) != 0 (if the rest has a size = 1, it'll kill the avg)\n",
    "        # random tirage\n",
    "        np.random.shuffle(indices)\n",
    "\n",
    "        # how much to take in each one\n",
    "        length = len(data_desc) // m\n",
    "        XX = [data_desc[i] for i in indices[:length]]\n",
    "        yy = [data_labels[i] for i in indices[:length]]\n",
    "\n",
    "        # add it to the list\n",
    "        datasets.append([XX, yy])\n",
    "        \n",
    "        # remove the first length indices so that we don't take the same description twice\n",
    "        for j in range(length):\n",
    "            indices.pop(0)\n",
    "\n",
    "    datasets = np.asarray(datasets)\n",
    "            \n",
    "    # take one for training, the others for testing\n",
    "    for test_index in range(m):\n",
    "        train_set = np.concatenate(tuple([datasets[i] for i in range(m) if i != test_index]), axis=1)\n",
    "        \n",
    "        for i in range(len(LC)):\n",
    "            LC[i].train(train_set[0], train_set[1])\n",
    "\n",
    "            # append training accuracy to the training_set\n",
    "            train_accs[i].append(LC[i].accuracy(train_set[0], train_set[1]))\n",
    "\n",
    "            # append test accuracy to the test_set\n",
    "            test_accs[i].append(LC[i].accuracy(datasets[test_index][0], datasets[test_index][1]))    \n",
    "    \n",
    "    if debug:\n",
    "        for i in range(len(LC)):\n",
    "            print(\"[Info debug] Classifieur   \", i)\n",
    "            print(\"[Info debug] liste accuracies Apprentissage: \", train_accs[i])\n",
    "            print(\"[Info debug] liste accuracies Test         : \", test_accs[i])\n",
    "            print()\n",
    "\n",
    "    for i in range(len(LC)):\n",
    "        train_accs[i] = np.array(train_accs[i])\n",
    "        test_accs[i] = np.array(test_accs[i])\n",
    "    \n",
    "    returned_values = [((tr.mean(), tr.std()), (ts.mean(), ts.std())) for tr, ts in zip(train_accs, test_accs)]\n",
    "    \n",
    "    return returned_values"
   ]
  },
  {
   "cell_type": "code",
   "execution_count": 18,
   "metadata": {},
   "outputs": [
    {
     "name": "stdout",
     "output_type": "stream",
     "text": [
      "Il y a  3 classifieurs à comparer.\n",
      "[Info debug] Classifieur    0\n",
      "[Info debug] liste accuracies Apprentissage:  [1.0, 1.0, 1.0, 1.0, 1.0, 1.0, 1.0, 1.0, 1.0, 1.0]\n",
      "[Info debug] liste accuracies Test         :  [0.95, 0.9, 0.85, 1.0, 0.95, 0.825, 0.95, 0.875, 0.8, 0.9]\n",
      "\n",
      "[Info debug] Classifieur    1\n",
      "[Info debug] liste accuracies Apprentissage:  [0.9333333333333333, 0.9416666666666667, 0.9416666666666667, 0.9333333333333333, 0.9388888888888889, 0.9527777777777777, 0.9361111111111111, 0.9444444444444444, 0.9416666666666667, 0.9416666666666667]\n",
      "[Info debug] liste accuracies Test         :  [0.975, 0.9, 0.85, 0.975, 0.95, 0.85, 0.95, 0.925, 0.925, 0.9]\n",
      "\n",
      "[Info debug] Classifieur    2\n",
      "[Info debug] liste accuracies Apprentissage:  [0.9277777777777778, 0.9388888888888889, 0.9444444444444444, 0.9277777777777778, 0.9277777777777778, 0.9361111111111111, 0.9333333333333333, 0.9361111111111111, 0.9333333333333333, 0.9388888888888889]\n",
      "[Info debug] liste accuracies Test         :  [0.975, 0.9, 0.875, 1.0, 0.95, 0.925, 0.95, 0.9, 0.925, 0.9]\n",
      "\n",
      "\n",
      "*****\n",
      "Affichage des résultats:\n",
      "Classifieur  0\n",
      "\t(moyenne, std) pour apprentissage : (1.0, 0.0)\n",
      "\t(moyenne, std) pour test          : (0.9, 0.060207972893961466)\n",
      "Classifieur  1\n",
      "\t(moyenne, std) pour apprentissage : (0.9405555555555555, 0.005443310539518154)\n",
      "\t(moyenne, std) pour test          : (0.9200000000000002, 0.04301162633521313)\n",
      "Classifieur  2\n",
      "\t(moyenne, std) pour apprentissage : (0.9344444444444443, 0.0052996622300941236)\n",
      "\t(moyenne, std) pour test          : (0.93, 0.03674234614174766)\n"
     ]
    }
   ],
   "source": [
    "# Exemple d'utilisation:\n",
    "\n",
    "# Un autre exemple d'utilisation :\n",
    "Liste_knns = []\n",
    "Liste_knns.append(ClassifierKNN(2,1))\n",
    "Liste_knns.append(ClassifierKNN(2,3))\n",
    "Liste_knns.append(ClassifierKNN(2,5))\n",
    "\n",
    "Resultats = crossvalidation(Liste_knns, (autre_desc, autre_label), 10)\n",
    "\n",
    "print(\"\\n*****\\nAffichage des résultats:\")\n",
    "for k in range(0,len(Resultats)):\n",
    "    print(\"Classifieur \", k)\n",
    "    print(\"\\t(moyenne, std) pour apprentissage :\", Resultats[k][0])\n",
    "    print(\"\\t(moyenne, std) pour test          :\", Resultats[k][1])\n"
   ]
  },
  {
   "cell_type": "markdown",
   "metadata": {},
   "source": [
    "<font color=\"RED\" size=\"+1\">**[Q]**</font> A l'aide d'une validation croisée en 10 paquets réalisée sur un dataset généré aléatoirement, donner les performances (accuracy moyenne et écart type) de tous les classifieurs implémentés depuis le TME 2."
   ]
  },
  {
   "cell_type": "markdown",
   "metadata": {},
   "source": [
    "### On va comparer 7 classifieurs avec cross-validation:\n",
    "learning_rate = 10e-3\n",
    "\n",
    "1 perceptron<br>\n",
    "1 kernelized perceptron<br>\n",
    "5 KNNs k = [3 -> 11]"
   ]
  },
  {
   "cell_type": "markdown",
   "metadata": {},
   "source": [
    "# Functions of comparaisons"
   ]
  },
  {
   "cell_type": "code",
   "execution_count": 19,
   "metadata": {},
   "outputs": [],
   "source": [
    "classif_dict = dict()\n",
    "eps = 10e-3 # learning rate\n",
    "\n",
    "def compare(X, y, show_res=True):   \n",
    "    classif_dict['perceptron'] = cl.ClassifierPerceptron(X.shape[1], eps)\n",
    "    classif_dict['kernel_perceptron'] = cl.ClassifierPerceptronKernel(X.shape[1], eps, ut.KernelPoly())\n",
    "\n",
    "    k = 3\n",
    "    while k < 12:\n",
    "        classif_dict['knnV' + str(k)] = ClassifierKNN(X.shape[1], k)\n",
    "        k += 2\n",
    "    Resultats = crossvalidation(list(classif_dict.values()), (X, y), 10, debug=False)\n",
    "    \n",
    "    if show_res:\n",
    "        print(\"\\n*****\\nAffichage des résultats:\")\n",
    "\n",
    "        i = 0\n",
    "        for key in classif_dict.keys():\n",
    "            print(\"Classifieur \", key)\n",
    "            print(\"\\t(moyenne, std) pour apprentissage :\", Resultats[i][0])\n",
    "            print(\"\\t(moyenne, std) pour test          :\", Resultats[i][1])\n",
    "            i += 1\n",
    "        \n",
    "    return Resultats\n",
    "\n",
    "def plot_comparaison():\n",
    "    perf_train = []\n",
    "    perf_test = []\n",
    "    classifs = [i for i in range(len(classif_dict))]\n",
    "\n",
    "    for i in range(len(classif_dict)):\n",
    "        perf_train.append(values[i][0][0])\n",
    "        perf_test.append(values[i][1][0])\n",
    "\n",
    "    plt.figure(figsize=(7, 3))\n",
    "    plt.plot(classifs, perf_train, label='Training performane')\n",
    "    plt.plot(classifs, perf_test, label='Testing performane')\n",
    "    plt.ylabel('Performane')\n",
    "    plt.xlabel('Classifiers')\n",
    "    plt.xticks(np.arange(len(classif_dict)), list(classif_dict.keys()), rotation='vertical')\n",
    "    plt.title(\"Comparing multiple classifiers\")\n",
    "    plt.legend()\n",
    "    \n",
    "    best_index = perf_test.index(max(perf_test))\n",
    "    names = list(classif_dict.keys())\n",
    "    print(\"Best classifier is %s with a test accuracy of %f\" %(names[best_index], perf_test[best_index]))\n",
    "\n"
   ]
  },
  {
   "cell_type": "markdown",
   "metadata": {},
   "source": [
    "# Dataset linearly separable"
   ]
  },
  {
   "cell_type": "code",
   "execution_count": 20,
   "metadata": {},
   "outputs": [
    {
     "data": {
      "image/png": "[encoded data removed]",
      "text/plain": [
       "<Figure size 432x288 with 1 Axes>"
      ]
     },
     "metadata": {
      "needs_background": "light"
     },
     "output_type": "display_data"
    }
   ],
   "source": [
    "size = 100\n",
    "var = 0.15\n",
    "X, y = ut.genere_dataset_gaussian(np.array([1,1]),np.array([[var,0],[0,var]]),np.array([-1,-1]),np.array([[var,0],[0,var]]), size)\n",
    "# Affichage :\n",
    "ut.plot2DSet(X,y)"
   ]
  },
  {
   "cell_type": "markdown",
   "metadata": {},
   "source": [
    "### Comparaison of classifiers using Cross-Validation"
   ]
  },
  {
   "cell_type": "code",
   "execution_count": 21,
   "metadata": {},
   "outputs": [
    {
     "name": "stdout",
     "output_type": "stream",
     "text": [
      "Il y a  7 classifieurs à comparer.\n",
      "\n",
      "*****\n",
      "Affichage des résultats:\n",
      "Classifieur  perceptron\n",
      "\t(moyenne, std) pour apprentissage : (1.0, 0.0)\n",
      "\t(moyenne, std) pour test          : (1.0, 0.0)\n",
      "Classifieur  kernel_perceptron\n",
      "\t(moyenne, std) pour apprentissage : (0.9844444444444445, 0.01681416216713507)\n",
      "\t(moyenne, std) pour test          : (0.97, 0.039999999999999994)\n",
      "Classifieur  knnV3\n",
      "\t(moyenne, std) pour apprentissage : (1.0, 0.0)\n",
      "\t(moyenne, std) pour test          : (1.0, 0.0)\n",
      "Classifieur  knnV5\n",
      "\t(moyenne, std) pour apprentissage : (1.0, 0.0)\n",
      "\t(moyenne, std) pour test          : (1.0, 0.0)\n",
      "Classifieur  knnV7\n",
      "\t(moyenne, std) pour apprentissage : (1.0, 0.0)\n",
      "\t(moyenne, std) pour test          : (1.0, 0.0)\n",
      "Classifieur  knnV9\n",
      "\t(moyenne, std) pour apprentissage : (1.0, 0.0)\n",
      "\t(moyenne, std) pour test          : (1.0, 0.0)\n",
      "Classifieur  knnV11\n",
      "\t(moyenne, std) pour apprentissage : (1.0, 0.0)\n",
      "\t(moyenne, std) pour test          : (1.0, 0.0)\n"
     ]
    }
   ],
   "source": [
    "values = compare(X,y)"
   ]
  },
  {
   "cell_type": "markdown",
   "metadata": {},
   "source": [
    "### Compare plot of the classifiers performance"
   ]
  },
  {
   "cell_type": "code",
   "execution_count": 22,
   "metadata": {
    "scrolled": true
   },
   "outputs": [
    {
     "name": "stdout",
     "output_type": "stream",
     "text": [
      "Best classifier is perceptron with a test accuracy of 1.000000\n"
     ]
    },
    {
     "data": {
      "image/png": "[encoded data removed]",
      "text/plain": [
       "<Figure size 504x216 with 1 Axes>"
      ]
     },
     "metadata": {
      "needs_background": "light"
     },
     "output_type": "display_data"
    }
   ],
   "source": [
    "plot_comparaison()"
   ]
  },
  {
   "cell_type": "markdown",
   "metadata": {},
   "source": [
    "# Not linearly separable"
   ]
  },
  {
   "cell_type": "code",
   "execution_count": 23,
   "metadata": {},
   "outputs": [
    {
     "data": {
      "image/png": "[encoded data removed]",
      "text/plain": [
       "<Figure size 432x288 with 1 Axes>"
      ]
     },
     "metadata": {
      "needs_background": "light"
     },
     "output_type": "display_data"
    }
   ],
   "source": [
    "size = 500\n",
    "var = 0.8\n",
    "X, y = ut.genere_dataset_gaussian(np.array([1,1]),np.array([[var,0],[0,var]]),np.array([-1,-1]),np.array([[var,0],[0,var]]), size)\n",
    "# Affichage :\n",
    "ut.plot2DSet(X,y)"
   ]
  },
  {
   "cell_type": "markdown",
   "metadata": {},
   "source": [
    "### Comparaison of classifiers using Cross-Validation"
   ]
  },
  {
   "cell_type": "code",
   "execution_count": 24,
   "metadata": {},
   "outputs": [
    {
     "name": "stdout",
     "output_type": "stream",
     "text": [
      "Il y a  7 classifieurs à comparer.\n"
     ]
    },
    {
     "ename": "KeyboardInterrupt",
     "evalue": "",
     "output_type": "error",
     "traceback": [
      "\u001b[0;31m---------------------------------------------------------------------------\u001b[0m",
      "\u001b[0;31mKeyboardInterrupt\u001b[0m                         Traceback (most recent call last)",
      "\u001b[0;32m<ipython-input-24-c5995af90688>\u001b[0m in \u001b[0;36m<module>\u001b[0;34m\u001b[0m\n\u001b[0;32m----> 1\u001b[0;31m \u001b[0mvalues\u001b[0m \u001b[0;34m=\u001b[0m \u001b[0mcompare\u001b[0m\u001b[0;34m(\u001b[0m\u001b[0mX\u001b[0m\u001b[0;34m,\u001b[0m\u001b[0my\u001b[0m\u001b[0;34m)\u001b[0m\u001b[0;34m\u001b[0m\u001b[0;34m\u001b[0m\u001b[0m\n\u001b[0m",
      "\u001b[0;32m<ipython-input-19-b409e3e2fbe8>\u001b[0m in \u001b[0;36mcompare\u001b[0;34m(X, y, show_res)\u001b[0m\n\u001b[1;32m     10\u001b[0m         \u001b[0mclassif_dict\u001b[0m\u001b[0;34m[\u001b[0m\u001b[0;34m'knnV'\u001b[0m \u001b[0;34m+\u001b[0m \u001b[0mstr\u001b[0m\u001b[0;34m(\u001b[0m\u001b[0mk\u001b[0m\u001b[0;34m)\u001b[0m\u001b[0;34m]\u001b[0m \u001b[0;34m=\u001b[0m \u001b[0mClassifierKNN\u001b[0m\u001b[0;34m(\u001b[0m\u001b[0mX\u001b[0m\u001b[0;34m.\u001b[0m\u001b[0mshape\u001b[0m\u001b[0;34m[\u001b[0m\u001b[0;36m1\u001b[0m\u001b[0;34m]\u001b[0m\u001b[0;34m,\u001b[0m \u001b[0mk\u001b[0m\u001b[0;34m)\u001b[0m\u001b[0;34m\u001b[0m\u001b[0;34m\u001b[0m\u001b[0m\n\u001b[1;32m     11\u001b[0m         \u001b[0mk\u001b[0m \u001b[0;34m+=\u001b[0m \u001b[0;36m2\u001b[0m\u001b[0;34m\u001b[0m\u001b[0;34m\u001b[0m\u001b[0m\n\u001b[0;32m---> 12\u001b[0;31m     \u001b[0mResultats\u001b[0m \u001b[0;34m=\u001b[0m \u001b[0mcrossvalidation\u001b[0m\u001b[0;34m(\u001b[0m\u001b[0mlist\u001b[0m\u001b[0;34m(\u001b[0m\u001b[0mclassif_dict\u001b[0m\u001b[0;34m.\u001b[0m\u001b[0mvalues\u001b[0m\u001b[0;34m(\u001b[0m\u001b[0;34m)\u001b[0m\u001b[0;34m)\u001b[0m\u001b[0;34m,\u001b[0m \u001b[0;34m(\u001b[0m\u001b[0mX\u001b[0m\u001b[0;34m,\u001b[0m \u001b[0my\u001b[0m\u001b[0;34m)\u001b[0m\u001b[0;34m,\u001b[0m \u001b[0;36m10\u001b[0m\u001b[0;34m,\u001b[0m \u001b[0mdebug\u001b[0m\u001b[0;34m=\u001b[0m\u001b[0;32mFalse\u001b[0m\u001b[0;34m)\u001b[0m\u001b[0;34m\u001b[0m\u001b[0;34m\u001b[0m\u001b[0m\n\u001b[0m\u001b[1;32m     13\u001b[0m \u001b[0;34m\u001b[0m\u001b[0m\n\u001b[1;32m     14\u001b[0m     \u001b[0;32mif\u001b[0m \u001b[0mshow_res\u001b[0m\u001b[0;34m:\u001b[0m\u001b[0;34m\u001b[0m\u001b[0;34m\u001b[0m\u001b[0m\n",
      "\u001b[0;32m<ipython-input-17-451005d49f40>\u001b[0m in \u001b[0;36mcrossvalidation\u001b[0;34m(LC, DS, m, debug)\u001b[0m\n\u001b[1;32m     43\u001b[0m \u001b[0;34m\u001b[0m\u001b[0m\n\u001b[1;32m     44\u001b[0m             \u001b[0;31m# append training accuracy to the training_set\u001b[0m\u001b[0;34m\u001b[0m\u001b[0;34m\u001b[0m\u001b[0;34m\u001b[0m\u001b[0m\n\u001b[0;32m---> 45\u001b[0;31m             \u001b[0mtrain_accs\u001b[0m\u001b[0;34m[\u001b[0m\u001b[0mi\u001b[0m\u001b[0;34m]\u001b[0m\u001b[0;34m.\u001b[0m\u001b[0mappend\u001b[0m\u001b[0;34m(\u001b[0m\u001b[0mLC\u001b[0m\u001b[0;34m[\u001b[0m\u001b[0mi\u001b[0m\u001b[0;34m]\u001b[0m\u001b[0;34m.\u001b[0m\u001b[0maccuracy\u001b[0m\u001b[0;34m(\u001b[0m\u001b[0mtrain_set\u001b[0m\u001b[0;34m[\u001b[0m\u001b[0;36m0\u001b[0m\u001b[0;34m]\u001b[0m\u001b[0;34m,\u001b[0m \u001b[0mtrain_set\u001b[0m\u001b[0;34m[\u001b[0m\u001b[0;36m1\u001b[0m\u001b[0;34m]\u001b[0m\u001b[0;34m)\u001b[0m\u001b[0;34m)\u001b[0m\u001b[0;34m\u001b[0m\u001b[0;34m\u001b[0m\u001b[0m\n\u001b[0m\u001b[1;32m     46\u001b[0m \u001b[0;34m\u001b[0m\u001b[0m\n\u001b[1;32m     47\u001b[0m             \u001b[0;31m# append test accuracy to the test_set\u001b[0m\u001b[0;34m\u001b[0m\u001b[0;34m\u001b[0m\u001b[0;34m\u001b[0m\u001b[0m\n",
      "\u001b[0;32m/users/nfs/Etu2/28616952/ds/3i026/iads/Classifiers.py\u001b[0m in \u001b[0;36maccuracy\u001b[0;34m(self, desc_set, label_set)\u001b[0m\n\u001b[1;32m     53\u001b[0m         \"\"\"\n\u001b[1;32m     54\u001b[0m         \u001b[0mN\u001b[0m \u001b[0;34m=\u001b[0m \u001b[0mlen\u001b[0m\u001b[0;34m(\u001b[0m\u001b[0mdesc_set\u001b[0m\u001b[0;34m)\u001b[0m\u001b[0;34m\u001b[0m\u001b[0;34m\u001b[0m\u001b[0m\n\u001b[0;32m---> 55\u001b[0;31m         \u001b[0mpredictions\u001b[0m \u001b[0;34m=\u001b[0m \u001b[0;34m[\u001b[0m\u001b[0mself\u001b[0m\u001b[0;34m.\u001b[0m\u001b[0mpredict\u001b[0m\u001b[0;34m(\u001b[0m\u001b[0mx\u001b[0m\u001b[0;34m)\u001b[0m \u001b[0;32mfor\u001b[0m \u001b[0mx\u001b[0m \u001b[0;32min\u001b[0m \u001b[0mdesc_set\u001b[0m\u001b[0;34m]\u001b[0m\u001b[0;34m\u001b[0m\u001b[0;34m\u001b[0m\u001b[0m\n\u001b[0m\u001b[1;32m     56\u001b[0m \u001b[0;34m\u001b[0m\u001b[0m\n\u001b[1;32m     57\u001b[0m         \u001b[0macc\u001b[0m \u001b[0;34m=\u001b[0m \u001b[0;34m[\u001b[0m\u001b[0;36m1\u001b[0m \u001b[0;32mif\u001b[0m \u001b[0mpredictions\u001b[0m\u001b[0;34m[\u001b[0m\u001b[0mi\u001b[0m\u001b[0;34m]\u001b[0m \u001b[0;34m*\u001b[0m \u001b[0mlabel_set\u001b[0m\u001b[0;34m[\u001b[0m\u001b[0mi\u001b[0m\u001b[0;34m]\u001b[0m \u001b[0;34m>\u001b[0m \u001b[0;36m0\u001b[0m \u001b[0;32melse\u001b[0m \u001b[0;36m0\u001b[0m \u001b[0;32mfor\u001b[0m \u001b[0mi\u001b[0m \u001b[0;32min\u001b[0m \u001b[0mrange\u001b[0m\u001b[0;34m(\u001b[0m\u001b[0mN\u001b[0m\u001b[0;34m)\u001b[0m\u001b[0;34m]\u001b[0m\u001b[0;34m\u001b[0m\u001b[0;34m\u001b[0m\u001b[0m\n",
      "\u001b[0;32m/users/nfs/Etu2/28616952/ds/3i026/iads/Classifiers.py\u001b[0m in \u001b[0;36m<listcomp>\u001b[0;34m(.0)\u001b[0m\n\u001b[1;32m     53\u001b[0m         \"\"\"\n\u001b[1;32m     54\u001b[0m         \u001b[0mN\u001b[0m \u001b[0;34m=\u001b[0m \u001b[0mlen\u001b[0m\u001b[0;34m(\u001b[0m\u001b[0mdesc_set\u001b[0m\u001b[0;34m)\u001b[0m\u001b[0;34m\u001b[0m\u001b[0;34m\u001b[0m\u001b[0m\n\u001b[0;32m---> 55\u001b[0;31m         \u001b[0mpredictions\u001b[0m \u001b[0;34m=\u001b[0m \u001b[0;34m[\u001b[0m\u001b[0mself\u001b[0m\u001b[0;34m.\u001b[0m\u001b[0mpredict\u001b[0m\u001b[0;34m(\u001b[0m\u001b[0mx\u001b[0m\u001b[0;34m)\u001b[0m \u001b[0;32mfor\u001b[0m \u001b[0mx\u001b[0m \u001b[0;32min\u001b[0m \u001b[0mdesc_set\u001b[0m\u001b[0;34m]\u001b[0m\u001b[0;34m\u001b[0m\u001b[0;34m\u001b[0m\u001b[0m\n\u001b[0m\u001b[1;32m     56\u001b[0m \u001b[0;34m\u001b[0m\u001b[0m\n\u001b[1;32m     57\u001b[0m         \u001b[0macc\u001b[0m \u001b[0;34m=\u001b[0m \u001b[0;34m[\u001b[0m\u001b[0;36m1\u001b[0m \u001b[0;32mif\u001b[0m \u001b[0mpredictions\u001b[0m\u001b[0;34m[\u001b[0m\u001b[0mi\u001b[0m\u001b[0;34m]\u001b[0m \u001b[0;34m*\u001b[0m \u001b[0mlabel_set\u001b[0m\u001b[0;34m[\u001b[0m\u001b[0mi\u001b[0m\u001b[0;34m]\u001b[0m \u001b[0;34m>\u001b[0m \u001b[0;36m0\u001b[0m \u001b[0;32melse\u001b[0m \u001b[0;36m0\u001b[0m \u001b[0;32mfor\u001b[0m \u001b[0mi\u001b[0m \u001b[0;32min\u001b[0m \u001b[0mrange\u001b[0m\u001b[0;34m(\u001b[0m\u001b[0mN\u001b[0m\u001b[0;34m)\u001b[0m\u001b[0;34m]\u001b[0m\u001b[0;34m\u001b[0m\u001b[0;34m\u001b[0m\u001b[0m\n",
      "\u001b[0;32m<ipython-input-7-480b01995cbc>\u001b[0m in \u001b[0;36mpredict\u001b[0;34m(self, x)\u001b[0m\n\u001b[1;32m     65\u001b[0m         \"\"\"\n\u001b[1;32m     66\u001b[0m \u001b[0;34m\u001b[0m\u001b[0m\n\u001b[0;32m---> 67\u001b[0;31m         \u001b[0;32mif\u001b[0m \u001b[0mself\u001b[0m\u001b[0;34m.\u001b[0m\u001b[0mscore\u001b[0m\u001b[0;34m(\u001b[0m\u001b[0mx\u001b[0m\u001b[0;34m)\u001b[0m \u001b[0;34m>\u001b[0m \u001b[0;36m0\u001b[0m\u001b[0;34m:\u001b[0m\u001b[0;34m\u001b[0m\u001b[0;34m\u001b[0m\u001b[0m\n\u001b[0m\u001b[1;32m     68\u001b[0m             \u001b[0;32mreturn\u001b[0m \u001b[0;36m1\u001b[0m\u001b[0;34m\u001b[0m\u001b[0;34m\u001b[0m\u001b[0m\n\u001b[1;32m     69\u001b[0m \u001b[0;34m\u001b[0m\u001b[0m\n",
      "\u001b[0;32m<ipython-input-7-480b01995cbc>\u001b[0m in \u001b[0;36mscore\u001b[0;34m(self, x)\u001b[0m\n\u001b[1;32m     50\u001b[0m             \u001b[0mx\u001b[0m\u001b[0;34m:\u001b[0m \u001b[0mune\u001b[0m \u001b[0mdescription\u001b[0m \u001b[0;34m:\u001b[0m \u001b[0mun\u001b[0m \u001b[0mndarray\u001b[0m\u001b[0;34m\u001b[0m\u001b[0;34m\u001b[0m\u001b[0m\n\u001b[1;32m     51\u001b[0m         \"\"\"\n\u001b[0;32m---> 52\u001b[0;31m         \u001b[0mdist_array\u001b[0m \u001b[0;34m=\u001b[0m \u001b[0mnp\u001b[0m\u001b[0;34m.\u001b[0m\u001b[0marray\u001b[0m\u001b[0;34m(\u001b[0m\u001b[0;34m[\u001b[0m\u001b[0mself\u001b[0m\u001b[0;34m.\u001b[0m\u001b[0mdist_euc\u001b[0m\u001b[0;34m(\u001b[0m\u001b[0mx\u001b[0m\u001b[0;34m,\u001b[0m\u001b[0my\u001b[0m\u001b[0;34m)\u001b[0m \u001b[0;32mfor\u001b[0m \u001b[0my\u001b[0m \u001b[0;32min\u001b[0m \u001b[0mself\u001b[0m\u001b[0;34m.\u001b[0m\u001b[0mdesc_set\u001b[0m\u001b[0;34m]\u001b[0m\u001b[0;34m)\u001b[0m\u001b[0;34m\u001b[0m\u001b[0;34m\u001b[0m\u001b[0m\n\u001b[0m\u001b[1;32m     53\u001b[0m         \u001b[0;31m# The k-th element will be in its final sorted position and all smaller\u001b[0m\u001b[0;34m\u001b[0m\u001b[0;34m\u001b[0m\u001b[0;34m\u001b[0m\u001b[0m\n\u001b[1;32m     54\u001b[0m         \u001b[0;31m# elements will be moved before it and all larger elements behind it.\u001b[0m\u001b[0;34m\u001b[0m\u001b[0;34m\u001b[0m\u001b[0;34m\u001b[0m\u001b[0m\n",
      "\u001b[0;32m<ipython-input-7-480b01995cbc>\u001b[0m in \u001b[0;36m<listcomp>\u001b[0;34m(.0)\u001b[0m\n\u001b[1;32m     50\u001b[0m             \u001b[0mx\u001b[0m\u001b[0;34m:\u001b[0m \u001b[0mune\u001b[0m \u001b[0mdescription\u001b[0m \u001b[0;34m:\u001b[0m \u001b[0mun\u001b[0m \u001b[0mndarray\u001b[0m\u001b[0;34m\u001b[0m\u001b[0;34m\u001b[0m\u001b[0m\n\u001b[1;32m     51\u001b[0m         \"\"\"\n\u001b[0;32m---> 52\u001b[0;31m         \u001b[0mdist_array\u001b[0m \u001b[0;34m=\u001b[0m \u001b[0mnp\u001b[0m\u001b[0;34m.\u001b[0m\u001b[0marray\u001b[0m\u001b[0;34m(\u001b[0m\u001b[0;34m[\u001b[0m\u001b[0mself\u001b[0m\u001b[0;34m.\u001b[0m\u001b[0mdist_euc\u001b[0m\u001b[0;34m(\u001b[0m\u001b[0mx\u001b[0m\u001b[0;34m,\u001b[0m\u001b[0my\u001b[0m\u001b[0;34m)\u001b[0m \u001b[0;32mfor\u001b[0m \u001b[0my\u001b[0m \u001b[0;32min\u001b[0m \u001b[0mself\u001b[0m\u001b[0;34m.\u001b[0m\u001b[0mdesc_set\u001b[0m\u001b[0;34m]\u001b[0m\u001b[0;34m)\u001b[0m\u001b[0;34m\u001b[0m\u001b[0;34m\u001b[0m\u001b[0m\n\u001b[0m\u001b[1;32m     53\u001b[0m         \u001b[0;31m# The k-th element will be in its final sorted position and all smaller\u001b[0m\u001b[0;34m\u001b[0m\u001b[0;34m\u001b[0m\u001b[0;34m\u001b[0m\u001b[0m\n\u001b[1;32m     54\u001b[0m         \u001b[0;31m# elements will be moved before it and all larger elements behind it.\u001b[0m\u001b[0;34m\u001b[0m\u001b[0;34m\u001b[0m\u001b[0;34m\u001b[0m\u001b[0m\n",
      "\u001b[0;32m<ipython-input-7-480b01995cbc>\u001b[0m in \u001b[0;36mdist_euc\u001b[0;34m(self, x, y)\u001b[0m\n\u001b[1;32m     19\u001b[0m \u001b[0;34m\u001b[0m\u001b[0m\n\u001b[1;32m     20\u001b[0m     \u001b[0;32mdef\u001b[0m \u001b[0mdist_euc\u001b[0m\u001b[0;34m(\u001b[0m\u001b[0mself\u001b[0m\u001b[0;34m,\u001b[0m \u001b[0mx\u001b[0m\u001b[0;34m,\u001b[0m \u001b[0my\u001b[0m\u001b[0;34m)\u001b[0m\u001b[0;34m:\u001b[0m\u001b[0;34m\u001b[0m\u001b[0;34m\u001b[0m\u001b[0m\n\u001b[0;32m---> 21\u001b[0;31m         \u001b[0mdist\u001b[0m \u001b[0;34m=\u001b[0m \u001b[0msum\u001b[0m\u001b[0;34m(\u001b[0m\u001b[0;34m[\u001b[0m\u001b[0;34m(\u001b[0m\u001b[0myi\u001b[0m \u001b[0;34m-\u001b[0m \u001b[0mxi\u001b[0m\u001b[0;34m)\u001b[0m \u001b[0;34m**\u001b[0m \u001b[0;36m2\u001b[0m \u001b[0;32mfor\u001b[0m \u001b[0myi\u001b[0m\u001b[0;34m,\u001b[0m \u001b[0mxi\u001b[0m \u001b[0;32min\u001b[0m \u001b[0mzip\u001b[0m\u001b[0;34m(\u001b[0m\u001b[0my\u001b[0m\u001b[0;34m,\u001b[0m \u001b[0mx\u001b[0m\u001b[0;34m)\u001b[0m\u001b[0;34m]\u001b[0m\u001b[0;34m)\u001b[0m\u001b[0;34m\u001b[0m\u001b[0;34m\u001b[0m\u001b[0m\n\u001b[0m\u001b[1;32m     22\u001b[0m         \u001b[0;32mreturn\u001b[0m \u001b[0;34m(\u001b[0m\u001b[0mdist\u001b[0m \u001b[0;34m**\u001b[0m \u001b[0;36m0.5\u001b[0m\u001b[0;34m)\u001b[0m\u001b[0;34m\u001b[0m\u001b[0;34m\u001b[0m\u001b[0m\n\u001b[1;32m     23\u001b[0m \u001b[0;34m\u001b[0m\u001b[0m\n",
      "\u001b[0;32m<ipython-input-7-480b01995cbc>\u001b[0m in \u001b[0;36m<listcomp>\u001b[0;34m(.0)\u001b[0m\n\u001b[1;32m     19\u001b[0m \u001b[0;34m\u001b[0m\u001b[0m\n\u001b[1;32m     20\u001b[0m     \u001b[0;32mdef\u001b[0m \u001b[0mdist_euc\u001b[0m\u001b[0;34m(\u001b[0m\u001b[0mself\u001b[0m\u001b[0;34m,\u001b[0m \u001b[0mx\u001b[0m\u001b[0;34m,\u001b[0m \u001b[0my\u001b[0m\u001b[0;34m)\u001b[0m\u001b[0;34m:\u001b[0m\u001b[0;34m\u001b[0m\u001b[0;34m\u001b[0m\u001b[0m\n\u001b[0;32m---> 21\u001b[0;31m         \u001b[0mdist\u001b[0m \u001b[0;34m=\u001b[0m \u001b[0msum\u001b[0m\u001b[0;34m(\u001b[0m\u001b[0;34m[\u001b[0m\u001b[0;34m(\u001b[0m\u001b[0myi\u001b[0m \u001b[0;34m-\u001b[0m \u001b[0mxi\u001b[0m\u001b[0;34m)\u001b[0m \u001b[0;34m**\u001b[0m \u001b[0;36m2\u001b[0m \u001b[0;32mfor\u001b[0m \u001b[0myi\u001b[0m\u001b[0;34m,\u001b[0m \u001b[0mxi\u001b[0m \u001b[0;32min\u001b[0m \u001b[0mzip\u001b[0m\u001b[0;34m(\u001b[0m\u001b[0my\u001b[0m\u001b[0;34m,\u001b[0m \u001b[0mx\u001b[0m\u001b[0;34m)\u001b[0m\u001b[0;34m]\u001b[0m\u001b[0;34m)\u001b[0m\u001b[0;34m\u001b[0m\u001b[0;34m\u001b[0m\u001b[0m\n\u001b[0m\u001b[1;32m     22\u001b[0m         \u001b[0;32mreturn\u001b[0m \u001b[0;34m(\u001b[0m\u001b[0mdist\u001b[0m \u001b[0;34m**\u001b[0m \u001b[0;36m0.5\u001b[0m\u001b[0;34m)\u001b[0m\u001b[0;34m\u001b[0m\u001b[0;34m\u001b[0m\u001b[0m\n\u001b[1;32m     23\u001b[0m \u001b[0;34m\u001b[0m\u001b[0m\n",
      "\u001b[0;31mKeyboardInterrupt\u001b[0m: "
     ]
    }
   ],
   "source": [
    "values = compare(X,y)"
   ]
  },
  {
   "cell_type": "markdown",
   "metadata": {},
   "source": [
    "### Compare plot of the classifiers performance"
   ]
  },
  {
   "cell_type": "code",
   "execution_count": null,
   "metadata": {},
   "outputs": [],
   "source": [
    "plot_comparaison()"
   ]
  },
  {
   "cell_type": "markdown",
   "metadata": {},
   "source": [
    "# Not linearly separable V2 "
   ]
  },
  {
   "cell_type": "code",
   "execution_count": null,
   "metadata": {},
   "outputs": [],
   "source": [
    "size = 500\n",
    "var = 2\n",
    "X, y = ut.genere_dataset_gaussian(np.array([1,1]),np.array([[var,0],[0,var]]),np.array([-1,-1]),np.array([[var,0],[0,var]]), size)\n",
    "# Affichage :\n",
    "ut.plot2DSet(X,y)"
   ]
  },
  {
   "cell_type": "markdown",
   "metadata": {},
   "source": [
    "### Comparaison of classifiers using Cross-Validation"
   ]
  },
  {
   "cell_type": "code",
   "execution_count": null,
   "metadata": {},
   "outputs": [],
   "source": [
    "values = compare(X,y)"
   ]
  },
  {
   "cell_type": "markdown",
   "metadata": {},
   "source": [
    "### Compare plot of the classifiers performance"
   ]
  },
  {
   "cell_type": "code",
   "execution_count": null,
   "metadata": {},
   "outputs": [],
   "source": [
    "plot_comparaison()"
   ]
  },
  {
   "cell_type": "markdown",
   "metadata": {},
   "source": [
    "# XOR dataset"
   ]
  },
  {
   "cell_type": "code",
   "execution_count": null,
   "metadata": {},
   "outputs": [],
   "source": [
    "size = 500\n",
    "X, y = ut.create_XOR(size,0.01)\n",
    "ut.plot2DSet(X, y)"
   ]
  },
  {
   "cell_type": "markdown",
   "metadata": {},
   "source": [
    "### Comparaison of classifiers using Cross-Validation"
   ]
  },
  {
   "cell_type": "code",
   "execution_count": null,
   "metadata": {},
   "outputs": [],
   "source": [
    "values = compare(X,y)"
   ]
  },
  {
   "cell_type": "markdown",
   "metadata": {},
   "source": [
    "### Compare plot of the classifiers performance"
   ]
  },
  {
   "cell_type": "code",
   "execution_count": null,
   "metadata": {
    "scrolled": true
   },
   "outputs": [],
   "source": [
    "plot_comparaison()"
   ]
  },
  {
   "cell_type": "markdown",
   "metadata": {},
   "source": [
    "# XOR dataset V2"
   ]
  },
  {
   "cell_type": "code",
   "execution_count": null,
   "metadata": {},
   "outputs": [],
   "source": [
    "size = 500\n",
    "X, y = ut.create_XOR(size,0.2)\n",
    "ut.plot2DSet(X, y)"
   ]
  },
  {
   "cell_type": "markdown",
   "metadata": {},
   "source": [
    "### Comparaison of classifiers using Cross-Validation"
   ]
  },
  {
   "cell_type": "code",
   "execution_count": null,
   "metadata": {},
   "outputs": [],
   "source": [
    "values = compare(X,y)"
   ]
  },
  {
   "cell_type": "markdown",
   "metadata": {},
   "source": [
    "### Compare plot of the classifiers performance"
   ]
  },
  {
   "cell_type": "code",
   "execution_count": null,
   "metadata": {
    "scrolled": true
   },
   "outputs": [],
   "source": [
    "plot_comparaison()"
   ]
  },
  {
   "cell_type": "markdown",
   "metadata": {},
   "source": [
    "# Conclusion\n",
    "Pour les datasets qui sont linéairement séparable, on trouve que le perceptron est le meilleur choix qu'on peut opter, car non seulement il a une bonne accuracy mais aussi il mieux que le KNN en terme de mémoire et le temps pour faire un prediction aux futures.<br>\n",
    "\n",
    "Pour les datasets qui ne sont pas linéairement séparables, on doit choisir entre les KNNs ou bien un perceptron kernilise, mais l'idéal est de trouve une transformation non-lineaire pour rendre notre dataset linéairement séparable, et puis on se ramène au 1er cas. <br>\n",
    "\n",
    "### PS:\n",
    "1) Tous les datasets qu'on a génère au-dessus sont au tour du (0,0), c'est pour cela notre perceptron sans biais marche bien, sinon on peut ajouter un biais pour un perceptron plus performant après qu'on ajoute à toutes nos descriptions une dimension de plus avec une valeur = 1. <br>\n",
    "\n",
    "2) Tous les valeurs de k qu'on a pris pour les KNN sont impaires, pour eviter le cas lorsque 2 partitions votent differement avec le meme pourcentage, dans ce cas on aurai un score = 0 et donc on est pas sur comment classifier ce point ( bien que dans notre implementation on a choisit que le cas du score nul est inclus dans la classe -1: <br>\n",
    "                                                    if self.score(x) > 0: return 1 else return -1 ) <br>\n",
    "                                                    "
   ]
  },
  {
   "cell_type": "markdown",
   "metadata": {},
   "source": [
    "### Expérimentations de  classifieurs sur des données réelles\n",
    "\n",
    "Téléchargez des données réelles (voir les TME précédents) et réalisez un ensemble d'expérimentations permettant de comparer les classifieurs que vous avez implémentés depuis le TME 2. \n",
    "Comparez-les en termes d'accuracy, de temps d'exécution,...\n",
    "Attention, il est donc nécessaire dans cette partie d'inclure des boîtes de code python pour faire les tests mais aussi des boîtes de texte, pour expliquer l'objectif des expériences, ainsi que d'autres boîtes pour commenter les résultats obtenus."
   ]
  },
  {
   "cell_type": "markdown",
   "metadata": {},
   "source": [
    "## Experimentation sur dataset: Indian Liver Patient Records"
   ]
  },
  {
   "cell_type": "markdown",
   "metadata": {},
   "source": [
    "This data set contains 416 liver patient records and 167 non liver patient records collected from North East of Andhra Pradesh, India. The \"Dataset\" column is a class label used to divide groups into liver patient (liver disease) or not (no disease). This data set contains 441 male patient records and 142 female patient records. "
   ]
  },
  {
   "cell_type": "code",
   "execution_count": null,
   "metadata": {
    "scrolled": true
   },
   "outputs": [],
   "source": [
    "df = pd.read_csv('../mldata/indian_liver_patient.csv')\n",
    "df.head()"
   ]
  },
  {
   "cell_type": "code",
   "execution_count": null,
   "metadata": {
    "scrolled": true
   },
   "outputs": [],
   "source": [
    "# renaming the Dataset column to is_sick\n",
    "df.rename(columns={'Dataset':'is_sick'}, inplace=True)\n",
    "\n",
    "# Transforming Dataset field\n",
    "# 1 -> 1 (positive)\n",
    "# 2 -> -1 (negative)\n",
    "df['is_sick'].value_counts()\n",
    "df['is_sick'].replace(2, -1, inplace=True)\n",
    "\n",
    "# Transforming gender field\n",
    "# 0 : female \n",
    "# 1 : male\n",
    "\n",
    "df['Gender'].replace('Male', 1, inplace=True)\n",
    "df['Gender'].replace('Female', 0, inplace=True)\n",
    "df.head()"
   ]
  },
  {
   "cell_type": "code",
   "execution_count": null,
   "metadata": {},
   "outputs": [],
   "source": [
    "# Transforming pandas dataframe to numpy\n",
    "liver_data = df.loc[:, df.columns != 'is_sick'].to_numpy()\n",
    "liver_label = df.loc[:, df.columns == 'is_sick'].to_numpy()"
   ]
  },
  {
   "cell_type": "markdown",
   "metadata": {},
   "source": [
    "### Comparaison des classifieurs"
   ]
  },
  {
   "cell_type": "code",
   "execution_count": null,
   "metadata": {},
   "outputs": [],
   "source": [
    "values = compare(liver_data, liver_label)"
   ]
  },
  {
   "cell_type": "code",
   "execution_count": null,
   "metadata": {},
   "outputs": [],
   "source": [
    "plot_comparaison()"
   ]
  },
  {
   "cell_type": "markdown",
   "metadata": {},
   "source": [
    "### Meilleure classfieure:  perceptron sur la version \"kernélisée\" des données (test accuracy: 71,2%)"
   ]
  },
  {
   "cell_type": "markdown",
   "metadata": {},
   "source": [
    "# Heatmap des correlations entre les features "
   ]
  },
  {
   "cell_type": "code",
   "execution_count": null,
   "metadata": {},
   "outputs": [],
   "source": [
    "plt.figure(figsize=(20, 20))\n",
    "sns.heatmap(df.corr(), cbar = True,  annot=True, fmt= '.2f', cmap= 'coolwarm')\n",
    "plt.title('Matrice de correlations')"
   ]
  },
  {
   "cell_type": "code",
   "execution_count": null,
   "metadata": {},
   "outputs": [],
   "source": [
    "# dropping highly correlated columns \n",
    "df.columns"
   ]
  },
  {
   "cell_type": "markdown",
   "metadata": {},
   "source": [
    "### On remarque que les deux features Direct_Bilirubin et Albumin sont fortement corrélés \n",
    "#### Direct_Bilirubin avec Total_Bilirubin -> corr = 0.87 \n",
    "#### Albumin avec Total_Protiens -> corr = 0.78"
   ]
  },
  {
   "cell_type": "code",
   "execution_count": null,
   "metadata": {},
   "outputs": [],
   "source": [
    "try:\n",
    "    del df['Direct_Bilirubin']\n",
    "    del df['Albumin']\n",
    "except KeyError:\n",
    "    pass"
   ]
  },
  {
   "cell_type": "code",
   "execution_count": null,
   "metadata": {},
   "outputs": [],
   "source": [
    "df.columns"
   ]
  },
  {
   "cell_type": "markdown",
   "metadata": {},
   "source": [
    "### Testing again with fewer features"
   ]
  },
  {
   "cell_type": "code",
   "execution_count": null,
   "metadata": {},
   "outputs": [],
   "source": [
    "# updating dataset\n",
    "liver_data = df.loc[:, df.columns != 'is_sick'].to_numpy()\n",
    "liver_label = df.loc[:, df.columns == 'is_sick'].to_numpy()"
   ]
  },
  {
   "cell_type": "code",
   "execution_count": null,
   "metadata": {},
   "outputs": [],
   "source": [
    "values = compare(liver_data, liver_label)"
   ]
  },
  {
   "cell_type": "code",
   "execution_count": null,
   "metadata": {},
   "outputs": [],
   "source": [
    "plot_comparaison()"
   ]
  },
  {
   "cell_type": "markdown",
   "metadata": {},
   "source": [
    "### Meilleure classfieure:  perceptron sur la version \"kernélisée\" des données (test accuracy: 71,2%)\n",
    "### Remarque: nous avons à peu près les mêmes performances (parfois meilleures) avec moins de features"
   ]
  },
  {
   "cell_type": "markdown",
   "metadata": {},
   "source": [
    "### Une autre tentative"
   ]
  },
  {
   "cell_type": "code",
   "execution_count": null,
   "metadata": {},
   "outputs": [],
   "source": [
    "plt.figure(figsize=(20, 20))\n",
    "sns.heatmap(df.corr(), cbar = True,  annot=True, fmt= '.2f', cmap= 'coolwarm')\n",
    "plt.title('Matrice de correlations')"
   ]
  },
  {
   "cell_type": "code",
   "execution_count": null,
   "metadata": {},
   "outputs": [],
   "source": [
    "df.columns"
   ]
  },
  {
   "cell_type": "markdown",
   "metadata": {},
   "source": [
    "### Alamine_Aminotransferase est fortement corrélé avec Aspartate_Aminotransferase -> gain d'informations est faible\n"
   ]
  },
  {
   "cell_type": "markdown",
   "metadata": {},
   "source": [
    "#### dropping Alamine_Aminotransferase column"
   ]
  },
  {
   "cell_type": "code",
   "execution_count": null,
   "metadata": {},
   "outputs": [],
   "source": [
    "try:\n",
    "    del df['Alamine_Aminotransferase']\n",
    "except KeyError:\n",
    "    pass"
   ]
  },
  {
   "cell_type": "code",
   "execution_count": null,
   "metadata": {},
   "outputs": [],
   "source": [
    "# updating dataset\n",
    "liver_data = df.loc[:, df.columns != 'is_sick'].to_numpy()\n",
    "liver_label = df.loc[:, df.columns == 'is_sick'].to_numpy()"
   ]
  },
  {
   "cell_type": "code",
   "execution_count": null,
   "metadata": {},
   "outputs": [],
   "source": [
    "values = compare(liver_data, liver_label)"
   ]
  },
  {
   "cell_type": "code",
   "execution_count": null,
   "metadata": {},
   "outputs": [],
   "source": [
    "plot_comparaison()"
   ]
  },
  {
   "cell_type": "markdown",
   "metadata": {},
   "source": [
    "### Encore une fois avec moins de features on le perceptron sur la version \"kernélisée\" des données avec une test accuracy de  71%"
   ]
  }
 ],
 "metadata": {
  "kernelspec": {
   "display_name": "Python 3",
   "language": "python",
   "name": "python3"
  },
  "language_info": {
   "codemirror_mode": {
    "name": "ipython",
    "version": 3
   },
   "file_extension": ".py",
   "mimetype": "text/x-python",
   "name": "python",
   "nbconvert_exporter": "python",
   "pygments_lexer": "ipython3",
   "version": "3.7.4+"
  }
 },
 "nbformat": 4,
 "nbformat_minor": 1
}
