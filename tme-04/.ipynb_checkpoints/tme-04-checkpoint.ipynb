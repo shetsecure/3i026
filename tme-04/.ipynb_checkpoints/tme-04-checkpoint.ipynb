{
 "cells": [
  {
   "cell_type": "markdown",
   "metadata": {},
   "source": [
    "IA & Data science (LU3IN0226) -- 2019-2020\n",
    "--------\n",
    "*&copy; Equipe pédagogique: Gauvain Bourgne, Vincent Guigue, Marie-Jeanne Lesot, Christophe Marsala, Olivier Schwander.*\n"
   ]
  },
  {
   "cell_type": "markdown",
   "metadata": {},
   "source": [
    "# TD-TME04: les $k$-plus proches voisins (*$k$-ppv* ou *$k$-NN*)"
   ]
  },
  {
   "cell_type": "markdown",
   "metadata": {},
   "source": [
    "<font size=\"+1\" color=\"RED\">**[Q]**</font> **Indiquer dans la boîte ci-dessous vos noms et prénoms :**"
   ]
  },
  {
   "cell_type": "markdown",
   "metadata": {},
   "source": [
    "*Double-cliquer ici et insérer les noms et prénoms de votre binôme*"
   ]
  },
  {
   "cell_type": "markdown",
   "metadata": {},
   "source": [
    "<font color=\"RED\" size=\"+1\">**[Q]**</font> **Renommer ce fichier ipython**\n",
    "\n",
    "Tout en haut de cette page, cliquer sur <tt>tme-04</tt> et rajouter à la suite de <tt>tme-04</tt> les noms des membres du binômes séparés par un tiret.\n",
    "\n",
    "Par exemple, pour le binôme Luke Skywalker et Han Solo, le nom de fichier devient `tme-04-Skywalker-Solo`\n",
    "\n",
    "Penser à sauvegarder fréquemment le fichier en cours de travail :\n",
    "- soit en cliquant sur l'icône \"disquette\"\n",
    "- soit par la combinaison de touches [Ctrl]-S"
   ]
  },
  {
   "cell_type": "markdown",
   "metadata": {},
   "source": [
    "<font color=\"RED\" size=\"+1\">**[Q]**</font> **Mise à jour de la librairie `iads`**\n",
    "\n",
    "En premier lieu, vérifier que votre librairie `iads` est bien à jour : elle doit maintenant contenir toutes les fonctions et classes que mises au point et testées dans le tme-03. Une fois à jour, importer la librairie pour pouvoir l'utiliser dans ce notebook."
   ]
  },
  {
   "cell_type": "code",
   "execution_count": 1,
   "metadata": {},
   "outputs": [],
   "source": [
    "# Importation des librairies standards:\n",
    "import numpy as np\n",
    "import pandas as pd\n",
    "import matplotlib.pyplot as plt\n",
    "%matplotlib inline  \n",
    "\n",
    "# Importation de votre librairie iads:\n",
    "# La ligne suivante permet de préciser le chemin d'accès à la librairie iads\n",
    "import sys\n",
    "sys.path.append('../')   # iads doit être dans le répertoire frère du répertoire courant !\n",
    "\n",
    "# Importation de la librairie iads\n",
    "import iads as iads\n",
    "\n",
    "# importation de Classifiers\n",
    "from iads import Classifiers as cl\n",
    "\n",
    "# importation de utils\n",
    "from iads import utils as ut\n",
    "from sklearn.model_selection import train_test_split"
   ]
  },
  {
   "cell_type": "markdown",
   "metadata": {},
   "source": [
    "### Objectifs de ce TME\n",
    "\n",
    "L'objectif de ce TME est de programmer l'algorithme des $k$ plus proches voisins (aussi appelé `k-nn` pour *$k$ nearest neighbors*)."
   ]
  },
  {
   "cell_type": "markdown",
   "metadata": {},
   "source": [
    "En reprenant la fonction écrite dans les TME précédents, on commence par générer un petit dataset qui permettra de tester les fonctions."
   ]
  },
  {
   "cell_type": "code",
   "execution_count": 83,
   "metadata": {},
   "outputs": [
    {
     "name": "stdout",
     "output_type": "stream",
     "text": [
      "Le dataset généré contient  20 lignes de  2 colonnes.\n"
     ]
    },
    {
     "data": {
      "image/png": "[encoded data removed]",
      "text/plain": [
       "<Figure size 432x288 with 1 Axes>"
      ]
     },
     "metadata": {
      "needs_background": "light"
     },
     "output_type": "display_data"
    }
   ],
   "source": [
    "np.random.seed(42)   # supprimer cette ligne une fois la mise au point terminée\n",
    "\n",
    "# Exemple d'utilisation:\n",
    "\n",
    "data_desc, data_label = ut.genere_dataset_gaussian(np.array([1,1]),np.array([[1,0],[0,1]]),np.array([-1,-1]),np.array([[1,0],[0,1]]),10)\n",
    "\n",
    "print(\"Le dataset généré contient \", np.shape(data_desc)[0], \"lignes de \", np.shape(data_desc)[1], \"colonnes.\")\n",
    "\n",
    "# Affichage :\n",
    "ut.plot2DSet(data_desc,data_label)"
   ]
  },
  {
   "cell_type": "markdown",
   "metadata": {},
   "source": [
    "### Tri de valeurs\n",
    "Dans ce qui suit, il sera nécessaire de réaliser un tri des distances calculées, on utilise pour cela la méthode `numpy.argsort`. Consulter la documentation pour voir comment utiliser cette fonction.\n",
    "\n",
    "Exemple d'utilisation de `numpy.argsort`:"
   ]
  },
  {
   "cell_type": "code",
   "execution_count": 3,
   "metadata": {},
   "outputs": [
    {
     "data": {
      "text/plain": [
       "array([100,  50,  25,   7,  65,  42,   3,  99,  32])"
      ]
     },
     "execution_count": 3,
     "metadata": {},
     "output_type": "execute_result"
    }
   ],
   "source": [
    "liste = np.array([100, 50, 25, 7, 65, 42, 3, 99, 32])\n",
    "liste"
   ]
  },
  {
   "cell_type": "code",
   "execution_count": 4,
   "metadata": {},
   "outputs": [
    {
     "data": {
      "text/plain": [
       "array([6, 3, 2, 8, 5, 1, 4, 7, 0])"
      ]
     },
     "execution_count": 4,
     "metadata": {},
     "output_type": "execute_result"
    }
   ],
   "source": [
    "indices_tri = np.argsort(liste)\n",
    "indices_tri"
   ]
  },
  {
   "cell_type": "code",
   "execution_count": 5,
   "metadata": {},
   "outputs": [
    {
     "data": {
      "text/plain": [
       "array([  3,   7,  25,  32,  42,  50,  65,  99, 100])"
      ]
     },
     "execution_count": 5,
     "metadata": {},
     "output_type": "execute_result"
    }
   ],
   "source": [
    "liste_triee = liste[indices_tri]\n",
    "liste_triee"
   ]
  },
  {
   "cell_type": "code",
   "execution_count": 6,
   "metadata": {},
   "outputs": [
    {
     "data": {
      "text/plain": [
       "67"
      ]
     },
     "execution_count": 6,
     "metadata": {},
     "output_type": "execute_result"
    }
   ],
   "source": [
    "liste_triee[0:4].sum()"
   ]
  },
  {
   "cell_type": "markdown",
   "metadata": {},
   "source": [
    "## L'algorithme  k-NN\n",
    "\n",
    "De la même façon que les classifieurs ont été définis dans les tme précédents, le classifieur par $k$ plus proches voisins (ou k-NN) est défini comme suit. \n",
    "\n",
    "Description de la classe `ClassifierKNN` (qui étend `Classifier`):\n",
    "- dans le constructeur, on précise, en plus de la dimension du dataset, le nombre de voisins à utiliser (valeur de $k$)\n",
    "- dans la méthode `train`, on donne le dataset qui doit servir de base de référence\n",
    "- dans la méthode `score`, pour une description d'exemple $x$ donnée :\n",
    "    - 1) on construit le tableau des distances entre $x$ et les exemples du dataset de référence, \n",
    "    - 2) on trie ce tableau grâce à la méthode `numpy.argsort`,\n",
    "    - 3) le score qui doit être rendu est alors **la proportion de classe +1** parmi les $k$ plus proches voisins de $x$. Ce score est donc un nombre réel de $[0,1]$ qui vaut $0.0$ si tous les $k$ voisins de $x$ sont de la classe $-1$ et qui vaut $1.0$ si tous les $k$ voisins de $x$ sont de laclasse $+1$. <br/> Par conséquent, si $k$ vaut $1$ (on ne regarde que le plus proche voisin), la méthode `score` rend donc soit $0.0$ soit $1.0$ selon la classe de ce voisin.\n",
    "- dans la méthode `predict`, pour une description d'exemple $x$ donnée, on utilise le score rendu par la fonction précédente pour rendre la classe de l'exemple, c'est-à-dire soit $-1$ soit $+1$. \n"
   ]
  },
  {
   "cell_type": "markdown",
   "metadata": {},
   "source": [
    "<font color=\"RED\" size=\"+1\">**[Q]**</font> Donner l'implémentation de la classe `ClassifierKNN` qui hérite de la classe `Classifier` et permet de définir un classifieur k-NN."
   ]
  },
  {
   "cell_type": "code",
   "execution_count": 7,
   "metadata": {},
   "outputs": [],
   "source": [
    "# ------------------------ A COMPLETER :\n",
    "\n",
    "class ClassifierKNN(cl.Classifier):\n",
    "    \"\"\" Classe pour représenter un classifieur par K plus proches voisins.\n",
    "        Cette classe hérite de la classe Classifier\n",
    "    \"\"\"\n",
    "\n",
    "    #TODO: A Compléter\n",
    "    \n",
    "    def __init__(self, input_dimension, k):\n",
    "        \"\"\" Constructeur de Classifier\n",
    "            Argument:\n",
    "                - intput_dimension (int) : dimension d'entrée des exemples\n",
    "                - k (int) : nombre de voisins à considérer\n",
    "            Hypothèse : input_dimension > 0\n",
    "        \"\"\"\n",
    "        self.input_dimension = input_dimension\n",
    "        self.k = k\n",
    "    \n",
    "    def dist_euc(self, x, y):\n",
    "        dist = sum([(yi - xi) ** 2 for yi, xi in zip(y, x)])\n",
    "        return (dist ** 0.5)\n",
    "    \n",
    "    def score(self,x):\n",
    "        \"\"\" rend la proportion de +1 parmi les k ppv de x (valeur réelle)\n",
    "            x: une description : un ndarray\n",
    "        \"\"\"\n",
    "        dist_array = np.array([self.dist_euc(x,y) for y in self.desc_set])\n",
    "        sorted_indexs = np.argsort(dist_array)\n",
    "        #sorted_dist_array = dist_array(sorted_indexs)\n",
    "        \n",
    "        proportion = sum([self.label_set[i] for i in sorted_indexs[:self.k] if self.label_set[i] == 1]) / self.k\n",
    "        \n",
    "        return proportion\n",
    "        \n",
    "    def predict(self, x):\n",
    "        \"\"\" rend la prediction sur x (-1 ou +1)\n",
    "            x: une description : un ndarray\n",
    "        \"\"\"\n",
    "        \n",
    "        if self.score(x) > 0.5:\n",
    "            return 1\n",
    "        \n",
    "        return -1\n",
    "\n",
    "    def train(self, desc_set, label_set):\n",
    "        \"\"\" Permet d'entrainer le modele sur l'ensemble donné\n",
    "            desc_set: ndarray avec des descriptions\n",
    "            label_set: ndarray avec les labels correspondants\n",
    "            Hypothèse: desc_set et label_set ont le même nombre de lignes\n",
    "        \"\"\"        \n",
    "        self.desc_set = desc_set\n",
    "        self.label_set = label_set"
   ]
  },
  {
   "cell_type": "code",
   "execution_count": 81,
   "metadata": {},
   "outputs": [
    {
     "name": "stdout",
     "output_type": "stream",
     "text": [
      "Classification de l'exemple  [-2 -2] : -1  (score=  0.0 )\n",
      "Classification de l'exemple  [ 0.  -0.1] : -1  (score=  0.0 )\n",
      "Classification de l'exemple  [0.25 1.  ] : 1  (score=  1.0 )\n",
      "Classification de l'exemple  [2 2] : 1  (score=  1.0 )\n"
     ]
    },
    {
     "data": {
      "image/png": "[encoded data removed]",
      "text/plain": [
       "<Figure size 432x288 with 1 Axes>"
      ]
     },
     "metadata": {
      "needs_background": "light"
     },
     "output_type": "display_data"
    }
   ],
   "source": [
    "# Exemple d'utilisation :\n",
    "knn = ClassifierKNN(2,1)\n",
    "knn.train(data_desc, data_label)\n",
    "\n",
    "exemple = np.array([-2,-2])\n",
    "print(\"Classification de l'exemple \",exemple, \":\", knn.predict(exemple), \" (score= \", knn.score(exemple),\")\")\n",
    "exemple = np.array([0,-0.1])\n",
    "print(\"Classification de l'exemple \",exemple, \":\", knn.predict(exemple), \" (score= \", knn.score(exemple),\")\")\n",
    "exemple = np.array([0.25,1])\n",
    "print(\"Classification de l'exemple \",exemple, \":\", knn.predict(exemple), \" (score= \", knn.score(exemple),\")\")\n",
    "exemple = np.array([2,2])\n",
    "print(\"Classification de l'exemple \",exemple, \":\", knn.predict(exemple), \" (score= \", knn.score(exemple),\")\")\n",
    "\n",
    "ut.plot_frontiere(data_desc,data_label,knn,20)\n",
    "ut.plot2DSet(data_desc,data_label)\n"
   ]
  },
  {
   "cell_type": "code",
   "execution_count": 19,
   "metadata": {},
   "outputs": [
    {
     "name": "stdout",
     "output_type": "stream",
     "text": [
      "Classification de l'exemple  [-2 -2] : -1  (score=  0.0 )\n",
      "Classification de l'exemple  [ 0.  -0.1] : -1  (score=  0.3333333333333333 )\n",
      "Classification de l'exemple  [0.25 1.  ] : 1  (score=  1.0 )\n",
      "Classification de l'exemple  [2 2] : 1  (score=  1.0 )\n"
     ]
    },
    {
     "data": {
      "image/png": "[encoded data removed]",
      "text/plain": [
       "<Figure size 432x288 with 1 Axes>"
      ]
     },
     "metadata": {
      "needs_background": "light"
     },
     "output_type": "display_data"
    }
   ],
   "source": [
    "# Un autre exemple d'utilisation :\n",
    "knn = ClassifierKNN(data_desc.shape[1],3)\n",
    "knn.train(data_desc, data_label)\n",
    "\n",
    "exemple = np.array([-2,-2])\n",
    "print(\"Classification de l'exemple \",exemple, \":\", knn.predict(exemple), \" (score= \", knn.score(exemple),\")\")\n",
    "exemple = np.array([0,-0.1])\n",
    "print(\"Classification de l'exemple \",exemple, \":\", knn.predict(exemple), \" (score= \", knn.score(exemple),\")\")\n",
    "exemple = np.array([0.25,1])\n",
    "print(\"Classification de l'exemple \",exemple, \":\", knn.predict(exemple), \" (score= \", knn.score(exemple),\")\")\n",
    "exemple = np.array([2,2])\n",
    "print(\"Classification de l'exemple \",exemple, \":\", knn.predict(exemple), \" (score= \", knn.score(exemple),\")\")\n",
    "\n",
    "ut.plot_frontiere(data_desc,data_label,knn,20)\n",
    "ut.plot2DSet(data_desc,data_label)\n"
   ]
  },
  {
   "cell_type": "markdown",
   "metadata": {},
   "source": [
    "## Expérimentations\n",
    "\n",
    "Pour expérimenter un classifieur, il est nécessaire de posséder deux datasets distincts: \n",
    "- le dataset d'apprentissage, qui se compose donc de 2 arrays: `train_desc` et `train_labels`\n",
    "- et le dataset de test, qui se compose de 2 arrays: `test_desc` et `test_labels`. \n",
    "\n",
    "\n",
    "On commence par construire le classifieur avec le dataset d'apprentisage, puis, on évalue sa performance en 2 temps :\n",
    "- on calcule son **accuracy d'apprentissage** qui est l'accuracy obtenue sur le dataset d'apprentissage \n",
    "- on calcule son **accuracy de test** qui est l'accuracy obtenue sur le dataset de test\n",
    "\n",
    "La première valeur mesure combien le classifieur a surappris les données d'apprentissage, la deuxième valeur mesure sa performance en généralisation."
   ]
  },
  {
   "cell_type": "code",
   "execution_count": 31,
   "metadata": {},
   "outputs": [],
   "source": [
    "size = 100\n",
    "test_percentage = 0.3\n",
    "\n",
    "def generate_train_test(total, percentage_test):\n",
    "    assert(isinstance(percentage_test, float) and percentage_test > 0 and percentage_test < 1)\n",
    "    data, labels = ut.genere_dataset_gaussian(np.array([1,1]),np.array([[1,0],[0,1]]),np.array([-1,-1]),np.array([[1,0],[0,1]]), total)\n",
    "    \n",
    "    return train_test_split(data, labels, test_size=percentage_test, random_state=42)\n",
    "\n",
    "train_desc, test_desc, train_labels, test_labels = generate_train_test(size, test_percentage)"
   ]
  },
  {
   "cell_type": "code",
   "execution_count": 34,
   "metadata": {},
   "outputs": [
    {
     "name": "stdout",
     "output_type": "stream",
     "text": [
      "Accuracy du training avec k = 3 -> 0.9142857142857143\n",
      "Accuracy du test avec k = 3 -> 0.8666666666666667\n"
     ]
    }
   ],
   "source": [
    "k = 3\n",
    "knn = ClassifierKNN(data_desc.shape[1],k)\n",
    "knn.train(train_desc, train_labels)\n",
    "\n",
    "print(\"Accuracy du training avec k = 3 ->\", knn.accuracy(train_desc, train_labels))\n",
    "print(\"Accuracy du test avec k = 3 ->\", knn.accuracy(test_desc, test_labels))"
   ]
  },
  {
   "cell_type": "markdown",
   "metadata": {},
   "source": [
    "### Différentes expérimentations sur des datasets générés\n",
    "\n",
    "<font color=\"RED\" size=\"+1\">**[Q]**</font> Comparer la performance (en train et test) de plusieurs classifieurs KNN construits avec différentes valeurs de $k$. Que pouvez vous constater ?\n",
    "Tracer la performance (accuracy d'apprentissage et de test) en fonction de la valeur de $k$ et essayer avec différentes façons de générer les dataset (gaussiennes)."
   ]
  },
  {
   "cell_type": "code",
   "execution_count": 44,
   "metadata": {},
   "outputs": [
    {
     "data": {
      "text/plain": [
       "<matplotlib.legend.Legend at 0x7f32472f4b38>"
      ]
     },
     "execution_count": 44,
     "metadata": {},
     "output_type": "execute_result"
    },
    {
     "data": {
      "image/png": "[encoded data removed]",
      "text/plain": [
       "<Figure size 432x288 with 1 Axes>"
      ]
     },
     "metadata": {
      "needs_background": "light"
     },
     "output_type": "display_data"
    }
   ],
   "source": [
    "# ------------------------ A COMPLETER :\n",
    "k_values = [i for i in range(1, 21) if i%2 == 1]\n",
    "perf_train = []\n",
    "perf_test = []\n",
    "\n",
    "for k in k_values:\n",
    "    knn = ClassifierKNN(data_desc.shape[1],k)\n",
    "    knn.train(train_desc, train_labels)\n",
    "    \n",
    "    perf_train.append(knn.accuracy(train_desc, train_labels))\n",
    "    perf_test.append(knn.accuracy(test_desc, test_labels))\n",
    "    \n",
    "plt.plot(k_values, perf_train, label='Training performane')\n",
    "plt.plot(k_values, perf_test, label='Testing performane')\n",
    "plt.ylabel('Performane')\n",
    "plt.xlabel('k_values')\n",
    "plt.title(\"courbe de performance en fonction de la valeur de k sur les ensembles de train et de test\")\n",
    "plt.legend()"
   ]
  },
  {
   "cell_type": "markdown",
   "metadata": {},
   "source": [
    "Les accuracies d'apprentissage et de test offrent une bonne évaluation du classifieur, mais souvent il est intéressant d'avoir aussi une mesure de la robustesse de ces accuracies ainsi obtenues: c'est-à-dire combien elles sont fiables.\n",
    "\n",
    "C'est un peu comme si on souhaitait comparer 2 étudiants qui ont obtenu 12 de moyenne (sur 20) sur leur 4 premières interrogations. La seule valeur de la moyenne ne donne pas beaucoup d'information sur la note que pourrait obtenir chacun de ces étudiants lors d'une prochaine interrogation. Pour avoir plus d'information, on doit regarder leurs notes: \n",
    "- le premier étudiant a eu les 4 notes suivantes : 12, 11, 13 et 12;\n",
    "- le secont étudiant a eu les 4 notes suivantes : 20, 4, 20, 4.\n",
    "\n",
    "Ainsi, ces 2 étudiants ont tous les deux 12 de moyenne, mais on peut remarquer que le premier est \"plus stable\" que le second. Une mesure classique pour rendre compte de cela est l'*écart type* de la série des notes:\n",
    "- le premier étudiant a une moyenne de 12 avec un écart type de 0.8;\n",
    "- le second étudiant a une moyenne de 12 avec un écart type de 9.2.\n",
    "\n",
    "Pour évaluer un classifieur, on va donc mesurer son accuracy sur plusieurs datasets et calculer la moyenne des valeurs obtenues ainsi que leur écart type pour avoir une information sur sa robustesse de prédiction.\n",
    "\n",
    "Pour cela, on réalise alors une expérimentation par validation croisée (ou *cross-validation*) dont le principe est le suivant.\n",
    "\n",
    "<ol>\n",
    "    <li>Choisir un algorithme de construction de classifieur à évaluer</li>\n",
    "    <li>Générer un dataset suffisamment grand. Soit $DS$ ce dataset</li>\n",
    "    <li>Découper $DS$ en 10 datasets de taille égale tels qu'ils contiennent tous la même proportion d'exemples de chaque classe que $DS$, les exemples pour constituer chacun de ces datasets sont tirés aléatoirement parmi les exemples $DS$ par un tirage *sans remise*. On appelle $DS0$, $DS1$,..., $DS9$ ces 10 datasets.</li>\n",
    "    <li>Construire un classifieur en prenant $DS0$ comme dataset d'apprentissage et en regroupant les 9 autres datasets $DS1$,...,$DS9$ pour constituer un dataset de test et évaluer l'accuracy d'apprentissage $accA_0$ et l'accuracy de test $accT_0$ de ce classifieur.</li>\n",
    "    <li>Construire un nouveau classifier en prenant $DS1$ comme dataset d'apprentissage et les autres datasets $DS0$, $DS3$,...,$DS9$ comme dataset de test et évaluer l'accuracy d'apprentissage $accA_1$ et l'accuracy de test $accT_1$ de ce classifieur.</li>\n",
    "    <li>etc. Chaque dataset $DSi$ sert une fois comme dataset d'apprentissage et 9 fois comme dataset de test</li>\n",
    "</ol>\n",
    "    \n",
    "Au final, on obtient donc 10 valeurs d'accuracy d'apprentissage et 10 valeurs d'accuracy de test, la performance globale de l'algorithme du classifieur choisi est obtenue en donnant:\n",
    "- la moyenne des accuracies de test $\\frac{1}{10}\\sum_{i=0}^{9} accT_i$\n",
    "- l'écart type des accuracies de test $accT_0$, ..., $accT_{9}$\n",
    "\n",
    "De même, la moyenne et l'écart type des accuracies d'apprentissage peut être aussi fournie.\n",
    "\n",
    "*Remarque*: ici, comme on choisit de découper $DS$ en $10$ datasets, on parle de *validation croisée en 10 paquets* (en anglais: *10-folds cross-validation*). Dans d'autres cas, on peut choisir de réaliser un découpage avec un nombre de datasets différents. On parle alors de *validation croisée en m paquets* avec $m$ un nombre entier supérieur ou égal à 2.\n"
   ]
  },
  {
   "cell_type": "markdown",
   "metadata": {},
   "source": [
    "<font color=\"RED\" size=\"+1\">**[Q]**</font> Compléter la fonction suivante qui, étant donné un classifieur $C$, un dataset $DS$ (donné sous la forme d'un tuple (descriptions, labels)) et un entier $m$, réalise une validation croisée en $m$ paquets et rend le quadruplet composé de 2 tuples: le premier tuple donne la moyenne et l'écart type d'apprentissage, le second tuple donne la moyenne et l'écart type de test."
   ]
  },
  {
   "cell_type": "code",
   "execution_count": 84,
   "metadata": {},
   "outputs": [],
   "source": [
    "# ------------------------ A COMPLETER :\n",
    "def crossvalidation(C, DS, m=10):\n",
    "    \"\"\" Classifieur * tuple[array, array] * int -> tuple[tuple[float,float], tuple[float,float]]\n",
    "        Hypothèse: m>0\n",
    "        Par défaut, m vaut 10\n",
    "    \"\"\"\n",
    "    \n",
    "    data_desc, data_labels = DS[0] , DS[1]\n",
    "    indices = [i for i in range(len(data_desc))]\n",
    "    train_accs = []\n",
    "    test_accs = []\n",
    "    datasets = []\n",
    "    \n",
    "    for i in range(m-1):\n",
    "        np.random.shuffle(indices)\n",
    "        \n",
    "    \n",
    "        \n",
    "    print(\"[Info debug] liste accuracies Apprentissage: \", train_accs)\n",
    "    print(\"[Info debug] liste accuracies Test         : \", test_accs)\n",
    "    train_accs = np.array(train_accs)\n",
    "    test_accs = np.array(test_accs)\n",
    "    \n",
    "    return (train_accs.mean(), train_accs.std()), (test_accs.mean(), test_accs.std())"
   ]
  },
  {
   "cell_type": "code",
   "execution_count": 64,
   "metadata": {},
   "outputs": [],
   "source": [
    "from sklearn.model_selection import KFold\n",
    "\n",
    "def crossvalidation(C, DS, m=10):\n",
    "    \"\"\" Classifieur * tuple[array, array] * int -> tuple[tuple[float,float], tuple[float,float]]\n",
    "        Hypothèse: m>0\n",
    "        Par défaut, m vaut 10\n",
    "    \"\"\"\n",
    "    \n",
    "    X, y = DS[0], DS[1]\n",
    "    train_accs = []\n",
    "    test_accs = []\n",
    "    \n",
    "    kf = KFold(n_splits=m, shuffle=True)\n",
    "    kf.get_n_splits(data_desc)\n",
    "    \n",
    "    for train_index, test_index in kf.split(X):\n",
    "        X_train, X_test = X[train_index], X[test_index]\n",
    "        y_train, y_test = y[train_index], y[test_index]\n",
    "        \n",
    "        # training the classifier on training_set\n",
    "        C.train(X_test, y_test)\n",
    "        \n",
    "        # adding accuracies\n",
    "        train_accs.append(C.accuracy(X_test, y_test))\n",
    "        test_accs.append(C.accuracy(X_train, y_train))\n",
    "        \n",
    "    print(\"[Info debug] liste accuracies Apprentissage: \", train_accs)\n",
    "    print(\"[Info debug] liste accuracies Test         : \", test_accs)\n",
    "    train_accs = np.array(train_accs)\n",
    "    test_accs = np.array(test_accs)\n",
    "    \n",
    "    return (train_accs.mean(), train_accs.std()), (test_accs.mean(), test_accs.std())"
   ]
  },
  {
   "cell_type": "code",
   "execution_count": 69,
   "metadata": {},
   "outputs": [
    {
     "name": "stdout",
     "output_type": "stream",
     "text": [
      "[Info debug] liste accuracies Apprentissage:  [1.0, 1.0, 1.0, 1.0, 1.0, 1.0, 1.0, 1.0, 1.0, 1.0]\n",
      "[Info debug] liste accuracies Test         :  [0.4444444444444444, 0.6666666666666666, 0.4444444444444444, 0.4444444444444444, 0.8888888888888888, 0.4444444444444444, 0.4444444444444444, 0.4444444444444444, 0.8888888888888888, 0.8888888888888888]\n",
      "(moyenne, std) pour apprentissage : (1.0, 0.0)\n",
      "(moyenne, std) pour test          : (0.6, 0.19999999999999998)\n"
     ]
    }
   ],
   "source": [
    "# Exemple d'utilisation:\n",
    "\n",
    "# Un autre exemple d'utilisation :\n",
    "knn = ClassifierKNN(2,1)\n",
    "\n",
    "res_apprentissage, res_test = crossvalidation(knn, (data_desc, data_label), 10)\n",
    "\n",
    "print(\"(moyenne, std) pour apprentissage :\", res_apprentissage)\n",
    "print(\"(moyenne, std) pour test          :\", res_test)"
   ]
  },
  {
   "cell_type": "code",
   "execution_count": 74,
   "metadata": {},
   "outputs": [
    {
     "name": "stdout",
     "output_type": "stream",
     "text": [
      "Le dataset généré contient  400 lignes de  2 colonnes.\n",
      "[Info debug] liste accuracies Apprentissage:  [0.95, 0.975, 0.95, 0.9375, 0.9375]\n",
      "[Info debug] liste accuracies Test         :  [0.921875, 0.9, 0.90625, 0.878125, 0.8875]\n",
      "(moyenne, std) pour apprentissage : (0.95, 0.013693063937629145)\n",
      "(moyenne, std) pour test          : (0.89875, 0.01512964804613775)\n"
     ]
    },
    {
     "data": {
      "image/png": "[encoded data removed]",
      "text/plain": [
       "<Figure size 432x288 with 1 Axes>"
      ]
     },
     "metadata": {
      "needs_background": "light"
     },
     "output_type": "display_data"
    }
   ],
   "source": [
    "np.random.seed(42)   # supprimer cette ligne une fois la mise au point terminée\n",
    "\n",
    "# Un autre exemple d'utilisation:\n",
    "\n",
    "autre_desc, autre_label = ut.genere_dataset_gaussian(np.array([1,1]),np.array([[1,0],[0,1]]),np.array([-1,-1]),np.array([[1,0],[0,1]]),200)\n",
    "\n",
    "print(\"Le dataset généré contient \", np.shape(autre_desc)[0], \"lignes de \", np.shape(autre_desc)[1], \"colonnes.\")\n",
    "\n",
    "# Affichage :\n",
    "ut.plot2DSet(autre_desc,autre_label)\n",
    "\n",
    "# Classifieur :\n",
    "knn = ClassifierKNN(2,3)\n",
    "\n",
    "res_apprentissage, res_test = crossvalidation(knn, (autre_desc, autre_label), 5)\n",
    "\n",
    "print(\"(moyenne, std) pour apprentissage :\", res_apprentissage)\n",
    "print(\"(moyenne, std) pour test          :\", res_test)"
   ]
  },
  {
   "cell_type": "markdown",
   "metadata": {},
   "source": [
    "Lorsqu'on compare plusieurs classifieurs, il est intéressant de mesurer leurs performances par une validation croisée, et idéalement, réalisée avec les mêmes datasets.\n",
    "\n",
    "<font color=\"RED\" size=\"+1\">**[Q]**</font> Réécrire la fonction précédente pour qu'elle prenne en argument non pas un seul classifieur, mais une liste de classifieurs et qu'elle renvoie la liste des quadruplets résultats correspondante.\n",
    "\n",
    "*Attention*: il ne s'agit pas d'écrire une fonction qui appelle la fonction précédente, il faut la réécrire."
   ]
  },
  {
   "cell_type": "code",
   "execution_count": 53,
   "metadata": {},
   "outputs": [],
   "source": [
    "# ------------------------ A COMPLETER :\n",
    "def crossvalidation(LC, DS, m):\n",
    "    \"\"\" List[Classifieur] * tuple[array, array] * int ->  List[tuple[tuple[float,float], tuple[float,float]]]\n",
    "        Hypothèse: m>0\n",
    "        Par défaut, m vaut 10\n",
    "    \"\"\"\n",
    "    print(\"Il y a \", len(LC), \"classifieurs à comparer.\")\n",
    "    \n",
    "    data_desc, data_labels = DS[0], DS[1]\n",
    "    all_indexs = [i for i in range(len(data_desc))]\n",
    "    train_accs = []\n",
    "    test_accs = []\n",
    "    \n",
    "    for i in range(len(LC)):\n",
    "        train_accs.append([])\n",
    "        test_accs.append([])\n",
    "    \n",
    "    for i in range(m):\n",
    "        # taking random data for training set\n",
    "        np.random.shuffle(all_indexs)\n",
    "        len_train = len(data_desc) // m\n",
    "        train_indexs = all_indexs[:len_train]\n",
    "\n",
    "        train_desc = np.array([data_desc[index] for index in train_indexs])\n",
    "        train_labels = np.array([data_labels[index] for index in train_indexs])\n",
    "\n",
    "        # the rest if for the test set\n",
    "        test_indexs = all_indexs[len_train + 1 : ]\n",
    "\n",
    "        train_desc = np.array([data_desc[index] for index in test_indexs])\n",
    "        train_labels = np.array([data_labels[index] for index in test_indexs])\n",
    "        \n",
    "        for i in range(len(LC)):\n",
    "            LC[i].train(train_desc, train_labels)\n",
    "            train_accs[i].append(LC[i].accuracy(train_desc, train_labels))\n",
    "            test_accs[i].append(LC[i].accuracy(test_desc, test_labels))\n",
    "\n",
    "    for i in range(len(LC)):\n",
    "        train_accs[i] = np.array(train_accs[i])\n",
    "        test_accs[i] = np.array(test_accs[i])\n",
    "    \n",
    "    returned_values = [((tr.mean(), tr.std()), (ts.mean(), ts.std())) for tr, ts in zip(train_accs, test_accs)]\n",
    "    \n",
    "    return returned_values"
   ]
  },
  {
   "cell_type": "code",
   "execution_count": 54,
   "metadata": {},
   "outputs": [
    {
     "name": "stdout",
     "output_type": "stream",
     "text": [
      "Il y a  3 classifieurs à comparer.\n",
      "\n",
      "*****\n",
      "Affichage des résultats:\n",
      "Classifieur  0\n",
      "\t(moyenne, std) pour apprentissage : (1.0, 0.0)\n",
      "\t(moyenne, std) pour test          : (0.9433333333333331, 0.011055415967851317)\n",
      "Classifieur  1\n",
      "\t(moyenne, std) pour apprentissage : (0.9420612813370471, 0.004456824512534811)\n",
      "\t(moyenne, std) pour test          : (0.9683333333333332, 0.008975274678557498)\n",
      "Classifieur  2\n",
      "\t(moyenne, std) pour apprentissage : (0.9359331476323121, 0.0055710306406685055)\n",
      "\t(moyenne, std) pour test          : (0.9816666666666665, 0.004999999999999983)\n"
     ]
    }
   ],
   "source": [
    "# Exemple d'utilisation:\n",
    "\n",
    "# Un autre exemple d'utilisation :\n",
    "Liste_knns = []\n",
    "Liste_knns.append(ClassifierKNN(2,1))\n",
    "Liste_knns.append(ClassifierKNN(2,3))\n",
    "Liste_knns.append(ClassifierKNN(2,5))\n",
    "\n",
    "Resultats = crossvalidation(Liste_knns, (autre_desc, autre_label), 10)\n",
    "\n",
    "print(\"\\n*****\\nAffichage des résultats:\")\n",
    "for k in range(0,len(Resultats)):\n",
    "    print(\"Classifieur \", k)\n",
    "    print(\"\\t(moyenne, std) pour apprentissage :\", Resultats[k][0])\n",
    "    print(\"\\t(moyenne, std) pour test          :\", Resultats[k][1])\n"
   ]
  },
  {
   "cell_type": "markdown",
   "metadata": {},
   "source": [
    "<font color=\"RED\" size=\"+1\">**[Q]**</font> A l'aide d'une validation croisée en 10 paquets réalisée sur un dataset généré aléatoirement, donner les performances (accuracy moyenne et écart type) de tous les classifieurs implémentés depuis le TME 2."
   ]
  },
  {
   "cell_type": "code",
   "execution_count": null,
   "metadata": {},
   "outputs": [],
   "source": [
    "# ------------------------ A COMPLETER :\n"
   ]
  },
  {
   "cell_type": "markdown",
   "metadata": {},
   "source": [
    "### Expérimentations de  classifieurs sur des données réelles\n",
    "\n",
    "Téléchargez des données réelles (voir les TME précédents) et réalisez un ensemble d'expérimentations permettant de comparer les classifieurs que vous avez implémentés depuis le TME 2. \n",
    "Comparez-les en termes d'accuracy, de temps d'exécution,...\n",
    "Attention, il est donc nécessaire dans cette partie d'inclure des boîtes de code python pour faire les tests mais aussi des boîtes de texte, pour expliquer l'objectif des expériences, ainsi que d'autres boîtes pour commenter les résultats obtenus."
   ]
  },
  {
   "cell_type": "code",
   "execution_count": null,
   "metadata": {},
   "outputs": [],
   "source": []
  }
 ],
 "metadata": {
  "kernelspec": {
   "display_name": "Python 3",
   "language": "python",
   "name": "python3"
  },
  "language_info": {
   "codemirror_mode": {
    "name": "ipython",
    "version": 3
   },
   "file_extension": ".py",
   "mimetype": "text/x-python",
   "name": "python",
   "nbconvert_exporter": "python",
   "pygments_lexer": "ipython3",
   "version": "3.7.3"
  }
 },
 "nbformat": 4,
 "nbformat_minor": 1
}
