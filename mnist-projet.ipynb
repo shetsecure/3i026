{
 "cells": [
  {
   "cell_type": "markdown",
   "metadata": {},
   "source": [
    "    Marzouki Amine\n",
    "    Numero d'etudiant: 28616952"
   ]
  },
  {
   "cell_type": "code",
   "execution_count": 142,
   "metadata": {},
   "outputs": [
    {
     "name": "stdout",
     "output_type": "stream",
     "text": [
      "The autoreload extension is already loaded. To reload it, use:\n",
      "  %reload_ext autoreload\n"
     ]
    }
   ],
   "source": [
    "# Importation des librairies standards:\n",
    "import numpy as np\n",
    "import pandas as pd\n",
    "import matplotlib.pyplot as plt\n",
    "%matplotlib inline  \n",
    "\n",
    "# Importation de la librairie iads\n",
    "import iads as iads\n",
    "\n",
    "# importation de Classifiers\n",
    "from iads import Classifiers as cl\n",
    "\n",
    "# importation de utils\n",
    "from iads import utils as ut\n",
    "\n",
    "# importation de evaluation\n",
    "from iads import evaluation as ev\n",
    "\n",
    "# autoreload to get the new changes\n",
    "%load_ext autoreload\n",
    "%autoreload 2"
   ]
  },
  {
   "cell_type": "markdown",
   "metadata": {},
   "source": [
    "# Table des matières\n",
    "\n",
    "<style>\n",
    "a {\n",
    "  color: inherit; /* blue colors for links too */\n",
    "  text-decoration: inherit; /* no underline */\n",
    "}\n",
    "</style>\n",
    "\n",
    "<h2>\n",
    "<ol>\n",
    "    <li>\n",
    "        <a href='#Compte-rendu-demand%C3%A9-(-probl%C3%A8me-%C3%A0-2-classes-)' style=\"text-decoration: inherit;\"> \n",
    "            Classification binaire\n",
    "        </a>\n",
    "        <ul> \n",
    "            <li>\n",
    "                <a href='#Data-discovery:-Plotting-the-digits' style=\"text-decoration: inherit;\"> \n",
    "                    Data discovery\n",
    "                </a>\n",
    "            </li>\n",
    "            <li>\n",
    "                <a href='#Les-données-sont-elles-déséquilibrées-?' style=\"text-decoration: inherit;\"> \n",
    "                    Les données sont elles déséquilibrées-?\n",
    "                </a>\n",
    "            </li>\n",
    "            <li>\n",
    "                <a href='#Les-classifieurs-Linéaires' style=\"text-decoration: inherit;\"> \n",
    "                    Les classifieurs Linéaires\n",
    "                </a>\n",
    "            </li>\n",
    "            <li>\n",
    "                <a href='#Autres-classifieurs' style=\"text-decoration: inherit;\"> \n",
    "                    Autres classifieurs\n",
    "                </a>\n",
    "            </li>\n",
    "            <li>\n",
    "                <a href='#Comparaison-entre-les-classifieurs' style=\"text-decoration: inherit;\"> \n",
    "                    Comparaison entre les classifieurs\n",
    "                </a>\n",
    "            </li>\n",
    "            <li>\n",
    "                <a href='#Conclusion' style=\"text-decoration: inherit;\"> \n",
    "                    Conclusion\n",
    "                </a>\n",
    "            </li>\n",
    "            <li>\n",
    "                <a href='#Experience:-Reduire-les-dimensions' style=\"text-decoration: inherit;\"> \n",
    "                    Experience: Reduire les dimensions\n",
    "                </a>\n",
    "            </li>\n",
    "            <li>\n",
    "                <a href='#Experience:-redressage-des-images' style=\"text-decoration: inherit;\"> \n",
    "                    Experience: Redressage des images (DeSkewing)\n",
    "                </a>\n",
    "            </li>\n",
    "            <li>\n",
    "                <a href='#Fonction-pour-generer-les-classes-du-fichier-eval' style=\"text-decoration: inherit;\"> \n",
    "                    Fonction pour generer les classes du fichier eval\n",
    "                </a>\n",
    "            </li>\n",
    "        </ul>\n",
    "    </li><br>\n",
    "    <li>\n",
    "        <a href='#MNIST-ALL-(optional)' style=\"text-decoration: inherit;\"> \n",
    "        Classification multi-class \n",
    "        </a>\n",
    "        <ul>\n",
    "            <li>\n",
    "                <a href='#MultiClass-KNN' style=\"text-decoration: inherit;\"> \n",
    "                    MultiClass-KNN\n",
    "                </a>\n",
    "            </li>\n",
    "            <li>\n",
    "                <a href='#Avec-le-redressage-(Deskewing)' style=\"text-decoration: inherit;\"> \n",
    "                    MultiClass-KNN avec le redressage (Deskewing)\n",
    "                </a>\n",
    "            </li>\n",
    "            <li>\n",
    "                <a href='#One-VS-Rest' style=\"text-decoration: inherit;\"> \n",
    "                    One vs Rest\n",
    "                </a>\n",
    "            </li>\n",
    "            <li>\n",
    "                <a href='#Refactoring-the-code' style=\"text-decoration: inherit;\"> \n",
    "                    Refactoring the code\n",
    "                </a>\n",
    "            </li>\n",
    "            <li>\n",
    "                <a href='#Conclusion-pour-la-partie-optionnelle' style=\"text-decoration: inherit;\"> \n",
    "                    Conclusion pour la partie optionnelle\n",
    "                </a>\n",
    "            </li>\n",
    "        </ul>\n",
    "    </li><br>\n",
    "    <li>\n",
    "        <a href='#FIN' style=\"text-decoration: inherit;\"> \n",
    "            FIN\n",
    "        </a>\n",
    "    </li>\n",
    "</ol>\n",
    "</h2>\n",
    "    "
   ]
  },
  {
   "cell_type": "markdown",
   "metadata": {},
   "source": [
    "# Compte-rendu demandé ( problème à 2 classes )"
   ]
  },
  {
   "cell_type": "markdown",
   "metadata": {},
   "source": [
    "### Loading data function"
   ]
  },
  {
   "cell_type": "code",
   "execution_count": 21,
   "metadata": {},
   "outputs": [],
   "source": [
    "def load_data(path):\n",
    "    df = pd.read_csv(path, sep=';', header=None)\n",
    "    df.rename(columns={785:'label'}, inplace=True)\n",
    "    df = df.drop(columns=[0])\n",
    "    \n",
    "    X = df.loc[:, df.columns != 'label'].to_numpy()\n",
    "    Y = df.loc[:, df.columns == 'label'].to_numpy()\n",
    "    \n",
    "    return X, Y"
   ]
  },
  {
   "cell_type": "code",
   "execution_count": 22,
   "metadata": {},
   "outputs": [],
   "source": [
    "X_train, Y_train = load_data('Bases_IADS/train.csv')\n",
    "X_test, Y_test = load_data('Bases_IADS/test.csv')"
   ]
  },
  {
   "cell_type": "code",
   "execution_count": 4,
   "metadata": {
    "scrolled": true
   },
   "outputs": [
    {
     "data": {
      "text/plain": [
       "(1000, 784)"
      ]
     },
     "execution_count": 4,
     "metadata": {},
     "output_type": "execute_result"
    }
   ],
   "source": [
    "X_train.shape"
   ]
  },
  {
   "cell_type": "markdown",
   "metadata": {},
   "source": [
    "## Data discovery: Plotting the digits"
   ]
  },
  {
   "cell_type": "code",
   "execution_count": 159,
   "metadata": {},
   "outputs": [
    {
     "name": "stdout",
     "output_type": "stream",
     "text": [
      "Plot images with their labels each 100s indices\n"
     ]
    },
    {
     "data": {
      "image/png": "[encoded data removed]",
      "text/plain": [
       "<Figure size 432x288 with 9 Axes>"
      ]
     },
     "metadata": {
      "needs_background": "light"
     },
     "output_type": "display_data"
    }
   ],
   "source": [
    "print('Plot images with their labels each 100s indices')\n",
    "\n",
    "for i in range(1, 10):\n",
    "    plt.subplot(3, 3, i)\n",
    "    plt.text(0.5, 0.5, \"             \" + str(Y_train[i*100]),fontsize=15)\n",
    "    plt.imshow(X_train[i*100].reshape(28, 28))"
   ]
  },
  {
   "cell_type": "markdown",
   "metadata": {},
   "source": [
    "    Ici on voit clairement que notre probleme est de distinguer le groupe des 2 chiffres (3s et 8s) qui a un label = -1 et l'autre groupe compose de (5s et 9s) qui a un label = 1"
   ]
  },
  {
   "cell_type": "markdown",
   "metadata": {},
   "source": [
    "## Les données sont-elles déséquilibrées ?"
   ]
  },
  {
   "cell_type": "code",
   "execution_count": 6,
   "metadata": {},
   "outputs": [
    {
     "data": {
      "text/plain": [
       "Text(0, 0.5, 'Count')"
      ]
     },
     "execution_count": 6,
     "metadata": {},
     "output_type": "execute_result"
    },
    {
     "data": {
      "image/png": "[encoded data removed]",
      "text/plain": [
       "<Figure size 432x288 with 1 Axes>"
      ]
     },
     "metadata": {
      "needs_background": "light"
     },
     "output_type": "display_data"
    }
   ],
   "source": [
    "plt.bar([-1, 1], [list(Y_train).count(-1), list(Y_train).count(1)])\n",
    "plt.xlabel(\"Labels\")\n",
    "plt.ylabel(\"Count\")"
   ]
  },
  {
   "cell_type": "markdown",
   "metadata": {},
   "source": [
    "On voit que les donnees sont parfaitement equilibree, ce qui rend nos classifieurs unbiased pour une certaine categorie."
   ]
  },
  {
   "cell_type": "code",
   "execution_count": 224,
   "metadata": {},
   "outputs": [],
   "source": [
    "# Results (a list of tuples (train, test) accuracy of our classifiers to compare them later)\n",
    "results = []\n",
    "\n",
    "# classif dict\n",
    "classif_dict = dict()\n",
    "classif_dict['random_linear'] = None\n",
    "classif_dict['perceptron'] = None\n",
    "classif_dict['oneStepPerceptron'] = None\n",
    "classif_dict['knn'] = None\n",
    "\n",
    "# classifiers list (objects)\n",
    "classifiers = []"
   ]
  },
  {
   "cell_type": "markdown",
   "metadata": {},
   "source": [
    "## Les classifieurs Linéaires"
   ]
  },
  {
   "cell_type": "markdown",
   "metadata": {},
   "source": [
    "### ClassifierLineaireRandom"
   ]
  },
  {
   "cell_type": "markdown",
   "metadata": {},
   "source": [
    "    Je sais deja que le ClassifierLineaireRandom va pas donner grand chose, mais on va l'essayer quand meme pour qu'on puisse le comparer avec les autres, et pour prendre son accuracy comme un point de depart"
   ]
  },
  {
   "cell_type": "markdown",
   "metadata": {},
   "source": [
    "### <p style='color : red'> Iterating over 1e6 versions of random linear classifiers </p>"
   ]
  },
  {
   "cell_type": "code",
   "execution_count": 7,
   "metadata": {},
   "outputs": [],
   "source": [
    "acc = 0.5\n",
    "seed = 1\n",
    "np.random.seed(seed)\n",
    "best_random_classifier = cl.ClassifierLineaireRandom(X_train.shape[1])\n",
    "\n",
    "for i in range(2, 100000):\n",
    "    np.random.seed(i)\n",
    "    random_linear = cl.ClassifierLineaireRandom(X_train.shape[1])\n",
    "    if random_linear.accuracy(X_test, Y_test) > acc:\n",
    "        acc = random_linear.accuracy(X_test, Y_test)\n",
    "        seed = i\n",
    "        np.random.seed(i)\n",
    "        best_random_classifier = cl.ClassifierLineaireRandom(X_train.shape[1])"
   ]
  },
  {
   "cell_type": "code",
   "execution_count": 20,
   "metadata": {},
   "outputs": [
    {
     "name": "stdout",
     "output_type": "stream",
     "text": [
      "The best seed  4423\n"
     ]
    }
   ],
   "source": [
    "print(\"The best seed \", seed)"
   ]
  },
  {
   "cell_type": "code",
   "execution_count": 46,
   "metadata": {},
   "outputs": [
    {
     "name": "stdout",
     "output_type": "stream",
     "text": [
      "For ClassifierLineaireRandom \n",
      "Train accuracy:  0.767\n",
      "Test  accuracy:  0.781\n"
     ]
    }
   ],
   "source": [
    "np.random.seed(4423)\n",
    "best_random_classifier = cl.ClassifierLineaireRandom(X_train.shape[1])\n",
    "\n",
    "best_random_classifier_train_acc = best_random_classifier.accuracy(X_train, Y_train)\n",
    "best_random_classifier_test_acc  = best_random_classifier.accuracy(X_test, Y_test)\n",
    "\n",
    "print(\"For ClassifierLineaireRandom \")\n",
    "print(\"Train accuracy: \", best_random_classifier_train_acc)\n",
    "print(\"Test  accuracy: \", best_random_classifier_test_acc)"
   ]
  },
  {
   "cell_type": "code",
   "execution_count": 225,
   "metadata": {},
   "outputs": [],
   "source": [
    "classif_dict['random_linear'] = (best_random_classifier_train_acc, best_random_classifier_test_acc)\n",
    "classifiers.append(best_random_classifier)"
   ]
  },
  {
   "cell_type": "markdown",
   "metadata": {},
   "source": [
    "### Rosenblatt's Perceptron"
   ]
  },
  {
   "cell_type": "markdown",
   "metadata": {},
   "source": [
    "    J'ai fais la meme chose avec ce classifieur, et j'ai pris le meilleure seed pour la meilleure initialisation. Je me suis retrouve avec un perceptron qui a une accuracy sur le test de 88.2% apres la phase de fine-tunning. Le meilleur perceptron pour cette tache que j'ai trouve a comme parametres:\n",
    "    1. eps = 10^-4\n",
    "    2. max_iter = 10^4\n",
    "    3. random_seed = 541"
   ]
  },
  {
   "cell_type": "markdown",
   "metadata": {},
   "source": [
    "    Avec cette experience, j'ai vu clairement l'impact de la phase d'initialisation pour le perceptron, car l'accuracy du test varie de 82% jusqu'a 88.2% (teste sur 1000 versions)."
   ]
  },
  {
   "cell_type": "code",
   "execution_count": 28,
   "metadata": {},
   "outputs": [
    {
     "name": "stdout",
     "output_type": "stream",
     "text": [
      "CPU times: user 21.3 s, sys: 7.66 ms, total: 21.3 s\n",
      "Wall time: 21.4 s\n"
     ]
    }
   ],
   "source": [
    "%%time\n",
    "np.random.seed(541)\n",
    "eps = 1e-4\n",
    "best_perceptron = cl.ClassifierPerceptron(X_train.shape[1], eps, 10e3)\n",
    "best_perceptron.train(X_train, Y_train)"
   ]
  },
  {
   "cell_type": "code",
   "execution_count": 49,
   "metadata": {},
   "outputs": [
    {
     "name": "stdout",
     "output_type": "stream",
     "text": [
      "For Rosenblatt's Perceptron \n",
      "Train accuracy:  1.0\n",
      "Test  accuracy:  0.882\n",
      "\n",
      "\n",
      "CPU times: user 315 ms, sys: 3.84 ms, total: 319 ms\n",
      "Wall time: 318 ms\n"
     ]
    }
   ],
   "source": [
    "%%time\n",
    "\n",
    "best_perceptron_train_acc = best_perceptron.accuracy(X_train, Y_train) \n",
    "best_perceptron_test_acc  = best_perceptron.accuracy(X_test, Y_test)\n",
    "\n",
    "print(\"For Rosenblatt's Perceptron \")\n",
    "print(\"Train accuracy: \", best_perceptron_train_acc)\n",
    "print(\"Test  accuracy: \", best_perceptron_test_acc)\n",
    "print(\"\\n\")"
   ]
  },
  {
   "cell_type": "code",
   "execution_count": 226,
   "metadata": {},
   "outputs": [],
   "source": [
    "classif_dict['perceptron'] = (best_perceptron_train_acc, best_perceptron_test_acc)\n",
    "classifiers.append(best_perceptron)"
   ]
  },
  {
   "cell_type": "markdown",
   "metadata": {},
   "source": [
    "### One Step Perceptron"
   ]
  },
  {
   "cell_type": "markdown",
   "metadata": {},
   "source": [
    "    J'ai programme cette version du perceptron qui utilise la solution analytique pour trouver les bonnes valeurs des \"wieghts\" [d'ou le nom du \"en une seule etape\", car on voit pas clairement las phase d'apprentissage dans le sens ou c'est une phase iteratife et reactif avec cette methode ]\n",
    "\n",
    "    Une etape = calculer le pseudo-inverse de la matrice au but de minimiser le taux d'erreur (Le but c'etait de rendre perceptron plus rapide avec plus, au moins les meme performances).\n",
    "    \n",
    "    Il y a une difference ici, c'est que dans cette version ma fonction du cout (cost) est les moindres carrés, au lieu d'utiliser la fonction de perte 0-1 (Hinge loss). Il y a 2 raisons pourquoi j'ai choisi les moindres carres (MSE):\n",
    "<ol>\n",
    "    \n",
    "<li> Normalement MSE est utilisee pour evaluer un modele de regression ( predire des valeures continues ). Et puisque 0 et 1 appartient a R, donc on peut l'adapter. </li>\n",
    "<li> MSE a une solution <b> stable et unique </b> qui est obtenu par resoudre l'equation de la derivee (gradient = 0 ) [voir les photo ci-dessous pour les detailes] </li>\n",
    "</ol>\n",
    "<br><br>\n",
    "<img style=\"transform: rotate(90deg); width:50%\" src=\"images/1.jpg\"> <br><br><br><br><br>\n",
    "<img style=\"transform: rotate(90deg); width:50%\" src=\"images/2.jpg\"> <br><br><br><br><br>\n",
    "<img style=\"transform: rotate(90deg); width:50%\" src=\"images/3.jpg\"> <br><br><br>\n",
    "<img style=\"width:50%\" src=\"images/4.jpg\">"
   ]
  },
  {
   "cell_type": "code",
   "execution_count": 19,
   "metadata": {},
   "outputs": [],
   "source": [
    "one_step_perceptron = cl.ClassifierOneStepPerceptron(X_train.shape[1])\n",
    "one_step_perceptron.train(X_train, Y_train)"
   ]
  },
  {
   "cell_type": "code",
   "execution_count": 51,
   "metadata": {},
   "outputs": [
    {
     "name": "stdout",
     "output_type": "stream",
     "text": [
      "For one_step_perceptron \n",
      "Train accuracy:  0.994\n",
      "Test  accuracy:  0.82\n",
      "\n",
      "\n",
      "CPU times: user 319 ms, sys: 0 ns, total: 319 ms\n",
      "Wall time: 319 ms\n"
     ]
    }
   ],
   "source": [
    "%%time\n",
    "\n",
    "one_step_perceptron_train_acc = one_step_perceptron.accuracy(X_train, Y_train)\n",
    "one_step_perceptron_test_acc  = one_step_perceptron.accuracy(X_test, Y_test)\n",
    "\n",
    "print(\"For one_step_perceptron \")\n",
    "print(\"Train accuracy: \", one_step_perceptron_train_acc)\n",
    "print(\"Test  accuracy: \", one_step_perceptron_test_acc)\n",
    "print(\"\\n\")"
   ]
  },
  {
   "cell_type": "code",
   "execution_count": 227,
   "metadata": {},
   "outputs": [],
   "source": [
    "classif_dict['oneStepPerceptron'] = (one_step_perceptron_train_acc, one_step_perceptron_test_acc)\n",
    "classifiers.append(one_step_perceptron)"
   ]
  },
  {
   "cell_type": "markdown",
   "metadata": {},
   "source": [
    "## Using OneStepPerceptron comme un building block pour le Perceptron de Rosenblatt"
   ]
  },
  {
   "cell_type": "markdown",
   "metadata": {},
   "source": [
    "    L'idee c'est remplacer la phase d'initialisation aleatoire qui est faire par le perceptron de Rosenblatt, et la remplacer directement avec les meilleurs weights qu'on peut calculer avec le OneStep. Et apres on fait l'apprentissage."
   ]
  },
  {
   "cell_type": "code",
   "execution_count": 45,
   "metadata": {},
   "outputs": [
    {
     "name": "stdout",
     "output_type": "stream",
     "text": [
      "CPU times: user 205 ms, sys: 0 ns, total: 205 ms\n",
      "Wall time: 204 ms\n"
     ]
    }
   ],
   "source": [
    "%%time\n",
    "# get oneStepPerceptron weights\n",
    "init_weights = one_step_perceptron.weights\n",
    "\n",
    "eps = 1e-4\n",
    "max_iter = 1e4\n",
    "\n",
    "# Create a new Perceptron (to compare)\n",
    "perceptron_v2 = cl.ClassifierPerceptron(X_train.shape[1], eps, max_iter)\n",
    "\n",
    "# init weights with oneStepPerceptron weights\n",
    "perceptron_v2.weights = init_weights\n",
    "\n",
    "# training phase\n",
    "perceptron_v2.train(X_train, Y_train)"
   ]
  },
  {
   "cell_type": "markdown",
   "metadata": {},
   "source": [
    "    On voit qu'on a gagne beaucoup du temps (204ms au lieu de 21.4 secondes), et on a bien fitted the data"
   ]
  },
  {
   "cell_type": "code",
   "execution_count": 46,
   "metadata": {},
   "outputs": [
    {
     "data": {
      "text/plain": [
       "1.0"
      ]
     },
     "execution_count": 46,
     "metadata": {},
     "output_type": "execute_result"
    }
   ],
   "source": [
    "perceptron_v2.accuracy(X_train, Y_train)"
   ]
  },
  {
   "cell_type": "markdown",
   "metadata": {},
   "source": [
    "    Accuracy avec cette methode d'initialisation:"
   ]
  },
  {
   "cell_type": "code",
   "execution_count": 47,
   "metadata": {},
   "outputs": [
    {
     "data": {
      "text/plain": [
       "0.865"
      ]
     },
     "execution_count": 47,
     "metadata": {},
     "output_type": "execute_result"
    }
   ],
   "source": [
    "perceptron_v2.accuracy(X_test, Y_test)"
   ]
  },
  {
   "cell_type": "markdown",
   "metadata": {},
   "source": [
    "    Ce qui est deja pas mal pusiqu'on a gagne du bcp du temps et 4.5% en plus dans l'accuracy du test, bien que le classifieur a bien \"fitted the data\" (100% dans training accuracy) mais on peut dire qu'il a fait un \"overfitting\" dans ce cas (86.5% dans test accuracy)."
   ]
  },
  {
   "cell_type": "markdown",
   "metadata": {},
   "source": [
    "## Autres classifieurs "
   ]
  },
  {
   "cell_type": "markdown",
   "metadata": {},
   "source": [
    "### Kernel perceptron"
   ]
  },
  {
   "cell_type": "markdown",
   "metadata": {},
   "source": [
    "    Pour la version kernelized du perceptron, comme on a 784 dims, si on fait juste une transformation avec un polynomial de 2eme degree on aura 1 + 784 + 306936 ~ 300k features, donc c'est pas pratique."
   ]
  },
  {
   "cell_type": "markdown",
   "metadata": {},
   "source": [
    "### KNN classifier"
   ]
  },
  {
   "cell_type": "markdown",
   "metadata": {},
   "source": [
    "    Pour le KNN on va voir qu'il est le meilleure en terme d'accuracy mais il est aussi le plus long. Puisque l'algorithme qu'on a implemente suit l'approche du brute-force (calculer toutes les distances, les trier et puis choisir les k-plus proches) et on est restraint au classifieur des tmes qu'on a implemente, donc la seule chose que j'ai pu faire c'est d'integrer le parallelisme dans la tache pour gagner un peu du temps."
   ]
  },
  {
   "cell_type": "markdown",
   "metadata": {},
   "source": [
    "    J'ai aussi essaye plusieurs valeurs de K, normalement on doit choisir juste les valeurs impaires pour eviter le probleme du vote 50% 50% pour les deux classes, mais avec la maniere qu'on a implemente predict(), dans ce cas d'egalite des votes on predit -1. \n",
    "\n",
    "    Apres que j'ai essaye plusieurs valeurs, j'ai trouve k=4 est la meilleure pour notre cas."
   ]
  },
  {
   "cell_type": "code",
   "execution_count": 24,
   "metadata": {},
   "outputs": [],
   "source": [
    "k = 4\n",
    "knn = cl.ClassifierKNN(X_train.shape[1], k)\n",
    "knn.train(X_train, Y_train)"
   ]
  },
  {
   "cell_type": "code",
   "execution_count": 288,
   "metadata": {},
   "outputs": [
    {
     "name": "stdout",
     "output_type": "stream",
     "text": [
      "CPU times: user 10min 19s, sys: 220 ms, total: 10min 20s\n",
      "Wall time: 10min 20s\n"
     ]
    },
    {
     "data": {
      "text/plain": [
       "0.948"
      ]
     },
     "execution_count": 288,
     "metadata": {},
     "output_type": "execute_result"
    }
   ],
   "source": [
    "%%time\n",
    "\n",
    "print(knn.accuracy(X_train, Y_train))"
   ]
  },
  {
   "cell_type": "markdown",
   "metadata": {},
   "source": [
    "    Avec cette version ci-dessous (fast_accuracy) on trouve que c'est 2 fois plus rapide que la methode implemente          originale.\n",
    "\n",
    "    NB: je l'ai integre juste dans la classe KNN, et non pas la classe Classifier car le cout pour creer des nouveaux processus pour atteindre le parallelisme est plus grand que faire le calcul d'une maniere sequentiel pour les autres classieurs (Perceptron est rapide en tous cas, un simple produit scalair suffit pour faire la prediction)"
   ]
  },
  {
   "cell_type": "code",
   "execution_count": 290,
   "metadata": {},
   "outputs": [
    {
     "name": "stdout",
     "output_type": "stream",
     "text": [
      "CPU times: user 6.3 s, sys: 2.96 s, total: 9.26 s\n",
      "Wall time: 5min 3s\n"
     ]
    }
   ],
   "source": [
    "%%time\n",
    "\n",
    "knn_train_accuracy = knn.fast_accuracy(X_train, Y_train)\n",
    "print(knn_train_accuracy)"
   ]
  },
  {
   "cell_type": "code",
   "execution_count": 289,
   "metadata": {},
   "outputs": [
    {
     "name": "stdout",
     "output_type": "stream",
     "text": [
      "CPU times: user 7.79 s, sys: 3 s, total: 10.8 s\n",
      "Wall time: 10min 3s\n"
     ]
    }
   ],
   "source": [
    "%%time\n",
    "\n",
    "knn_test_accuracy = knn.fast_accuracy(X_test, Y_test)"
   ]
  },
  {
   "cell_type": "code",
   "execution_count": 291,
   "metadata": {},
   "outputs": [
    {
     "name": "stdout",
     "output_type": "stream",
     "text": [
      "For KNN with k =  4\n",
      "Train accuracy:  0.969\n",
      "Test  accuracy:  0.948\n"
     ]
    }
   ],
   "source": [
    "print(\"For KNN with k = \", knn.k)\n",
    "print(\"Train accuracy: \", knn_train_accuracy)\n",
    "print(\"Test  accuracy: \", knn_test_accuracy)"
   ]
  },
  {
   "cell_type": "code",
   "execution_count": 228,
   "metadata": {},
   "outputs": [],
   "source": [
    "classif_dict['knn'] = (knn_train_accuracy, knn_test_accuracy)\n",
    "classifiers.append(knn)"
   ]
  },
  {
   "cell_type": "markdown",
   "metadata": {},
   "source": [
    "    J'ai implemente aussi confusion_matrix pour avoir plus de details sur la performance des classifieurs, et comme le KNN met bcp de temps pour calculer les predictions pour toute la base, je stocke aussi le resultat des predictions, pour l'utiliser apres. "
   ]
  },
  {
   "cell_type": "code",
   "execution_count": 286,
   "metadata": {
    "scrolled": true
   },
   "outputs": [
    {
     "name": "stdout",
     "output_type": "stream",
     "text": [
      "CPU times: user 5.15 ms, sys: 0 ns, total: 5.15 ms\n",
      "Wall time: 5.13 ms\n"
     ]
    },
    {
     "data": {
      "text/plain": [
       "{'TP': 468,\n",
       " 'TN': 480,\n",
       " 'FP': 20,\n",
       " 'FN': 32,\n",
       " 'Precision': 0.9590163934426229,\n",
       " 'Recall': 0.936}"
      ]
     },
     "execution_count": 286,
     "metadata": {},
     "output_type": "execute_result"
    }
   ],
   "source": [
    "%%time\n",
    "\n",
    "ev.confusion_matrix(Y_test, knn._last_predictions)"
   ]
  },
  {
   "cell_type": "markdown",
   "metadata": {},
   "source": [
    "## Comparaison entre les classifieurs"
   ]
  },
  {
   "cell_type": "code",
   "execution_count": 75,
   "metadata": {},
   "outputs": [
    {
     "data": {
      "text/plain": [
       "{'random_linear': (0.767, 0.781),\n",
       " 'perceptron': (1.0, 0.882),\n",
       " 'oneStepPerceptron': (0.994, 0.82),\n",
       " 'knn': (0.969, 0.948)}"
      ]
     },
     "execution_count": 75,
     "metadata": {},
     "output_type": "execute_result"
    }
   ],
   "source": [
    "classif_dict"
   ]
  },
  {
   "cell_type": "code",
   "execution_count": 229,
   "metadata": {},
   "outputs": [],
   "source": [
    "def compare_classifiers(classifiers : dict, scatter=False):\n",
    "    \"\"\"\n",
    "        Function that plots train/test accuracies for the given classifiers.\n",
    "        classifiers = dictionnary where the keys are strings and values are tuples (train_acc, test_acc)\n",
    "    \"\"\"\n",
    "    \n",
    "    assert isinstance(classifiers, dict)\n",
    "    for classifier, accuracies in classifiers.items():\n",
    "        assert len(accuracies) == 2 # train and test\n",
    "        \n",
    "    # constructing train/test lists\n",
    "    \n",
    "    train_perf, test_perf = [], []\n",
    "    classifs = [i for i in range(len(classifiers))]\n",
    "    \n",
    "    for c in classifiers:\n",
    "        train_perf.append(classifiers[c][0] * 100)\n",
    "        test_perf.append(classifiers[c][1] * 100)\n",
    "    \n",
    "    fig = plt.figure(figsize=(8, 5))\n",
    "    ax = fig.add_subplot(111)\n",
    "    \n",
    "    # plotting the data\n",
    "    \n",
    "    if scatter:\n",
    "        plt.scatter(classifs, train_perf, label='Training performane')\n",
    "        plt.scatter(classifs, test_perf, label='Testing performane')\n",
    "    else:\n",
    "        plt.plot(classifs, train_perf, label='Training performane')\n",
    "        plt.plot(classifs, test_perf, label='Testing performane')\n",
    "    \n",
    "    # annotations\n",
    "    \n",
    "    for x,y in zip(classifs, train_perf):\n",
    "        ax.annotate('%.2f%%' % y, xy=(x,y), textcoords='data')\n",
    "        \n",
    "    for x,y in zip(classifs, test_perf):\n",
    "        ax.annotate('%.2f%%' % y, xy=(x,y), textcoords='data')\n",
    "    \n",
    "    # x,y labels and displaying classifs names\n",
    "    plt.ylabel('Performane')\n",
    "    plt.xlabel('Classifiers')\n",
    "    plt.xticks(np.arange(len(classifiers)), list(classifiers.keys()), rotation='45')\n",
    "    \n",
    "    # showing the best classifier in the title\n",
    "    best_index = test_perf.index(max(test_perf))\n",
    "    names = list(classifiers.keys())\n",
    "\n",
    "    plt.title(\"Comparing multiple classifiers\\nBest classifier is %s with a test accuracy of %.2f%%\" \n",
    "              %(names[best_index], test_perf[best_index]))\n",
    "    plt.legend()\n",
    "    plt.show()"
   ]
  },
  {
   "cell_type": "code",
   "execution_count": 136,
   "metadata": {},
   "outputs": [
    {
     "data": {
      "image/png": "[encoded data removed]",
      "text/plain": [
       "<Figure size 576x360 with 1 Axes>"
      ]
     },
     "metadata": {
      "needs_background": "light"
     },
     "output_type": "display_data"
    }
   ],
   "source": [
    "compare_classifiers(classif_dict)"
   ]
  },
  {
   "cell_type": "markdown",
   "metadata": {},
   "source": [
    "## Conclusion"
   ]
  },
  {
   "cell_type": "markdown",
   "metadata": {},
   "source": [
    "    On trouve que le KNN (avec k = 4) est le meilleur classifieur avec test accuracy = 94.8% et il generalise tres bien puisque la difference entre train et test accuracy est juste 2% alors que par exemple les perceptrons ne generalise pas bien du tout ( difference ~12% et ~18% pour le meilleur perceptron et oneStepPerceptron respectivement )"
   ]
  },
  {
   "cell_type": "markdown",
   "metadata": {},
   "source": [
    "    En terme du temps, on trouve que le KNN est le plus long (dans la phase de prediction/inference) meme avec tout les optimisations qu'on a fait. Cela est du a l'algorithme du bruteforce qu'on utilise, on peut bien le rendre plus rapide en utilisant K-d tree ou bien on calcule la \"frontiere de decision\" en utilisant Voronoi Tessellation.\n",
    "    \n",
    "    Avec les deux methodes, bien que K-d tree est meiux car on a un grand nombre de dimensions, on va rendre notre KNN plus long dans la phase d'apprentissage (calcule de l'arbre ou Diagramme de Voronoï), mais plus rapide dans la phase de prediction des nouveaux classes.\n",
    "    \n",
    "    Une autre solution sera reduire le nombre des dimensions par selectionner les features qui sont utiles pour faire la prediction."
   ]
  },
  {
   "cell_type": "markdown",
   "metadata": {},
   "source": [
    "# Experience: Reduire les dimensions"
   ]
  },
  {
   "cell_type": "markdown",
   "metadata": {},
   "source": [
    "    Le but de cette experience est de savoir l'impact de reduire les dimensions des images. On remarque que presque tous les images sont centrees, donc les coins des images sont inutiles pour fair la prediction, ce sont des pixels inutiles qui n'importent aucune information qui peut aider le classifieur."
   ]
  },
  {
   "cell_type": "markdown",
   "metadata": {},
   "source": [
    "    Une des maniers simples pour reduire les dimensions pour ce cas, est de juste appliquer un zoom-in sur les images comme suit:"
   ]
  },
  {
   "cell_type": "code",
   "execution_count": 244,
   "metadata": {},
   "outputs": [],
   "source": [
    "def zoom_in(image, scale=2):\n",
    "    \"\"\"\n",
    "        Applying zoom-in by taking the average of the pixels of each scale X scale block on the image.\n",
    "    \"\"\"\n",
    "    original_width, original_height = image.shape[1], image.shape[0]\n",
    "    \n",
    "    assert int(scale) >= 1\n",
    "    assert original_width % scale == 0\n",
    "    assert original_height % scale == 0\n",
    "\n",
    "    width, height = original_width // scale, original_height // scale\n",
    "\n",
    "    zoomed_img = np.zeros((height, width), dtype=image.dtype)\n",
    "\n",
    "    for i in range(0, original_height, scale):\n",
    "        for j in range(0, original_width, scale):\n",
    "            zoomed_img[i//scale, j//scale] = np.mean(image[i:i + scale, j:j+scale])\n",
    "\n",
    "    return zoomed_img"
   ]
  },
  {
   "cell_type": "markdown",
   "metadata": {},
   "source": [
    "### Exemple apres le zoom"
   ]
  },
  {
   "cell_type": "code",
   "execution_count": 245,
   "metadata": {},
   "outputs": [
    {
     "data": {
      "image/png": "[encoded data removed]",
      "text/plain": [
       "<Figure size 432x288 with 2 Axes>"
      ]
     },
     "metadata": {
      "needs_background": "light"
     },
     "output_type": "display_data"
    }
   ],
   "source": [
    "original_img = X_train[0].reshape(28,28)\n",
    "zoomed_img = zoom_in(original_img, scale=2)\n",
    "\n",
    "fig = plt.figure()\n",
    "ax1 = fig.add_subplot(231)\n",
    "ax2 = fig.add_subplot(232)\n",
    "\n",
    "ax1.title.set_text('Image originale')\n",
    "ax2.title.set_text('Image apres le zoom-in')\n",
    "\n",
    "ax1.imshow(original_img)\n",
    "ax2.imshow(zoomed_img)\n",
    "\n",
    "fig.tight_layout()\n",
    "fig.text(0.2, 0.4, \"shape = \" + str(original_img.shape), ha='center')\n",
    "fig.text(0.52, 0.4, \"shape = \" + str(zoomed_img.shape), ha='center')\n",
    "plt.show()"
   ]
  },
  {
   "cell_type": "markdown",
   "metadata": {},
   "source": [
    "### Appliquant le zoom-in sur toutes les images"
   ]
  },
  {
   "cell_type": "code",
   "execution_count": 183,
   "metadata": {},
   "outputs": [],
   "source": [
    "X_train_zoomed = np.asarray([zoom_in(img.reshape(28, 28), scale=2).ravel() for img in X_train])\n",
    "X_test_zoomed = np.asarray([zoom_in(img.reshape(28, 28), scale=2).ravel() for img in X_test])"
   ]
  },
  {
   "cell_type": "code",
   "execution_count": 184,
   "metadata": {},
   "outputs": [
    {
     "data": {
      "text/plain": [
       "<matplotlib.image.AxesImage at 0x7f8a333c6150>"
      ]
     },
     "execution_count": 184,
     "metadata": {},
     "output_type": "execute_result"
    },
    {
     "data": {
      "image/png": "[encoded data removed]",
      "text/plain": [
       "<Figure size 432x288 with 1 Axes>"
      ]
     },
     "metadata": {
      "needs_background": "light"
     },
     "output_type": "display_data"
    }
   ],
   "source": [
    "plt.imshow(X_test_zoomed[5].reshape(14, 14))"
   ]
  },
  {
   "cell_type": "code",
   "execution_count": 186,
   "metadata": {},
   "outputs": [
    {
     "data": {
      "text/plain": [
       "array([  0,   0,   0,   0,   0,   0,   0,   0,   0,   0,   0,   0,   0,\n",
       "         0,   0,   0,   0,   0,   0,   0,   0,   0,   0,   0,   0,   0,\n",
       "         0,   0,   0,   0,   0,   0,   0,  39, 112, 116, 113,  15,   0,\n",
       "         0,   0,   0,   0,   0,   0,   8, 193, 251, 244, 224, 251, 137,\n",
       "         0,   0,   0,   0,   0,   0,   0,   0, 103,  88,  20,  41, 236,\n",
       "       175,   0,   0,   0,   0,   0,   0,   0,   0,   0,   0, 101, 249,\n",
       "       208,  28,   0,   0,   0,   0,   0,   0,   0,   0,   0,   0, 181,\n",
       "       215,   6,   0,   0,   0,   0,   0,   0,   0,   0,   0,   0,   0,\n",
       "        87, 253, 169,  17,   0,   0,   0,   0,   0,   0,   0,   0,   0,\n",
       "         0,   0,  63, 119, 154,   0,   0,   0,   0,   0,   0,   0,  25,\n",
       "        64,   0,   0,   0,  35, 227,   0,   0,   0,   0,   0,   0,   0,\n",
       "         0, 183,  85,  34,  74, 223, 204,   0,   0,   0,   0,   0,   0,\n",
       "         0,   0,  64, 242, 253, 253, 228,  17,   0,   0,   0,   0,   0,\n",
       "         0,   0,   0,   0,  34, 106,  74,  44,   0,   0,   0,   0,   0,\n",
       "         0,   0,   0,   0,   0,   0,   0,   0,   0,   0,   0,   0,   0,\n",
       "         0])"
      ]
     },
     "execution_count": 186,
     "metadata": {},
     "output_type": "execute_result"
    }
   ],
   "source": [
    "X_test_zoomed[5]"
   ]
  },
  {
   "cell_type": "markdown",
   "metadata": {},
   "source": [
    "### On essaye les classifieurs sur la nouvelles dataset"
   ]
  },
  {
   "cell_type": "code",
   "execution_count": 171,
   "metadata": {},
   "outputs": [
    {
     "name": "stdout",
     "output_type": "stream",
     "text": [
      "(1000, 196)\n",
      "(1000, 196)\n"
     ]
    }
   ],
   "source": [
    "print(X_train_zoomed.shape)\n",
    "print(X_test_zoomed.shape)"
   ]
  },
  {
   "cell_type": "markdown",
   "metadata": {},
   "source": [
    "    On a reduit les dimensions de 784 à seulement 196 (14x14)"
   ]
  },
  {
   "cell_type": "markdown",
   "metadata": {},
   "source": [
    "### Les KNNs : essayant plusieurs valeurs de k"
   ]
  },
  {
   "cell_type": "code",
   "execution_count": 187,
   "metadata": {},
   "outputs": [],
   "source": [
    "test_zoom_knn = cl.ClassifierKNN(X_train_zoomed.shape[1], 4)\n",
    "test_zoom_knn.train(X_train_zoomed, Y_train)"
   ]
  },
  {
   "cell_type": "code",
   "execution_count": 188,
   "metadata": {
    "scrolled": true
   },
   "outputs": [
    {
     "name": "stdout",
     "output_type": "stream",
     "text": [
      "CPU times: user 1.44 s, sys: 437 ms, total: 1.88 s\n",
      "Wall time: 1min 20s\n"
     ]
    },
    {
     "data": {
      "text/plain": [
       "0.949"
      ]
     },
     "execution_count": 188,
     "metadata": {},
     "output_type": "execute_result"
    }
   ],
   "source": [
    "%%time\n",
    "\n",
    "test_zoom_knn.fast_accuracy(X_test_zoomed, Y_test)"
   ]
  },
  {
   "cell_type": "markdown",
   "metadata": {},
   "source": [
    "    Dès le départ, on voit qu'on a diminuer dramatiquement le temps pour avoir l'accuracy de 5min à 1min avec un peu pres la meme accuracy ( avec une amélioration de 0.001% ).\n",
    "    Avec cette setup, on peut maintenant essayer plusieurs valeurs sans probleme."
   ]
  },
  {
   "cell_type": "code",
   "execution_count": 191,
   "metadata": {},
   "outputs": [],
   "source": [
    "# Training \n",
    "\n",
    "k_values = range(1, 11)\n",
    "zoomed_KNNs = []\n",
    "\n",
    "for k in k_values:\n",
    "    new_knn = cl.ClassifierKNN(X_train_zoomed.shape[1], k)\n",
    "    new_knn.train(X_train_zoomed, Y_train)\n",
    "    \n",
    "    zoomed_KNNs.append(new_knn)"
   ]
  },
  {
   "cell_type": "code",
   "execution_count": 193,
   "metadata": {},
   "outputs": [
    {
     "name": "stdout",
     "output_type": "stream",
     "text": [
      "CPU times: user 16.1 s, sys: 5.39 s, total: 21.5 s\n",
      "Wall time: 16min 2s\n"
     ]
    }
   ],
   "source": [
    "%%time\n",
    "\n",
    "zoomed_KNNs_accuracies = {z_KNN.k : z_KNN.fast_accuracy(X_test_zoomed, Y_test) for z_KNN in zoomed_KNNs}"
   ]
  },
  {
   "cell_type": "code",
   "execution_count": 194,
   "metadata": {},
   "outputs": [
    {
     "data": {
      "text/plain": [
       "{1: 0.946,\n",
       " 2: 0.939,\n",
       " 3: 0.953,\n",
       " 4: 0.949,\n",
       " 5: 0.944,\n",
       " 6: 0.937,\n",
       " 7: 0.943,\n",
       " 8: 0.943,\n",
       " 9: 0.946,\n",
       " 10: 0.944}"
      ]
     },
     "execution_count": 194,
     "metadata": {},
     "output_type": "execute_result"
    }
   ],
   "source": [
    "zoomed_KNNs_accuracies"
   ]
  },
  {
   "cell_type": "code",
   "execution_count": 200,
   "metadata": {},
   "outputs": [
    {
     "name": "stdout",
     "output_type": "stream",
     "text": [
      "Best K-value is 3 with a test-accuracy of 0.953\n"
     ]
    }
   ],
   "source": [
    "max_key = max(zoomed_KNNs_accuracies, key=zoomed_KNNs_accuracies.get)\n",
    "\n",
    "print(\"Best K-value is %d with a test-accuracy of %.3f\" % (max_key, zoomed_KNNs_accuracies[max_key]))"
   ]
  },
  {
   "cell_type": "markdown",
   "metadata": {},
   "source": [
    "    C'est deja pas mal, on a gagne beaucoup de temps en plus d'une amelioration de 0.005%. La meilleur valeur de k \n",
    "    est 3."
   ]
  },
  {
   "cell_type": "markdown",
   "metadata": {},
   "source": [
    "### Le tour des perceptrons maintenant"
   ]
  },
  {
   "cell_type": "markdown",
   "metadata": {},
   "source": [
    "#### Rosenblatt's Perceptron"
   ]
  },
  {
   "cell_type": "code",
   "execution_count": 205,
   "metadata": {},
   "outputs": [
    {
     "name": "stdout",
     "output_type": "stream",
     "text": [
      "CPU times: user 8min 17s, sys: 472 ms, total: 8min 18s\n",
      "Wall time: 8min 18s\n"
     ]
    }
   ],
   "source": [
    "%%time\n",
    "\n",
    "zoomed_perceptron = cl.ClassifierPerceptron(X_train_zoomed.shape[1], 1e-4, 1e4)\n",
    "zoomed_perceptron.train(X_train_zoomed, Y_train)"
   ]
  },
  {
   "cell_type": "code",
   "execution_count": 206,
   "metadata": {},
   "outputs": [
    {
     "data": {
      "text/plain": [
       "0.953"
      ]
     },
     "execution_count": 206,
     "metadata": {},
     "output_type": "execute_result"
    }
   ],
   "source": [
    "zoomed_perceptron.accuracy(X_train_zoomed, Y_train)"
   ]
  },
  {
   "cell_type": "code",
   "execution_count": 207,
   "metadata": {},
   "outputs": [
    {
     "name": "stdout",
     "output_type": "stream",
     "text": [
      "CPU times: user 53.2 ms, sys: 61 µs, total: 53.3 ms\n",
      "Wall time: 52.8 ms\n"
     ]
    },
    {
     "data": {
      "text/plain": [
       "0.86"
      ]
     },
     "execution_count": 207,
     "metadata": {},
     "output_type": "execute_result"
    }
   ],
   "source": [
    "%%time\n",
    "\n",
    "zoomed_perceptron.accuracy(X_test_zoomed, Y_test)"
   ]
  },
  {
   "cell_type": "markdown",
   "metadata": {},
   "source": [
    "#### Test du OneStepPerceptron"
   ]
  },
  {
   "cell_type": "code",
   "execution_count": 208,
   "metadata": {},
   "outputs": [
    {
     "name": "stdout",
     "output_type": "stream",
     "text": [
      "CPU times: user 30.8 ms, sys: 147 µs, total: 31 ms\n",
      "Wall time: 142 ms\n"
     ]
    }
   ],
   "source": [
    "%%time\n",
    "\n",
    "zoomed_oneStep = cl.ClassifierOneStepPerceptron(X_train_zoomed.shape[1])\n",
    "zoomed_oneStep.train(X_train_zoomed, Y_train)"
   ]
  },
  {
   "cell_type": "code",
   "execution_count": 214,
   "metadata": {},
   "outputs": [
    {
     "name": "stdout",
     "output_type": "stream",
     "text": [
      "OneStepPerceptron traininng accuracy  0.956\n",
      "OneStepPerceptron testing accuracy  0.882\n",
      "\n",
      "CPU times: user 112 ms, sys: 0 ns, total: 112 ms\n",
      "Wall time: 110 ms\n"
     ]
    }
   ],
   "source": [
    "%%time\n",
    "\n",
    "print(\"OneStepPerceptron traininng accuracy \", zoomed_oneStep.accuracy(X_train_zoomed, Y_train))\n",
    "print(\"OneStepPerceptron testing accuracy \", zoomed_oneStep.accuracy(X_test_zoomed, Y_test))\n",
    "print()"
   ]
  },
  {
   "cell_type": "markdown",
   "metadata": {},
   "source": [
    "    On a arrive a la meme performance du meilleur perceptron de la section precedante avec bcp moins de temps. En revanche on voit qu'on a pas separer toutes les donnees.\n",
    "    \n",
    "    test_accuracy = 88.2%"
   ]
  },
  {
   "cell_type": "code",
   "execution_count": 222,
   "metadata": {},
   "outputs": [
    {
     "name": "stdout",
     "output_type": "stream",
     "text": [
      "CPU times: user 6min 29s, sys: 179 ms, total: 6min 29s\n",
      "Wall time: 6min 29s\n"
     ]
    }
   ],
   "source": [
    "%%time\n",
    "# using OneStep as a building block\n",
    "\n",
    "zoomed_perceptron2 = cl.ClassifierPerceptron(X_train_zoomed.shape[1], 1e-4, 1e4)\n",
    "zoomed_perceptron2.weights = zoomed_oneStep.weights\n",
    "\n",
    "zoomed_perceptron2.train(X_train_zoomed, Y_train)"
   ]
  },
  {
   "cell_type": "code",
   "execution_count": 223,
   "metadata": {},
   "outputs": [
    {
     "name": "stdout",
     "output_type": "stream",
     "text": [
      "OneStepPerceptron traininng accuracy  0.949\n",
      "OneStepPerceptron testing accuracy  0.863\n",
      "\n",
      "CPU times: user 88.7 ms, sys: 0 ns, total: 88.7 ms\n",
      "Wall time: 87.7 ms\n"
     ]
    }
   ],
   "source": [
    "%%time\n",
    "\n",
    "print(\"OneStepPerceptron traininng accuracy \", zoomed_perceptron2.accuracy(X_train_zoomed, Y_train))\n",
    "print(\"OneStepPerceptron testing accuracy \", zoomed_perceptron2.accuracy(X_test_zoomed, Y_test))\n",
    "print()"
   ]
  },
  {
   "cell_type": "markdown",
   "metadata": {},
   "source": [
    "    Apres plusieurs tentative, j'ai pas pu ameliorer test_accuracy du perceptron au-dela de 88.2%."
   ]
  },
  {
   "cell_type": "markdown",
   "metadata": {},
   "source": [
    "#### Kernelized Perceptron"
   ]
  },
  {
   "cell_type": "markdown",
   "metadata": {},
   "source": [
    "    Maintenant pusiqu'on a mois de dimensions, plus precisement on a 1 + 196 +18336 ~= 19k, on peut essayer la version kernelise du Perceptron."
   ]
  },
  {
   "cell_type": "code",
   "execution_count": 250,
   "metadata": {},
   "outputs": [
    {
     "name": "stdout",
     "output_type": "stream",
     "text": [
      "CPU times: user 1h 31min 17s, sys: 2.58 s, total: 1h 31min 20s\n",
      "Wall time: 1h 31min 21s\n"
     ]
    }
   ],
   "source": [
    "%%time\n",
    "\n",
    "kernel_perceptron_zoom = cl.ClassifierPerceptronKernel(X_train_zoomed.shape[1], 1e-4, ut.KernelPoly(2), max_iter=1e2)\n",
    "kernel_perceptron_zoom.train(X_train_zoomed, Y_train)"
   ]
  },
  {
   "cell_type": "code",
   "execution_count": 251,
   "metadata": {},
   "outputs": [
    {
     "name": "stdout",
     "output_type": "stream",
     "text": [
      "kernel_perceptron_zoom traininng accuracy  1.0\n",
      "kernel_perceptron_zoom testing accuracy  0.948\n",
      "\n",
      "CPU times: user 3min 59s, sys: 256 ms, total: 4min\n",
      "Wall time: 4min\n"
     ]
    }
   ],
   "source": [
    "%%time\n",
    "\n",
    "print(\"kernel_perceptron_zoom traininng accuracy \", kernel_perceptron_zoom.accuracy(X_train_zoomed, Y_train))\n",
    "print(\"kernel_perceptron_zoom testing accuracy \", kernel_perceptron_zoom.accuracy(X_test_zoomed, Y_test))\n",
    "print()"
   ]
  },
  {
   "cell_type": "markdown",
   "metadata": {},
   "source": [
    "    On voit que c'est meilleur du rosenblatt's perceptron, mais il prend bcp plus de temps pour la phase d'apprentissage  (1h 31min) car il est trop complexe.\n",
    "    \n",
    "    Test accuracy avec la version kernelise du perceptron est 94.8%"
   ]
  },
  {
   "cell_type": "markdown",
   "metadata": {},
   "source": [
    "## Fin d'experience: Reduire les dimensions -> CONCLUSION"
   ]
  },
  {
   "cell_type": "markdown",
   "metadata": {},
   "source": [
    "    Avec cette transformation qu'on a fait, on a pu ameliore l'accuracy avec bcp moins de dimensions.\n",
    "    Cependant, on gagne plus de temps ce qui peut etre interessant dans un environment qui est sensibles au temps.\n",
    "    \n",
    "    En outre, on voit qu'avec la version kernelise du perceptron on a une bonne accuracy 94.8% contrairement au meilleur  rosenblatt's perceptron que j'ai pu avoir qui avait une accuracy de 88.2%.\n",
    "    \n",
    "    Enfin, il reste Knn avec k=3 (apres la reduction des dimensions) le meilleur classifieur avec une test accuracy de 95.3%"
   ]
  },
  {
   "cell_type": "markdown",
   "metadata": {},
   "source": [
    "# Experience: redressage des images"
   ]
  },
  {
   "cell_type": "markdown",
   "metadata": {},
   "source": [
    "    Le probleme avec la maniere utilisee pour calculer la similarite entre 2 images, typiquement pour le KNN qu'on a implemente ici qui repose sur le calcul de la distance euclidienne, on peut avoir une grande distance entre 2 images bien qu'elles representent le meme chiffre, car l'une est juste une transformation de l'autre.\n",
    "    \n",
    "    Pour regler ce probleme, on peut redresser (Deskew) notre dataset avant de se lancer dans la phase d'apprentissage, on peut bien implementer cette phase facilement en utilisant opencv, mais comme on utilise juste numpy, j'ai trouve une solution en ligne et j'ai utilise le code ici.\n",
    "    \n",
    "    Source: https://fsix.github.io/mnist/Deskewing.html"
   ]
  },
  {
   "cell_type": "markdown",
   "metadata": {},
   "source": [
    "### Exemple"
   ]
  },
  {
   "cell_type": "code",
   "execution_count": 304,
   "metadata": {
    "scrolled": true
   },
   "outputs": [
    {
     "data": {
      "image/png": "[encoded data removed]",
      "text/plain": [
       "<Figure size 432x288 with 2 Axes>"
      ]
     },
     "metadata": {
      "needs_background": "light"
     },
     "output_type": "display_data"
    }
   ],
   "source": [
    "original_img = X_train[14].reshape(28,28)\n",
    "skewed_img = deskew(original_img)\n",
    "\n",
    "fig = plt.figure()\n",
    "ax1 = fig.add_subplot(231)\n",
    "ax2 = fig.add_subplot(232)\n",
    "\n",
    "ax1.title.set_text('Image originale')\n",
    "ax2.title.set_text('Image apres le redressage')\n",
    "\n",
    "ax1.imshow(original_img)\n",
    "ax2.imshow(skewed_img)\n",
    "\n",
    "fig.tight_layout()\n",
    "fig.text(0.2, 0.4, \"shape = \" + str(original_img.shape), ha='center')\n",
    "fig.text(0.52, 0.4, \"shape = \" + str(skewed_img.shape), ha='center')\n",
    "plt.show()"
   ]
  },
  {
   "cell_type": "markdown",
   "metadata": {},
   "source": [
    "## Code pour faire le redressage"
   ]
  },
  {
   "cell_type": "code",
   "execution_count": 224,
   "metadata": {},
   "outputs": [],
   "source": [
    "# source: https://fsix.github.io/mnist/Deskewing.html\n",
    "\n",
    "from scipy.ndimage import interpolation\n",
    "\n",
    "def moments(image):\n",
    "    c0,c1 = np.mgrid[:image.shape[0],:image.shape[1]] # A trick in numPy to create a mesh grid\n",
    "    totalImage = np.sum(image) #sum of pixels\n",
    "    m0 = np.sum(c0*image)/totalImage #mu_x\n",
    "    m1 = np.sum(c1*image)/totalImage #mu_y\n",
    "    m00 = np.sum((c0-m0)**2*image)/totalImage #var(x)\n",
    "    m11 = np.sum((c1-m1)**2*image)/totalImage #var(y)\n",
    "    m01 = np.sum((c0-m0)*(c1-m1)*image)/totalImage #covariance(x,y)\n",
    "    mu_vector = np.array([m0,m1]) # Notice that these are \\mu_x, \\mu_y respectively\n",
    "    covariance_matrix = np.array([[m00,m01],[m01,m11]]) # Do you see a similarity between the covariance matrix\n",
    "    return mu_vector, covariance_matrix\n",
    "\n",
    "\n",
    "\n",
    "def deskew(image):\n",
    "    c,v = moments(image)\n",
    "    alpha = v[0,1]/v[0,0]\n",
    "    affine = np.array([[1,0],[alpha,1]])\n",
    "    ocenter = np.array(image.shape)/2.0\n",
    "    offset = c-np.dot(affine,ocenter)\n",
    "    return interpolation.affine_transform(image,affine,offset=offset)"
   ]
  },
  {
   "cell_type": "markdown",
   "metadata": {},
   "source": [
    "#### redressage des images"
   ]
  },
  {
   "cell_type": "code",
   "execution_count": 239,
   "metadata": {},
   "outputs": [],
   "source": [
    "X_train_deskew = np.asarray([deskew(img.reshape(28,28)).ravel() for img in X_train])\n",
    "X_test_deskew = np.asarray([deskew(img.reshape(28,28)).ravel() for img in X_test])"
   ]
  },
  {
   "cell_type": "markdown",
   "metadata": {},
   "source": [
    "## Test avec un KNN (avec redressage)"
   ]
  },
  {
   "cell_type": "code",
   "execution_count": 240,
   "metadata": {},
   "outputs": [],
   "source": [
    "skew_KNN = cl.ClassifierKNN(X_train_deskew.shape[1], 3)\n",
    "skew_KNN.train(X_train_deskew, Y_train)"
   ]
  },
  {
   "cell_type": "code",
   "execution_count": 324,
   "metadata": {},
   "outputs": [
    {
     "data": {
      "text/plain": [
       "0.977"
      ]
     },
     "execution_count": 324,
     "metadata": {},
     "output_type": "execute_result"
    }
   ],
   "source": [
    "skew_KNN.fast_accuracy(X_test_deskew, Y_test)"
   ]
  },
  {
   "cell_type": "markdown",
   "metadata": {},
   "source": [
    "# Fin d'experience: Redressage -> CONCLUSION"
   ]
  },
  {
   "cell_type": "markdown",
   "metadata": {},
   "source": [
    "    Oupla, on a gagne ~ 3% d'accuracy en appliquant cette phase de prétraitement."
   ]
  },
  {
   "cell_type": "markdown",
   "metadata": {},
   "source": [
    "# Fonction pour generer les classes du fichier eval"
   ]
  },
  {
   "cell_type": "code",
   "execution_count": 305,
   "metadata": {},
   "outputs": [],
   "source": [
    "def generate_eval_labels(classifier : cl.Classifier, eval_file_path : str, out_file='resultat.csv', separator=';',\n",
    "                         skew = False, zoom = False):\n",
    "    \n",
    "    assert isinstance(classifier, cl.Classifier)\n",
    "    assert isinstance(eval_file_path, str)\n",
    "    assert isinstance(separator, str)\n",
    "    \n",
    "    import multiprocessing\n",
    "    import concurrent\n",
    "    import pandas as pd\n",
    "    import numpy as np\n",
    "    \n",
    "    try:\n",
    "        eval_df = pd.read_csv(eval_file_path, sep=separator, header=None)\n",
    "        eval_df.drop(columns=[785], inplace=True) # dropping the useless label\n",
    "        \n",
    "        ids = eval_df[0].to_numpy()\n",
    "        eval_np = eval_df.drop(columns=[0]).to_numpy()\n",
    "        \n",
    "        # not using deskew to not have a conflict beteween var_name and function\n",
    "        if skew: \n",
    "            print(\"[Warning] you applied deskewing\")\n",
    "            eval_np = np.asarray([deskew(img.reshape(28,28)).ravel() for img in eval_np])\n",
    "            \n",
    "        if zoom:\n",
    "            print(\"[Warning] you applied zoom-in\")\n",
    "            eval_np = np.asarray([zoom_in(img.reshape(28, 28), scale=2).ravel() for img in eval_np])\n",
    "        \n",
    "        res = []\n",
    "        \n",
    "        # constructing predictions \n",
    "        \n",
    "        if isinstance(classifier, cl.ClassifierKNN):        \n",
    "            N = len(eval_np)\n",
    "            cpu_count = multiprocessing.cpu_count()\n",
    "            executor = concurrent.futures.ProcessPoolExecutor(cpu_count)\n",
    "\n",
    "            futures = [executor.submit(classifier.predict, description) for description in eval_np]\n",
    "            concurrent.futures.wait(futures)\n",
    "\n",
    "            predictions = [f.result() for f in futures]\n",
    "            \n",
    "        else:\n",
    "            predictions = []\n",
    "            \n",
    "            for description in eval_np:\n",
    "                predictions.append(classifier.predict(description))\n",
    "        \n",
    "        # constructing the array of (id, estimated_class)\n",
    "        \n",
    "        for i in range(len(eval_np)):\n",
    "            res.append([ ids[i], predictions[i] ])\n",
    "            \n",
    "        res = np.asarray(res)\n",
    "        pd.DataFrame(res).to_csv(out_file, header=None, index=None, sep=';')\n",
    "        \n",
    "        print(\"Done\")\n",
    "        \n",
    "    except FileNotFoundError:\n",
    "        print(\"File not found !!\")\n",
    "        \n",
    "    except (KeyboardInterrupt, SystemExit):\n",
    "        for future in futures:\n",
    "            future.cancel()\n",
    "        \n",
    "        print(\"Canceled\")"
   ]
  },
  {
   "cell_type": "markdown",
   "metadata": {},
   "source": [
    "### Fonction pour generer les fichiers resultats pour tous les classifieurs dans classif_dict"
   ]
  },
  {
   "cell_type": "code",
   "execution_count": 306,
   "metadata": {},
   "outputs": [],
   "source": [
    "def generate_eval_labels_multi(classifiers : list, eval_file_path : str, separator=';', skew=False, zoom=False):\n",
    "    assert isinstance(classifiers, list)\n",
    "    \n",
    "    for classifier in classifiers:\n",
    "        classifier_name = str(classifier).split('.')[-1].split(' ')[0]\n",
    "        print(\"Constructing eval file for %s classifier\" % classifier_name)\n",
    "        out = \"resultat_\" + classifier_name + '.csv'\n",
    "        generate_eval_labels(classifier, eval_file_path, out_file=out, separator=separator, skew=skew, zoom=zoom)"
   ]
  },
  {
   "cell_type": "code",
   "execution_count": 265,
   "metadata": {},
   "outputs": [
    {
     "name": "stdout",
     "output_type": "stream",
     "text": [
      "Constructing eval file for ClassifierLineaireRandom classifier\n",
      "Done\n",
      "Constructing eval file for ClassifierPerceptron classifier\n",
      "Done\n",
      "Constructing eval file for ClassifierOneStepPerceptron classifier\n",
      "Done\n",
      "Constructing eval file for ClassifierKNN classifier\n",
      "Done\n",
      "CPU times: user 7.09 s, sys: 3.09 s, total: 10.2 s\n",
      "Wall time: 5min 26s\n"
     ]
    }
   ],
   "source": [
    "%%time\n",
    "\n",
    "generate_eval_labels_multi(classifiers, '/home/shetsecure/dataScience/3i026/Bases_IADS/eval.csv')"
   ]
  },
  {
   "cell_type": "code",
   "execution_count": 326,
   "metadata": {},
   "outputs": [
    {
     "name": "stdout",
     "output_type": "stream",
     "text": [
      "[Warning] you applied deskewing\n",
      "Done\n"
     ]
    }
   ],
   "source": [
    "generate_eval_labels(skew_KNN, '/home/shetsecure/dataScience/3i026/Bases_IADS/eval.csv', \\\n",
    "                     out_file='resultat_skewKnn_binary.csv', skew=True)"
   ]
  },
  {
   "cell_type": "markdown",
   "metadata": {},
   "source": [
    "# MNIST ALL (optional)"
   ]
  },
  {
   "cell_type": "markdown",
   "metadata": {},
   "source": [
    "    Chargement des donnees et visualisation"
   ]
  },
  {
   "cell_type": "code",
   "execution_count": 280,
   "metadata": {},
   "outputs": [],
   "source": [
    "mnist_train_x, mnist_train_y = load_data('Bases_IADS_multiclasses/train_multi.csv')\n",
    "mnist_test_x, mnist_test_y = load_data('Bases_IADS_multiclasses/test_multi.csv')"
   ]
  },
  {
   "cell_type": "code",
   "execution_count": 58,
   "metadata": {},
   "outputs": [
    {
     "data": {
      "text/plain": [
       "<BarContainer object of 10 artists>"
      ]
     },
     "execution_count": 58,
     "metadata": {},
     "output_type": "execute_result"
    },
    {
     "data": {
      "image/png": "[encoded data removed]",
      "text/plain": [
       "<Figure size 432x288 with 1 Axes>"
      ]
     },
     "metadata": {
      "needs_background": "light"
     },
     "output_type": "display_data"
    }
   ],
   "source": [
    "unique, counts = np.unique(mnist_train_y, return_counts=True)\n",
    "plt.xlabel(\"Labels\")\n",
    "plt.ylabel(\"Count\")\n",
    "plt.bar(unique, counts)"
   ]
  },
  {
   "cell_type": "markdown",
   "metadata": {},
   "source": [
    "    Les donnees sont bien equilibres (200 exemples pour chaque chiffre)"
   ]
  },
  {
   "cell_type": "code",
   "execution_count": 6,
   "metadata": {},
   "outputs": [
    {
     "data": {
      "image/png": "[encoded data removed]",
      "text/plain": [
       "<Figure size 432x288 with 19 Axes>"
      ]
     },
     "metadata": {
      "needs_background": "light"
     },
     "output_type": "display_data"
    }
   ],
   "source": [
    "for i in range(1, 20):\n",
    "    plt.subplot(4, 5, i)\n",
    "    plt.text(0.5, 0.5, \"         \" + str(mnist_train_y[i*100]),fontsize=15)\n",
    "    plt.imshow(mnist_train_x[i*100].reshape(28, 28))"
   ]
  },
  {
   "cell_type": "markdown",
   "metadata": {},
   "source": [
    "    Puisqu'on est maintenant dans un probleme de classification multi-classes et non pas binaire, on doit changer notre maniere de faire. \n",
    "\n",
    "    J'ai modifie un peu le classifieur KNN pour qu'il soit multi-classes"
   ]
  },
  {
   "cell_type": "markdown",
   "metadata": {},
   "source": [
    "### MultiClass KNN"
   ]
  },
  {
   "cell_type": "code",
   "execution_count": 281,
   "metadata": {},
   "outputs": [],
   "source": [
    "class MultiClassKNN(cl.ClassifierKNN):\n",
    "    def __init__(self, input_dimension, k):\n",
    "        \"\"\" Constructeur de Classifier\n",
    "        Argument:\n",
    "            - intput_dimension (int) : dimension d'entrée des exemples\n",
    "            - k (int) : nombre de voisins à considérer\n",
    "        Hypothèse : input_dimension > 0\n",
    "        \"\"\"\n",
    "        super().__init__(input_dimension, k)\n",
    "        \n",
    "    def predict(self, x):\n",
    "        \"\"\" rend la prediction sur x (-1 ou +1)\n",
    "            x: une description : un ndarray\n",
    "        \"\"\"\n",
    "        dist_array = np.asarray([self.dist_euc(x,y) for y in self.desc_set])\n",
    "        sorted_indices = np.argpartition(dist_array, self.k)[:self.k]\n",
    "\n",
    "        possible_labels = [self.label_set[i][0] for i in sorted_indices]\n",
    "        \n",
    "        # return most occured label\n",
    "        return max( [(possible_labels.count(label), label) for label in set(possible_labels)] )[1]\n",
    "    \n",
    "    def accuracy(self, desc_set, label_set):\n",
    "        \"\"\" \n",
    "        Calculate accuracy using multiple processes.\n",
    "        \n",
    "            desc_set: ndarray avec des descriptions\n",
    "            label_set: ndarray avec les labels correspondants\n",
    "            Hypothèse: desc_set et label_set ont le même nombre de lignes\n",
    "        \"\"\"\n",
    "        return self.fast_accuracy(desc_set, label_set)\n",
    "    \n",
    "    def fast_accuracy(self, desc_set, label_set):\n",
    "        \"\"\" \n",
    "        Calculate accuracy using multiple processes.\n",
    "        \n",
    "            desc_set: ndarray avec des descriptions\n",
    "            label_set: ndarray avec les labels correspondants\n",
    "            Hypothèse: desc_set et label_set ont le même nombre de lignes\n",
    "        \"\"\"\n",
    "        N = len(desc_set)\n",
    "        \n",
    "        if np.all(self._last_predicted_desc == desc_set):\n",
    "            predictions = self._last_predictions\n",
    "        else:\n",
    "            predictions = self.predict_all(desc_set)\n",
    "        \n",
    "        acc = [1 if predictions[i] == label_set[i] else 0 for i in range(N)]\n",
    "        \n",
    "        return float(sum(acc) / N)"
   ]
  },
  {
   "cell_type": "code",
   "execution_count": 347,
   "metadata": {},
   "outputs": [],
   "source": [
    "mnist_knn = MultiClassKNN(mnist_train_x.shape[1], 3)\n",
    "mnist_knn.train(mnist_train_x, mnist_train_y)"
   ]
  },
  {
   "cell_type": "code",
   "execution_count": 21,
   "metadata": {},
   "outputs": [
    {
     "name": "stdout",
     "output_type": "stream",
     "text": [
      "CPU times: user 39.6 s, sys: 14.4 s, total: 54 s\n",
      "Wall time: 20min 7s\n"
     ]
    },
    {
     "data": {
      "text/plain": [
       "0.95"
      ]
     },
     "execution_count": 21,
     "metadata": {},
     "output_type": "execute_result"
    }
   ],
   "source": [
    "%%time\n",
    "mnist_knn.fast_accuracy(mnist_train_x, mnist_train_y)"
   ]
  },
  {
   "cell_type": "code",
   "execution_count": 19,
   "metadata": {},
   "outputs": [
    {
     "name": "stdout",
     "output_type": "stream",
     "text": [
      "CPU times: user 13.9 s, sys: 17 s, total: 30.9 s\n",
      "Wall time: 19min 50s\n"
     ]
    },
    {
     "data": {
      "text/plain": [
       "0.8965"
      ]
     },
     "execution_count": 19,
     "metadata": {},
     "output_type": "execute_result"
    }
   ],
   "source": [
    "%%time\n",
    "mnist_knn.fast_accuracy(mnist_test_x, mnist_test_y)"
   ]
  },
  {
   "cell_type": "markdown",
   "metadata": {},
   "source": [
    "    Donc pour le MultiClassKNN, on a 95% comme training accuracy et 89.65% comme test accuracy"
   ]
  },
  {
   "cell_type": "markdown",
   "metadata": {},
   "source": [
    "## Avec le redressage (Deskewing)"
   ]
  },
  {
   "cell_type": "code",
   "execution_count": 283,
   "metadata": {},
   "outputs": [],
   "source": [
    "mnist_train_x_deskew = np.asarray([deskew(img.reshape(28,28)).ravel() for img in mnist_train_x])\n",
    "mnist_test_x_deskew = np.asarray([deskew(img.reshape(28,28)).ravel() for img in mnist_test_x])"
   ]
  },
  {
   "cell_type": "code",
   "execution_count": 284,
   "metadata": {},
   "outputs": [],
   "source": [
    "mnist_knn_deskew = MultiClassKNN(mnist_train_x_deskew.shape[1], 3)\n",
    "mnist_knn_deskew.train(mnist_train_x_deskew, mnist_train_y)"
   ]
  },
  {
   "cell_type": "code",
   "execution_count": 287,
   "metadata": {},
   "outputs": [
    {
     "name": "stdout",
     "output_type": "stream",
     "text": [
      "CPU times: user 7.03 ms, sys: 36 µs, total: 7.06 ms\n",
      "Wall time: 7.57 ms\n"
     ]
    },
    {
     "data": {
      "text/plain": [
       "0.934"
      ]
     },
     "execution_count": 287,
     "metadata": {},
     "output_type": "execute_result"
    }
   ],
   "source": [
    "%%time\n",
    "mnist_knn_deskew.fast_accuracy(mnist_test_x_deskew, mnist_test_y)"
   ]
  },
  {
   "cell_type": "markdown",
   "metadata": {},
   "source": [
    "    Avec le redressage on gagne ~4% dans test_accuracy"
   ]
  },
  {
   "cell_type": "markdown",
   "metadata": {},
   "source": [
    "## One VS Rest"
   ]
  },
  {
   "cell_type": "code",
   "execution_count": 159,
   "metadata": {},
   "outputs": [
    {
     "name": "stdout",
     "output_type": "stream",
     "text": [
      "[0 1 2 3 4 5 6 7 8 9]\n"
     ]
    }
   ],
   "source": [
    "mnist_train_x, mnist_train_y = load_data('Bases_IADS_multiclasses/train_multi.csv')\n",
    "mnist_test_x, mnist_test_y = load_data('Bases_IADS_multiclasses/test_multi.csv')\n",
    "print(np.unique(mnist_train_y))"
   ]
  },
  {
   "cell_type": "markdown",
   "metadata": {},
   "source": [
    "### Fonction pour faire un split sur les labels"
   ]
  },
  {
   "cell_type": "code",
   "execution_count": 214,
   "metadata": {},
   "outputs": [],
   "source": [
    "def one_vs_rest_labels(Y_train : np.ndarray, Y_test : np.ndarray):\n",
    "    \"\"\"\n",
    "        Implementing one_vs_rest, this function transform the labels passed in Y_[train, test], each iteration \n",
    "        we choose a class to be classified transform its corresponding label to +1 and rest to -1, then returns\n",
    "        the new label set.\n",
    "    \n",
    "        @params: \n",
    "            Y_train: numpy array (training labels)\n",
    "            Y_test: np.ndarray (test labels)\n",
    "        \n",
    "        returns:\n",
    "            generator\n",
    "    \"\"\"\n",
    "    assert isinstance(Y_train, np.ndarray)\n",
    "    assert isinstance(Y_test, np.ndarray)\n",
    "    assert Y_train.shape == Y_test.shape\n",
    "    \n",
    "    unique_train_labels = np.unique(Y_train)\n",
    "    unique_test_labels = np.unique(Y_test)\n",
    "    \n",
    "    assert np.all(unique_test_labels == unique_train_labels)\n",
    "    \n",
    "    # each iteration, we take a class to be recognized (trans -> +1) and the others to -1\n",
    "    for label in unique_train_labels:\n",
    "        \n",
    "        # reset the labels\n",
    "        original_Y_train = np.array(Y_train)\n",
    "        original_Y_test = np.array(Y_test)\n",
    "        \n",
    "        # transforming the labels\n",
    "        selected_indices = np.argwhere(original_Y_train == label)[:,0]\n",
    "        other_indices = np.argwhere(original_Y_train != label)[:,0]\n",
    "        original_Y_train[selected_indices] = 1\n",
    "        original_Y_train[other_indices] = -1\n",
    "        original_Y_train = original_Y_train.astype(int)\n",
    "        \n",
    "        \n",
    "        selected_indices = np.argwhere(original_Y_test == label)[:,0]\n",
    "        other_indices = np.argwhere(original_Y_test != label)[:,0]\n",
    "        original_Y_test[selected_indices] = 1\n",
    "        original_Y_test[other_indices] = -1\n",
    "        original_Y_test = original_Y_test.astype(int)\n",
    "        \n",
    "        yield (original_Y_train, original_Y_test, label)"
   ]
  },
  {
   "cell_type": "markdown",
   "metadata": {},
   "source": [
    "    Test -> passed"
   ]
  },
  {
   "cell_type": "code",
   "execution_count": 199,
   "metadata": {
    "scrolled": true
   },
   "outputs": [
    {
     "name": "stdout",
     "output_type": "stream",
     "text": [
      "label: 0 starts at index 0 and finish at index 199\n",
      "label: 1 starts at index 200 and finish at index 399\n",
      "label: 2 starts at index 400 and finish at index 599\n",
      "label: 3 starts at index 600 and finish at index 799\n",
      "label: 4 starts at index 800 and finish at index 999\n",
      "label: 5 starts at index 1000 and finish at index 1199\n",
      "label: 6 starts at index 1200 and finish at index 1399\n",
      "label: 7 starts at index 1400 and finish at index 1599\n",
      "label: 8 starts at index 1600 and finish at index 1799\n",
      "label: 9 starts at index 1800 and finish at index 1999\n"
     ]
    }
   ],
   "source": [
    "for y_train, y_test, label in one_vs_rest_labels(mnist_train_y, mnist_test_y):\n",
    "    print(\"label: %d starts at index %d and finish at index %d\" % (label, np.argwhere(y_train == 1)[0][0], \\\n",
    "                                                                  np.argwhere(y_train == 1)[-1][0]))"
   ]
  },
  {
   "cell_type": "markdown",
   "metadata": {},
   "source": [
    "### Fonction pour faire one-vs-rest trainning avec plusieurs perceptrons"
   ]
  },
  {
   "cell_type": "markdown",
   "metadata": {},
   "source": [
    "    J'ai teste juste avec seulement 2 classifieurs, Rosenblatt's Perceptron et OneStepPerceptron, j'ai pas integre les KNN car il vont prendre bcp de temps pour calculer l'accuracy. C'est pour cela j'ai code le multiClassKNN                 ci-dessus."
   ]
  },
  {
   "cell_type": "code",
   "execution_count": 271,
   "metadata": {},
   "outputs": [],
   "source": [
    "def one_vs_rest_training(training_set : tuple, test_set : tuple, plot=\"none\") -> dict:\n",
    "    \"\"\"\n",
    "        This function will train a bunch of binary classifiers using one vs rest, evaluate them with test_set and returns\n",
    "        the best classifier for each class.\n",
    "        \n",
    "        @params:\n",
    "            training_set -> tuple (X, Y)\n",
    "            test_set -> tuple (X, Y)\n",
    "            plot -> str (\"none\", \"scatter\" or \"default\")\n",
    "            \n",
    "        return a dictionnary\n",
    "    \"\"\"\n",
    "    assert len(training_set) == 2\n",
    "    assert len(test_set) == 2\n",
    "    assert isinstance(plot, str)\n",
    "    \n",
    "    X_train, Y_train = training_set\n",
    "    X_test, Y_test = test_set\n",
    "    \n",
    "    best_classifiers_dict = dict()\n",
    "    \n",
    "    # transforming the labels\n",
    "    for y_train, y_test, label in one_vs_rest_labels(Y_train, Y_test):\n",
    "        \n",
    "        ################################ Creating classifiers dictionnary to compare performances ################\n",
    "        \n",
    "        classif_dict = dict()\n",
    "        classif_dict['perceptron_' + str(label)] = cl.ClassifierPerceptron(X_train.shape[1], 1e-3, max_iter=1e3)\n",
    "        classif_dict['OneStepPerceptron_' + str(label)] = cl.ClassifierOneStepPerceptron(X_train.shape[1])\n",
    "        \n",
    "        ##########################################################################################################\n",
    "        \n",
    "        classif_dict_to_plot = dict()\n",
    "        \n",
    "        print(\"Training classifiers to classify \", label)\n",
    "        \n",
    "        # Training the classifiers\n",
    "        for classifier in classif_dict.values():\n",
    "            classifier.train(X_train, y_train)\n",
    "            \n",
    "        print(\"Calculating the accuracies... \")\n",
    "            \n",
    "        # taking their accuracies and constructing another dictionnary that will serve to plot\n",
    "        for classifier_name, classifier in classif_dict.items():\n",
    "            \n",
    "            if isinstance(classifier, cl.ClassifierKNN):\n",
    "                train_acc = classifier.fast_accuracy(X_train, y_train)\n",
    "                test_acc  = classifier.fast_accuracy(X_test, y_test)\n",
    "            else:\n",
    "                train_acc = classifier.accuracy(X_train, y_train)\n",
    "                test_acc  = classifier.accuracy(X_test, y_test)\n",
    "                \n",
    "            classif_dict_to_plot[classifier_name] = (train_acc, test_acc)\n",
    "           \n",
    "        # Taking the best classifier for this label\n",
    "        best_classifier_name = max(classif_dict_to_plot.items(), key=lambda x: x[1][1])[0]\n",
    "        best_classifiers_dict[best_classifier_name] = classif_dict[best_classifier_name]\n",
    "            \n",
    "        # plotting\n",
    "        if plot is not \"none\":\n",
    "            if plot == \"scatter\":\n",
    "                compare_classifiers(classif_dict_to_plot, True)\n",
    "            else:\n",
    "                compare_classifiers(classif_dict_to_plot, False)\n",
    "                \n",
    "    return best_classifiers_dict"
   ]
  },
  {
   "cell_type": "code",
   "execution_count": 272,
   "metadata": {},
   "outputs": [],
   "source": [
    "train_set = (mnist_train_x, mnist_train_y)\n",
    "test_set  = (mnist_test_x, mnist_test_y)"
   ]
  },
  {
   "cell_type": "code",
   "execution_count": 275,
   "metadata": {},
   "outputs": [
    {
     "name": "stdout",
     "output_type": "stream",
     "text": [
      "Training classifiers to classify  0\n",
      "Calculating the accuracies... \n"
     ]
    },
    {
     "data": {
      "image/png": "[encoded data removed]",
      "text/plain": [
       "<Figure size 576x360 with 1 Axes>"
      ]
     },
     "metadata": {
      "needs_background": "light"
     },
     "output_type": "display_data"
    },
    {
     "name": "stdout",
     "output_type": "stream",
     "text": [
      "Training classifiers to classify  1\n",
      "Calculating the accuracies... \n"
     ]
    },
    {
     "data": {
      "image/png": "[encoded data removed]",
      "text/plain": [
       "<Figure size 576x360 with 1 Axes>"
      ]
     },
     "metadata": {
      "needs_background": "light"
     },
     "output_type": "display_data"
    },
    {
     "name": "stdout",
     "output_type": "stream",
     "text": [
      "Training classifiers to classify  2\n",
      "Calculating the accuracies... \n"
     ]
    },
    {
     "data": {
      "image/png": "[encoded data removed]",
      "text/plain": [
       "<Figure size 576x360 with 1 Axes>"
      ]
     },
     "metadata": {
      "needs_background": "light"
     },
     "output_type": "display_data"
    },
    {
     "name": "stdout",
     "output_type": "stream",
     "text": [
      "Training classifiers to classify  3\n",
      "Calculating the accuracies... \n"
     ]
    },
    {
     "data": {
      "image/png": "[encoded data removed]",
      "text/plain": [
       "<Figure size 576x360 with 1 Axes>"
      ]
     },
     "metadata": {
      "needs_background": "light"
     },
     "output_type": "display_data"
    },
    {
     "name": "stdout",
     "output_type": "stream",
     "text": [
      "Training classifiers to classify  4\n",
      "Calculating the accuracies... \n"
     ]
    },
    {
     "data": {
      "image/png": "[encoded data removed]",
      "text/plain": [
       "<Figure size 576x360 with 1 Axes>"
      ]
     },
     "metadata": {
      "needs_background": "light"
     },
     "output_type": "display_data"
    },
    {
     "name": "stdout",
     "output_type": "stream",
     "text": [
      "Training classifiers to classify  5\n",
      "Calculating the accuracies... \n"
     ]
    },
    {
     "data": {
      "image/png": "[encoded data removed]",
      "text/plain": [
       "<Figure size 576x360 with 1 Axes>"
      ]
     },
     "metadata": {
      "needs_background": "light"
     },
     "output_type": "display_data"
    },
    {
     "name": "stdout",
     "output_type": "stream",
     "text": [
      "Training classifiers to classify  6\n",
      "Calculating the accuracies... \n"
     ]
    },
    {
     "data": {
      "image/png": "[encoded data removed]",
      "text/plain": [
       "<Figure size 576x360 with 1 Axes>"
      ]
     },
     "metadata": {
      "needs_background": "light"
     },
     "output_type": "display_data"
    },
    {
     "name": "stdout",
     "output_type": "stream",
     "text": [
      "Training classifiers to classify  7\n",
      "Calculating the accuracies... \n"
     ]
    },
    {
     "data": {
      "image/png": "[encoded data removed]",
      "text/plain": [
       "<Figure size 576x360 with 1 Axes>"
      ]
     },
     "metadata": {
      "needs_background": "light"
     },
     "output_type": "display_data"
    },
    {
     "name": "stdout",
     "output_type": "stream",
     "text": [
      "Training classifiers to classify  8\n",
      "Calculating the accuracies... \n"
     ]
    },
    {
     "data": {
      "image/png": "[encoded data removed]",
      "text/plain": [
       "<Figure size 576x360 with 1 Axes>"
      ]
     },
     "metadata": {
      "needs_background": "light"
     },
     "output_type": "display_data"
    },
    {
     "name": "stdout",
     "output_type": "stream",
     "text": [
      "Training classifiers to classify  9\n",
      "Calculating the accuracies... \n"
     ]
    },
    {
     "data": {
      "image/png": "[encoded data removed]",
      "text/plain": [
       "<Figure size 576x360 with 1 Axes>"
      ]
     },
     "metadata": {
      "needs_background": "light"
     },
     "output_type": "display_data"
    },
    {
     "name": "stdout",
     "output_type": "stream",
     "text": [
      "CPU times: user 6min 23s, sys: 290 ms, total: 6min 23s\n",
      "Wall time: 6min 24s\n"
     ]
    }
   ],
   "source": [
    "%%time\n",
    "\n",
    "best_classifiers = one_vs_rest_training(train_set, test_set, plot=\"default\")"
   ]
  },
  {
   "cell_type": "code",
   "execution_count": 276,
   "metadata": {},
   "outputs": [
    {
     "data": {
      "text/plain": [
       "{'perceptron_0': <iads.Classifiers.ClassifierPerceptron at 0x7ff80b2d9e90>,\n",
       " 'perceptron_1': <iads.Classifiers.ClassifierPerceptron at 0x7ff80b6015d0>,\n",
       " 'perceptron_2': <iads.Classifiers.ClassifierPerceptron at 0x7ff80b394550>,\n",
       " 'perceptron_3': <iads.Classifiers.ClassifierPerceptron at 0x7ff80b5c2110>,\n",
       " 'perceptron_4': <iads.Classifiers.ClassifierPerceptron at 0x7ff80c76aed0>,\n",
       " 'perceptron_5': <iads.Classifiers.ClassifierPerceptron at 0x7ff80b577f50>,\n",
       " 'perceptron_6': <iads.Classifiers.ClassifierPerceptron at 0x7ff80c6fb090>,\n",
       " 'perceptron_7': <iads.Classifiers.ClassifierPerceptron at 0x7ff80b48d2d0>,\n",
       " 'OneStepPerceptron_8': <iads.Classifiers.ClassifierOneStepPerceptron at 0x7ff80b510dd0>,\n",
       " 'perceptron_9': <iads.Classifiers.ClassifierPerceptron at 0x7ff80b51b2d0>}"
      ]
     },
     "execution_count": 276,
     "metadata": {},
     "output_type": "execute_result"
    }
   ],
   "source": [
    "best_classifiers"
   ]
  },
  {
   "cell_type": "code",
   "execution_count": 331,
   "metadata": {},
   "outputs": [],
   "source": [
    "def one_vs_rest_predict(best_classifiers : dict, description : np.ndarray, explain=False):\n",
    "    \"\"\"\n",
    "        One vs rest classification, this function is responsible for prediction the corresponding label for description.\n",
    "        \n",
    "        We take the most confident classifier that classifies 1 and we return its corresponding label.\n",
    "    \"\"\"\n",
    "    assert isinstance(best_classifiers, dict)\n",
    "    assert isinstance(description, np.ndarray)\n",
    "    assert isinstance(explain, bool)\n",
    "    \n",
    "    scores      = [classifier.score(description) for classifier in best_classifiers.values()]\n",
    "    predictions = [classifier.predict(description) for classifier in best_classifiers.values()]\n",
    "    \n",
    "    most_confident_score = max(scores)\n",
    "    predicted_label = scores.index(most_confident_score)\n",
    "    \n",
    "    if explain:\n",
    "        plt.title(\"This is the description that you passed \")\n",
    "        plt.imshow(description.reshape(28, 28))\n",
    "        plt.figtext(0.5, 0.01, \"Predicted digit: \" + str(predicted_label), horizontalalignment='center',\\\n",
    "                    fontsize=16)\n",
    "        print(\"Score for each classifier: \")\n",
    "        \n",
    "        i = 0\n",
    "        for classifier in best_classifiers:\n",
    "            print(classifier + \" -> \" + str(scores[i]))\n",
    "            i += 1\n",
    "            \n",
    "        print(\"\\nWe take the label of the most confident classifier\")\n",
    "        print(\"Max score: \", most_confident_score)\n",
    "        print(\"Corresponds to \", list(best_classifiers.keys())[scores.index(most_confident_score)])\n",
    "        print(\"Hence predicting \", predicted_label)\n",
    "        \n",
    "        if predictions.count(1) == 0 or predictions.count(1) > 1:\n",
    "            print(\"\\n [WARNING]: This is a case where we don't know that to predict\")\n",
    "            print(\"Predict the argmax anyhow\")\n",
    "    \n",
    "    return predicted_label"
   ]
  },
  {
   "cell_type": "code",
   "execution_count": 334,
   "metadata": {},
   "outputs": [],
   "source": [
    "def one_vs_rest_accuracy(best_classifiers : dict, test_set : tuple):\n",
    "    \"\"\"\n",
    "        Calculating the accuracy using one_vs_rest approach.\n",
    "        \n",
    "    \"\"\"\n",
    "    \n",
    "    assert isinstance(best_classifiers, dict)\n",
    "    assert len(test_set) == 2\n",
    "    \n",
    "    X_test, Y_test = test_set\n",
    "    \n",
    "    predictions = [one_vs_rest_predict(best_classifiers, description, explain=False) for description in X_test]\n",
    "    \n",
    "    acc = [1 if predictions[i] == Y_test[i] else 0 for i in range(len(Y_test))]\n",
    "    \n",
    "    return float(sum(acc) / len(Y_test))"
   ]
  },
  {
   "cell_type": "code",
   "execution_count": 339,
   "metadata": {},
   "outputs": [
    {
     "data": {
      "text/plain": [
       "1.0"
      ]
     },
     "execution_count": 339,
     "metadata": {},
     "output_type": "execute_result"
    }
   ],
   "source": [
    "one_vs_rest_accuracy(best_classifiers, train_set)"
   ]
  },
  {
   "cell_type": "code",
   "execution_count": 340,
   "metadata": {},
   "outputs": [
    {
     "data": {
      "text/plain": [
       "0.801"
      ]
     },
     "execution_count": 340,
     "metadata": {},
     "output_type": "execute_result"
    }
   ],
   "source": [
    "one_vs_rest_accuracy(best_classifiers, test_set)"
   ]
  },
  {
   "cell_type": "markdown",
   "metadata": {},
   "source": [
    "## Refactoring the code"
   ]
  },
  {
   "cell_type": "markdown",
   "metadata": {},
   "source": [
    "    Dans cette partie, je vais juste combiner tous les fonctions de one-vs-rest pour creer une classe d'un classifieur multi-classes ( compose par plusieurs Perceptrons )pour simplifier le code et generer les predictions pour le fichier eval_multi"
   ]
  },
  {
   "cell_type": "code",
   "execution_count": 349,
   "metadata": {},
   "outputs": [],
   "source": [
    "class MultiClassClassifier(cl.Classifier):\n",
    "    \n",
    "    def __init__(self, input_dimension, learning_rate, max_iter=1e2):\n",
    "        \"\"\" Constructeur de Classifier\n",
    "            Argument:\n",
    "                - intput_dimension (int) : dimension de la description des exemples\n",
    "                - learning_rate :\n",
    "            Hypothèse : input_dimension > 0\n",
    "        \"\"\"\n",
    "        self.weights = np.random.normal(0, 0.5, input_dimension + 1)\n",
    "        self.w_init = self.weights\n",
    "        self.learning_rate = learning_rate\n",
    "        self.max_iter = max_iter\n",
    "        \n",
    "    def one_vs_rest_labels(self, Y_train : np.ndarray, Y_test : np.ndarray):\n",
    "        \"\"\"\n",
    "            Implementing one_vs_rest, this function transform the labels passed in Y_[train, test], each iteration \n",
    "            we choose a class to be classified transform its corresponding label to +1 and rest to -1, then returns\n",
    "            the new label set.\n",
    "\n",
    "            @params: \n",
    "                Y_train: numpy array (training labels)\n",
    "                Y_test: np.ndarray (test labels)\n",
    "\n",
    "            returns:\n",
    "                generator\n",
    "        \"\"\"\n",
    "        assert isinstance(Y_train, np.ndarray)\n",
    "        assert isinstance(Y_test, np.ndarray)\n",
    "        assert Y_train.shape == Y_test.shape\n",
    "\n",
    "        unique_train_labels = np.unique(Y_train)\n",
    "        unique_test_labels = np.unique(Y_test)\n",
    "\n",
    "        assert np.all(unique_test_labels == unique_train_labels)\n",
    "\n",
    "        # each iteration, we take a class to be recognized (trans -> +1) and the others to -1\n",
    "        for label in unique_train_labels:\n",
    "\n",
    "            # reset the labels\n",
    "            original_Y_train = np.array(Y_train)\n",
    "            original_Y_test = np.array(Y_test)\n",
    "\n",
    "            # transforming the labels\n",
    "            selected_indices = np.argwhere(original_Y_train == label)[:,0]\n",
    "            other_indices = np.argwhere(original_Y_train != label)[:,0]\n",
    "            original_Y_train[selected_indices] = 1\n",
    "            original_Y_train[other_indices] = -1\n",
    "            original_Y_train = original_Y_train.astype(int)\n",
    "\n",
    "\n",
    "            selected_indices = np.argwhere(original_Y_test == label)[:,0]\n",
    "            other_indices = np.argwhere(original_Y_test != label)[:,0]\n",
    "            original_Y_test[selected_indices] = 1\n",
    "            original_Y_test[other_indices] = -1\n",
    "            original_Y_test = original_Y_test.astype(int)\n",
    "\n",
    "            yield (original_Y_train, original_Y_test, label)\n",
    "            \n",
    "        \n",
    "    def train(self, training_set : tuple, test_set : tuple, plot=\"none\") -> dict:\n",
    "        \"\"\"\n",
    "            This function will train a bunch of binary classifiers using one vs rest, \n",
    "            evaluate them with test_set and returns the best classifier for each class.\n",
    "\n",
    "            @params:\n",
    "                training_set -> tuple (X, Y)\n",
    "                test_set -> tuple (X, Y)\n",
    "                plot -> str (\"none\", \"scatter\" or \"default\")\n",
    "\n",
    "            return a dictionnary\n",
    "        \"\"\"\n",
    "        assert len(training_set) == 2\n",
    "        assert len(test_set) == 2\n",
    "        assert isinstance(plot, str)\n",
    "\n",
    "        X_train, Y_train = training_set\n",
    "        X_test, Y_test = test_set\n",
    "\n",
    "        best_classifiers_dict = dict()\n",
    "\n",
    "        # transforming the labels\n",
    "        for y_train, y_test, label in self.one_vs_rest_labels(Y_train, Y_test):\n",
    "\n",
    "            ################################ Creating classifiers dictionnary to compare performances ################\n",
    "\n",
    "            classif_dict = dict()\n",
    "            classif_dict['perceptron_' + str(label)] = cl.ClassifierPerceptron(X_train.shape[1], 1e-3, max_iter=1e3)\n",
    "            classif_dict['OneStepPerceptron_' + str(label)] = cl.ClassifierOneStepPerceptron(X_train.shape[1])\n",
    "\n",
    "            ##########################################################################################################\n",
    "\n",
    "            classif_dict_to_plot = dict()\n",
    "\n",
    "            print(\"Training classifiers to classify \", label)\n",
    "\n",
    "            # Training the classifiers\n",
    "            for classifier in classif_dict.values():\n",
    "                classifier.train(X_train, y_train)\n",
    "\n",
    "            print(\"Calculating the accuracies... \")\n",
    "\n",
    "            # taking their accuracies and constructing another dictionnary that will serve to plot\n",
    "            for classifier_name, classifier in classif_dict.items():\n",
    "\n",
    "                if isinstance(classifier, cl.ClassifierKNN):\n",
    "                    train_acc = classifier.fast_accuracy(X_train, y_train)\n",
    "                    test_acc  = classifier.fast_accuracy(X_test, y_test)\n",
    "                else:\n",
    "                    train_acc = classifier.accuracy(X_train, y_train)\n",
    "                    test_acc  = classifier.accuracy(X_test, y_test)\n",
    "\n",
    "                classif_dict_to_plot[classifier_name] = (train_acc, test_acc)\n",
    "\n",
    "            # Taking the best classifier for this label\n",
    "            best_classifier_name = max(classif_dict_to_plot.items(), key=lambda x: x[1][1])[0]\n",
    "            best_classifiers_dict[best_classifier_name] = classif_dict[best_classifier_name]\n",
    "\n",
    "            # plotting\n",
    "            if plot is not \"none\":\n",
    "                if plot == \"scatter\":\n",
    "                    compare_classifiers(classif_dict_to_plot, True)\n",
    "                else:\n",
    "                    compare_classifiers(classif_dict_to_plot, False)\n",
    "\n",
    "            self.best_classifiers = best_classifiers_dict\n",
    "\n",
    "    def predict(self, description : np.ndarray, explain=False):\n",
    "        \"\"\"\n",
    "            One vs rest classification, this function is responsible for prediction the corresponding label for description.\n",
    "\n",
    "            We take the most confident classifier that classifies 1 and we return its corresponding label.\n",
    "        \"\"\"\n",
    "        best_classifiers = self.best_classifiers\n",
    "\n",
    "        assert isinstance(best_classifiers, dict)\n",
    "        assert isinstance(description, np.ndarray)\n",
    "        assert isinstance(explain, bool)\n",
    "\n",
    "        scores      = [classifier.score(description) for classifier in best_classifiers.values()]\n",
    "        predictions = [classifier.predict(description) for classifier in best_classifiers.values()]\n",
    "\n",
    "        most_confident_score = max(scores)\n",
    "        predicted_label = scores.index(most_confident_score)\n",
    "\n",
    "        if explain:\n",
    "            plt.title(\"This is the description that you passed \")\n",
    "            plt.imshow(description.reshape(28, 28))\n",
    "            plt.figtext(0.5, 0.01, \"Predicted digit: \" + str(predicted_label), horizontalalignment='center',\\\n",
    "                        fontsize=16)\n",
    "            print(\"Score for each classifier: \")\n",
    "\n",
    "            i = 0\n",
    "            for classifier in best_classifiers:\n",
    "                print(classifier + \" -> \" + str(scores[i]))\n",
    "                i += 1\n",
    "\n",
    "            print(\"\\nWe take the label of the most confident classifier\")\n",
    "            print(\"Max score: \", most_confident_score)\n",
    "            print(\"Corresponds to \", list(best_classifiers.keys())[scores.index(most_confident_score)])\n",
    "            print(\"Hence predicting \", predicted_label)\n",
    "\n",
    "            if predictions.count(1) == 0 or predictions.count(1) > 1:\n",
    "                print(\"\\n [WARNING]: This is a case where we don't know that to predict\")\n",
    "                print(\"Predict the argmax anyhow\")\n",
    "\n",
    "        return predicted_label\n",
    "    \n",
    "    def accuracy(self, test_set : tuple):\n",
    "        \"\"\"\n",
    "            Calculating the accuracy using one_vs_rest approach.\n",
    "\n",
    "        \"\"\"\n",
    "        best_classifiers = self.best_classifiers\n",
    "        assert isinstance(best_classifiers, dict)\n",
    "        assert len(test_set) == 2\n",
    "\n",
    "        X_test, Y_test = test_set\n",
    "\n",
    "        predictions = [one_vs_rest_predict(best_classifiers, description, explain=False) for description in X_test]\n",
    "\n",
    "        acc = [1 if predictions[i] == Y_test[i] else 0 for i in range(len(Y_test))]\n",
    "\n",
    "        return float(sum(acc) / len(Y_test))"
   ]
  },
  {
   "cell_type": "code",
   "execution_count": 353,
   "metadata": {},
   "outputs": [
    {
     "name": "stdout",
     "output_type": "stream",
     "text": [
      "Training classifiers to classify  0\n",
      "Calculating the accuracies... \n",
      "Training classifiers to classify  1\n",
      "Calculating the accuracies... \n",
      "Training classifiers to classify  2\n",
      "Calculating the accuracies... \n",
      "Training classifiers to classify  3\n",
      "Calculating the accuracies... \n",
      "Training classifiers to classify  4\n",
      "Calculating the accuracies... \n",
      "Training classifiers to classify  5\n",
      "Calculating the accuracies... \n",
      "Training classifiers to classify  6\n",
      "Calculating the accuracies... \n",
      "Training classifiers to classify  7\n",
      "Calculating the accuracies... \n",
      "Training classifiers to classify  8\n",
      "Calculating the accuracies... \n",
      "Training classifiers to classify  9\n",
      "Calculating the accuracies... \n"
     ]
    }
   ],
   "source": [
    "cl_test = MultiClassClassifier(mnist_train_x.shape[1], 1e-3)\n",
    "cl_test.train(train_set, test_set)"
   ]
  },
  {
   "cell_type": "code",
   "execution_count": 361,
   "metadata": {},
   "outputs": [],
   "source": [
    "multi_perceptron = cl_test"
   ]
  },
  {
   "cell_type": "code",
   "execution_count": 362,
   "metadata": {},
   "outputs": [
    {
     "data": {
      "text/plain": [
       "1.0"
      ]
     },
     "execution_count": 362,
     "metadata": {},
     "output_type": "execute_result"
    }
   ],
   "source": [
    "multi_perceptron.accuracy(train_set)"
   ]
  },
  {
   "cell_type": "code",
   "execution_count": 363,
   "metadata": {},
   "outputs": [
    {
     "data": {
      "text/plain": [
       "0.812"
      ]
     },
     "execution_count": 363,
     "metadata": {},
     "output_type": "execute_result"
    }
   ],
   "source": [
    "multi_perceptron.accuracy(test_set)"
   ]
  },
  {
   "cell_type": "markdown",
   "metadata": {},
   "source": [
    "## Conclusion pour la partie optionnelle"
   ]
  },
  {
   "cell_type": "markdown",
   "metadata": {},
   "source": [
    "    Comme on le voit ci-dessus, on a trainning_accuracy = 100% tandis que test accuracy est juste 81.2%, ce qui est pas mal pour un ensemble des modeles simple mais pas suffisant aussi.\n",
    "    \n",
    "    En comparant cette methode, qui utilise un classifieur pour chaque classe, avec le KNN multi-class, on trouve que ce dernier est meiux avec une test accuracy de 89.65%.\n",
    "    \n",
    "    Une de raison pour lequel le KNN est mieux, c'est que le multi-classifieur compose des perceptrons peut avoir un comportement indéfini quand tous les classifieurs prédisent -1 ou bien plus qu'un classifieur prédisent +1. Dans le dernier cas, j'ai chosit la classe du perceptron le plus confient (en terme du score). \n",
    "    \n",
    "    Pour le premier cas, on peut par exemple chosir de donner le label de la classe majoritaire, or puisque le jeu de donnee est parfaitement balance, je retourne le label qui correspond au meilleur score en tout cas.\n",
    "    \n",
    "    Voici un exemple (tous les scores sont negatifs):"
   ]
  },
  {
   "cell_type": "code",
   "execution_count": 369,
   "metadata": {},
   "outputs": [
    {
     "name": "stdout",
     "output_type": "stream",
     "text": [
      "Score for each classifier: \n",
      "perceptron_0 -> -11326.054989939883\n",
      "perceptron_1 -> -16504.046234742455\n",
      "perceptron_2 -> -18772.670662495322\n",
      "perceptron_3 -> -6232.535926959593\n",
      "perceptron_4 -> -5852.503081662743\n",
      "perceptron_5 -> -13548.6027580165\n",
      "perceptron_6 -> -8350.818548353895\n",
      "perceptron_7 -> -4388.206923305503\n",
      "OneStepPerceptron_8 -> -0.797786747824843\n",
      "perceptron_9 -> -121.48889373257498\n",
      "\n",
      "We take the label of the most confident classifier\n",
      "Max score:  -0.797786747824843\n",
      "Corresponds to  OneStepPerceptron_8\n",
      "Hence predicting  8\n",
      "\n",
      " [WARNING]: This is a case where we don't know that to predict\n",
      "Predict the argmax anyhow\n"
     ]
    },
    {
     "data": {
      "text/plain": [
       "8"
      ]
     },
     "execution_count": 369,
     "metadata": {},
     "output_type": "execute_result"
    },
    {
     "data": {
      "image/png": "[encoded data removed]",
      "text/plain": [
       "<Figure size 432x288 with 1 Axes>"
      ]
     },
     "metadata": {
      "needs_background": "light"
     },
     "output_type": "display_data"
    }
   ],
   "source": [
    "multi_perceptron.predict(mnist_test_x[1949], explain=True)"
   ]
  },
  {
   "cell_type": "code",
   "execution_count": 371,
   "metadata": {},
   "outputs": [
    {
     "name": "stdout",
     "output_type": "stream",
     "text": [
      "Constructing eval file for MultiClassClassifier classifier\n",
      "Done\n",
      "Constructing eval file for MultiClassKNN classifier\n",
      "Done\n"
     ]
    }
   ],
   "source": [
    "generate_eval_labels_multi([multi_perceptron, mnist_knn], '/home/shetsecure/dataScience/3i026/Bases_IADS_multiclasses/eval_multi.csv')"
   ]
  },
  {
   "cell_type": "code",
   "execution_count": 323,
   "metadata": {
    "scrolled": true
   },
   "outputs": [
    {
     "name": "stdout",
     "output_type": "stream",
     "text": [
      "Constructing eval file for MultiClassKNN classifier\n",
      "[Warning] you applied deskewing\n",
      "Done\n"
     ]
    }
   ],
   "source": [
    "path = '/home/shetsecure/dataScience/3i026/Bases_IADS_multiclasses/eval_multi.csv'\n",
    "generate_eval_labels_multi([mnist_knn_deskew], path, skew=True)"
   ]
  },
  {
   "cell_type": "code",
   "execution_count": 307,
   "metadata": {},
   "outputs": [
    {
     "data": {
      "text/plain": [
       "0.934"
      ]
     },
     "execution_count": 307,
     "metadata": {},
     "output_type": "execute_result"
    }
   ],
   "source": [
    "mnist_knn_deskew.fast_accuracy(mnist_test_x_deskew, mnist_test_y)"
   ]
  },
  {
   "cell_type": "code",
   "execution_count": 318,
   "metadata": {},
   "outputs": [
    {
     "data": {
      "text/plain": [
       "array([0, 0, 0, ..., 9, 9, 9])"
      ]
     },
     "execution_count": 318,
     "metadata": {},
     "output_type": "execute_result"
    }
   ],
   "source": [
    "tst = pd.read_csv('/home/shetsecure/dataScience/3i026/resultat_MultiClassKNN.csv', header=None, sep=';')\n",
    "tst.drop(columns=[0], inplace=True)\n",
    "tst.to_numpy().ravel()"
   ]
  },
  {
   "cell_type": "code",
   "execution_count": 321,
   "metadata": {},
   "outputs": [
    {
     "data": {
      "text/plain": [
       "True"
      ]
     },
     "execution_count": 321,
     "metadata": {},
     "output_type": "execute_result"
    }
   ],
   "source": [
    "np.all(mnist_knn_deskew._last_predictions == tst.to_numpy().ravel())"
   ]
  },
  {
   "cell_type": "code",
   "execution_count": 322,
   "metadata": {},
   "outputs": [
    {
     "data": {
      "text/plain": [
       "array([0, 1, 2, 3, 4, 5, 6, 7, 8, 9])"
      ]
     },
     "execution_count": 322,
     "metadata": {},
     "output_type": "execute_result"
    }
   ],
   "source": [
    "np.unique(tst.to_numpy())"
   ]
  }
 ],
 "metadata": {
  "kernelspec": {
   "display_name": "Python 3",
   "language": "python",
   "name": "python3"
  },
  "language_info": {
   "codemirror_mode": {
    "name": "ipython",
    "version": 3
   },
   "file_extension": ".py",
   "mimetype": "text/x-python",
   "name": "python",
   "nbconvert_exporter": "python",
   "pygments_lexer": "ipython3",
   "version": "3.7.6"
  }
 },
 "nbformat": 4,
 "nbformat_minor": 2
}
