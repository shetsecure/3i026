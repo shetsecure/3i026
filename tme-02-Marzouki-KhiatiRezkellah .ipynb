{
 "cells": [
  {
   "cell_type": "markdown",
   "metadata": {},
   "source": [
    "IA & Data science (LU3IN0226) -- 2019-2020\n",
    "--------\n",
    "*&copy; Equipe pédagogique: Gauvain Bourgne, Vincent Guigue, Marie-Jeanne Lesot, Christophe Marsala, Olivier Schwander.*\n"
   ]
  },
  {
   "cell_type": "markdown",
   "metadata": {},
   "source": [
    "# TD-TME02 : programmation du perceptron"
   ]
  },
  {
   "cell_type": "markdown",
   "metadata": {},
   "source": [
    "<font size=\"+1\" color=\"RED\">**[Q]**</font> **Indiquer dans la boîte ci-dessous vos noms et prénoms :**"
   ]
  },
  {
   "cell_type": "markdown",
   "metadata": {},
   "source": [
    "MARZOUKI Amine & KHIATI Rezkellah Noureddine"
   ]
  },
  {
   "cell_type": "markdown",
   "metadata": {},
   "source": [
    "<font color=\"RED\" size=\"+1\">**[Q]**</font> **Renommer ce fichier ipython**\n",
    "\n",
    "Tout en haut de cette page, cliquer sur <tt>tme-03</tt> et rajouter à la suite de <tt>tme-03</tt> les noms des membres du binômes séparés par un tiret."
   ]
  },
  {
   "cell_type": "markdown",
   "metadata": {},
   "source": [
    "<font color=\"RED\" size=\"+1\">IMPORTANT: soumission de votre fichier final</font>\n",
    "\n",
    "**Nom à donner au fichier à poster** : *tme-02-Nom1_Nom2.ipynb* \n",
    "- *Nom1* et *Nom2* : noms des membres du binôme\n",
    "- ne pas compresser ou faire une archive: il faut rendre le fichier ipython tel quel, éventuellement, si vous avez d'autres fichiers vous les rendez séparément.\n",
    "\n",
    "**Echéancier pour la soumission de votre compte-rendu:**\n",
    "- le compte-rendu d'une séance doit être remis obligatoirement <font color=\"RED\">** à la fin de la séance**</font>. C'est ce compte-rendu qui donne la note de base de la séance.\n",
    "- vous pouvez éventuellement compléter votre compte-rendu  pour obtenir des points bonus, dans ce cas, vous devez soumettre votre complément avant le début de la semaine suivante.\n",
    "\n",
    "** Sur la page Moodle de remise du travail <font color=\"RED\">ne pas oublier d'envoyer le compte rendu</font>** à la fin de la séance, la soumission de la version complémentaire post-séance se fera sur une page différente."
   ]
  },
  {
   "cell_type": "markdown",
   "metadata": {},
   "source": [
    "## Présentation ##\n",
    "\n",
    "Dans ce TME, nous allons mettre en place une \"architecture\" de code nous permettant petit à petit de tester tout au long du semestre différents modèles d'apprentissage supervisé. Dans nos séances, nous allons nous restreindre au cas binaire où les données sont étiquetées $+1$ ou $-1$.\n",
    "\n",
    "\n",
    "### Objectifs de ce TME\n",
    "\n",
    "Le travail à réaliser est le suivant :\n",
    "- continuer à apprendre à (bien) utiliser jupyter notebook\n",
    "- générer aléatoirement des datasets jouets pour expérimenter\n",
    "- se familiariser avec la classe `Classifier` et implémenter un premier classifieur simple\n",
    "- implémenter l'algorithme du perceptron de Rosenblatt\n",
    "- réaliser des expérimentations pour étudier les performances de cet algorithme"
   ]
  },
  {
   "cell_type": "markdown",
   "metadata": {},
   "source": [
    "Les imports suivants seront généralement nécessaires pour nos séances:"
   ]
  },
  {
   "cell_type": "code",
   "execution_count": 1,
   "metadata": {},
   "outputs": [],
   "source": [
    "import numpy as np\n",
    "import pandas as pd\n",
    "from datetime import datetime as dt\n",
    "import matplotlib.pyplot as plt\n",
    "from sklearn.model_selection import train_test_split\n",
    "%matplotlib inline  "
   ]
  },
  {
   "cell_type": "markdown",
   "metadata": {},
   "source": [
    "**Remarque :** La concaténation de vecteurs s'obtient à l'aide de la fonction `vstack` de numpy."
   ]
  },
  {
   "cell_type": "code",
   "execution_count": 2,
   "metadata": {},
   "outputs": [
    {
     "data": {
      "text/plain": [
       "array([[ 0.  ,  1.5 ,  4.2 ],\n",
       "       [ 1.1 ,  3.8 , 20.01],\n",
       "       [ 1.1 ,  5.3 , 24.21]])"
      ]
     },
     "execution_count": 2,
     "metadata": {},
     "output_type": "execute_result"
    }
   ],
   "source": [
    "# Exemple d'utilisation de vstack (pour plus de détails, chercher la documentation sur le web)\n",
    "\n",
    "vecteur_1 = np.array([0, 1.5, 4.2])\n",
    "vecteur_2 = np.array([1.1, 3.8, 20.01])\n",
    "\n",
    "vecteur_3 = vecteur_1 + vecteur_2\n",
    "\n",
    "np.vstack( (vecteur_1, vecteur_2, vecteur_3) )"
   ]
  },
  {
   "cell_type": "markdown",
   "metadata": {},
   "source": [
    "## Étape 1: dataset\n",
    "\n",
    "La première étape consiste à construire un ensemble de données d'apprentissage, que l'on appelle par la suite simplement *dataset*.\n",
    "\n",
    "Un dataset est un ensemble de couples $\\{(x_1,y_1),...,(x_n,y_n)\\}$. \n",
    "\n",
    "Pour nos implémentations, les $x_i$ et $y_i$ seront des tableaux qui seront stockés sous la forme de <code>ndarray</code> Numpy.\n"
   ]
  },
  {
   "cell_type": "markdown",
   "metadata": {},
   "source": [
    "### Génération de données ''Jouet''\n",
    "\n",
    "Nous allons pour l'instant nous intéresser à des datasets \"jouet\" générés selon des distributions choisies à la main. \n",
    "\n",
    "Pour pouvoir visualiser nos données, nous allons nous restreindre à des dataset en 2 dimensions pour la description (entrée $x_i$ ) et le label (sortie $y_i$). On aura donc ici: $x_i \\in \\mathbb{R}^2$ et $y_i \\in \\{-1;+1\\}$."
   ]
  },
  {
   "cell_type": "markdown",
   "metadata": {},
   "source": [
    "#### Tirage aléatoire selon une loi uniforme\n",
    "\n",
    "Commençons par un dataset dont les données sont générées par un tirage aléatoire selon une loi uniforme.\n",
    "\n",
    "Pour cela, nous utiliserons la fonction `numpy.random.uniform`:\n",
    "\n",
    "https://docs.scipy.org/doc/numpy-1.15.0/reference/generated/numpy.random.uniform.html\n",
    "\n",
    "Cette fonction renvoie :\n",
    "- soit un nombre réel obtenu par un tirage aléatoire\n",
    "- soit `ndarray` dont les dimensions ont été précisées et qui contient un ensemble de nombres réels tirés aléatoirement"
   ]
  },
  {
   "cell_type": "code",
   "execution_count": 3,
   "metadata": {},
   "outputs": [
    {
     "data": {
      "text/plain": [
       "0.4905243240747137"
      ]
     },
     "execution_count": 3,
     "metadata": {},
     "output_type": "execute_result"
    }
   ],
   "source": [
    "np.random.uniform()  # rend un réel aléatoire de l'intervalle [0.0, 1.0[ (tirage uniforme)"
   ]
  },
  {
   "cell_type": "code",
   "execution_count": 4,
   "metadata": {},
   "outputs": [
    {
     "data": {
      "text/plain": [
       "-1.7404384594713083"
      ]
     },
     "execution_count": 4,
     "metadata": {},
     "output_type": "execute_result"
    }
   ],
   "source": [
    "np.random.uniform(-7,5) # rend un réel aléatoire de l'intervalle [-7, 5[ (tirage uniforme)"
   ]
  },
  {
   "cell_type": "code",
   "execution_count": 5,
   "metadata": {},
   "outputs": [
    {
     "data": {
      "text/plain": [
       "array([[-5.69398838, -4.83437789, -4.89091369],\n",
       "       [ 4.27299944, -6.64015028, -0.03011062],\n",
       "       [-6.6155958 , -6.70630829, -5.96945352],\n",
       "       [ 3.38157998, -5.24263095,  3.32170975]])"
      ]
     },
     "execution_count": 5,
     "metadata": {},
     "output_type": "execute_result"
    }
   ],
   "source": [
    "np.random.uniform(-7,5,(4,3)) # rend un tableau de 4x3 réels aléatoires de l'intervalle [-7, 5[ (tirage uniforme)"
   ]
  },
  {
   "cell_type": "markdown",
   "metadata": {},
   "source": [
    "Pour générer aléatoirement les labels (qui sont donc des valeurs de {-1, +1}), une contrainte supplémentaire s'ajoute: on souhaite que dans le dataset, il y ait autant d'exemples de chaque classe.\n",
    "\n",
    "Ainsi, si on veut générer un ensemble de 20 labels de telle sorte qu'il y ait exactement 10 valeurs -1 et 10 valeurs +1 dans cet ensemble, la méthode la plus simple est de construire une liste en additionnant une liste de 10 valeurs -1 et une liste de 10 valeurs +1. Pour notre implémentation, cette liste doit ensuite être convertie en `ndarray`."
   ]
  },
  {
   "cell_type": "code",
   "execution_count": 6,
   "metadata": {},
   "outputs": [
    {
     "name": "stdout",
     "output_type": "stream",
     "text": [
      "type : <class 'numpy.ndarray'>\n"
     ]
    },
    {
     "data": {
      "text/plain": [
       "array([-1, -1, -1, -1, -1, -1, -1, -1, -1, -1,  1,  1,  1,  1,  1,  1,  1,\n",
       "        1,  1,  1])"
      ]
     },
     "execution_count": 6,
     "metadata": {},
     "output_type": "execute_result"
    }
   ],
   "source": [
    "Lnd = np.asarray([-1 for i in range(0,10)] + [+1 for i in range(0,10)])\n",
    "print(\"type :\", type(Lnd))\n",
    "Lnd"
   ]
  },
  {
   "cell_type": "markdown",
   "metadata": {},
   "source": [
    "Lors de la mise au point d'un programme qui utilise l'aléatoire, il est important de pouvoir travailler sur des séquences aléatoires qui soient toujours les mêmes.\n",
    "Pour cela, on doit préciser une initialisation de la séquence aléatoire, cela se fait en utilisant la commande `numpy.random.seed` :\n",
    "\n",
    "https://docs.scipy.org/doc/numpy-1.15.1/reference/generated/numpy.random.seed.html\n",
    "\n",
    "Cette fonction permet de donner une valeur (que l'on nomme la *graine* de la séquence) pour initialiser la séquence de tirages aléatoires, ainsi, avec la même valeur donnée on obtiendra toujours la même séquence de tirages aléatoires.\n",
    "\n",
    "Par exemple :"
   ]
  },
  {
   "cell_type": "code",
   "execution_count": 7,
   "metadata": {},
   "outputs": [
    {
     "data": {
      "text/plain": [
       "array([-2.50919762,  9.01428613,  4.63987884,  1.97316968, -6.87962719,\n",
       "       -6.88010959, -8.83832776,  7.32352292,  2.02230023,  4.16145156])"
      ]
     },
     "execution_count": 7,
     "metadata": {},
     "output_type": "execute_result"
    }
   ],
   "source": [
    "np.random.seed(42)\n",
    "np.random.uniform(-10,10,10)"
   ]
  },
  {
   "cell_type": "code",
   "execution_count": 8,
   "metadata": {},
   "outputs": [
    {
     "data": {
      "text/plain": [
       "array([-2.50919762,  9.01428613,  4.63987884,  1.97316968, -6.87962719,\n",
       "       -6.88010959, -8.83832776,  7.32352292,  2.02230023,  4.16145156])"
      ]
     },
     "execution_count": 8,
     "metadata": {},
     "output_type": "execute_result"
    }
   ],
   "source": [
    "np.random.seed(42)\n",
    "np.random.uniform(-10,10,10)"
   ]
  },
  {
   "cell_type": "markdown",
   "metadata": {},
   "source": [
    "<font color=\"RED\" size=\"+1\">**[Q]**</font> En utilisant la fonction précédente, créer 2 variables :\n",
    "- `data_desc` : qui est un tableau de 100 exemples de dimension 2 dont les valeurs sont tirées aléatoirement dans l'intervalle [-5,5) \n",
    "- `data_label` : qui est un tableau de 100 entiers de {-1,+1} tirés aléatoirement de façon uniformes et tel qu'il y ait autant de valeurs de chaque."
   ]
  },
  {
   "cell_type": "code",
   "execution_count": 9,
   "metadata": {},
   "outputs": [],
   "source": [
    "np.random.seed(42)   # on prend 42 comme graine\n",
    "\n",
    "# ------------------------ A COMPLETER :\n",
    "data_desc = np.random.uniform(-5, 5, (100, 2))\n",
    "possible_labels = [-1, 1]\n",
    "data_label = np.asarray([possible_labels[i] for i in np.random.randint(2, size=100)])"
   ]
  },
  {
   "cell_type": "code",
   "execution_count": 10,
   "metadata": {},
   "outputs": [
    {
     "data": {
      "text/plain": [
       "array([[-1.25459881,  4.50714306],\n",
       "       [ 2.31993942,  0.98658484],\n",
       "       [-3.4398136 , -3.4400548 ],\n",
       "       [-4.41916388,  3.66176146],\n",
       "       [ 1.01115012,  2.08072578]])"
      ]
     },
     "execution_count": 10,
     "metadata": {},
     "output_type": "execute_result"
    }
   ],
   "source": [
    "data_desc[0:5,:]"
   ]
  },
  {
   "cell_type": "code",
   "execution_count": 11,
   "metadata": {},
   "outputs": [
    {
     "data": {
      "text/plain": [
       "array([4.85650454, 4.86886937])"
      ]
     },
     "execution_count": 11,
     "metadata": {},
     "output_type": "execute_result"
    }
   ],
   "source": [
    "# maximum des valeurs par colonne:\n",
    "data_desc.max(0)"
   ]
  },
  {
   "cell_type": "code",
   "execution_count": 12,
   "metadata": {},
   "outputs": [
    {
     "data": {
      "text/plain": [
       "array([-4.94477883, -4.83412171])"
      ]
     },
     "execution_count": 12,
     "metadata": {},
     "output_type": "execute_result"
    }
   ],
   "source": [
    "# minimum des valeurs par colonne:\n",
    "data_desc.min(0)"
   ]
  },
  {
   "cell_type": "code",
   "execution_count": 13,
   "metadata": {},
   "outputs": [
    {
     "data": {
      "text/plain": [
       "array([ 1,  1, -1, -1,  1])"
      ]
     },
     "execution_count": 13,
     "metadata": {},
     "output_type": "execute_result"
    }
   ],
   "source": [
    "data_label[0:5]"
   ]
  },
  {
   "cell_type": "markdown",
   "metadata": {},
   "source": [
    "<font color=\"RED\" size=\"+1\">**[Q]**</font> Ecrire la fonction `genere_dataset` qui prend en argument le nombre de dimenstions $p$, le nombre $n$  d'exemples de chaque classe, ainsi que 2 valeurs pour les bornes inférieure et supérieure des valeurs de description, et qui renvoie un tuple dont le premier composant est un `ndarray` contenant les vecteurs de description et le deuxième composant est un `ndarray` contenant les labels correspondant (en respectant l'équirépartition des labels).\n",
    "On fera l'hypothèse que $n$ est toujours un nombre pair."
   ]
  },
  {
   "cell_type": "code",
   "execution_count": 14,
   "metadata": {},
   "outputs": [],
   "source": [
    "# ------------------------ A COMPLETER :\n",
    "def genere_dataset(p, n, val1, val2):\n",
    "    assert(isinstance(n, int) and isinstance(n, int))\n",
    "    assert(n >= 0 and p > 0)\n",
    "    assert(n%2 == 0)\n",
    "    # assert val1, val2\n",
    "    \n",
    "    data_desc = np.random.uniform(val1, val2, (n, p))\n",
    "    data_labels = np.asarray([-1 for i in range(n//2)] + [1 for i in range(n//2)])\n",
    "    \n",
    "    return data_desc, data_labels"
   ]
  },
  {
   "cell_type": "code",
   "execution_count": 15,
   "metadata": {},
   "outputs": [],
   "source": [
    "np.random.seed(42)   # on prend 42 comme graine\n",
    "\n",
    "# Génération d'un dataset de 20 exemples :\n",
    "d_desc, d_lab = genere_dataset(2,10,-5,5)"
   ]
  },
  {
   "cell_type": "code",
   "execution_count": 16,
   "metadata": {},
   "outputs": [
    {
     "data": {
      "text/plain": [
       "array([[-1.25459881,  4.50714306],\n",
       "       [ 2.31993942,  0.98658484],\n",
       "       [-3.4398136 , -3.4400548 ],\n",
       "       [-4.41916388,  3.66176146],\n",
       "       [ 1.01115012,  2.08072578]])"
      ]
     },
     "execution_count": 16,
     "metadata": {},
     "output_type": "execute_result"
    }
   ],
   "source": [
    "d_desc[0:5,:]"
   ]
  },
  {
   "cell_type": "code",
   "execution_count": 17,
   "metadata": {},
   "outputs": [
    {
     "data": {
      "text/plain": [
       "array([-1, -1, -1, -1, -1])"
      ]
     },
     "execution_count": 17,
     "metadata": {},
     "output_type": "execute_result"
    }
   ],
   "source": [
    "d_lab[0:5]"
   ]
  },
  {
   "cell_type": "markdown",
   "metadata": {},
   "source": [
    "\n",
    "Un dataset en 2 dimensions peut être affiché en utilisant les fonctions de la librairie `matplotlib` et plus précisément la fonction `matplotlib.pyplot.scatter` permettant de dessiner un nuage de points: \n",
    "\n",
    "http://matplotlib.org/api/pyplot_api.html#matplotlib.pyplot.scatter\n",
    "\n",
    "Par exemple :"
   ]
  },
  {
   "cell_type": "code",
   "execution_count": 18,
   "metadata": {},
   "outputs": [
    {
     "data": {
      "text/plain": [
       "<matplotlib.collections.PathCollection at 0x7f2a2d32f150>"
      ]
     },
     "execution_count": 18,
     "metadata": {},
     "output_type": "execute_result"
    },
    {
     "data": {
      "image/png": "[encoded data removed]",
      "text/plain": [
       "<Figure size 432x288 with 1 Axes>"
      ]
     },
     "metadata": {
      "needs_background": "light"
     },
     "output_type": "display_data"
    }
   ],
   "source": [
    "# Affichage de l'ensemble des exemples :\n",
    "plt.scatter(data_desc[:,0],data_desc[:,1],marker='o')"
   ]
  },
  {
   "cell_type": "markdown",
   "metadata": {},
   "source": [
    "Il est intéressant de  faire un affichage des points qui tient compte de la classe et utiliser des couleurs différentes pour afficher les points. Pour faire cela, il faut commencer par séparer les exemples selon leur classe : ceux de classe -1 et ceux de classes +1. On utilise pour cela la puissance des `ndarray` pour faire des sélections (slices)."
   ]
  },
  {
   "cell_type": "code",
   "execution_count": 19,
   "metadata": {},
   "outputs": [],
   "source": [
    "# Extraction des exemples de classe -1:\n",
    "data_negatifs = data_desc[np.where(data_label == -1),:][0]\n",
    "# Extraction des exemples de classe +1:\n",
    "data_positifs = data_desc[np.where(data_label == +1),:][0]"
   ]
  },
  {
   "cell_type": "markdown",
   "metadata": {},
   "source": [
    "On peut alors afficher les points en leur donnant une couleur (''marker'') différente."
   ]
  },
  {
   "cell_type": "code",
   "execution_count": 20,
   "metadata": {
    "scrolled": true
   },
   "outputs": [
    {
     "data": {
      "text/plain": [
       "<matplotlib.collections.PathCollection at 0x7f2a2d9c3b50>"
      ]
     },
     "execution_count": 20,
     "metadata": {},
     "output_type": "execute_result"
    },
    {
     "data": {
      "image/png": "[encoded data removed]",
      "text/plain": [
       "<Figure size 432x288 with 1 Axes>"
      ]
     },
     "metadata": {
      "needs_background": "light"
     },
     "output_type": "display_data"
    }
   ],
   "source": [
    "# Affichage de l'ensemble des exemples :\n",
    "plt.scatter(data_negatifs[:,0],data_negatifs[:,1],marker='o') # 'o' pour la classe -1\n",
    "plt.scatter(data_positifs[:,0],data_positifs[:,1],marker='x') # 'x' pour la classe +1"
   ]
  },
  {
   "cell_type": "markdown",
   "metadata": {},
   "source": [
    "<font color=\"RED\" size=\"+1\">**[Q]**</font> En utilisant les instructions précédentes, écrire la fonction `plot2DSet` qui, étant donné deux `ndarray`, un donnant des descriptions et l'autre les labels correspondants, affiche une représentation graphique de ce jeu de données."
   ]
  },
  {
   "cell_type": "code",
   "execution_count": 21,
   "metadata": {},
   "outputs": [],
   "source": [
    "# ------------------------ A COMPLETER :\n",
    "def plot2DSet(desc, labels):\n",
    "    data_positifs = desc[np.where(labels == 1)]\n",
    "    data_negatifs = desc[np.where(labels == -1)]\n",
    "    plt.scatter(data_negatifs[:,0],data_negatifs[:,1],marker='o') # 'o' pour la classe -1\n",
    "    plt.scatter(data_positifs[:,0],data_positifs[:,1],marker='x') # 'x' pour la classe +1"
   ]
  },
  {
   "cell_type": "code",
   "execution_count": 22,
   "metadata": {
    "scrolled": true
   },
   "outputs": [
    {
     "data": {
      "image/png": "[encoded data removed]",
      "text/plain": [
       "<Figure size 432x288 with 1 Axes>"
      ]
     },
     "metadata": {
      "needs_background": "light"
     },
     "output_type": "display_data"
    }
   ],
   "source": [
    "# si tout est ok, l'appel suivant affiche exactement la même chose que précédemment\n",
    "plot2DSet(data_desc,data_label)"
   ]
  },
  {
   "cell_type": "markdown",
   "metadata": {},
   "source": [
    "#### Tirage aléatoire selon une loi normale\n",
    "\n",
    "\n",
    "Pour obtenir un dataset plus ''réaliste'', la loi uniforme n'est pas idéale, il est préférable de générer des dataset en utilisant un tirage aléatoire selon une loi normale (ie. représentée par une gaussienne).\n",
    "\n",
    "Pour cela, nous utiliserons la fonction `numpy.random.multivariate_normal` :\n",
    "\n",
    "https://docs.scipy.org/doc/numpy-1.15.0/reference/generated/numpy.random.multivariate_normal.html?highlight=gaussian\n"
   ]
  },
  {
   "cell_type": "markdown",
   "metadata": {},
   "source": [
    "Dans ce qui suit, on considère toujours un dataset en 2 dimensions (entrée) et 1 dimension (sortie) comme précédemment.\n",
    "\n",
    "La façon de procéder avec un tel tirage est différente de celle utilisée dans le cas uniforme: \n",
    "- on commence par tirer aléatoirement tous les exemples de la classe -1\n",
    "- puis on tire aléatoirement tous les exemples de la classe +1\n",
    "- on fusionne ces 2 ensembles en les mettant bout à bout\n",
    "- le tableau des labels est donc facile à construire: d'abord les -1 puis les +1\n"
   ]
  },
  {
   "cell_type": "markdown",
   "metadata": {},
   "source": [
    "<font color=\"RED\" size=\"+1\">**[Q]**</font> Ecrire la fonction <tt>genere_dataset_gaussian</tt> qui, étant donné 5 arguments:\n",
    "- `positive_center` est le centre de la gaussienne des points positifs (vecteur de taille 2)\n",
    "- `positive_sigma` est la variance de la gaussienne des points positifs (sous forme de matrice 2*2)\n",
    "- `negative_center` est le centre de la gaussienne des points négative (vecteur de taille 2)\n",
    "- `negative_sigma` est la variance de la gaussienne des points négative (sous forme de matrice 2*2)\n",
    "- `nb_points` est le nombre de points de chaque classe à générer\n",
    "\n",
    "rend un dataset généré aléatoirement en suivant une loi normale."
   ]
  },
  {
   "cell_type": "code",
   "execution_count": 23,
   "metadata": {},
   "outputs": [],
   "source": [
    "# ------------------------ A COMPLETER :\n",
    "def genere_dataset_gaussian(positive_center, positive_sigma, negative_center, negative_sigma, nb_points):\n",
    "    negatif_pts = np.random.multivariate_normal(negative_center, negative_sigma, nb_points)\n",
    "    positif_pts = np.random.multivariate_normal(positive_center, positive_sigma, nb_points)\n",
    "    data_desc = np.concatenate((negatif_pts, positif_pts))\n",
    "    data_labels = np.asarray([-1 for i in range(nb_points)] + [1 for i in range(nb_points)])\n",
    "    \n",
    "    return data_desc, data_labels"
   ]
  },
  {
   "cell_type": "code",
   "execution_count": 24,
   "metadata": {},
   "outputs": [
    {
     "name": "stdout",
     "output_type": "stream",
     "text": [
      "Taille du dataset généré : (200, 2) exemples\n"
     ]
    },
    {
     "data": {
      "image/png": "[encoded data removed]",
      "text/plain": [
       "<Figure size 432x288 with 1 Axes>"
      ]
     },
     "metadata": {
      "needs_background": "light"
     },
     "output_type": "display_data"
    }
   ],
   "source": [
    "# Exemple d'utilisation:\n",
    "size = 100\n",
    "data_desc, data_label = genere_dataset_gaussian(np.array([1,1]),np.array([[1,0],[0,1]]),np.array([-1,-1]),np.array([[1,0],[0,1]]), size)\n",
    "\n",
    "print(\"Taille du dataset généré :\", np.shape(data_desc), \"exemples\")\n",
    "\n",
    "# Affichage :\n",
    "plot2DSet(data_desc,data_label)\n"
   ]
  },
  {
   "cell_type": "code",
   "execution_count": 25,
   "metadata": {},
   "outputs": [
    {
     "data": {
      "text/plain": [
       "400"
      ]
     },
     "execution_count": 25,
     "metadata": {},
     "output_type": "execute_result"
    }
   ],
   "source": [
    "data_desc.size"
   ]
  },
  {
   "cell_type": "markdown",
   "metadata": {},
   "source": [
    "## Étape 2: les classifieurs\n",
    "\n",
    "Un classifieur (binaire dans ce cours) permet, pour chaque point d'entrée donné, de calculer un score (qui est une valeur de $\\mathbb{R}$). Si le score est strictement négatif, la donnée est associée à la classe $-1$, sinon à la classe $+1$. \n",
    "\n",
    "\n",
    "### Représentation orientée objets\n",
    "\n",
    "Pour implémenter nos algorithmes d'apprentissage et pour représenter les données, nous allons utiliser quelques éléments de programmation orientée objet (POO) qu'autorise le langage Python. \n",
    "\n",
    "Si vous ne connaissez rien à la POO, il est fortement conseillé de lire une documentation ou suivre un tutorial sur le web (par exemple, http://apprendre-python.com/page-apprendre-programmation-orientee-objet-poo-classes-python-cours-debutants).\n"
   ]
  },
  {
   "cell_type": "markdown",
   "metadata": {},
   "source": [
    "### La classe Classifier\n",
    "\n",
    "Les classifieurs que l'on va implémenter seront définis à l'aide d'une classe qui va dériver de la classe `Classifier` suivante. Cette classe est une classe \"abstraite\", elle sera dérivée par héritage pour définir des classifieurs particuliers (knn, arbres de décision, etc.).\n",
    "\n",
    "Cette classe contient 5 méthodes:\n",
    "- `__init__`: qui permet d'initialiser les paramètres du classifieur. Les classes filles étendront cette méthode en rajoutant les paramètres qui les concernent. Le paramètre obligatoire d'un classifieur est le nombre de dimensions des données qu'il aura à traiter.\n",
    "- `train`: c'est la méthodes qui permet d'entraîner le modèle, on doit donc donner en argument le dataset qui sert à l'entraînement.\n",
    "- `score`: cette méthode est utilisée une fois le classifieur entrainé. Elle prend en argument la description d'un exemple et elle rend un score (une valeur de $\\mathbb{R}$).\n",
    "- `predict`: cette méthode, comme la précédente, s'utilise une fois le classifieur entraîné, elle donne le label (-1 ou bien +1) qui est prédit par le classifieur pour la description d'exemple donnée en argument. Généralement, cette valeur de prédiction s'obtient à partir du score: si le score est strictement négatif la prédiction vaut  $-1$, sinon elle vaut $+1$.\n",
    "- `accuracy`: comme les 2 précédentes, cette méthode s'utilise une fois le classifieur entraîné. Elle permet de calculer la qualité du classifieur sur un dataset donné, cette qualité est le taux de bonne classification du classifieur sur le dataset. C'est donc une valeur de $[0,1]$ qui s'obtient divisant le nombre d'exemples du dataset qui sont bien classés par le classifieur par le nombre total d'exemples du dataset.\n",
    "\n",
    "Les méthodes `train`, `score` et `predict` ne seront pas définies dans la classe `Classifier` mais dans les classes qui hériteront ce cette classe car ces méthodes dépendent du modèle que l'on choisira d'implémenter.\n",
    "\n",
    "Par contre, la fonction `accuracy` renvoie le pourcentage de points bien classés. Elle peut être définie dès maintenant dans cette classe `Classifier`.\n"
   ]
  },
  {
   "cell_type": "markdown",
   "metadata": {},
   "source": [
    "<font color=\"RED\" size=\"+1\">**[Q]**</font> Compléter la classe `Classifier` ci-dessous en donnant l'implémentation de la fonction `accuracy`. Penser à déjà bien examiner les méthodes existantes dans la classe (et que l'on peut utiliser avant qu'elles soient implémentées)."
   ]
  },
  {
   "cell_type": "code",
   "execution_count": 26,
   "metadata": {},
   "outputs": [],
   "source": [
    "# ------------------------ A COMPLETER :\n",
    "class Classifier:\n",
    "    \"\"\" Classe pour représenter un classifieur\n",
    "        Attention: cette classe est une classe abstraite, elle ne peut pas être\n",
    "        instanciée.\n",
    "    \"\"\"\n",
    "    \n",
    "    def __init__(self, input_dimension):\n",
    "        \"\"\" Constructeur de Classifier\n",
    "            Argument:\n",
    "                - intput_dimension (int) : dimension de la description des exemples\n",
    "            Hypothèse : input_dimension > 0\n",
    "        \"\"\"\n",
    "        raise NotImplementedError(\"Please Implement this method\")\n",
    "        \n",
    "    def train(self, desc_set, label_set):\n",
    "        \"\"\" Permet d'entrainer le modele sur l'ensemble donné\n",
    "            desc_set: ndarray avec des descriptions\n",
    "            label_set: ndarray avec les labels correspondants\n",
    "            Hypothèse: desc_set et label_set ont le même nombre de lignes\n",
    "        \"\"\"        \n",
    "        raise NotImplementedError(\"Please Implement this method\")\n",
    "    \n",
    "    def score(self,x):\n",
    "        \"\"\" rend le score de prédiction sur x (valeur réelle)\n",
    "            x: une description\n",
    "        \"\"\"\n",
    "        raise NotImplementedError(\"Please Implement this method\")\n",
    "    \n",
    "    def predict(self, x):\n",
    "        \"\"\" rend la prediction sur x (soit -1 ou soit +1)\n",
    "            x: une description\n",
    "        \"\"\"\n",
    "        raise NotImplementedError(\"Please Implement this method\")\n",
    "\n",
    "    def accuracy(self, desc_set, label_set):\n",
    "        \"\"\" Permet de calculer la qualité du système sur un dataset donné\n",
    "            desc_set: ndarray avec des descriptions\n",
    "            label_set: ndarray avec les labels correspondants\n",
    "            Hypothèse: desc_set et label_set ont le même nombre de lignes\n",
    "            \n",
    "            le nombre d'exemples du dataset qui sont bien classés par le classifieur par le nombre total d'exemples du dataset.\n",
    "        \"\"\"\n",
    "        N = len(desc_set)\n",
    "        predictions = [self.predict(x) for x in desc_set]\n",
    "        \n",
    "        acc = [1 if predictions[i] * label_set[i] > 0 else 0 for i in range(N)]\n",
    "        \n",
    "        return float(sum(acc) / N)"
   ]
  },
  {
   "cell_type": "markdown",
   "metadata": {},
   "source": [
    "### Un premier classifieur \n",
    "Nous allons maintenant définir un **classifieur linéaire aléatoire** en étendant la classe `Classifier` et en implémentant le constructeur ainsi que les 3 méthodes `predict`, `score` et `train`.\n",
    "\n",
    "Pour un classifieur linéaire aléatoire:\n",
    "- dans le constructeur, on doit générer aléatoirement un vecteur $w$ de taille `input_dimension`\n",
    "- pour ce classifieur, la méthode `train` ne fait rien. On ne mettra qu'un print permettant d'afficher le message \"Pas d'apprentissage pour ce classifieur\"\n",
    "- pour une description d'exemple $x$, la méthode `score` doit utiliser la valeur de $\\langle x | w\\rangle$ pour prédire le label (+1 ou -1) associé\n",
    "- pour une description d'exemple $x$, la méthode `predict` doit utiliser la valeur de $\\langle x | w\\rangle$ pour prédire le label (+1 ou -1) associé\n"
   ]
  },
  {
   "cell_type": "markdown",
   "metadata": {},
   "source": [
    "<font color=\"RED\" size=\"+1\">**[Q]**</font> Compléter l'implémentation suivante de la classe <code>ClassifierLineaireRandom</code> qui hérite de la classe `Classifier` et permet de définir un classifieur linéaire aléatoire."
   ]
  },
  {
   "cell_type": "code",
   "execution_count": 27,
   "metadata": {},
   "outputs": [],
   "source": [
    "# ------------------------ A COMPLETER :\n",
    "class ClassifierLineaireRandom(Classifier):\n",
    "    \"\"\" Classe pour représenter un classifieur linéaire aléatoire\n",
    "        Cette classe hérite de la classe Classifier\n",
    "    \"\"\"\n",
    "    \n",
    "    def __init__(self, input_dimension):\n",
    "        \"\"\" Constructeur de Classifier\n",
    "            Argument:\n",
    "                - intput_dimension (int) : dimension de la description des exemples\n",
    "            Hypothèse : input_dimension > 0\n",
    "        \"\"\"\n",
    "        self.weights = np.random.normal(0, 0.5, input_dimension)\n",
    "        #self.weights = np.random.randn(input_dimension)\n",
    "        \n",
    "    def train(self, desc_set, label_set):\n",
    "        \"\"\" Permet d'entrainer le modele sur l'ensemble donné\n",
    "            desc_set: ndarray avec des descriptions\n",
    "            label_set: ndarray avec les labels correspondants\n",
    "            Hypothèse: desc_set et label_set ont le même nombre de lignes\n",
    "        \"\"\"        \n",
    "        print(\"Pas d'apprentissage pour ce classifieur\")\n",
    "    \n",
    "    def score(self,x):\n",
    "        \"\"\" rend le score de prédiction sur x (valeur réelle)\n",
    "            x: une description\n",
    "        \"\"\"\n",
    "        return np.dot(x, self.weights)\n",
    "    \n",
    "    def predict(self, x):\n",
    "        \"\"\" rend la prediction sur x (soit -1 ou soit +1)\n",
    "            x: une description\n",
    "        \"\"\"\n",
    "        return 1 if self.score(x) >= 0 else -1\n",
    "    "
   ]
  },
  {
   "cell_type": "markdown",
   "metadata": {},
   "source": [
    "Utilisation de la classe ainsi créée:"
   ]
  },
  {
   "cell_type": "code",
   "execution_count": 28,
   "metadata": {},
   "outputs": [
    {
     "name": "stdout",
     "output_type": "stream",
     "text": [
      "Pas d'apprentissage pour ce classifieur\n",
      "Classification du dataset:\n",
      "\t-2.013 -0.686 : -1 ---> -1 [-1.60077]\n",
      "\t-1.908 -2.412 : -1 ---> -1 [-1.61934]\n",
      "\t+0.466 -1.226 : -1 ---> +1 [+0.29025]\n",
      "\t-0.932 -2.425 : -1 ---> -1 [-0.86344]\n",
      "\t-1.544 -0.889 : -1 ---> -1 [-1.24921]\n",
      "\t-2.151 -0.624 : -1 ---> -1 [-1.70437]\n",
      "\t-1.601 -1.292 : -1 ---> -1 [-1.31613]\n",
      "\t-1.602 +0.852 : -1 ---> -1 [-1.19295]\n",
      "\t-1.013 -2.058 : -1 ---> -1 [-0.90506]\n",
      "\t-0.177 -2.221 : -1 ---> -1 [-0.26608]\n",
      "\t-0.791 -2.960 : -1 ---> -1 [-0.78477]\n",
      "\t-2.328 -0.803 : -1 ---> -1 [-1.85214]\n",
      "\t-0.262 -0.829 : -1 ---> -1 [-0.25076]\n",
      "\t-1.116 -1.301 : -1 ---> -1 [-0.94052]\n",
      "\t-2.479 -1.720 : -1 ---> -1 [-2.02175]\n",
      "\t-1.461 +0.057 : -1 ---> -1 [-1.12953]\n",
      "\t-0.656 -2.763 : -1 ---> -1 [-0.66888]\n",
      "\t-0.676 -1.385 : -1 ---> -1 [-0.60433]\n",
      "\t-1.677 -0.388 : -1 ---> -1 [-1.32304]\n",
      "\t+0.031 -0.069 : -1 ---> +1 [+0.02007]\n",
      "\t-1.839 -1.309 : -1 ---> -1 [-1.50217]\n",
      "\t-0.669 -0.024 : -1 ---> -1 [-0.52007]\n",
      "\t-1.479 -1.186 : -1 ---> -1 [-1.21579]\n",
      "\t-2.106 -2.196 : -1 ---> -1 [-1.76065]\n",
      "\t-0.187 +0.356 : -1 ---> -1 [-0.12480]\n",
      "\t-1.072 +0.004 : -1 ---> -1 [-0.83122]\n",
      "\t-0.638 -1.645 : -1 ---> -1 [-0.59025]\n",
      "\t-0.639 +0.538 : -1 ---> -1 [-0.46417]\n",
      "\t-1.036 +0.565 : -1 ---> -1 [-0.77070]\n",
      "\t-3.620 -0.178 : -1 ---> -1 [-2.81769]\n",
      "\t-0.913 -1.299 : -1 ---> -1 [-0.78320]\n",
      "\t-0.908 -2.988 : -1 ---> -1 [-0.87720]\n",
      "\t-1.220 -0.643 : -1 ---> -1 [-0.98313]\n",
      "\t+0.478 -1.518 : -1 ---> +1 [+0.28283]\n",
      "\t-1.808 -1.502 : -1 ---> -1 [-1.48948]\n",
      "\t-0.085 -0.671 : -1 ---> -1 [-0.10444]\n",
      "\t-1.530 -0.487 : -1 ---> -1 [-1.21460]\n",
      "\t-0.903 -0.031 : -1 ---> -1 [-0.70210]\n",
      "\t-1.702 -1.328 : -1 ---> -1 [-1.39686]\n",
      "\t-1.392 -2.464 : -1 ---> -1 [-1.22217]\n",
      "\t-0.704 -0.739 : -1 ---> -1 [-0.58865]\n",
      "\t-0.995 -1.235 : -1 ---> -1 [-0.84302]\n",
      "\t-2.415 -1.421 : -1 ---> -1 [-1.95547]\n",
      "\t-1.343 -1.802 : -1 ---> -1 [-1.14562]\n",
      "\t-1.161 -0.596 : -1 ---> -1 [-0.93513]\n",
      "\t+0.886 -0.825 : -1 ---> +1 [+0.63956]\n",
      "\t-0.742 -1.074 : -1 ---> -1 [-0.63797]\n",
      "\t-2.919 -1.027 : -1 ---> -1 [-2.32310]\n",
      "\t-0.940 +1.463 : -1 ---> -1 [-0.64423]\n",
      "\t-1.192 -0.698 : -1 ---> -1 [-0.96516]\n",
      "\t-1.035 -2.169 : -1 ---> -1 [-0.92793]\n",
      "\t+0.143 -0.248 : -1 ---> +1 [+0.09642]\n",
      "\t-0.209 -1.909 : -1 ---> -1 [-0.27250]\n",
      "\t+0.403 -2.402 : -1 ---> +1 [+0.17348]\n",
      "\t-0.413 +1.190 : -1 ---> -1 [-0.25157]\n",
      "\t-1.991 -1.566 : -1 ---> -1 [-1.63440]\n",
      "\t-0.900 -1.503 : -1 ---> -1 [-0.78525]\n",
      "\t-2.551 -0.931 : -1 ---> -1 [-2.03211]\n",
      "\t-2.062 -0.526 : -1 ---> -1 [-1.62992]\n",
      "\t-1.919 +0.550 : -1 ---> -1 [-1.45685]\n",
      "\t-1.783 -1.322 : -1 ---> -1 [-1.45951]\n",
      "\t-0.186 -2.231 : -1 ---> -1 [-0.27366]\n",
      "\t-0.773 +0.307 : -1 ---> -1 [-0.58140]\n",
      "\t-2.607 -0.815 : -1 ---> -1 [-2.06946]\n",
      "\t-0.740 -0.218 : -1 ---> -1 [-0.58664]\n",
      "\t-2.237 -2.320 : -1 ---> -1 [-1.86913]\n",
      "\t-0.478 -0.703 : -1 ---> -1 [-0.41143]\n",
      "\t-0.750 -0.654 : -1 ---> -1 [-0.61910]\n",
      "\t-1.680 -0.768 : -1 ---> -1 [-1.34739]\n",
      "\t-0.707 -1.714 : -1 ---> -1 [-0.64743]\n",
      "\t+0.866 -0.526 : -1 ---> +1 [+0.64104]\n",
      "\t-2.191 -0.343 : -1 ---> -1 [-1.71939]\n",
      "\t-1.975 -0.213 : -1 ---> -1 [-1.54383]\n",
      "\t+0.159 -1.821 : -1 ---> +1 [+0.01770]\n",
      "\t-0.037 -0.587 : -1 ---> -1 [-0.06237]\n",
      "\t-0.178 +0.897 : -1 ---> -1 [-0.08614]\n",
      "\t-1.245 -1.754 : -1 ---> -1 [-1.06732]\n",
      "\t-1.890 -1.816 : -1 ---> -1 [-1.57048]\n",
      "\t-1.077 -0.659 : -1 ---> -1 [-0.87348]\n",
      "\t-0.723 -0.173 : -1 ---> -1 [-0.57098]\n",
      "\t-0.987 +0.454 : -1 ---> -1 [-0.73926]\n",
      "\t-1.265 +1.720 : -1 ---> -1 [-0.88135]\n",
      "\t-0.374 -1.857 : -1 ---> -1 [-0.39774]\n",
      "\t-2.071 -0.518 : -1 ---> -1 [-1.63607]\n",
      "\t-1.223 -0.286 : -1 ---> -1 [-0.96543]\n",
      "\t-0.527 -1.073 : -1 ---> -1 [-0.47059]\n",
      "\t-1.847 -2.515 : -1 ---> -1 [-1.57778]\n",
      "\t-1.447 -0.144 : -1 ---> -1 [-1.13019]\n",
      "\t-0.786 -2.246 : -1 ---> -1 [-0.73942]\n",
      "\t-0.827 -0.615 : -1 ---> -1 [-0.67681]\n",
      "\t-1.884 -0.846 : -1 ---> -1 [-1.51002]\n",
      "\t-0.942 -2.143 : -1 ---> -1 [-0.85437]\n",
      "\t-0.642 -0.439 : -1 ---> -1 [-0.52349]\n",
      "\t+0.083 +0.054 : -1 ---> +1 [+0.06752]\n",
      "\t-2.378 -1.938 : -1 ---> -1 [-1.95614]\n",
      "\t-0.485 -0.486 : -1 ---> -1 [-0.40425]\n",
      "\t-0.485 +2.853 : -1 ---> -1 [-0.21112]\n",
      "\t-0.429 +0.136 : -1 ---> -1 [-0.32497]\n",
      "\t-0.046 -0.349 : -1 ---> -1 [-0.05584]\n",
      "\t-1.315 -0.241 : -1 ---> -1 [-1.03403]\n",
      "\t+0.227 +0.763 : +1 ---> +1 [+0.22033]\n",
      "\t+0.515 +1.082 : +1 ---> +1 [+0.46171]\n",
      "\t+3.315 -0.867 : +1 ---> +1 [+2.52061]\n",
      "\t+1.686 -0.613 : +1 ---> +1 [+1.27239]\n",
      "\t+0.528 +2.089 : +1 ---> +1 [+0.53038]\n",
      "\t+1.064 -0.078 : +1 ---> +1 [+0.82093]\n",
      "\t+0.285 +1.680 : +1 ---> +1 [+0.31795]\n",
      "\t+0.270 +1.216 : +1 ---> +1 [+0.27948]\n",
      "\t+1.046 +0.348 : +1 ---> +1 [+0.83107]\n",
      "\t+3.144 +1.634 : +1 ---> +1 [+2.53287]\n",
      "\t-1.025 +1.186 : +1 ---> -1 [-0.72645]\n",
      "\t+0.338 +1.852 : +1 ---> +1 [+0.36945]\n",
      "\t+0.207 +0.885 : +1 ---> +1 [+0.21212]\n",
      "\t+1.505 +1.866 : +1 ---> +1 [+1.27514]\n",
      "\t-0.200 +0.665 : +1 ---> -1 [-0.11685]\n",
      "\t+0.525 +0.347 : +1 ---> +1 [+0.42727]\n",
      "\t+2.765 +1.405 : +1 ---> +1 [+2.22608]\n",
      "\t-0.261 +1.918 : +1 ---> -1 [-0.09141]\n",
      "\t+3.122 +2.032 : +1 ---> +1 [+2.53902]\n",
      "\t-0.519 +0.516 : +1 ---> -1 [-0.37298]\n",
      "\t+2.267 +0.292 : +1 ---> +1 [+1.77507]\n",
      "\t+1.444 +1.775 : +1 ---> +1 [+1.22243]\n",
      "\t+0.073 +0.940 : +1 ---> +1 [+0.11107]\n",
      "\t-2.241 -0.024 : +1 ---> -1 [-1.73968]\n",
      "\t+0.747 -0.248 : +1 ---> +1 [+0.56536]\n",
      "\t+2.632 -0.430 : +1 ---> +1 [+2.01676]\n",
      "\t+0.560 +1.131 : +1 ---> +1 [+0.49969]\n",
      "\t+2.441 -0.436 : +1 ---> +1 [+1.86818]\n",
      "\t+2.163 +1.010 : +1 ---> +1 [+1.73613]\n",
      "\t+0.018 +1.462 : +1 ---> +1 [+0.09891]\n",
      "\t+1.199 +0.400 : +1 ---> +1 [+0.95308]\n",
      "\t+1.070 +0.615 : +1 ---> +1 [+0.86526]\n",
      "\t+1.114 +1.662 : +1 ---> +1 [+0.95975]\n",
      "\t+2.586 -0.238 : +1 ---> +1 [+1.99190]\n",
      "\t+3.133 -0.952 : +1 ---> +1 [+2.37484]\n",
      "\t+0.848 +1.588 : +1 ---> +1 [+0.74972]\n",
      "\t+1.281 +0.377 : +1 ---> +1 [+1.01533]\n",
      "\t+0.792 +0.507 : +1 ---> +1 [+0.64348]\n",
      "\t+0.411 +1.850 : +1 ---> +1 [+0.42545]\n",
      "\t+1.357 +0.307 : +1 ---> +1 [+1.07023]\n",
      "\t+1.900 +1.307 : +1 ---> +1 [+1.54889]\n",
      "\t+1.813 +1.630 : +1 ---> +1 [+1.50027]\n",
      "\t+0.171 +0.440 : +1 ---> +1 [+0.15807]\n",
      "\t+1.747 +1.610 : +1 ---> +1 [+1.44830]\n",
      "\t+0.979 +1.117 : +1 ---> +1 [+0.82399]\n",
      "\t+2.278 +0.408 : +1 ---> +1 [+1.79012]\n",
      "\t+1.547 +0.798 : +1 ---> +1 [+1.24603]\n",
      "\t+0.782 +2.099 : +1 ---> +1 [+0.72814]\n",
      "\t+1.825 +1.814 : +1 ---> +1 [+1.52064]\n",
      "\t+2.305 +1.021 : +1 ---> +1 [+1.84713]\n",
      "\t+1.682 +0.690 : +1 ---> +1 [+1.34437]\n",
      "\t+1.324 +0.870 : +1 ---> +1 [+1.07730]\n",
      "\t+1.097 +1.595 : +1 ---> +1 [+0.94306]\n",
      "\t+0.182 +3.092 : +1 ---> +1 [+0.31984]\n",
      "\t-0.006 -0.214 : +1 ---> -1 [-0.01706]\n",
      "\t+2.158 +1.792 : +1 ---> +1 [+1.77740]\n",
      "\t+1.624 +1.628 : +1 ---> +1 [+1.35381]\n",
      "\t+0.988 +0.103 : +1 ---> +1 [+0.77202]\n",
      "\t+1.076 +0.323 : +1 ---> +1 [+0.85304]\n",
      "\t+1.975 +0.853 : +1 ---> +1 [+1.58119]\n",
      "\t+0.175 +0.679 : +1 ---> +1 [+0.17459]\n",
      "\t+1.413 +0.436 : +1 ---> +1 [+1.12107]\n",
      "\t+0.178 +1.244 : +1 ---> +1 [+0.20981]\n",
      "\t+1.245 +0.493 : +1 ---> +1 [+0.99408]\n",
      "\t+0.529 +1.232 : +1 ---> +1 [+0.48151]\n",
      "\t-0.448 -0.407 : +1 ---> -1 [-0.37109]\n",
      "\t+0.282 +0.787 : +1 ---> +1 [+0.26386]\n",
      "\t+1.311 +2.475 : +1 ---> +1 [+1.15988]\n",
      "\t+1.858 +0.840 : +1 ---> +1 [+1.48934]\n",
      "\t+0.981 -0.003 : +1 ---> +1 [+0.76068]\n",
      "\t+0.981 +0.711 : +1 ---> +1 [+0.80236]\n",
      "\t+1.323 +0.173 : +1 ---> +1 [+1.03586]\n",
      "\t+1.519 +2.533 : +1 ---> +1 [+1.32486]\n",
      "\t+0.891 +1.402 : +1 ---> +1 [+0.77230]\n",
      "\t+1.690 +0.599 : +1 ---> +1 [+1.34547]\n",
      "\t+1.224 +1.013 : +1 ---> +1 [+1.00794]\n",
      "\t+1.098 +0.227 : +1 ---> +1 [+0.86446]\n",
      "\t+1.025 +1.498 : +1 ---> +1 [+0.88123]\n",
      "\t+2.451 +1.959 : +1 ---> +1 [+2.01437]\n",
      "\t+3.153 +0.233 : +1 ---> +1 [+2.45899]\n",
      "\t+1.872 +1.183 : +1 ---> +1 [+1.52057]\n",
      "\t+3.190 +0.192 : +1 ---> +1 [+2.48502]\n",
      "\t+0.160 +0.401 : +1 ---> +1 [+0.14748]\n",
      "\t-1.124 +0.474 : +1 ---> -1 [-0.84424]\n",
      "\t+0.241 +1.150 : +1 ---> +1 [+0.25335]\n",
      "\t+1.342 +2.876 : +1 ---> +1 [+1.20698]\n",
      "\t+1.950 +0.423 : +1 ---> +1 [+1.53717]\n",
      "\t+0.102 +1.492 : +1 ---> +1 [+0.16508]\n",
      "\t-0.320 +2.831 : +1 ---> -1 [-0.08460]\n",
      "\t+2.179 +0.531 : +1 ---> +1 [+1.72102]\n",
      "\t-0.713 +2.354 : +1 ---> -1 [-0.41695]\n",
      "\t+0.885 +2.238 : +1 ---> +1 [+0.81617]\n",
      "\t-0.594 +0.401 : +1 ---> -1 [-0.43785]\n",
      "\t+1.005 +1.047 : +1 ---> +1 [+0.84020]\n",
      "\t+0.550 +1.623 : +1 ---> +1 [+0.52038]\n",
      "\t-0.068 +0.858 : +1 ---> -1 [-0.00284]\n",
      "\t+1.120 +1.514 : +1 ---> +1 [+0.95647]\n",
      "\t+1.712 -0.125 : +1 ---> +1 [+1.32028]\n",
      "\t-0.534 +2.278 : +1 ---> -1 [-0.28251]\n",
      "\t+1.332 +0.252 : +1 ---> +1 [+1.04786]\n",
      "Taux de bonne classification sur le dataset:  0.89\n"
     ]
    }
   ],
   "source": [
    "# Création d'un classifieur linéaire aléatoire de dimension 2:\n",
    "un_classifieur = ClassifierLineaireRandom(2)\n",
    "\n",
    "# Par définition, ce classifieur n'a pas besoin d'entraînement\n",
    "un_classifieur.train(data_desc,data_label)\n",
    "\n",
    "# Classification du dataset (contrôle de predict et score):\n",
    "print(\"Classification du dataset:\")\n",
    "for i in range(data_desc.shape[0]):\n",
    "    print(\"\\t{0:+.3f} {1:+.3f} : {2:+} ---> {3:+} [{4:+.5f}]\".format(data_desc[i,:][0], data_desc[i,:][1], \\\n",
    "                                                                  data_label[i], \\\n",
    "                                                                  un_classifieur.predict(data_desc[i,:]), \\\n",
    "                                                                  un_classifieur.score(data_desc[i,:])) )\n",
    "\n",
    "# Affichage du taux de bonne classification    \n",
    "print(\"Taux de bonne classification sur le dataset: \", un_classifieur.accuracy(data_desc,data_label))   \n"
   ]
  },
  {
   "cell_type": "markdown",
   "metadata": {},
   "source": [
    "<font color=\"RED\" size=\"+1\">**[Q]**</font> Calculer la performance (*accuracy*) d'un classifieur linéaire aléatoire sur un dataset de 100 points générés aléatoirement."
   ]
  },
  {
   "cell_type": "markdown",
   "metadata": {},
   "source": [
    "Voici une fonction qui permet de dessiner la frontière de decision d'un classifieur. La valeur `step` permet de choisir la précision du dessin."
   ]
  },
  {
   "cell_type": "code",
   "execution_count": 29,
   "metadata": {},
   "outputs": [],
   "source": [
    "def plot_frontiere(desc_set, label_set, classifier, step=30):\n",
    "    \"\"\" desc_set * label_set * Classifier * int -> NoneType\n",
    "        Remarque: le 4e argument est optionnel et donne la \"résolution\" du tracé\n",
    "        affiche la frontière de décision associée au classifieur\n",
    "    \"\"\"\n",
    "    mmax=desc_set.max(0)\n",
    "    mmin=desc_set.min(0)\n",
    "    x1grid,x2grid=np.meshgrid(np.linspace(mmin[0],mmax[0],step),np.linspace(mmin[1],mmax[1],step))\n",
    "    grid=np.hstack((x1grid.reshape(x1grid.size,1),x2grid.reshape(x2grid.size,1)))\n",
    "    \n",
    "    # calcul de la prediction pour chaque point de la grille\n",
    "    res=np.array([classifier.predict(grid[i,:]) for i in range(len(grid)) ])\n",
    "    res=res.reshape(x1grid.shape)\n",
    "    # tracer des frontieres\n",
    "    plt.contourf(x1grid,x2grid,res,colors=[\"red\",\"cyan\"],levels=[-1000,0,1000])"
   ]
  },
  {
   "cell_type": "code",
   "execution_count": 30,
   "metadata": {},
   "outputs": [
    {
     "data": {
      "image/png": "[encoded data removed]",
      "text/plain": [
       "<Figure size 432x288 with 1 Axes>"
      ]
     },
     "metadata": {
      "needs_background": "light"
     },
     "output_type": "display_data"
    }
   ],
   "source": [
    "# Affichage de la frontière de séparation des classes\n",
    "plot_frontiere(data_desc,data_label,un_classifieur)\n",
    "plot2DSet(data_desc,data_label)"
   ]
  },
  {
   "cell_type": "markdown",
   "metadata": {},
   "source": [
    "## Étape 3 : Perceptron de Rosenblatt\n",
    "\n",
    "De la même façon que nous avons défini un classifieur aléatoire, nous allons maintenant définir un autre classifieur : le perceptron de Rosenblatt."
   ]
  },
  {
   "cell_type": "markdown",
   "metadata": {},
   "source": [
    "<font color=\"RED\" size=\"+1\">**[Q]**</font> En héritant de la classe `Classifier`, écrire la classe `ClassifierPerceptron` qui implémente l'algorithme du Perceptron vu en cours.\n",
    "\n",
    "La fonction `train` fera une itération sur l'ensemble des données de l'apprentissage. Les points d'apprentissage seront tirés dans un ordre aléatoire.\n",
    "\n"
   ]
  },
  {
   "cell_type": "code",
   "execution_count": 93,
   "metadata": {},
   "outputs": [],
   "source": [
    "# ------------------------ A COMPLETER :\n",
    "class ClassifierPerceptron(Classifier):\n",
    "    \"\"\" Perceptron de Rosenblatt\n",
    "    \"\"\"\n",
    "    def __init__(self, input_dimension,learning_rate):\n",
    "        \"\"\" Constructeur de Classifier\n",
    "            Argument:\n",
    "                - intput_dimension (int) : dimension de la description des exemples\n",
    "                - learning_rate :\n",
    "            Hypothèse : input_dimension > 0\n",
    "        \"\"\"\n",
    "        #self.weights = np.random.normal(0, 0.5, input_dimension)\n",
    "        self.weights = np.zeros(input_dimension)\n",
    "        self.learning_rate = learning_rate\n",
    "        \n",
    "    def train(self, desc_set, label_set):\n",
    "        \"\"\" Permet d'entrainer le modele sur l'ensemble donné\n",
    "            desc_set: ndarray avec des descriptions\n",
    "            label_set: ndarray avec les labels correspondants\n",
    "            Hypothèse: desc_set et label_set ont le même nombre de lignes\n",
    "        \"\"\"        \n",
    "        num = len(label_set)\n",
    "        \n",
    "        for i in range(num):\n",
    "            if self.predict(desc_set[i]) * label_set[i] < 0:\n",
    "                self.weights += self.learning_rate * desc_set[i] * label_set[i]\n",
    "            \n",
    "    def score(self,x):\n",
    "        \"\"\" rend le score de prédiction sur x (valeur réelle)\n",
    "            x: une description\n",
    "        \"\"\"\n",
    "        return np.dot(x, self.weights)\n",
    "    \n",
    "    def predict(self, x):\n",
    "        \"\"\" rend la prediction sur x (soit -1 ou soit +1)\n",
    "            x: une description\n",
    "        \"\"\"\n",
    "        return 1 if self.score(x) > 0 else -1\n",
    "    \n",
    "    def set_weight(self, w):\n",
    "        self.weights = w\n"
   ]
  },
  {
   "cell_type": "markdown",
   "metadata": {},
   "source": [
    "<font color=\"RED\" size=\"+1\">**[Q]**</font> Tester le perceptron de la manière suivante:\n",
    "- Apprendre pendant N itérations\n",
    "- Afficher l'accuracy du modèle à chaque itération\n",
    "- Vérifier que l'accuracy baisse\n",
    "- Dessiner la frontière obtenue"
   ]
  },
  {
   "cell_type": "code",
   "execution_count": 63,
   "metadata": {},
   "outputs": [
    {
     "name": "stdout",
     "output_type": "stream",
     "text": [
      "0.925\n"
     ]
    },
    {
     "data": {
      "image/png": "[encoded data removed]",
      "text/plain": [
       "<Figure size 432x288 with 1 Axes>"
      ]
     },
     "metadata": {
      "needs_background": "light"
     },
     "output_type": "display_data"
    }
   ],
   "source": [
    "learning_rate = 10e-1\n",
    "input_dimension = data_desc[0].shape[0]\n",
    "perceptron = ClassifierPerceptron(data_desc[0].shape[0], learning_rate)\n",
    "\n",
    "N = 10\n",
    "\n",
    "for i in range(N):\n",
    "    perceptron.train(data_desc, data_label)\n",
    "    #print(perceptron.accuracy(data_desc, data_label))\n",
    "    \n",
    "# Affichage de la frontière de séparation des classes\n",
    "print(perceptron.accuracy(data_desc, data_label))\n",
    "plot_frontiere(data_desc,data_label,perceptron)\n",
    "plot2DSet(data_desc,data_label)"
   ]
  },
  {
   "cell_type": "code",
   "execution_count": 104,
   "metadata": {},
   "outputs": [
    {
     "data": {
      "text/plain": [
       "array([0.37195783, 0.32268804])"
      ]
     },
     "execution_count": 104,
     "metadata": {},
     "output_type": "execute_result"
    }
   ],
   "source": [
    "X = data_desc\n",
    "labels = data_label.reshape((-1, 1))\n",
    "w = np.matmul(np.matmul(np.linalg.inv(np.matmul(X.T, X)), X.T), labels) \n",
    "w"
   ]
  },
  {
   "cell_type": "code",
   "execution_count": 99,
   "metadata": {},
   "outputs": [
    {
     "name": "stdout",
     "output_type": "stream",
     "text": [
      "0.925\n"
     ]
    },
    {
     "data": {
      "image/png": "[encoded data removed]",
      "text/plain": [
       "<Figure size 432x288 with 1 Axes>"
      ]
     },
     "metadata": {
      "needs_background": "light"
     },
     "output_type": "display_data"
    }
   ],
   "source": [
    "learning_rate = 10e-1\n",
    "input_dimension = data_desc[0].shape[0]\n",
    "perceptron = ClassifierPerceptron(data_desc[0].shape[0], learning_rate)\n",
    "\n",
    "# N = 10\n",
    "\n",
    "# for i in range(N):\n",
    "#     perceptron.train(data_desc, data_label)\n",
    "#     #print(perceptron.accuracy(data_desc, data_label))\n",
    "    \n",
    "# Affichage de la frontière de séparation des classes\n",
    "perceptron.set_weight(w)\n",
    "print(perceptron.accuracy(data_desc, data_label))\n",
    "plot_frontiere(data_desc,data_label,perceptron)\n",
    "plot2DSet(data_desc,data_label)"
   ]
  },
  {
   "cell_type": "markdown",
   "metadata": {},
   "source": [
    "<font color=\"RED\" size=\"+1\">**[Q]**</font> Expérimentations\n",
    "\n",
    "- Générer deux ensembles de train et de test\n",
    "- Dessiner la courbe de performance en fonction de l'itération sur les ensembles de train et de test\n",
    "    * Que se passe-t-il en fonction du pas (epsilon) d'apprentissage ? \n",
    "    * Que se passe-t-il quand le nombre d'exemples en apprentissage est faible ? \n"
   ]
  },
  {
   "cell_type": "code",
   "execution_count": 33,
   "metadata": {},
   "outputs": [],
   "source": [
    "def generate_train_test(total, percentage_test):\n",
    "    assert(isinstance(percentage_test, float) and percentage_test > 0 and percentage_test < 1)\n",
    "    data, labels = genere_dataset_gaussian(np.array([1,1]),np.array([[1,0],[0,1]]),np.array([-1,-1]),np.array([[1,0],[0,1]]), total)\n",
    "    \n",
    "    return train_test_split(data, labels, test_size=percentage_test, random_state=42)\n",
    "\n",
    "train_data, test_data, train_label, test_label = generate_train_test(100, 0.3)"
   ]
  },
  {
   "cell_type": "code",
   "execution_count": 34,
   "metadata": {},
   "outputs": [
    {
     "data": {
      "text/plain": [
       "<matplotlib.legend.Legend at 0x7f2a2d678850>"
      ]
     },
     "execution_count": 34,
     "metadata": {},
     "output_type": "execute_result"
    },
    {
     "data": {
      "image/png": "[encoded data removed]",
      "text/plain": [
       "<Figure size 432x288 with 1 Axes>"
      ]
     },
     "metadata": {
      "needs_background": "light"
     },
     "output_type": "display_data"
    }
   ],
   "source": [
    "# N is the number of iterations \n",
    "N = 100\n",
    "iterations = np.asarray([i for i in range(1, N+1)])\n",
    "perf_train = []\n",
    "perf_test = []\n",
    "\n",
    "for i in range(N):\n",
    "    perceptron.train(train_data, train_label)\n",
    "    perf_train.append(perceptron.accuracy(train_data, train_label))\n",
    "    perf_test.append(perceptron.accuracy(test_data, test_label))\n",
    "    \n",
    "plt.plot(iterations, perf_train, label='Training performane')\n",
    "plt.plot(iterations, perf_test, label='Testing performane')\n",
    "plt.ylabel('Performane')\n",
    "plt.xlabel('Iteration')\n",
    "plt.title(\"courbe de performance en fonction de l'itération sur les ensembles de train et de test\")\n",
    "plt.legend()"
   ]
  },
  {
   "cell_type": "markdown",
   "metadata": {},
   "source": [
    "<font color=\"RED\" size=\"+1\">**[Q]**</font> **Données XOR**\n",
    "\n",
    "Ecrire la fpnction `createXOR` qui, étant donné un nombre de points $n$ et une variance $var$, permet de générer une base de données contenant:\n",
    "- deux gaussiennes centrées en (0,0) et (1,1) correspondant à $n$ exemples positifs\n",
    "- deux gaussiennes centrées en (1,0) et (0,1) correspondant à $n$ exemples négatifs\n",
    "\n",
    "Dans la suite, on appelle XOR une base de données créée par cette fonction.\n",
    "\n",
    "\n",
    "Que se passe-t-il quand on apprend un perceptron  ? Quel est le problème ? "
   ]
  },
  {
   "cell_type": "code",
   "execution_count": 35,
   "metadata": {},
   "outputs": [],
   "source": [
    "def create_XOR(nb_points,var):\n",
    "    pos_1 = np.random.multivariate_normal(np.array([0,0]), np.array([[var, 0], [0, var]]), nb_points)\n",
    "    pos_2 = np.random.multivariate_normal(np.array([1,1]), np.array([[var, 0], [0, var]]), nb_points)\n",
    "    pos = np.concatenate((pos_1, pos_2))\n",
    "    \n",
    "    neg_1 = np.random.multivariate_normal(np.array([1,0]), np.array([[var, 0], [0, var]]), nb_points)\n",
    "    neg_2 = np.random.multivariate_normal(np.array([0,1]), np.array([[var, 0], [0, var]]), nb_points)\n",
    "    neg = np.concatenate((neg_1, neg_2))\n",
    "    \n",
    "    data = np.concatenate((pos, neg))\n",
    "    labels = np.asarray([-1 for i in range(nb_points*2)] + [1 for i in range(nb_points*2)])\n",
    "    \n",
    "    return data, labels\n"
   ]
  },
  {
   "cell_type": "code",
   "execution_count": 36,
   "metadata": {},
   "outputs": [
    {
     "data": {
      "image/png": "[encoded data removed]",
      "text/plain": [
       "<Figure size 432x288 with 1 Axes>"
      ]
     },
     "metadata": {
      "needs_background": "light"
     },
     "output_type": "display_data"
    }
   ],
   "source": [
    "data_xor = create_XOR(25,0.01)\n",
    "plot2DSet(data_xor[0], data_xor[1])"
   ]
  },
  {
   "cell_type": "code",
   "execution_count": 37,
   "metadata": {},
   "outputs": [
    {
     "data": {
      "text/plain": [
       "<matplotlib.legend.Legend at 0x7f2a2d58fb90>"
      ]
     },
     "execution_count": 37,
     "metadata": {},
     "output_type": "execute_result"
    },
    {
     "data": {
      "image/png": "[encoded data removed]",
      "text/plain": [
       "<Figure size 432x288 with 1 Axes>"
      ]
     },
     "metadata": {
      "needs_background": "light"
     },
     "output_type": "display_data"
    }
   ],
   "source": [
    "learning_rate = 10e-1\n",
    "percentage_test = 0.3\n",
    "N = 100\n",
    "data = data_xor[0]\n",
    "labels = data_xor[1]\n",
    "perceptron = ClassifierPerceptron(data[0].shape[0], learning_rate)\n",
    "\n",
    "\n",
    "train_data, test_data, train_label, test_label = train_test_split(data, labels, test_size=percentage_test, random_state=42)\n",
    "\n",
    "iterations = np.asarray([i for i in range(1, N+1)])\n",
    "perf_train = []\n",
    "perf_test = []\n",
    "\n",
    "for i in range(N):\n",
    "    perceptron.train(train_data, train_label)\n",
    "    perf_train.append(perceptron.accuracy(train_data, train_label))\n",
    "    perf_test.append(perceptron.accuracy(test_data, test_label))\n",
    "    \n",
    "plt.plot(iterations, perf_train, label='Training performane')\n",
    "plt.plot(iterations, perf_test, label='Testing performane')\n",
    "plt.ylabel('Performane')\n",
    "plt.xlabel('Iteration')\n",
    "plt.title(\"courbe de performance en fonction de l'itération sur les ensembles de train et de test\")\n",
    "plt.legend()"
   ]
  },
  {
   "cell_type": "code",
   "execution_count": 38,
   "metadata": {},
   "outputs": [
    {
     "data": {
      "image/png": "[encoded data removed]",
      "text/plain": [
       "<Figure size 432x288 with 1 Axes>"
      ]
     },
     "metadata": {
      "needs_background": "light"
     },
     "output_type": "display_data"
    }
   ],
   "source": [
    "plot_frontiere(data,labels,perceptron)\n",
    "plot2DSet(data,labels)"
   ]
  },
  {
   "cell_type": "markdown",
   "metadata": {},
   "source": [
    "Kernel Trick\n",
    "--------------"
   ]
  },
  {
   "cell_type": "markdown",
   "metadata": {},
   "source": [
    "Nous allons projeter (manuellement) les données 2D dans un espace de plus grande dimension. Voici un exemple de projection qui transforme un vecteur $(x_1,x_2)$ en un vecteur $(x_1,x_2,1)$"
   ]
  },
  {
   "cell_type": "code",
   "execution_count": 39,
   "metadata": {},
   "outputs": [
    {
     "ename": "NameError",
     "evalue": "name 'the_set' is not defined",
     "output_type": "error",
     "traceback": [
      "\u001b[0;31m---------------------------------------------------------------------------\u001b[0m",
      "\u001b[0;31mNameError\u001b[0m                                 Traceback (most recent call last)",
      "\u001b[0;32m<ipython-input-39-05a3c67d565e>\u001b[0m in \u001b[0;36m<module>\u001b[0;34m()\u001b[0m\n\u001b[1;32m      5\u001b[0m \u001b[0;34m\u001b[0m\u001b[0m\n\u001b[1;32m      6\u001b[0m \u001b[0mk\u001b[0m\u001b[0;34m=\u001b[0m\u001b[0mKernelBias\u001b[0m\u001b[0;34m(\u001b[0m\u001b[0;34m)\u001b[0m\u001b[0;34m\u001b[0m\u001b[0;34m\u001b[0m\u001b[0m\n\u001b[0;32m----> 7\u001b[0;31m \u001b[0mk\u001b[0m\u001b[0;34m.\u001b[0m\u001b[0mtransform\u001b[0m\u001b[0;34m(\u001b[0m\u001b[0mthe_set\u001b[0m\u001b[0;34m.\u001b[0m\u001b[0mgetX\u001b[0m\u001b[0;34m(\u001b[0m\u001b[0;36m1\u001b[0m\u001b[0;34m)\u001b[0m\u001b[0;34m)\u001b[0m\u001b[0;34m\u001b[0m\u001b[0;34m\u001b[0m\u001b[0m\n\u001b[0m",
      "\u001b[0;31mNameError\u001b[0m: name 'the_set' is not defined"
     ]
    }
   ],
   "source": [
    "class KernelBias:\n",
    "    def transform(self,x):\n",
    "        y=np.asarray([x[0],x[1],1])\n",
    "        return y\n",
    "\n",
    "k=KernelBias()\n",
    "k.transform(the_set.getX(1))\n"
   ]
  },
  {
   "cell_type": "markdown",
   "metadata": {},
   "source": [
    "<font color=\"RED\" size=\"+1\">**[Q]**</font> Implémenter la classe `ClassifierPerceptronKernel` qui prend un Kernel en paramètre, et calcule le perceptron sur la version \"kernélisée\" des données. Tester ce perceptron sur le dataset 1 (2 gaussiennes) et le dataset XOR."
   ]
  },
  {
   "cell_type": "code",
   "execution_count": null,
   "metadata": {},
   "outputs": [],
   "source": [
    "# ------------------------ A COMPLETER :\n",
    "class ClassifierPerceptronKernel(Classifier):\n",
    "    def __init__(self, input_dimension,learning_rate):\n",
    "        \"\"\" Constructeur de Classifier\n",
    "            Argument:\n",
    "                - intput_dimension (int) : dimension de la description des exemples\n",
    "                - learning_rate :\n",
    "            Hypothèse : input_dimension > 0\n",
    "        \"\"\"\n",
    "        raise NotImplementedError(\"Please Implement this method\")\n",
    "        \n",
    "    def score(self,x):\n",
    "        \"\"\" rend le score de prédiction sur x (valeur réelle)\n",
    "            x: une description\n",
    "        \"\"\"\n",
    "        raise NotImplementedError(\"Please Implement this method\")\n",
    "    \n",
    "    def predict(self, x):\n",
    "        \"\"\" rend la prediction sur x (soit -1 ou soit +1)\n",
    "            x: une description\n",
    "        \"\"\"\n",
    "        raise NotImplementedError(\"Please Implement this method\")\n",
    "\n",
    "    def train(self, desc_set, label_set):\n",
    "        \"\"\" Permet d'entrainer le modele sur l'ensemble donné\n",
    "            desc_set: ndarray avec des descriptions\n",
    "            label_set: ndarray avec les labels correspondants\n",
    "            Hypothèse: desc_set et label_set ont le même nombre de lignes\n",
    "        \"\"\"        \n",
    "        raise NotImplementedError(\"Please Implement this method\")"
   ]
  },
  {
   "cell_type": "markdown",
   "metadata": {},
   "source": [
    "<font color=\"RED\" size=\"+1\">**[Q]**</font> Implémenter le kernel : $(x_1,x_2) \\rightarrow (1,x_1,x_2,x_1*x_1,x_2*x_2,x_1*x_2)$. Entrainer le perceptron correspondant sur le XOR. Que constatez-vous ? Donnez une explication (explication donnée en cours lors de la prochaine séance)"
   ]
  },
  {
   "cell_type": "code",
   "execution_count": null,
   "metadata": {},
   "outputs": [],
   "source": [
    "class KernelPoly:\n",
    "    def transform(self,x):\n",
    "       ##TODO\n",
    "\n",
    "N=100\n",
    "k=KernelPoly()\n",
    "perceptron_k=PerceptronKernel(6,0.001,k)\n",
    "\n",
    "##TESTER SUR XOR ET DESSINER LA FRONTIERE DE DECISION\n"
   ]
  },
  {
   "cell_type": "markdown",
   "metadata": {},
   "source": [
    "## Étape 4: protocole expérimental\n",
    "\n",
    "Attention, lorsque l'on évalue un classifieur, il est nécessaire de considérer deux ensembles distincts: un ensemble d'apprentissage et un ensemble de test. La performance doit être évaluée sur l'ensemble de test (et non pas sur l'ensemble d'apprentissage)."
   ]
  },
  {
   "cell_type": "markdown",
   "metadata": {},
   "source": [
    "<font color=\"RED\" size=\"+1\">**[Q]**</font> Donner les instructions permettant d'évaluer un classifieur KNN et comparer les résultats obtenus avec ceux obtenus par un classifieur linéaire aléatoire sur le même jeu de données."
   ]
  },
  {
   "cell_type": "code",
   "execution_count": null,
   "metadata": {},
   "outputs": [],
   "source": [
    "# ------------------------ A COMPLETER :\n"
   ]
  },
  {
   "cell_type": "markdown",
   "metadata": {},
   "source": [
    "### Différentes expérimentations\n",
    "\n",
    "<font color=\"RED\" size=\"+1\">**[Q]**</font> Comparer la performance (en train et test) de plusieurs classifieurs KNN avec différentes valeurs de k. Que pouvez vous constater ?\n",
    "Idéalement, vous tracerez la performance (accuracy) en fonction de la valeur de k.\n",
    "Essayez avec différentes configurations de gaussiennes."
   ]
  },
  {
   "cell_type": "code",
   "execution_count": null,
   "metadata": {},
   "outputs": [],
   "source": [
    "# ------------------------ A COMPLETER :\n"
   ]
  },
  {
   "cell_type": "markdown",
   "metadata": {},
   "source": [
    "Expérimentations sur des datasets réels\n",
    "-------\n",
    "\n"
   ]
  },
  {
   "cell_type": "markdown",
   "metadata": {},
   "source": [
    "## Étape 5 : données réelles UCI\n",
    "\n",
    "Plusieurs datasets sont téléchargeables depuis: http://mldata.org\n",
    "\n",
    "Voir : https://scikit-learn.org/0.19/datasets/mldata.html\n",
    "\n",
    "Voici la fonction permettant de les charger (en spécifiant leur nom). La fonction se charge de charger les données depuis le web.\n"
   ]
  },
  {
   "cell_type": "code",
   "execution_count": null,
   "metadata": {},
   "outputs": [],
   "source": [
    "from sklearn.datasets import fetch_mldata\n",
    "\n",
    "def loadFile(name):\n",
    "    data = fetch_mldata(name, data_home='.')\n",
    "    print(data.data.shape)\n",
    "    unique=np.unique(data.target)\n",
    "    for i in range(len(data.target)):\n",
    "        if (data.target[i]==unique[0]):\n",
    "            data.target[i]=1\n",
    "        else:\n",
    "            data.target[i]=-1\n",
    "            \n",
    "loadFile('breast-cancer_scale')\n",
    "#Les donnees sont dans data.data et data.target"
   ]
  },
  {
   "cell_type": "markdown",
   "metadata": {},
   "source": [
    "<font color=\"RED\" size=\"+1\">**[Q]**</font> Écrire la fonction `split` permettant de découper un labeledSet données en 2: un ensemble d'apprentissage et un ensemble de test."
   ]
  },
  {
   "cell_type": "code",
   "execution_count": null,
   "metadata": {},
   "outputs": [],
   "source": [
    "# ------------------------ A COMPLETER :\n"
   ]
  },
  {
   "cell_type": "markdown",
   "metadata": {},
   "source": [
    "<font color=\"RED\" size=\"+1\">**[Q]**</font> Tester différents k-NN , pour différentes valeurs de $k$, et tracer la courbe de performance (accuracy) pour les données d'apprentissage et les données de test."
   ]
  },
  {
   "cell_type": "markdown",
   "metadata": {
    "collapsed": true
   },
   "source": [
    "A partir de datasets trouvés sur le web, réaliser un ensemble d'expérimentations permettant de comparer les 3 classifiers (knn, perceptron de Rosenblatt et version kernélisée) que vous avez implémentés.\n",
    "\n",
    "Par exemple, vous pouvez utiliser les datasets suivants:\n",
    "- https://archive.ics.uci.edu/ml/datasets/Breast+Cancer+Coimbra\n",
    "- https://www.kaggle.com/uciml/indian-liver-patient-records\n",
    "- voir sur les données ouvertes de Paris : https://opendata.paris.fr/explore/?sort=modified\n",
    "\n",
    "Afin d'utiliser de tels jeux de données, il sera certainement nécessaire que vous réalisiez un prétraitement afin de pouvoir utiliser vos implémentations."
   ]
  },
  {
   "cell_type": "code",
   "execution_count": null,
   "metadata": {},
   "outputs": [],
   "source": []
  }
 ],
 "metadata": {
  "kernelspec": {
   "display_name": "Python 3",
   "language": "python",
   "name": "python3"
  },
  "language_info": {
   "codemirror_mode": {
    "name": "ipython",
    "version": 3
   },
   "file_extension": ".py",
   "mimetype": "text/x-python",
   "name": "python",
   "nbconvert_exporter": "python",
   "pygments_lexer": "ipython3",
   "version": "3.7.4+"
  }
 },
 "nbformat": 4,
 "nbformat_minor": 1
}
