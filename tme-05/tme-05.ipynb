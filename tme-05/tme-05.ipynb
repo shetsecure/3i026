{
 "cells": [
  {
   "cell_type": "markdown",
   "metadata": {},
   "source": [
    "IA & Data science (LU3IN0226) -- 2019-2020\n",
    "--------\n",
    "*&copy; Equipe pédagogique: Gauvain Bourgne, Vincent Guigue, Marie-Jeanne Lesot, Christophe Marsala, Olivier Schwander.*\n"
   ]
  },
  {
   "cell_type": "markdown",
   "metadata": {},
   "source": [
    "# TD-TME05: visualisation et expérimentations"
   ]
  },
  {
   "cell_type": "markdown",
   "metadata": {},
   "source": [
    "<font size=\"+1\" color=\"RED\">**[Q]**</font> **Indiquer dans la boîte ci-dessous vos noms et prénoms :**"
   ]
  },
  {
   "cell_type": "markdown",
   "metadata": {},
   "source": [
    "*MARZOUKI Amine & KHIATI Rezkellah Noureddine*"
   ]
  },
  {
   "cell_type": "markdown",
   "metadata": {},
   "source": [
    "<font color=\"RED\" size=\"+1\">**[Q]**</font> **Renommer ce fichier ipython**\n",
    "\n",
    "Tout en haut de cette page, cliquer sur <tt>tme-05</tt> et rajouter à la suite de <tt>tme-05</tt> les noms des membres du binômes séparés par un tiret.\n",
    "\n",
    "Par exemple, pour le binôme Luke Skywalker et Han Solo, le nom de fichier devient `tme-05-Skywalker-Solo`\n",
    "\n",
    "Penser à sauvegarder fréquemment le fichier en cours de travail :\n",
    "- soit en cliquant sur l'icône \"disquette\"\n",
    "- soit par la combinaison de touches [Ctrl]-S"
   ]
  },
  {
   "cell_type": "markdown",
   "metadata": {},
   "source": [
    "<font color=\"RED\" size=\"+1\">**[Q]**</font> **Mise à jour de la librairie `iads`**\n",
    "\n",
    "En premier lieu, vérifier que votre librairie `iads` est bien à jour : elle doit maintenant contenir toutes les fonctions et classes mises au point et testées dans les tme précédents. Une fois à jour, importer la librairie pour pouvoir l'utiliser dans ce notebook."
   ]
  },
  {
   "cell_type": "code",
   "execution_count": 7,
   "metadata": {},
   "outputs": [],
   "source": [
    "# Importation des librairies standards:\n",
    "import numpy as np\n",
    "import pandas as pd\n",
    "import matplotlib.pyplot as plt\n",
    "import seaborn as sns\n",
    "%matplotlib inline  \n",
    "\n",
    "# Importation de votre librairie iads:\n",
    "# La ligne suivante permet de préciser le chemin d'accès à la librairie iads\n",
    "import sys\n",
    "sys.path.append('../')   # iads doit être dans le répertoire frère du répertoire courant !\n",
    "\n",
    "# Importation de la librairie iads\n",
    "import iads as iads\n",
    "\n",
    "# importation de Classifiers\n",
    "from iads import Classifiers as cl\n",
    "\n",
    "# importation de utils\n",
    "from iads import utils as ut\n",
    "\n",
    "from itertools import chain"
   ]
  },
  {
   "cell_type": "markdown",
   "metadata": {},
   "source": [
    "### Objectifs de ce TME\n",
    "\n",
    "L'objectif de ce TME est de terminer les implémentations des algorithmes du perceptron et sa variante à noyau ainsi que les $k$ plus proches voisins, de réaliser un ensemble d'expérimentations pour les comparer, et de mettre en oeuvre des outils de visualisation."
   ]
  },
  {
   "cell_type": "markdown",
   "metadata": {},
   "source": [
    "En reprenant la fonction écrite dans les TME précédents, on commence par générer un dataset pour tester les fonctions."
   ]
  },
  {
   "cell_type": "code",
   "execution_count": 8,
   "metadata": {},
   "outputs": [
    {
     "name": "stdout",
     "output_type": "stream",
     "text": [
      "Le dataset généré avec  20 lignes de  2 colonnes.\n"
     ]
    },
    {
     "data": {
      "image/png": "[encoded data removed]",
      "text/plain": [
       "<Figure size 432x288 with 1 Axes>"
      ]
     },
     "metadata": {
      "needs_background": "light"
     },
     "output_type": "display_data"
    }
   ],
   "source": [
    "np.random.seed(42)   # supprimer cette ligne une fois la mise au point terminée\n",
    "\n",
    "# Exemple d'utilisation:\n",
    "\n",
    "data_desc, data_label = ut.genere_dataset_gaussian(np.array([1,1]),np.array([[1,0],[0,1]]), \\\n",
    "                                                   np.array([-1,-1]),np.array([[1,0],[0,1]]),\\\n",
    "                                                   10)\n",
    "\n",
    "print(\"Le dataset généré avec \", np.shape(data_desc)[0], \"lignes de \", np.shape(data_desc)[1], \"colonnes.\")\n",
    "\n",
    "# Affichage :\n",
    "ut.plot2DSet(data_desc,data_label)\n"
   ]
  },
  {
   "cell_type": "markdown",
   "metadata": {},
   "source": [
    "## Expérimentations\n",
    "\n",
    "Pour expérimenter un classifieur, il est nécessaire de posséder deux datasets distincts: \n",
    "- le dataset d'apprentissage, qui se compose donc de 2 arrays: `train_desc` et `train_labels`\n",
    "- et le dataset de test, qui se compose de 2 arrays: `test_desc` et `test_labels`. \n",
    "\n",
    "\n",
    "On commence par construire le classifieur avec le dataset d'apprentisage, puis, on évalue sa performance en 2 temps :\n",
    "- on calcule son **accuracy d'apprentissage** qui est l'accuracy obtenue sur le dataset d'apprentissage \n",
    "- on calcule son **accuracy de test** qui est l'accuracy obtenue sur le dataset de test\n",
    "\n",
    "La première valeur mesure combien le classifieur a appris les données d'apprentissage, la deuxième valeur mesure sa performance en généralisation."
   ]
  },
  {
   "cell_type": "markdown",
   "metadata": {},
   "source": [
    "### Retour sur la validation croisée (correctif)\n",
    "\n",
    "Le principe (corrigé par rapport à ce qui a été dit dans le TME 04) d'une expérimentation par validation croisée (ou *cross-validation*) est le suivant.\n",
    "\n",
    "<ol>\n",
    "    <li>Choisir un algorithme de construction de classifieur à évaluer</li>\n",
    "    <li>Générer un dataset suffisamment grand. Soit $DS$ ce dataset</li>\n",
    "    <li>Découper $DS$ en 10 datasets de taille égale tels qu'ils contiennent tous la même proportion d'exemples de chaque classe que $DS$, les exemples pour constituer chacun de ces datasets sont tirés aléatoirement parmi les exemples $DS$ par un tirage <b>sans remise</b>. On appelle $DS0$, $DS1$,..., $DS9$ ces 10 datasets.</li>\n",
    "    <li>Construire un classifieur : <font color=\"RED\">on prend $DS0$ comme <b>dataset de test</b> et on regroupe les 9 autres datasets $DS1$,...,$DS9$ pour constituer le <b>dataset d'apprentissage</b></font>. Les 9 datasets utilisés pour construire le classifieur servent à évaluer l'accuracy d'apprentissage $accA_0$ et le dataset $DS0$ sert à évaluer l'accuracy de test $accT_0$ de ce classifieur.</li>\n",
    "    <li>Construire un nouveau classifier en prenant $DS1$ comme dataset de test et les autres datasets $DS0$, $DS2$,...,$DS9$ comme dataset d'apprentissage et évaluer l'accuracy d'apprentissage $accA_1$ et l'accuracy de test $accT_1$ de ce classifieur.</li>\n",
    "    <li>etc. Chaque dataset $DSi$ sert <b>une fois comme dataset de test</b> et <b>9 fois comme dataset d'apprentissage</b></li>\n",
    "</ol>\n",
    "    \n",
    "Au final, on obtient donc 10 valeurs d'accuracy d'apprentissage et 10 valeurs d'accuracy de test, la performance globale de l'algorithme du classifieur choisi est obtenue en donnant:\n",
    "- la moyenne des accuracies de test $\\frac{1}{10}\\sum_{i=0}^{9} accT_i$\n",
    "- l'écart type des accuracies de test $accT_0$, ..., $accT_{9}$\n",
    "\n",
    "De même, la moyenne et l'écart type des accuracies d'apprentissage peut être aussi fournie.\n",
    "\n",
    "*Remarque*: ici, comme on choisit de découper $DS$ en $10$ datasets, on parle de *validation croisée en 10 paquets* (en anglais: *10-folds cross-validation*). Dans d'autres cas, on peut choisir de réaliser un découpage avec un nombre de datasets différents. On parle alors de *validation croisée en m paquets* avec $m$ un nombre entier supérieur ou égal à 2.\n"
   ]
  },
  {
   "cell_type": "markdown",
   "metadata": {},
   "source": [
    "<font color=\"RED\" size=\"+1\">**[Q]**</font> Compléter la fonction suivante qui, étant donné un classifieur $C$, un dataset $DS$ (donné sous la forme d'un tuple (descriptions, labels)) et un entier $m$, réalise une validation croisée en $m$ paquets et rend le quadruplet composé de 2 tuples: le premier tuple donne la moyenne et l'écart type d'apprentissage, le second tuple donne la moyenne et l'écart type de test.\n",
    "\n",
    "<b>Astuce:</b> ne pas dupliquer les dataset : travailler sur des listes d'indices qui sont ensuite utilisées pour faire des extractions à partir des arrays représentant le dataset."
   ]
  },
  {
   "cell_type": "code",
   "execution_count": 9,
   "metadata": {},
   "outputs": [],
   "source": [
    "def crossvalidation(C, DS, m=10):\n",
    "    \"\"\" Classifieur * tuple[array, array] * int -> tuple[tuple[float,float], tuple[float,float]]\n",
    "        Hypothèse: m>0\n",
    "        Par défaut, m vaut 10\n",
    "    \"\"\"\n",
    "    \n",
    "    \n",
    "    ############################ IMPORTANT ####################################\n",
    "    # 𝐷𝑆1 comme dataset de test et les autres datasets 𝐷𝑆0, 𝐷𝑆3,...,𝐷𝑆9 comme dataset pour apprentissage \n",
    "    # each iteration we pick 1 for testing and the others for training\n",
    "    ###########################################################################\n",
    "    \n",
    "    data_desc, data_labels = DS[0], DS[1]\n",
    "    indices = [i for i in range(len(data_desc))]\n",
    "    train_accs = []\n",
    "    test_accs = []\n",
    "    m_indices = []\n",
    "    \n",
    "    length = len(data_desc) // m\n",
    "    \n",
    "    for i in range(m): # we're not treating the case where m%len(DS) != 0 (if the rest has a size = 1, it'll kill the avg)\n",
    "        # random tirage\n",
    "        np.random.shuffle(indices)\n",
    "        \n",
    "        m_indices.append([i for i in indices[:length]])\n",
    "\n",
    "        # remove the first length indices so that we don't take the same description twice\n",
    "        for j in range(length):\n",
    "            indices.pop(0)\n",
    "    \n",
    "    for test_index in range(m):\n",
    "        # getting the training indices in each iteration\n",
    "        train_indices = list(chain.from_iterable([m_indices[i] for i in range(m) if i != test_index]))\n",
    "        \n",
    "        # append training accuracy to the training_set\n",
    "        C.train(data_desc[train_indices], data_labels[train_indices])   \n",
    "        train_accs.append(C.accuracy(data_desc[train_indices], data_labels[train_indices]))\n",
    "\n",
    "        # append test accuracy to the test_set\n",
    "        test_accs.append(C.accuracy(data_desc[m_indices[test_index]], data_labels[m_indices[test_index]]))    \n",
    "        \n",
    "    print(\"[Info debug] liste accuracies Apprentissage: \", train_accs)\n",
    "    print(\"[Info debug] liste accuracies Test         : \", test_accs)\n",
    "    train_accs = np.array(train_accs)\n",
    "    test_accs = np.array(test_accs)\n",
    "    \n",
    "    return (train_accs.mean(), train_accs.std()), (test_accs.mean(), test_accs.std())"
   ]
  },
  {
   "cell_type": "code",
   "execution_count": 10,
   "metadata": {},
   "outputs": [
    {
     "name": "stdout",
     "output_type": "stream",
     "text": [
      "[Info debug] liste accuracies Apprentissage:  [1.0, 1.0, 1.0, 1.0, 1.0, 1.0, 1.0, 1.0, 1.0, 1.0]\n",
      "[Info debug] liste accuracies Test         :  [1.0, 1.0, 1.0, 1.0, 1.0, 1.0, 0.5, 0.5, 1.0, 1.0]\n",
      "(moyenne, std) pour apprentissage : (1.0, 0.0)\n",
      "(moyenne, std) pour test          : (0.9, 0.2)\n"
     ]
    }
   ],
   "source": [
    "# Exemple d'utilisation:\n",
    "\n",
    "# Un autre exemple d'utilisation :\n",
    "knn = cl.ClassifierKNN(2,1)\n",
    "\n",
    "res_apprentissage, res_test = crossvalidation(knn, (data_desc, data_label), 10)\n",
    "\n",
    "print(\"(moyenne, std) pour apprentissage :\", res_apprentissage)\n",
    "print(\"(moyenne, std) pour test          :\", res_test)"
   ]
  },
  {
   "cell_type": "code",
   "execution_count": 11,
   "metadata": {},
   "outputs": [
    {
     "name": "stdout",
     "output_type": "stream",
     "text": [
      "Le dataset généré avec  400 lignes de  2 colonnes.\n",
      "[Info debug] liste accuracies Apprentissage:  [0.934375, 0.94375, 0.94375, 0.95, 0.9375]\n",
      "[Info debug] liste accuracies Test         :  [0.9375, 0.9125, 0.9375, 0.9, 0.925]\n",
      "(moyenne, std) pour apprentissage : (0.9418749999999999, 0.005448623679425838)\n",
      "(moyenne, std) pour test          : (0.9225, 0.01457737973711325)\n"
     ]
    },
    {
     "data": {
      "image/png": "[encoded data removed]",
      "text/plain": [
       "<Figure size 432x288 with 1 Axes>"
      ]
     },
     "metadata": {
      "needs_background": "light"
     },
     "output_type": "display_data"
    }
   ],
   "source": [
    "np.random.seed(42)   # supprimer cette ligne une fois la mise au point terminée\n",
    "\n",
    "# Un autre exemple d'utilisation:\n",
    "\n",
    "autre_desc, autre_label = ut.genere_dataset_gaussian(np.array([1,1]),np.array([[1,0],[0,1]]), \\\n",
    "                                                     np.array([-1,-1]),np.array([[1,0],[0,1]]),\\\n",
    "                                                     200)\n",
    "\n",
    "print(\"Le dataset généré avec \", np.shape(autre_desc)[0], \"lignes de \", np.shape(autre_desc)[1], \"colonnes.\")\n",
    "\n",
    "# Affichage :\n",
    "ut.plot2DSet(autre_desc,autre_label)\n",
    "\n",
    "# Classifieur :\n",
    "knn = cl.ClassifierKNN(2,3)\n",
    "\n",
    "res_apprentissage, res_test = crossvalidation(knn, (autre_desc, autre_label), 5)\n",
    "\n",
    "print(\"(moyenne, std) pour apprentissage :\", res_apprentissage)\n",
    "print(\"(moyenne, std) pour test          :\", res_test)"
   ]
  },
  {
   "cell_type": "markdown",
   "metadata": {},
   "source": [
    "Lorsqu'on compare plusieurs classifieurs, il est intéressant de mesurer leurs performances par une validation croisée, et idéalement, réalisée avec les mêmes datasets.\n",
    "\n",
    "<font color=\"RED\" size=\"+1\">**[Q]**</font> Réécrire la fonction précédente pour qu'elle prenne en argument non pas un seul classifieur, mais une liste de classifieurs et qu'elle renvoie la liste des quadruplets résultats correspondante.\n",
    "\n",
    "*Attention*: il ne s'agit pas d'écrire une fonction qui appelle la fonction précédente, **il faut la réécrire**.\n",
    "\n",
    "#### Remarque:\n",
    "pour certains classifieurs, il peut être nécessaire de réinitialiser le classifieur avant de lancer un nouvel apprentissage avec un nouveau dataset. \n",
    "\n",
    "Une façon élégante de faire cela est de définir une nouvelle méthode dans la classe `Classifier` qui permet de réinitiliser le classifieur, on appelle `reset` cette méthode qui, par défaut, ne fera rien (instruction `pass` de python).\n",
    "\n",
    "Rajouter la méthode suivante dans votre classe `Classifier` du fichier `Classifier.py`:\n",
    "\n",
    "    def reset(self):\n",
    "        \"\"\" réinitialise le classifieur si nécessaire avant un nouvel apprentissage\n",
    "        \"\"\"\n",
    "        # en général, cette méthode ne fait rien :\n",
    "        pass\n",
    "        # dans le cas contraire, on la redéfinit dans le classifier concerné\n",
    "        \n",
    "Cette méthode est appelable par toute instance d'une classe héritant de `Classifier`.\n",
    "\n",
    "Des classifieurs que l'on a implémentés jusqu'à présent, seul le `ClassifierPerceptron` est concerné par une réinitialisation:\n",
    "- le vecteur de poids initiaux `self.w` est tiré aléatoirement à la création du classifieur. Le mieux est donc de générer ce vecteur dans le constructeur du perceptron. Afin de pouvoir retrouver les valeurs initiales de ce vecteur, il faut donc aussi, dans le constructeur, initialiser une autre variable de la classe que l'on peut appeler `self.w_init` et qui sauvegarde donc ces valeurs initiales de `self.w`;\n",
    "- dans la méthode `reset` que l'on redéfinie dans le perceptron, on remet dans `self.w` les valeurs contenues dans `self.w_init`:\n",
    "\n",
    "        def reset(self):\n",
    "            \"\"\" réinitialise le classifieur si nécessaire avant un nouvel apprentissage\n",
    "            \"\"\"\n",
    "            # les poids sont remis à leur valeurs initiales:\n",
    "            self.w = self.w_init\n",
    "\n",
    "\n",
    "Avant de réécrire la méthode `crossvalidation`, modifier les classes du fichier `Classifiers.py` afin de prendre en compte cette modification.\n",
    "\n",
    "\n",
    "#### Pour être complet:\n",
    "Rajouter dans chaque classe de la hiérarchie `Classifier` une méthode `toString` pour obtenir, sous forme de chaîne de caractère, les informations sur le classifieur, cette méthode est spécifiée par:\n",
    "\n",
    "        def toString(self):\n",
    "            \"\"\"  -> str\n",
    "                rend le nom du classifieur avec ses paramètres\n",
    "            \"\"\"\n"
   ]
  },
  {
   "cell_type": "code",
   "execution_count": 12,
   "metadata": {},
   "outputs": [],
   "source": [
    "def crossvalidation(LC, DS, m, debug=True):\n",
    "    \"\"\" List[Classifieur] * tuple[array, array] * int ->  List[tuple[tuple[float,float], tuple[float,float]]]\n",
    "        Hypothèse: m>0\n",
    "        Par défaut, m vaut 10\n",
    "    \"\"\"\n",
    "    \n",
    "    data_desc, data_labels = DS[0], DS[1]\n",
    "    indices = [i for i in range(len(data_desc))]\n",
    "    train_accs = []\n",
    "    test_accs = []\n",
    "    m_indices = []\n",
    "    length = len(data_desc) // m\n",
    "    \n",
    "    for i in range(len(LC)):\n",
    "        train_accs.append([])\n",
    "        test_accs.append([])\n",
    "    \n",
    "        \n",
    "    for i in range(m): # we're not treating the case where m%len(DS) != 0 (if the rest has a size = 1, it'll kill the avg)\n",
    "        # random tirage\n",
    "        np.random.shuffle(indices)\n",
    "        \n",
    "        m_indices.append([i for i in indices[:length]])\n",
    "\n",
    "        # remove the first length indices so that we don't take the same description twice\n",
    "        for j in range(length):\n",
    "            indices.pop(0)\n",
    "            \n",
    "    # take one for training, the others for testing\n",
    "    for test_index in range(m):\n",
    "        # getting the training indices in each iteration\n",
    "        train_indices = list(chain.from_iterable([m_indices[i] for i in range(m) if i != test_index])) \n",
    "        \n",
    "        for i in range(len(LC)):\n",
    "            LC[i].train(data_desc[train_indices], data_labels[train_indices])\n",
    "\n",
    "            # append training accuracy to the training_set\n",
    "            train_accs[i].append(LC[i].accuracy(data_desc[train_indices], data_labels[train_indices]))\n",
    "\n",
    "            # append test accuracy to the test_set\n",
    "            test_accs[i].append(LC[i].accuracy(data_desc[m_indices[test_index]], data_labels[m_indices[test_index]]))    \n",
    "    \n",
    "    if debug:\n",
    "        print(\"Il y a \", len(LC), \"classifieurs à comparer.\")\n",
    "        for i in range(len(LC)):\n",
    "            print(\"[Info debug] Classifieur   \", i)\n",
    "            print(\"[Info debug] liste accuracies Apprentissage: \", train_accs[i])\n",
    "            print(\"[Info debug] liste accuracies Test         : \", test_accs[i])\n",
    "            print()\n",
    "\n",
    "    for i in range(len(LC)):\n",
    "        train_accs[i] = np.array(train_accs[i])\n",
    "        test_accs[i] = np.array(test_accs[i])\n",
    "    \n",
    "    returned_values = [((tr.mean(), tr.std()), (ts.mean(), ts.std())) for tr, ts in zip(train_accs, test_accs)]\n",
    "    \n",
    "    return returned_values"
   ]
  },
  {
   "cell_type": "code",
   "execution_count": 7,
   "metadata": {},
   "outputs": [
    {
     "name": "stdout",
     "output_type": "stream",
     "text": [
      "\n",
      "[Info debug] Classifieur  0\n",
      "[Info debug] liste accuracies Apprentissage:  [1.0, 1.0, 1.0, 1.0, 1.0, 1.0, 1.0, 1.0, 1.0, 1.0]\n",
      "[Info debug] liste accuracies Test         :  [0.85, 0.9, 0.85, 0.925, 0.9, 0.825, 0.875, 0.925, 0.85, 0.85]\n",
      "\n",
      "[Info debug] Classifieur  1\n",
      "[Info debug] liste accuracies Apprentissage:  [0.9416666666666667, 0.9416666666666667, 0.9333333333333333, 0.9444444444444444, 0.9416666666666667, 0.95, 0.9472222222222222, 0.9333333333333333, 0.9361111111111111, 0.9416666666666667]\n",
      "[Info debug] liste accuracies Test         :  [0.925, 0.925, 0.95, 0.9, 0.9, 0.85, 0.875, 1.0, 0.925, 0.925]\n",
      "\n",
      "[Info debug] Classifieur  2\n",
      "[Info debug] liste accuracies Apprentissage:  [0.9166666666666666, 0.9111111111111111, 0.9138888888888889, 0.9138888888888889, 0.9138888888888889, 0.9166666666666666, 0.9166666666666666, 0.9055555555555556, 0.9083333333333333, 0.9138888888888889]\n",
      "[Info debug] liste accuracies Test         :  [0.875, 0.925, 0.9, 0.9, 0.9, 0.85, 0.9, 0.975, 0.925, 0.95]\n",
      "\n",
      "*****\n",
      "Affichage des résultats:\n",
      "Classifieur  ClassifierKNN [2] k=1\n",
      "\t(moyenne, std) pour apprentissage : (1.0, 0.0)\n",
      "\t(moyenne, std) pour test          : (0.875, 0.033541019662496875)\n",
      "Classifieur  ClassifierKNN [2] k=3\n",
      "\t(moyenne, std) pour apprentissage : (0.9411111111111111, 0.005241100628920317)\n",
      "\t(moyenne, std) pour test          : (0.9175000000000001, 0.03881043674065006)\n",
      "Classifieur  ClassifierPerceptron [2] rate=0.01 et w=[0.3379544  0.27966031]\n",
      "\t(moyenne, std) pour apprentissage : (0.9130555555555556, 0.0035246048723470763)\n",
      "\t(moyenne, std) pour test          : (0.9099999999999999, 0.033911649915626334)\n"
     ]
    }
   ],
   "source": [
    "# Exemple d'utilisation:\n",
    "\n",
    "# Un autre exemple d'utilisation :\n",
    "Liste_Classifiers = []\n",
    "Liste_Classifiers.append(cl.ClassifierKNN(2,1))\n",
    "Liste_Classifiers.append(cl.ClassifierKNN(2,3))\n",
    "\n",
    "Liste_Classifiers.append(cl.ClassifierPerceptron(2,0.01))\n",
    "\n",
    "Resultats = crossvalidation(Liste_Classifiers, (autre_desc, autre_label), 10)\n",
    "\n",
    "print(\"\\n*****\\nAffichage des résultats:\")\n",
    "for k in range(0,len(Resultats)):\n",
    "    print(\"Classifieur \", Liste_Classifiers[k].toString())\n",
    "    print(\"\\t(moyenne, std) pour apprentissage :\", Resultats[k][0])\n",
    "    print(\"\\t(moyenne, std) pour test          :\", Resultats[k][1])\n"
   ]
  },
  {
   "cell_type": "markdown",
   "metadata": {},
   "source": [
    "<font color=\"RED\" size=\"+1\">**[Q]**</font> A l'aide d'une validation croisée en 10 paquets réalisée sur un dataset généré aléatoirement, donner les performances (accuracy moyenne et écart type) de tous les classifieurs implémentés depuis le TME 2."
   ]
  },
  {
   "cell_type": "code",
   "execution_count": null,
   "metadata": {},
   "outputs": [],
   "source": [
    "# ------------------------ A COMPLETER :\n"
   ]
  },
  {
   "cell_type": "markdown",
   "metadata": {},
   "source": [
    "### Expérimentations de  classifieurs sur des données réelles\n",
    "\n",
    "Téléchargez des données réelles (voir les TME précédents) et réalisez un ensemble d'expérimentations permettant de comparer les classifieurs que vous avez implémentés depuis le TME 2. \n",
    "Comparez-les en termes d'accuracy, de temps d'exécution,...\n",
    "Attention, il est donc nécessaire dans cette partie d'inclure des boîtes de code python pour faire les tests mais aussi des boîtes de texte, pour expliquer l'objectif des expériences, ainsi que d'autres boîtes pour commenter les résultats obtenus."
   ]
  },
  {
   "cell_type": "markdown",
   "metadata": {},
   "source": [
    "## Visualisation des données\n",
    "\n",
    "Lorsque les données sur lesquelles on travaille possèdent plus de 2 dimensions, il n'est pas facile de les visualiser simplement comme on a pu le faire dans les séances précédentes en utilisant un plot.\n",
    "\n",
    "Une façon de mieux visualiser ces données peut être d'utiliser les outils d'un package de visualisation.\n",
    "\n",
    "Le package <code>seaborn</code> est très pratique (vous pouvez consulter la documentation sur le web) et généralement installé dans l'environnement Python."
   ]
  },
  {
   "cell_type": "code",
   "execution_count": 8,
   "metadata": {},
   "outputs": [],
   "source": [
    "# Importation du package seaborn:\n",
    "import seaborn as sns"
   ]
  },
  {
   "cell_type": "markdown",
   "metadata": {},
   "source": [
    "Pour travailler avec `seaborn`, on a besoin de mettre le dataset dans un `DataFrame` pandas :"
   ]
  },
  {
   "cell_type": "code",
   "execution_count": 9,
   "metadata": {},
   "outputs": [
    {
     "data": {
      "text/html": [
       "<div>\n",
       "<style scoped>\n",
       "    .dataframe tbody tr th:only-of-type {\n",
       "        vertical-align: middle;\n",
       "    }\n",
       "\n",
       "    .dataframe tbody tr th {\n",
       "        vertical-align: top;\n",
       "    }\n",
       "\n",
       "    .dataframe thead th {\n",
       "        text-align: right;\n",
       "    }\n",
       "</style>\n",
       "<table border=\"1\" class=\"dataframe\">\n",
       "  <thead>\n",
       "    <tr style=\"text-align: right;\">\n",
       "      <th></th>\n",
       "      <th>X</th>\n",
       "      <th>Y</th>\n",
       "      <th>label</th>\n",
       "    </tr>\n",
       "  </thead>\n",
       "  <tbody>\n",
       "    <tr>\n",
       "      <th>0</th>\n",
       "      <td>-0.503286</td>\n",
       "      <td>-1.138264</td>\n",
       "      <td>-1</td>\n",
       "    </tr>\n",
       "    <tr>\n",
       "      <th>1</th>\n",
       "      <td>-0.352311</td>\n",
       "      <td>0.523030</td>\n",
       "      <td>-1</td>\n",
       "    </tr>\n",
       "    <tr>\n",
       "      <th>2</th>\n",
       "      <td>-1.234153</td>\n",
       "      <td>-1.234137</td>\n",
       "      <td>-1</td>\n",
       "    </tr>\n",
       "    <tr>\n",
       "      <th>3</th>\n",
       "      <td>0.579213</td>\n",
       "      <td>-0.232565</td>\n",
       "      <td>-1</td>\n",
       "    </tr>\n",
       "    <tr>\n",
       "      <th>4</th>\n",
       "      <td>-1.469474</td>\n",
       "      <td>-0.457440</td>\n",
       "      <td>-1</td>\n",
       "    </tr>\n",
       "    <tr>\n",
       "      <th>...</th>\n",
       "      <td>...</td>\n",
       "      <td>...</td>\n",
       "      <td>...</td>\n",
       "    </tr>\n",
       "    <tr>\n",
       "      <th>395</th>\n",
       "      <td>1.429618</td>\n",
       "      <td>1.207688</td>\n",
       "      <td>1</td>\n",
       "    </tr>\n",
       "    <tr>\n",
       "      <th>396</th>\n",
       "      <td>1.271579</td>\n",
       "      <td>-0.276749</td>\n",
       "      <td>1</td>\n",
       "    </tr>\n",
       "    <tr>\n",
       "      <th>397</th>\n",
       "      <td>-0.081057</td>\n",
       "      <td>2.053153</td>\n",
       "      <td>1</td>\n",
       "    </tr>\n",
       "    <tr>\n",
       "      <th>398</th>\n",
       "      <td>0.960445</td>\n",
       "      <td>1.681501</td>\n",
       "      <td>1</td>\n",
       "    </tr>\n",
       "    <tr>\n",
       "      <th>399</th>\n",
       "      <td>1.028318</td>\n",
       "      <td>1.029756</td>\n",
       "      <td>1</td>\n",
       "    </tr>\n",
       "  </tbody>\n",
       "</table>\n",
       "<p>400 rows × 3 columns</p>\n",
       "</div>"
      ],
      "text/plain": [
       "            X         Y  label\n",
       "0   -0.503286 -1.138264     -1\n",
       "1   -0.352311  0.523030     -1\n",
       "2   -1.234153 -1.234137     -1\n",
       "3    0.579213 -0.232565     -1\n",
       "4   -1.469474 -0.457440     -1\n",
       "..        ...       ...    ...\n",
       "395  1.429618  1.207688      1\n",
       "396  1.271579 -0.276749      1\n",
       "397 -0.081057  2.053153      1\n",
       "398  0.960445  1.681501      1\n",
       "399  1.028318  1.029756      1\n",
       "\n",
       "[400 rows x 3 columns]"
      ]
     },
     "execution_count": 9,
     "metadata": {},
     "output_type": "execute_result"
    }
   ],
   "source": [
    "# On commence par créer un dataframe avec les descriptions :\n",
    "df = pd.DataFrame(autre_desc, columns= [\"X\", \"Y\"])\n",
    "\n",
    "# puis on rajoute au dataframe une nouvelle colonne contenant les labels de chaque exemple :\n",
    "df['label'] = autre_label\n",
    "\n",
    "# Affichage du dataframe obtenu:\n",
    "df"
   ]
  },
  {
   "cell_type": "markdown",
   "metadata": {},
   "source": [
    "On utilise ici la fonction <code>pairplot</code> du package `seaborn` pour construire un corrélogramme qui affiche les corrélations des dimensions prises 2 à 2."
   ]
  },
  {
   "cell_type": "code",
   "execution_count": 10,
   "metadata": {},
   "outputs": [
    {
     "data": {
      "text/plain": [
       "<seaborn.axisgrid.PairGrid at 0x7f626e14c790>"
      ]
     },
     "execution_count": 10,
     "metadata": {},
     "output_type": "execute_result"
    },
    {
     "data": {
      "image/png": "[encoded data removed]",
      "text/plain": [
       "<Figure size 540x540 with 12 Axes>"
      ]
     },
     "metadata": {
      "needs_background": "light"
     },
     "output_type": "display_data"
    }
   ],
   "source": [
    "sns.pairplot(df)\n",
    "\n",
    "# Eventuellement, mais pas nécessairement utile:\n",
    "#sns.plt.show()"
   ]
  },
  {
   "cell_type": "markdown",
   "metadata": {},
   "source": [
    "<font color=\"RED\" size=\"+1\">**[Q]**</font> Ecrire la fonction `cree_dataframe()` qui, étant donné un dataset (un tuple contenant un array avec les description et un array avec les labels correspondant) et une liste de chaîne de caractères donnant les noms des variables correspondant à chaque colonne de la description, ainsi qu'une chaîne de caractères donnant le nom pour la colonne label à donner dans le dataframe créé (ce dernier argument étant optionnel et mis à la chaîne \"label\" par défaut), rend le dataframe correspondant."
   ]
  },
  {
   "cell_type": "code",
   "execution_count": null,
   "metadata": {},
   "outputs": [],
   "source": [
    "# ------------------------ A COMPLETER :\n",
    "def cree_dataframe(DS, L_noms, Nom_label = \"label\"):\n",
    "    \"\"\" Dataset * List[str] * Str -> DataFrame\n",
    "        Hypothèse: la liste a autant de chaînes que la description a de colonnes\n",
    "    \"\"\"\n",
    "    \n",
    "    raise NotImplementedError(\"Please Implement this method\")\n"
   ]
  },
  {
   "cell_type": "code",
   "execution_count": 12,
   "metadata": {},
   "outputs": [
    {
     "data": {
      "text/html": [
       "<div>\n",
       "<style scoped>\n",
       "    .dataframe tbody tr th:only-of-type {\n",
       "        vertical-align: middle;\n",
       "    }\n",
       "\n",
       "    .dataframe tbody tr th {\n",
       "        vertical-align: top;\n",
       "    }\n",
       "\n",
       "    .dataframe thead th {\n",
       "        text-align: right;\n",
       "    }\n",
       "</style>\n",
       "<table border=\"1\" class=\"dataframe\">\n",
       "  <thead>\n",
       "    <tr style=\"text-align: right;\">\n",
       "      <th></th>\n",
       "      <th>X</th>\n",
       "      <th>Y</th>\n",
       "      <th>label</th>\n",
       "    </tr>\n",
       "  </thead>\n",
       "  <tbody>\n",
       "    <tr>\n",
       "      <th>0</th>\n",
       "      <td>-0.503286</td>\n",
       "      <td>-1.138264</td>\n",
       "      <td>-1</td>\n",
       "    </tr>\n",
       "    <tr>\n",
       "      <th>1</th>\n",
       "      <td>-0.352311</td>\n",
       "      <td>0.523030</td>\n",
       "      <td>-1</td>\n",
       "    </tr>\n",
       "    <tr>\n",
       "      <th>2</th>\n",
       "      <td>-1.234153</td>\n",
       "      <td>-1.234137</td>\n",
       "      <td>-1</td>\n",
       "    </tr>\n",
       "    <tr>\n",
       "      <th>3</th>\n",
       "      <td>0.579213</td>\n",
       "      <td>-0.232565</td>\n",
       "      <td>-1</td>\n",
       "    </tr>\n",
       "    <tr>\n",
       "      <th>4</th>\n",
       "      <td>-1.469474</td>\n",
       "      <td>-0.457440</td>\n",
       "      <td>-1</td>\n",
       "    </tr>\n",
       "    <tr>\n",
       "      <th>...</th>\n",
       "      <td>...</td>\n",
       "      <td>...</td>\n",
       "      <td>...</td>\n",
       "    </tr>\n",
       "    <tr>\n",
       "      <th>395</th>\n",
       "      <td>1.429618</td>\n",
       "      <td>1.207688</td>\n",
       "      <td>1</td>\n",
       "    </tr>\n",
       "    <tr>\n",
       "      <th>396</th>\n",
       "      <td>1.271579</td>\n",
       "      <td>-0.276749</td>\n",
       "      <td>1</td>\n",
       "    </tr>\n",
       "    <tr>\n",
       "      <th>397</th>\n",
       "      <td>-0.081057</td>\n",
       "      <td>2.053153</td>\n",
       "      <td>1</td>\n",
       "    </tr>\n",
       "    <tr>\n",
       "      <th>398</th>\n",
       "      <td>0.960445</td>\n",
       "      <td>1.681501</td>\n",
       "      <td>1</td>\n",
       "    </tr>\n",
       "    <tr>\n",
       "      <th>399</th>\n",
       "      <td>1.028318</td>\n",
       "      <td>1.029756</td>\n",
       "      <td>1</td>\n",
       "    </tr>\n",
       "  </tbody>\n",
       "</table>\n",
       "<p>400 rows × 3 columns</p>\n",
       "</div>"
      ],
      "text/plain": [
       "            X         Y  label\n",
       "0   -0.503286 -1.138264     -1\n",
       "1   -0.352311  0.523030     -1\n",
       "2   -1.234153 -1.234137     -1\n",
       "3    0.579213 -0.232565     -1\n",
       "4   -1.469474 -0.457440     -1\n",
       "..        ...       ...    ...\n",
       "395  1.429618  1.207688      1\n",
       "396  1.271579 -0.276749      1\n",
       "397 -0.081057  2.053153      1\n",
       "398  0.960445  1.681501      1\n",
       "399  1.028318  1.029756      1\n",
       "\n",
       "[400 rows x 3 columns]"
      ]
     },
     "execution_count": 12,
     "metadata": {},
     "output_type": "execute_result"
    }
   ],
   "source": [
    "cree_dataframe((autre_desc,autre_label),[\"X\", \"Y\"])"
   ]
  },
  {
   "cell_type": "code",
   "execution_count": 13,
   "metadata": {},
   "outputs": [
    {
     "data": {
      "text/html": [
       "<div>\n",
       "<style scoped>\n",
       "    .dataframe tbody tr th:only-of-type {\n",
       "        vertical-align: middle;\n",
       "    }\n",
       "\n",
       "    .dataframe tbody tr th {\n",
       "        vertical-align: top;\n",
       "    }\n",
       "\n",
       "    .dataframe thead th {\n",
       "        text-align: right;\n",
       "    }\n",
       "</style>\n",
       "<table border=\"1\" class=\"dataframe\">\n",
       "  <thead>\n",
       "    <tr style=\"text-align: right;\">\n",
       "      <th></th>\n",
       "      <th>Abscisse</th>\n",
       "      <th>Ordonnée</th>\n",
       "      <th>classe</th>\n",
       "    </tr>\n",
       "  </thead>\n",
       "  <tbody>\n",
       "    <tr>\n",
       "      <th>0</th>\n",
       "      <td>-0.503286</td>\n",
       "      <td>-1.138264</td>\n",
       "      <td>-1</td>\n",
       "    </tr>\n",
       "    <tr>\n",
       "      <th>1</th>\n",
       "      <td>-0.352311</td>\n",
       "      <td>0.523030</td>\n",
       "      <td>-1</td>\n",
       "    </tr>\n",
       "    <tr>\n",
       "      <th>2</th>\n",
       "      <td>-1.234153</td>\n",
       "      <td>-1.234137</td>\n",
       "      <td>-1</td>\n",
       "    </tr>\n",
       "    <tr>\n",
       "      <th>3</th>\n",
       "      <td>0.579213</td>\n",
       "      <td>-0.232565</td>\n",
       "      <td>-1</td>\n",
       "    </tr>\n",
       "    <tr>\n",
       "      <th>4</th>\n",
       "      <td>-1.469474</td>\n",
       "      <td>-0.457440</td>\n",
       "      <td>-1</td>\n",
       "    </tr>\n",
       "    <tr>\n",
       "      <th>5</th>\n",
       "      <td>-1.463418</td>\n",
       "      <td>-1.465730</td>\n",
       "      <td>-1</td>\n",
       "    </tr>\n",
       "    <tr>\n",
       "      <th>6</th>\n",
       "      <td>-0.758038</td>\n",
       "      <td>-2.913280</td>\n",
       "      <td>-1</td>\n",
       "    </tr>\n",
       "    <tr>\n",
       "      <th>7</th>\n",
       "      <td>-2.724918</td>\n",
       "      <td>-1.562288</td>\n",
       "      <td>-1</td>\n",
       "    </tr>\n",
       "    <tr>\n",
       "      <th>8</th>\n",
       "      <td>-2.012831</td>\n",
       "      <td>-0.685753</td>\n",
       "      <td>-1</td>\n",
       "    </tr>\n",
       "    <tr>\n",
       "      <th>9</th>\n",
       "      <td>-1.908024</td>\n",
       "      <td>-2.412304</td>\n",
       "      <td>-1</td>\n",
       "    </tr>\n",
       "    <tr>\n",
       "      <th>10</th>\n",
       "      <td>2.465649</td>\n",
       "      <td>0.774224</td>\n",
       "      <td>1</td>\n",
       "    </tr>\n",
       "    <tr>\n",
       "      <th>11</th>\n",
       "      <td>1.067528</td>\n",
       "      <td>-0.424748</td>\n",
       "      <td>1</td>\n",
       "    </tr>\n",
       "    <tr>\n",
       "      <th>12</th>\n",
       "      <td>0.455617</td>\n",
       "      <td>1.110923</td>\n",
       "      <td>1</td>\n",
       "    </tr>\n",
       "    <tr>\n",
       "      <th>13</th>\n",
       "      <td>-0.150994</td>\n",
       "      <td>1.375698</td>\n",
       "      <td>1</td>\n",
       "    </tr>\n",
       "    <tr>\n",
       "      <th>14</th>\n",
       "      <td>0.399361</td>\n",
       "      <td>0.708306</td>\n",
       "      <td>1</td>\n",
       "    </tr>\n",
       "    <tr>\n",
       "      <th>15</th>\n",
       "      <td>0.398293</td>\n",
       "      <td>2.852278</td>\n",
       "      <td>1</td>\n",
       "    </tr>\n",
       "    <tr>\n",
       "      <th>16</th>\n",
       "      <td>0.986503</td>\n",
       "      <td>-0.057711</td>\n",
       "      <td>1</td>\n",
       "    </tr>\n",
       "    <tr>\n",
       "      <th>17</th>\n",
       "      <td>1.822545</td>\n",
       "      <td>-0.220844</td>\n",
       "      <td>1</td>\n",
       "    </tr>\n",
       "    <tr>\n",
       "      <th>18</th>\n",
       "      <td>1.208864</td>\n",
       "      <td>-0.959670</td>\n",
       "      <td>1</td>\n",
       "    </tr>\n",
       "    <tr>\n",
       "      <th>19</th>\n",
       "      <td>-0.328186</td>\n",
       "      <td>1.196861</td>\n",
       "      <td>1</td>\n",
       "    </tr>\n",
       "  </tbody>\n",
       "</table>\n",
       "</div>"
      ],
      "text/plain": [
       "    Abscisse  Ordonnée  classe\n",
       "0  -0.503286 -1.138264      -1\n",
       "1  -0.352311  0.523030      -1\n",
       "2  -1.234153 -1.234137      -1\n",
       "3   0.579213 -0.232565      -1\n",
       "4  -1.469474 -0.457440      -1\n",
       "5  -1.463418 -1.465730      -1\n",
       "6  -0.758038 -2.913280      -1\n",
       "7  -2.724918 -1.562288      -1\n",
       "8  -2.012831 -0.685753      -1\n",
       "9  -1.908024 -2.412304      -1\n",
       "10  2.465649  0.774224       1\n",
       "11  1.067528 -0.424748       1\n",
       "12  0.455617  1.110923       1\n",
       "13 -0.150994  1.375698       1\n",
       "14  0.399361  0.708306       1\n",
       "15  0.398293  2.852278       1\n",
       "16  0.986503 -0.057711       1\n",
       "17  1.822545 -0.220844       1\n",
       "18  1.208864 -0.959670       1\n",
       "19 -0.328186  1.196861       1"
      ]
     },
     "execution_count": 13,
     "metadata": {},
     "output_type": "execute_result"
    }
   ],
   "source": [
    "df_data = cree_dataframe((data_desc,data_label),[\"Abscisse\", \"Ordonnée\"], 'classe')\n",
    "df_data"
   ]
  },
  {
   "cell_type": "code",
   "execution_count": 14,
   "metadata": {},
   "outputs": [
    {
     "data": {
      "text/plain": [
       "<seaborn.axisgrid.PairGrid at 0x7f626dc22c10>"
      ]
     },
     "execution_count": 14,
     "metadata": {},
     "output_type": "execute_result"
    },
    {
     "data": {
      "image/png": "[encoded data removed]",
      "text/plain": [
       "<Figure size 540x540 with 12 Axes>"
      ]
     },
     "metadata": {
      "needs_background": "light"
     },
     "output_type": "display_data"
    }
   ],
   "source": [
    "sns.pairplot(df_data)"
   ]
  },
  {
   "cell_type": "markdown",
   "metadata": {},
   "source": [
    "Un autre exemple, qui utilise un dataset classique en apprentissage: le dataset des iris de Fisher  (voir par exemple : https://fr.wikipedia.org/wiki/Iris_de_Fisher) dont les exemples sont décrits par 4 variables et sont associés à l'une des 3 classes possibles ('setosa', 'virginica' et 'versicolor')."
   ]
  },
  {
   "cell_type": "code",
   "execution_count": 15,
   "metadata": {},
   "outputs": [
    {
     "data": {
      "text/plain": [
       "<seaborn.axisgrid.PairGrid at 0x7f626d7f23d0>"
      ]
     },
     "execution_count": 15,
     "metadata": {},
     "output_type": "execute_result"
    },
    {
     "data": {
      "image/png": "[encoded data removed]",
      "text/plain": [
       "<Figure size 720x720 with 20 Axes>"
      ]
     },
     "metadata": {
      "needs_background": "light"
     },
     "output_type": "display_data"
    }
   ],
   "source": [
    "# Le dataset des iris est fourni dans le package seaborn, on l'obtient ainsi:\n",
    "df_iris = sns.load_dataset('iris')\n",
    "\n",
    "# On peut alors construire le corrélogramme de ce dataset:\n",
    "sns.pairplot(df_iris)"
   ]
  },
  {
   "cell_type": "code",
   "execution_count": 16,
   "metadata": {},
   "outputs": [
    {
     "data": {
      "text/plain": [
       "0         setosa\n",
       "1         setosa\n",
       "2         setosa\n",
       "3         setosa\n",
       "4         setosa\n",
       "         ...    \n",
       "145    virginica\n",
       "146    virginica\n",
       "147    virginica\n",
       "148    virginica\n",
       "149    virginica\n",
       "Name: species, Length: 150, dtype: object"
      ]
     },
     "execution_count": 16,
     "metadata": {},
     "output_type": "execute_result"
    }
   ],
   "source": [
    "df_iris['species']"
   ]
  },
  {
   "cell_type": "markdown",
   "metadata": {},
   "source": [
    "<font color=\"RED\" size=\"+1\">**[Q]**</font> Utiliser le package `seaborn` ainsi que les fonctions statistiques vues lors du TME 1 pour afficher tout un ensemble de résultats permettant d'analyser la base des Iris de Fisher. "
   ]
  },
  {
   "cell_type": "markdown",
   "metadata": {},
   "source": [
    "<font color=\"RED\" size=\"+1\">**[Q]**</font> Afin de pouvoir utiliser les classifieurs sur la base des Iris, il est nécessaire de l'adapter : ce dataset contient 3 classes (qui sont des chaînes) alors que les classifieurs implémentés précédemment sont binaires (et travaillent sur les labels -1 et +1).\n",
    "Le moyen le plus simple est de réaliser un apprentissage **one vs all** :\n",
    "- choisir une classe et lui donner le label +1\n",
    "- toutes les autres classes sont alors associées au label -1\n",
    "\n",
    "Mettre au point une série d'expérimentation pour tester les algorithmes sur la base des iris en utilisant ce codage. Tester en particulier s'ils sont sensibles aux bases de données déséquilibrées (dans lesquelles une classe est plus présente que les autres) et si c'est le cas adapter le cadre **one vs all** en sous-échantillonnant les \"all\" pour en prendre autant d'exemple d'apprentissage que les \"one\", faire de même pour les données de test."
   ]
  },
  {
   "cell_type": "code",
   "execution_count": null,
   "metadata": {},
   "outputs": [],
   "source": []
  }
 ],
 "metadata": {
  "kernelspec": {
   "display_name": "Python 3",
   "language": "python",
   "name": "python3"
  },
  "language_info": {
   "codemirror_mode": {
    "name": "ipython",
    "version": 3
   },
   "file_extension": ".py",
   "mimetype": "text/x-python",
   "name": "python",
   "nbconvert_exporter": "python",
   "pygments_lexer": "ipython3",
   "version": "3.7.3"
  }
 },
 "nbformat": 4,
 "nbformat_minor": 1
}
