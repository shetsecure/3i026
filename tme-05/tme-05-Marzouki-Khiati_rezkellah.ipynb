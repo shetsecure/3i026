{
 "cells": [
  {
   "cell_type": "markdown",
   "metadata": {},
   "source": [
    "IA & Data science (LU3IN0226) -- 2019-2020\n",
    "--------\n",
    "*&copy; Equipe pédagogique: Gauvain Bourgne, Vincent Guigue, Marie-Jeanne Lesot, Christophe Marsala, Olivier Schwander.*\n"
   ]
  },
  {
   "cell_type": "markdown",
   "metadata": {},
   "source": [
    "# TD-TME05: visualisation et expérimentations"
   ]
  },
  {
   "cell_type": "markdown",
   "metadata": {},
   "source": [
    "<font size=\"+1\" color=\"RED\">**[Q]**</font> **Indiquer dans la boîte ci-dessous vos noms et prénoms :**"
   ]
  },
  {
   "cell_type": "markdown",
   "metadata": {},
   "source": [
    "*MARZOUKI Amine & KHIATI Rezkellah Noureddine*"
   ]
  },
  {
   "cell_type": "markdown",
   "metadata": {},
   "source": [
    "<font color=\"RED\" size=\"+1\">**[Q]**</font> **Renommer ce fichier ipython**\n",
    "\n",
    "Tout en haut de cette page, cliquer sur <tt>tme-05</tt> et rajouter à la suite de <tt>tme-05</tt> les noms des membres du binômes séparés par un tiret.\n",
    "\n",
    "Par exemple, pour le binôme Luke Skywalker et Han Solo, le nom de fichier devient `tme-05-Skywalker-Solo`\n",
    "\n",
    "Penser à sauvegarder fréquemment le fichier en cours de travail :\n",
    "- soit en cliquant sur l'icône \"disquette\"\n",
    "- soit par la combinaison de touches [Ctrl]-S"
   ]
  },
  {
   "cell_type": "markdown",
   "metadata": {},
   "source": [
    "<font color=\"RED\" size=\"+1\">**[Q]**</font> **Mise à jour de la librairie `iads`**\n",
    "\n",
    "En premier lieu, vérifier que votre librairie `iads` est bien à jour : elle doit maintenant contenir toutes les fonctions et classes mises au point et testées dans les tme précédents3. Une fois à jour, importer la librairie pour pouvoir l'utiliser dans ce notebook."
   ]
  },
  {
   "cell_type": "code",
   "execution_count": 1,
   "metadata": {},
   "outputs": [],
   "source": [
    "# Importation des librairies standards:\n",
    "import numpy as np\n",
    "import pandas as pd\n",
    "import matplotlib.pyplot as plt\n",
    "import seaborn as sns\n",
    "%matplotlib inline  \n",
    "\n",
    "# Importation de votre librairie iads:\n",
    "# La ligne suivante permet de préciser le chemin d'accès à la librairie iads\n",
    "import sys\n",
    "sys.path.append('../')   # iads doit être dans le répertoire frère du répertoire courant !\n",
    "\n",
    "# Importation de la librairie iads\n",
    "import iads as iads\n",
    "\n",
    "# importation de Classifiers\n",
    "from iads import Classifiers as cl\n",
    "\n",
    "# importation de utils\n",
    "from iads import utils as ut"
   ]
  },
  {
   "cell_type": "markdown",
   "metadata": {},
   "source": [
    "### Objectifs de ce TME\n",
    "\n",
    "L'objectif de ce TME est de terminer les implémentations des algorithmes du percetron et des $k$ plus proches voisins, de réaliser un ensemble d'expérimentations pour les comparer, et de mettre en oeuvre des outils de visualisation."
   ]
  },
  {
   "cell_type": "markdown",
   "metadata": {},
   "source": [
    "En reprenant la fonction écrite dans les TME précédents, on commence par générer un dataset pour tester les fonctions."
   ]
  },
  {
   "cell_type": "code",
   "execution_count": 2,
   "metadata": {},
   "outputs": [
    {
     "name": "stdout",
     "output_type": "stream",
     "text": [
      "Le dataset généré contient  20 lignes de  2 colonnes.\n"
     ]
    },
    {
     "data": {
      "image/png": "[encoded data removed]",
      "text/plain": [
       "<Figure size 432x288 with 1 Axes>"
      ]
     },
     "metadata": {
      "needs_background": "light"
     },
     "output_type": "display_data"
    }
   ],
   "source": [
    "np.random.seed(42)   # supprimer cette ligne une fois la mise au point terminée\n",
    "\n",
    "# Exemple d'utilisation:\n",
    "\n",
    "data_desc, data_label = ut.genere_dataset_gaussian(np.array([1,1]),np.array([[1,0],[0,1]]),np.array([-1,-1]),np.array([[1,0],[0,1]]),10)\n",
    "\n",
    "print(\"Le dataset généré contient \", np.shape(data_desc)[0], \"lignes de \", np.shape(data_desc)[1], \"colonnes.\")\n",
    "\n",
    "# Affichage :\n",
    "ut.plot2DSet(data_desc,data_label)\n"
   ]
  },
  {
   "cell_type": "markdown",
   "metadata": {},
   "source": [
    "## Expérimentations\n",
    "\n",
    "Pour expérimenter un classifieur, il est nécessaire de posséder deux datasets distincts: \n",
    "- le dataset d'apprentissage, qui se compose donc de 2 arrays: `train_desc` et `train_labels`\n",
    "- et le dataset de test, qui se compose de 2 arrays: `test_desc` et `test_labels`. \n",
    "\n",
    "\n",
    "On commence par construire le classifieur avec le dataset d'apprentisage, puis, on évalue sa performance en 2 temps :\n",
    "- on calcule son **accuracy d'apprentissage** qui est l'accuracy obtenue sur le dataset d'apprentissage \n",
    "- on calcule son **accuracy de test** qui est l'accuracy obtenue sur le dataset de test\n",
    "\n",
    "La première valeur mesure combien le classifieur a surappris les données d'apprentissage, la deuxième valeur mesure sa performance en généralisation."
   ]
  },
  {
   "cell_type": "markdown",
   "metadata": {},
   "source": [
    "### Retour sur la validation croisée (correctif)\n",
    "\n",
    "Le principe (corrigé par rapport à ce qui a été dit dans le TME 04) d'une expérimentation par validation croisée (ou *cross-validation*) est le suivant.\n",
    "\n",
    "<ol>\n",
    "    <li>Choisir un algorithme de construction de classifieur à évaluer</li>\n",
    "    <li>Générer un dataset suffisamment grand. Soit $DS$ ce dataset</li>\n",
    "    <li>Découper $DS$ en 10 datasets de taille égale tels qu'ils contiennent tous la même proportion d'exemples de chaque classe que $DS$, les exemples pour constituer chacun de ces datasets sont tirés aléatoirement parmi les exemples $DS$ par un tirage <b>sans remise</b>. On appelle $DS0$, $DS1$,..., $DS9$ ces 10 datasets.</li>\n",
    "    <li>Construire un classifieur : <font color=\"RED\">on prend $DS0$ comme <b>dataset de test</b> et on regroupe les 9 autres datasets $DS1$,...,$DS9$ pour constituer le <b>dataset d'apprentissage</b></font>. Les 9 datasets utilisés pour construire le classifieur servent à évaluer l'accuracy d'apprentissage $accA_0$ et le dataset $DS0$ sert à évaluer l'accuracy de test $accT_0$ de ce classifieur.</li>\n",
    "    <li>Construire un nouveau classifier en prenant $DS1$ comme dataset de test et les autres datasets $DS0$, $DS2$,...,$DS9$ comme dataset d'apprentissage et évaluer l'accuracy d'apprentissage $accA_1$ et l'accuracy de test $accT_1$ de ce classifieur.</li>\n",
    "    <li>etc. Chaque dataset $DSi$ sert <b>une fois comme dataset de test</b> et <b>9 fois comme dataset d'apprentissage</b></li>\n",
    "</ol>\n",
    "    \n",
    "Au final, on obtient donc 10 valeurs d'accuracy d'apprentissage et 10 valeurs d'accuracy de test, la performance globale de l'algorithme du classifieur choisi est obtenue en donnant:\n",
    "- la moyenne des accuracies de test $\\frac{1}{10}\\sum_{i=0}^{9} accT_i$\n",
    "- l'écart type des accuracies de test $accT_0$, ..., $accT_{9}$\n",
    "\n",
    "De même, la moyenne et l'écart type des accuracies d'apprentissage peut être aussi fournie.\n",
    "\n",
    "*Remarque*: ici, comme on choisit de découper $DS$ en $10$ datasets, on parle de *validation croisée en 10 paquets* (en anglais: *10-folds cross-validation*). Dans d'autres cas, on peut choisir de réaliser un découpage avec un nombre de datasets différents. On parle alors de *validation croisée en m paquets* avec $m$ un nombre entier supérieur ou égal à 2.\n"
   ]
  },
  {
   "cell_type": "markdown",
   "metadata": {},
   "source": [
    "<font color=\"RED\" size=\"+1\">**[Q]**</font> Compléter la fonction suivante qui, étant donné un classifieur $C$, un dataset $DS$ (donné sous la forme d'un tuple (descriptions, labels)) et un entier $m$, réalise une validation croisée en $m$ paquets et rend le quadruplet composé de 2 tuples: le premier tuple donne la moyenne et l'écart type d'apprentissage, le second tuple donne la moyenne et l'écart type de test.\n",
    "\n",
    "<b>Astuce:</b> ne pas dupliquer les dataset : travailler sur des listes d'indices qui sont ensuite utilisées pour requêter les arrays représentant le dataset."
   ]
  },
  {
   "cell_type": "code",
   "execution_count": 2,
   "metadata": {},
   "outputs": [],
   "source": [
    "def crossvalidation(C, DS, m=10):\n",
    "    \"\"\" Classifieur * tuple[array, array] * int -> tuple[tuple[float,float], tuple[float,float]]\n",
    "        Hypothèse: m>0\n",
    "        Par défaut, m vaut 10\n",
    "    \"\"\"\n",
    "    \n",
    "    \n",
    "    ############################ IMPORTANT ####################################\n",
    "    # 𝐷𝑆1 comme dataset de test et les autres datasets 𝐷𝑆0, 𝐷𝑆3,...,𝐷𝑆9 comme dataset pour apprentissage \n",
    "    # each iteration we pick 1 for testing and the others for training\n",
    "    ###########################################################################\n",
    "    \n",
    "    data_desc, data_labels = DS[0], DS[1]\n",
    "    indices = [i for i in range(len(data_desc))]\n",
    "    train_accs = []\n",
    "    test_accs = []\n",
    "    datasets = []\n",
    "    \n",
    "    for i in range(m): # we're not treating the case where m%len(DS) != 0 (if the rest has a size = 1, it'll kill the avg)\n",
    "        # random tirage\n",
    "        np.random.shuffle(indices)\n",
    "\n",
    "        # how much to take in each one\n",
    "        length = len(data_desc) // m\n",
    "        XX = [data_desc[i] for i in indices[:length]]\n",
    "        yy = [data_labels[i] for i in indices[:length]]\n",
    "\n",
    "        # add it to the list\n",
    "        datasets.append([XX, yy])\n",
    "        # remove the first length indices so that we don't take the same description twice\n",
    "        for j in range(length):\n",
    "            indices.pop(0)\n",
    "\n",
    "    datasets = np.asarray(datasets)\n",
    "    \n",
    "    # take one for training, the others for testing\n",
    "    for test_index in range(m):\n",
    "        train_set = np.concatenate(tuple([datasets[i] for i in range(m) if i != test_index]), axis=1)\n",
    "        \n",
    "        C.train(train_set[0], train_set[1])\n",
    "            \n",
    "        # append training accuracy to the training_set\n",
    "        train_accs.append(C.accuracy(train_set[0], train_set[1]))\n",
    "\n",
    "        # append test accuracy to the test_set\n",
    "        test_accs.append(C.accuracy(datasets[test_index][0], datasets[test_index][1]))    \n",
    "        \n",
    "    print(\"[Info debug] liste accuracies Apprentissage: \", train_accs)\n",
    "    print(\"[Info debug] liste accuracies Test         : \", test_accs)\n",
    "    train_accs = np.array(train_accs)\n",
    "    test_accs = np.array(test_accs)\n",
    "    \n",
    "    return (train_accs.mean(), train_accs.std()), (test_accs.mean(), test_accs.std())"
   ]
  },
  {
   "cell_type": "code",
   "execution_count": 4,
   "metadata": {},
   "outputs": [
    {
     "name": "stdout",
     "output_type": "stream",
     "text": [
      "[Info debug] liste accuracies Apprentissage:  [1.0, 1.0, 1.0, 1.0, 1.0, 1.0, 1.0, 1.0, 1.0, 1.0]\n",
      "[Info debug] liste accuracies Test         :  [1.0, 1.0, 1.0, 1.0, 1.0, 1.0, 0.5, 0.5, 1.0, 1.0]\n",
      "(moyenne, std) pour apprentissage : (1.0, 0.0)\n",
      "(moyenne, std) pour test          : (0.9, 0.2)\n"
     ]
    }
   ],
   "source": [
    "# Exemple d'utilisation:\n",
    "\n",
    "# Un autre exemple d'utilisation :\n",
    "knn = cl.ClassifierKNN(2,1)\n",
    "\n",
    "res_apprentissage, res_test = crossvalidation(knn, (data_desc, data_label), 10)\n",
    "\n",
    "print(\"(moyenne, std) pour apprentissage :\", res_apprentissage)\n",
    "print(\"(moyenne, std) pour test          :\", res_test)"
   ]
  },
  {
   "cell_type": "code",
   "execution_count": 5,
   "metadata": {},
   "outputs": [
    {
     "name": "stdout",
     "output_type": "stream",
     "text": [
      "Le dataset généré contient  400 lignes de  2 colonnes.\n",
      "[Info debug] liste accuracies Apprentissage:  [0.934375, 0.94375, 0.94375, 0.95, 0.9375]\n",
      "[Info debug] liste accuracies Test         :  [0.9375, 0.9125, 0.9375, 0.9, 0.925]\n",
      "(moyenne, std) pour apprentissage : (0.9418749999999999, 0.005448623679425838)\n",
      "(moyenne, std) pour test          : (0.9225, 0.01457737973711325)\n"
     ]
    },
    {
     "data": {
      "image/png": "[encoded data removed]",
      "text/plain": [
       "<Figure size 432x288 with 1 Axes>"
      ]
     },
     "metadata": {
      "needs_background": "light"
     },
     "output_type": "display_data"
    }
   ],
   "source": [
    "np.random.seed(42)   # supprimer cette ligne une fois la mise au point terminée\n",
    "\n",
    "# Un autre exemple d'utilisation:\n",
    "\n",
    "autre_desc, autre_label = ut.genere_dataset_gaussian(np.array([1,1]),np.array([[1,0],[0,1]]),np.array([-1,-1]),np.array([[1,0],[0,1]]),200)\n",
    "\n",
    "print(\"Le dataset généré contient \", np.shape(autre_desc)[0], \"lignes de \", np.shape(autre_desc)[1], \"colonnes.\")\n",
    "\n",
    "# Affichage :\n",
    "ut.plot2DSet(autre_desc,autre_label)\n",
    "\n",
    "# Classifieur :\n",
    "knn = cl.ClassifierKNN(2,3)\n",
    "\n",
    "res_apprentissage, res_test = crossvalidation(knn, (autre_desc, autre_label), 5)\n",
    "\n",
    "print(\"(moyenne, std) pour apprentissage :\", res_apprentissage)\n",
    "print(\"(moyenne, std) pour test          :\", res_test)"
   ]
  },
  {
   "cell_type": "markdown",
   "metadata": {},
   "source": [
    "Lorsqu'on compare plusieurs classifieurs, il est intéressant de mesurer leurs performances par une validation croisée, et idéalement, réalisée avec les mêmes datasets.\n",
    "\n",
    "<font color=\"RED\" size=\"+1\">**[Q]**</font> Réécrire la fonction précédente pour qu'elle prenne en argument non pas un seul classifieur, mais une liste de classifieurs et qu'elle renvoie la liste des quadruplets résultats correspondante.\n",
    "\n",
    "*Attention*: il ne s'agit pas d'écrire une fonction qui appelle la fonction précédente, il faut la réécrire."
   ]
  },
  {
   "cell_type": "code",
   "execution_count": 3,
   "metadata": {},
   "outputs": [],
   "source": [
    "def crossvalidation(LC, DS, m, debug=True):\n",
    "    \"\"\" List[Classifieur] * tuple[array, array] * int ->  List[tuple[tuple[float,float], tuple[float,float]]]\n",
    "        Hypothèse: m>0\n",
    "        Par défaut, m vaut 10\n",
    "    \"\"\"\n",
    "    \n",
    "    data_desc, data_labels = DS[0].copy(), DS[1].copy()\n",
    "    indices = [i for i in range(len(data_desc))]\n",
    "    train_accs = []\n",
    "    test_accs = []\n",
    "    datasets = []\n",
    "    \n",
    "    for i in range(len(LC)):\n",
    "        train_accs.append([])\n",
    "        test_accs.append([])\n",
    "    \n",
    "    for i in range(m): # we're not treating the case where m%len(DS) != 0 (if the rest has a size = 1, it'll kill the avg)\n",
    "        # random tirage\n",
    "        np.random.shuffle(indices)\n",
    "\n",
    "        # how much to take in each one\n",
    "        length = len(data_desc) // m\n",
    "        XX = [data_desc[i] for i in indices[:length]]\n",
    "        yy = [data_labels[i] for i in indices[:length]]\n",
    "\n",
    "        # add it to the list\n",
    "        datasets.append([XX, yy])\n",
    "        \n",
    "        # remove the first length indices so that we don't take the same description twice\n",
    "        for j in range(length):\n",
    "            indices.pop(0)\n",
    "\n",
    "    datasets = np.asarray(datasets)\n",
    "            \n",
    "    # take one for training, the others for testing\n",
    "    for test_index in range(m):\n",
    "        train_set = np.concatenate(tuple([datasets[i] for i in range(m) if i != test_index]), axis=1)\n",
    "        \n",
    "        for i in range(len(LC)):\n",
    "            LC[i].train(train_set[0], train_set[1])\n",
    "\n",
    "            # append training accuracy to the training_set\n",
    "            train_accs[i].append(LC[i].accuracy(train_set[0], train_set[1]))\n",
    "\n",
    "            # append test accuracy to the test_set\n",
    "            test_accs[i].append(LC[i].accuracy(datasets[test_index][0], datasets[test_index][1]))    \n",
    "    \n",
    "    if debug:\n",
    "        print(\"Il y a \", len(LC), \"classifieurs à comparer.\")\n",
    "        for i in range(len(LC)):\n",
    "            print(\"[Info debug] Classifieur   \", i)\n",
    "            print(\"[Info debug] liste accuracies Apprentissage: \", train_accs[i])\n",
    "            print(\"[Info debug] liste accuracies Test         : \", test_accs[i])\n",
    "            print()\n",
    "\n",
    "    for i in range(len(LC)):\n",
    "        train_accs[i] = np.array(train_accs[i])\n",
    "        test_accs[i] = np.array(test_accs[i])\n",
    "    \n",
    "    returned_values = [((tr.mean(), tr.std()), (ts.mean(), ts.std())) for tr, ts in zip(train_accs, test_accs)]\n",
    "    \n",
    "    return returned_values"
   ]
  },
  {
   "cell_type": "code",
   "execution_count": 4,
   "metadata": {},
   "outputs": [
    {
     "ename": "NameError",
     "evalue": "name 'autre_desc' is not defined",
     "output_type": "error",
     "traceback": [
      "\u001b[0;31m---------------------------------------------------------------------------\u001b[0m",
      "\u001b[0;31mNameError\u001b[0m                                 Traceback (most recent call last)",
      "\u001b[0;32m<ipython-input-4-a061bc71ac68>\u001b[0m in \u001b[0;36m<module>\u001b[0;34m\u001b[0m\n\u001b[1;32m      7\u001b[0m \u001b[0mListe_knns\u001b[0m\u001b[0;34m.\u001b[0m\u001b[0mappend\u001b[0m\u001b[0;34m(\u001b[0m\u001b[0mcl\u001b[0m\u001b[0;34m.\u001b[0m\u001b[0mClassifierKNN\u001b[0m\u001b[0;34m(\u001b[0m\u001b[0;36m2\u001b[0m\u001b[0;34m,\u001b[0m\u001b[0;36m5\u001b[0m\u001b[0;34m)\u001b[0m\u001b[0;34m)\u001b[0m\u001b[0;34m\u001b[0m\u001b[0;34m\u001b[0m\u001b[0m\n\u001b[1;32m      8\u001b[0m \u001b[0;34m\u001b[0m\u001b[0m\n\u001b[0;32m----> 9\u001b[0;31m \u001b[0mResultats\u001b[0m \u001b[0;34m=\u001b[0m \u001b[0mcrossvalidation\u001b[0m\u001b[0;34m(\u001b[0m\u001b[0mListe_knns\u001b[0m\u001b[0;34m,\u001b[0m \u001b[0;34m(\u001b[0m\u001b[0mautre_desc\u001b[0m\u001b[0;34m,\u001b[0m \u001b[0mautre_label\u001b[0m\u001b[0;34m)\u001b[0m\u001b[0;34m,\u001b[0m \u001b[0;36m10\u001b[0m\u001b[0;34m)\u001b[0m\u001b[0;34m\u001b[0m\u001b[0;34m\u001b[0m\u001b[0m\n\u001b[0m\u001b[1;32m     10\u001b[0m \u001b[0;34m\u001b[0m\u001b[0m\n\u001b[1;32m     11\u001b[0m \u001b[0mprint\u001b[0m\u001b[0;34m(\u001b[0m\u001b[0;34m\"\\n*****\\nAffichage des résultats:\"\u001b[0m\u001b[0;34m)\u001b[0m\u001b[0;34m\u001b[0m\u001b[0;34m\u001b[0m\u001b[0m\n",
      "\u001b[0;31mNameError\u001b[0m: name 'autre_desc' is not defined"
     ]
    }
   ],
   "source": [
    "# Exemple d'utilisation:\n",
    "\n",
    "# Un autre exemple d'utilisation :\n",
    "Liste_knns = []\n",
    "Liste_knns.append(cl.ClassifierKNN(2,1))\n",
    "Liste_knns.append(cl.ClassifierKNN(2,3))\n",
    "Liste_knns.append(cl.ClassifierKNN(2,5))\n",
    "\n",
    "Resultats = crossvalidation(Liste_knns, (autre_desc, autre_label), 10)\n",
    "\n",
    "print(\"\\n*****\\nAffichage des résultats:\")\n",
    "for k in range(0,len(Resultats)):\n",
    "    print(\"Classifieur \", k)\n",
    "    print(\"\\t(moyenne, std) pour apprentissage :\", Resultats[k][0])\n",
    "    print(\"\\t(moyenne, std) pour test          :\", Resultats[k][1])\n"
   ]
  },
  {
   "cell_type": "markdown",
   "metadata": {},
   "source": [
    "<font color=\"RED\" size=\"+1\">**[Q]**</font> A l'aide d'une validation croisée en 10 paquets réalisée sur un dataset généré aléatoirement, donner les performances (accuracy moyenne et écart type) de tous les classifieurs implémentés depuis le TME 2."
   ]
  },
  {
   "cell_type": "code",
   "execution_count": 5,
   "metadata": {},
   "outputs": [],
   "source": [
    "classif_dict = dict()\n",
    "eps = 10e-3 # learning rate\n",
    "\n",
    "def compare(X, y, m=10, show_res=True, plot=False):   \n",
    "    classif_dict['perceptron'] = cl.ClassifierPerceptron(X.shape[1], eps, max_iter=1e3)\n",
    "    classif_dict['kernel_perceptron'] = cl.ClassifierPerceptronKernel(X.shape[1], eps, ut.KernelPoly())\n",
    "    classif_dict['perceptronV2'] = cl.ClassifierOneStepPerceptron(X.shape[1])\n",
    "\n",
    "    k = 3\n",
    "    while k < 12:\n",
    "        classif_dict['knnV' + str(k)] = cl.ClassifierKNN(X.shape[1], k)\n",
    "        k += 2\n",
    "    Resultats = crossvalidation(list(classif_dict.values()), (X, y), m, debug=False)\n",
    "    \n",
    "    def plot_comparaison():\n",
    "        perf_train = []\n",
    "        perf_test = []\n",
    "        classifs = [i for i in range(len(classif_dict))]\n",
    "\n",
    "        for i in range(len(classif_dict)):\n",
    "            perf_train.append(Resultats[i][0][0])\n",
    "            perf_test.append(Resultats[i][1][0])\n",
    "\n",
    "        plt.figure(figsize=(7, 3))\n",
    "        plt.plot(classifs, perf_train, label='Training performane')\n",
    "        plt.plot(classifs, perf_test, label='Testing performane')\n",
    "        plt.ylabel('Performane')\n",
    "        plt.xlabel('Classifiers')\n",
    "        plt.xticks(np.arange(len(classif_dict)), list(classif_dict.keys()), rotation='vertical')\n",
    "        \n",
    "        best_index = perf_test.index(max(perf_test))\n",
    "        names = list(classif_dict.keys())\n",
    "        \n",
    "        plt.title(\"Comparing multiple classifiers\\nBest classifier is %s with a test accuracy of %.2f%%\" \n",
    "                  %(names[best_index], perf_test[best_index]*100))\n",
    "        plt.legend()\n",
    "        \n",
    "    \n",
    "    if show_res:\n",
    "        print(\"\\n*****\\nAffichage des résultats:\")\n",
    "\n",
    "        i = 0\n",
    "        for key in classif_dict.keys():\n",
    "            print(\"Classifieur \", key)\n",
    "            print(\"\\t(moyenne, std) pour apprentissage :\", Resultats[i][0])\n",
    "            print(\"\\t(moyenne, std) pour test          :\", Resultats[i][1])\n",
    "            i += 1\n",
    "            \n",
    "    if plot:\n",
    "        plot_comparaison()\n",
    "        \n",
    "    return Resultats\n",
    "\n"
   ]
  },
  {
   "cell_type": "code",
   "execution_count": 13,
   "metadata": {},
   "outputs": [
    {
     "name": "stdout",
     "output_type": "stream",
     "text": [
      "\n",
      "*****\n",
      "Affichage des résultats:\n",
      "Classifieur  perceptron\n",
      "\t(moyenne, std) pour apprentissage : (0.893611111111111, 0.020677192659940485)\n",
      "\t(moyenne, std) pour test          : (0.89, 0.02783882181415011)\n",
      "Classifieur  kernel_perceptron\n",
      "\t(moyenne, std) pour apprentissage : (0.9072222222222223, 0.014497764834110997)\n",
      "\t(moyenne, std) pour test          : (0.9025000000000001, 0.028394541729001375)\n",
      "Classifieur  knnV3\n",
      "\t(moyenne, std) pour apprentissage : (0.9405555555555555, 0.0035572912430182372)\n",
      "\t(moyenne, std) pour test          : (0.9199999999999999, 0.04153311931459036)\n",
      "Classifieur  knnV5\n",
      "\t(moyenne, std) pour apprentissage : (0.9344444444444445, 0.004157397096415476)\n",
      "\t(moyenne, std) pour test          : (0.925, 0.0370809924354783)\n",
      "Classifieur  knnV7\n",
      "\t(moyenne, std) pour apprentissage : (0.9352777777777778, 0.003938179688543826)\n",
      "\t(moyenne, std) pour test          : (0.925, 0.03535533905932736)\n",
      "Classifieur  knnV9\n",
      "\t(moyenne, std) pour apprentissage : (0.9352777777777778, 0.0049767980186580145)\n",
      "\t(moyenne, std) pour test          : (0.9225000000000001, 0.0361420807370024)\n",
      "Classifieur  knnV11\n",
      "\t(moyenne, std) pour apprentissage : (0.9263888888888889, 0.00416666666666667)\n",
      "\t(moyenne, std) pour test          : (0.925, 0.0370809924354783)\n"
     ]
    },
    {
     "data": {
      "text/plain": [
       "[((0.893611111111111, 0.020677192659940485), (0.89, 0.02783882181415011)),\n",
       " ((0.9072222222222223, 0.014497764834110997),\n",
       "  (0.9025000000000001, 0.028394541729001375)),\n",
       " ((0.9405555555555555, 0.0035572912430182372),\n",
       "  (0.9199999999999999, 0.04153311931459036)),\n",
       " ((0.9344444444444445, 0.004157397096415476), (0.925, 0.0370809924354783)),\n",
       " ((0.9352777777777778, 0.003938179688543826), (0.925, 0.03535533905932736)),\n",
       " ((0.9352777777777778, 0.0049767980186580145),\n",
       "  (0.9225000000000001, 0.0361420807370024)),\n",
       " ((0.9263888888888889, 0.00416666666666667), (0.925, 0.0370809924354783))]"
      ]
     },
     "execution_count": 13,
     "metadata": {},
     "output_type": "execute_result"
    },
    {
     "data": {
      "image/png": "[encoded data removed]",
      "text/plain": [
       "<Figure size 504x216 with 1 Axes>"
      ]
     },
     "metadata": {
      "needs_background": "light"
     },
     "output_type": "display_data"
    }
   ],
   "source": [
    "compare(autre_desc, autre_label, plot=True)"
   ]
  },
  {
   "cell_type": "markdown",
   "metadata": {},
   "source": [
    "### Expérimentations de  classifieurs sur des données réelles\n",
    "\n",
    "Téléchargez des données réelles (voir les TME précédents) et réalisez un ensemble d'expérimentations permettant de comparer les classifieurs que vous avez implémentés depuis le TME 2. \n",
    "Comparez-les en termes d'accuracy, de temps d'exécution,...\n",
    "Attention, il est donc nécessaire dans cette partie d'inclure des boîtes de code python pour faire les tests mais aussi des boîtes de texte, pour expliquer l'objectif des expériences, ainsi que d'autres boîtes pour commenter les résultats obtenus."
   ]
  },
  {
   "cell_type": "markdown",
   "metadata": {},
   "source": [
    "## Expérimentation sur dataset Breast Cancer"
   ]
  },
  {
   "cell_type": "code",
   "execution_count": 6,
   "metadata": {},
   "outputs": [
    {
     "data": {
      "text/html": [
       "<div>\n",
       "<style scoped>\n",
       "    .dataframe tbody tr th:only-of-type {\n",
       "        vertical-align: middle;\n",
       "    }\n",
       "\n",
       "    .dataframe tbody tr th {\n",
       "        vertical-align: top;\n",
       "    }\n",
       "\n",
       "    .dataframe thead th {\n",
       "        text-align: right;\n",
       "    }\n",
       "</style>\n",
       "<table border=\"1\" class=\"dataframe\">\n",
       "  <thead>\n",
       "    <tr style=\"text-align: right;\">\n",
       "      <th></th>\n",
       "      <th>Age</th>\n",
       "      <th>BMI</th>\n",
       "      <th>Glucose</th>\n",
       "      <th>Insulin</th>\n",
       "      <th>HOMA</th>\n",
       "      <th>Leptin</th>\n",
       "      <th>Adiponectin</th>\n",
       "      <th>Resistin</th>\n",
       "      <th>MCP.1</th>\n",
       "      <th>Classification</th>\n",
       "    </tr>\n",
       "  </thead>\n",
       "  <tbody>\n",
       "    <tr>\n",
       "      <th>0</th>\n",
       "      <td>48</td>\n",
       "      <td>23.500000</td>\n",
       "      <td>70</td>\n",
       "      <td>2.707</td>\n",
       "      <td>0.467409</td>\n",
       "      <td>8.8071</td>\n",
       "      <td>9.702400</td>\n",
       "      <td>7.99585</td>\n",
       "      <td>417.114</td>\n",
       "      <td>1</td>\n",
       "    </tr>\n",
       "    <tr>\n",
       "      <th>1</th>\n",
       "      <td>83</td>\n",
       "      <td>20.690495</td>\n",
       "      <td>92</td>\n",
       "      <td>3.115</td>\n",
       "      <td>0.706897</td>\n",
       "      <td>8.8438</td>\n",
       "      <td>5.429285</td>\n",
       "      <td>4.06405</td>\n",
       "      <td>468.786</td>\n",
       "      <td>1</td>\n",
       "    </tr>\n",
       "    <tr>\n",
       "      <th>2</th>\n",
       "      <td>82</td>\n",
       "      <td>23.124670</td>\n",
       "      <td>91</td>\n",
       "      <td>4.498</td>\n",
       "      <td>1.009651</td>\n",
       "      <td>17.9393</td>\n",
       "      <td>22.432040</td>\n",
       "      <td>9.27715</td>\n",
       "      <td>554.697</td>\n",
       "      <td>1</td>\n",
       "    </tr>\n",
       "    <tr>\n",
       "      <th>3</th>\n",
       "      <td>68</td>\n",
       "      <td>21.367521</td>\n",
       "      <td>77</td>\n",
       "      <td>3.226</td>\n",
       "      <td>0.612725</td>\n",
       "      <td>9.8827</td>\n",
       "      <td>7.169560</td>\n",
       "      <td>12.76600</td>\n",
       "      <td>928.220</td>\n",
       "      <td>1</td>\n",
       "    </tr>\n",
       "    <tr>\n",
       "      <th>4</th>\n",
       "      <td>86</td>\n",
       "      <td>21.111111</td>\n",
       "      <td>92</td>\n",
       "      <td>3.549</td>\n",
       "      <td>0.805386</td>\n",
       "      <td>6.6994</td>\n",
       "      <td>4.819240</td>\n",
       "      <td>10.57635</td>\n",
       "      <td>773.920</td>\n",
       "      <td>1</td>\n",
       "    </tr>\n",
       "  </tbody>\n",
       "</table>\n",
       "</div>"
      ],
      "text/plain": [
       "   Age        BMI  Glucose  Insulin      HOMA   Leptin  Adiponectin  Resistin  \\\n",
       "0   48  23.500000       70    2.707  0.467409   8.8071     9.702400   7.99585   \n",
       "1   83  20.690495       92    3.115  0.706897   8.8438     5.429285   4.06405   \n",
       "2   82  23.124670       91    4.498  1.009651  17.9393    22.432040   9.27715   \n",
       "3   68  21.367521       77    3.226  0.612725   9.8827     7.169560  12.76600   \n",
       "4   86  21.111111       92    3.549  0.805386   6.6994     4.819240  10.57635   \n",
       "\n",
       "     MCP.1  Classification  \n",
       "0  417.114               1  \n",
       "1  468.786               1  \n",
       "2  554.697               1  \n",
       "3  928.220               1  \n",
       "4  773.920               1  "
      ]
     },
     "execution_count": 6,
     "metadata": {},
     "output_type": "execute_result"
    }
   ],
   "source": [
    "df = pd.read_csv('../mldata/breast_cancer.csv')\n",
    "df.head()"
   ]
  },
  {
   "cell_type": "code",
   "execution_count": 7,
   "metadata": {},
   "outputs": [
    {
     "name": "stdout",
     "output_type": "stream",
     "text": [
      "[1 2]\n",
      "Labels: 1 = Negative\t2 = Positive\n",
      "\n",
      "2    64\n",
      "1    52\n",
      "Name: Classification, dtype: int64\n"
     ]
    }
   ],
   "source": [
    "print(df.Classification.unique())\n",
    "print(\"Labels: 1 = Negative\\t2 = Positive\")\n",
    "print()\n",
    "# 1 is healthy, 2 is sick.\n",
    "print(df.Classification.value_counts())"
   ]
  },
  {
   "cell_type": "markdown",
   "metadata": {},
   "source": [
    "### Transforming the data <br> 1 to -1 and 2 -> 1"
   ]
  },
  {
   "cell_type": "code",
   "execution_count": 8,
   "metadata": {},
   "outputs": [],
   "source": [
    "df['Classification'].replace(1, -1, inplace=True)\n",
    "df['Classification'].replace(2, 1, inplace=True)"
   ]
  },
  {
   "cell_type": "code",
   "execution_count": 9,
   "metadata": {},
   "outputs": [
    {
     "data": {
      "text/plain": [
       " 1    64\n",
       "-1    52\n",
       "Name: Classification, dtype: int64"
      ]
     },
     "execution_count": 9,
     "metadata": {},
     "output_type": "execute_result"
    }
   ],
   "source": [
    "df.Classification.value_counts()"
   ]
  },
  {
   "cell_type": "markdown",
   "metadata": {},
   "source": [
    "### Checking for null values"
   ]
  },
  {
   "cell_type": "code",
   "execution_count": 10,
   "metadata": {},
   "outputs": [
    {
     "data": {
      "text/plain": [
       "False"
      ]
     },
     "execution_count": 10,
     "metadata": {},
     "output_type": "execute_result"
    }
   ],
   "source": [
    "df.isnull().values.any()"
   ]
  },
  {
   "cell_type": "markdown",
   "metadata": {},
   "source": [
    "### Pre-processing the data to work with our code."
   ]
  },
  {
   "cell_type": "code",
   "execution_count": 11,
   "metadata": {},
   "outputs": [],
   "source": [
    "cancer_data = df.loc[:, df.columns != 'Classification'].to_numpy()\n",
    "cancer_label = df.loc[:, df.columns == 'Classification'].to_numpy()"
   ]
  },
  {
   "cell_type": "code",
   "execution_count": 12,
   "metadata": {},
   "outputs": [
    {
     "data": {
      "text/plain": [
       "array([[ 48.        ,  23.5       ,  70.        , ...,   9.7024    ,\n",
       "          7.99585   , 417.114     ],\n",
       "       [ 83.        ,  20.69049454,  92.        , ...,   5.429285  ,\n",
       "          4.06405   , 468.786     ],\n",
       "       [ 82.        ,  23.12467037,  91.        , ...,  22.43204   ,\n",
       "          9.27715   , 554.697     ],\n",
       "       ...,\n",
       "       [ 65.        ,  32.05      ,  97.        , ...,  22.54      ,\n",
       "         10.33      , 314.05      ],\n",
       "       [ 72.        ,  25.59      ,  82.        , ...,  33.75      ,\n",
       "          3.27      , 392.46      ],\n",
       "       [ 86.        ,  27.18      , 138.        , ...,  14.11      ,\n",
       "          4.35      ,  90.09      ]])"
      ]
     },
     "execution_count": 12,
     "metadata": {},
     "output_type": "execute_result"
    }
   ],
   "source": [
    "cancer_data"
   ]
  },
  {
   "cell_type": "code",
   "execution_count": 13,
   "metadata": {},
   "outputs": [
    {
     "data": {
      "text/plain": [
       "array([[-1],\n",
       "       [-1],\n",
       "       [-1]])"
      ]
     },
     "execution_count": 13,
     "metadata": {},
     "output_type": "execute_result"
    }
   ],
   "source": [
    "cancer_label[:3]"
   ]
  },
  {
   "cell_type": "code",
   "execution_count": 17,
   "metadata": {},
   "outputs": [
    {
     "data": {
      "text/plain": [
       "numpy.ndarray"
      ]
     },
     "execution_count": 17,
     "metadata": {},
     "output_type": "execute_result"
    }
   ],
   "source": [
    "compare(cancer_data, cancer_label, show_res=False, plot=True)"
   ]
  },
  {
   "cell_type": "code",
   "execution_count": null,
   "metadata": {},
   "outputs": [],
   "source": [
    "X = cancer_data\n",
    "y = cancer_label\n",
    "new_w = np.linalg.inv(np.matmul(X.T, X))\n",
    "new_w = np.matmul(new_w, X.T)\n",
    "new_w = np.matmul(new_w, y)\n",
    "w = np.reshape(new_w, (1, new_w.shape[0]))[0]\n",
    "w"
   ]
  },
  {
   "cell_type": "code",
   "execution_count": null,
   "metadata": {},
   "outputs": [],
   "source": [
    "w = np.linalg.lstsq(np.matmul(X.T, X), np.matmul(X.T, y), rcond=None)\n",
    "w = np.reshape(w[0], (1, w[0].shape[0]))[0]\n",
    "w"
   ]
  },
  {
   "cell_type": "markdown",
   "metadata": {},
   "source": [
    "## Heatmap des correlations entre les features"
   ]
  },
  {
   "cell_type": "code",
   "execution_count": null,
   "metadata": {},
   "outputs": [],
   "source": [
    "plt.figure(figsize=(20, 20))\n",
    "sns.heatmap(df.corr(), cbar = True,  annot=True, fmt= '.2f', cmap= 'coolwarm')\n",
    "plt.title('Matrice de correlations')"
   ]
  },
  {
   "cell_type": "code",
   "execution_count": null,
   "metadata": {},
   "outputs": [],
   "source": [
    "try:\n",
    "    del df['HOMA']\n",
    "except KeyError:\n",
    "    pass"
   ]
  },
  {
   "cell_type": "code",
   "execution_count": null,
   "metadata": {},
   "outputs": [],
   "source": [
    "plt.figure(figsize=(20, 20))\n",
    "sns.heatmap(df.corr(), cbar = True,  annot=True, fmt= '.2f', cmap= 'coolwarm')\n",
    "plt.title('Matrice de correlations')"
   ]
  },
  {
   "cell_type": "code",
   "execution_count": null,
   "metadata": {},
   "outputs": [],
   "source": [
    "compare(cancer_data, cancer_label, m = 10, show_res=False, plot=True)"
   ]
  },
  {
   "cell_type": "code",
   "execution_count": null,
   "metadata": {},
   "outputs": [],
   "source": [
    "compare(cancer_data, cancer_label, m = 10, show_res=False, plot=True)"
   ]
  },
  {
   "cell_type": "markdown",
   "metadata": {},
   "source": [
    "## Visualisation des données\n",
    "\n",
    "Lorsque les données sur lesquelles on travaille possèdent plus de 2 dimensions, il n'est pas facile de les visualiser simplement comme on a pu le faire dans les séances précédentes en utilisant un plot.\n",
    "\n",
    "Une façon de mieux visualiser ces données peut être d'utiliser les outils d'un package de visualisation.\n",
    "\n",
    "Le package <code>seaborn</code> est très pratique (vous pouvez consulter la documentation sur le web) et généralement installé dans l'environnement Python."
   ]
  },
  {
   "cell_type": "markdown",
   "metadata": {},
   "source": [
    "Pour travailler avec `seaborn`, on a besoin de mettre notre dataset dans un `DataFrame` pandas, cela se fait très facilement (cf. la doc pandas):"
   ]
  },
  {
   "cell_type": "code",
   "execution_count": null,
   "metadata": {},
   "outputs": [],
   "source": [
    "# On commence par créer un dataframe avec les descriptions :\n",
    "df = pd.DataFrame(autre_desc, columns= [\"X\", \"Y\"])\n",
    "\n",
    "# puis on rajoute à notre dataframe une nouvelle colonne contenant les labels de chaque exemple :\n",
    "df['label'] = autre_label\n",
    "\n",
    "# Affichage du dataframe obtenu:\n",
    "df"
   ]
  },
  {
   "cell_type": "markdown",
   "metadata": {},
   "source": [
    "Nous utilisons ici la fonction <code>pairplot</code> du package `seaborn` pour construire un corrélogramme qui affiche les corrélations des dimensions prises 2 à 2."
   ]
  },
  {
   "cell_type": "code",
   "execution_count": null,
   "metadata": {},
   "outputs": [],
   "source": [
    "sns.pairplot(df)\n",
    "\n",
    "# Eventuellement, mais pas nécessairement utile:\n",
    "#sns.plt.show()"
   ]
  },
  {
   "cell_type": "markdown",
   "metadata": {},
   "source": [
    "<font color=\"RED\" size=\"+1\">**[Q]**</font> Ecrire la fonction `cree_dataframe()` qui, étant donné un dataset (un tuple contenant un array avec les description et un array avec les labels correspondant) et une liste de chaîne de caractères donnant les noms des variables correspondant à chaque colonne de la description, ainsi qu'une chaîne de caractères donnant le nom pour la colonne label à donner dans le dataframe créé (ce dernier argument étant optionnel est mis à la chaîne \"label\" par défaut), rend le dataframe correspondant."
   ]
  },
  {
   "cell_type": "code",
   "execution_count": null,
   "metadata": {},
   "outputs": [],
   "source": [
    "# ------------------------ A COMPLETER :\n",
    "def cree_dataframe(DS, L_noms, Nom_label = \"label\"):\n",
    "    \"\"\" Dataset * List[str] * Str -> DataFrame\n",
    "        Hypothèse: la liste à autant de chaînes que la description a de colonnes\n",
    "    \"\"\"\n",
    "    \n",
    "    raise NotImplementedError(\"Please Implement this method\")\n"
   ]
  },
  {
   "cell_type": "code",
   "execution_count": null,
   "metadata": {},
   "outputs": [],
   "source": [
    "cree_dataframe((autre_desc,autre_label),[\"X\", \"Y\"])"
   ]
  },
  {
   "cell_type": "code",
   "execution_count": null,
   "metadata": {},
   "outputs": [],
   "source": [
    "df_data = cree_dataframe((data_desc,data_label),[\"Abscisse\", \"Ordonnée\"], 'classe')\n",
    "df_data"
   ]
  },
  {
   "cell_type": "code",
   "execution_count": null,
   "metadata": {},
   "outputs": [],
   "source": [
    "sns.pairplot(df_data)"
   ]
  },
  {
   "cell_type": "markdown",
   "metadata": {},
   "source": [
    "Un autre exemple, qui utilise un dataset classique en apprentissage: le dataset des iris de Fisher  (voir par exemple : https://fr.wikipedia.org/wiki/Iris_de_Fisher) dont les exemples sont décrits par 4 variables et sont associés à l'une des 3 classes possibles ('setosa', 'virginica' et 'versicolor')."
   ]
  },
  {
   "cell_type": "code",
   "execution_count": null,
   "metadata": {},
   "outputs": [],
   "source": [
    "# Le dataset des iris est fourni dans le package seaborn, on l'obtient ainsi:\n",
    "df_iris = sns.load_dataset('iris')\n",
    "\n",
    "# On peut alors construire le corrélogramme de ce dataset:\n",
    "sns.pairplot(df_iris)\n",
    "\n"
   ]
  },
  {
   "cell_type": "code",
   "execution_count": null,
   "metadata": {},
   "outputs": [],
   "source": [
    "df_iris['species']"
   ]
  },
  {
   "cell_type": "markdown",
   "metadata": {},
   "source": [
    "<font color=\"RED\" size=\"+1\">**[Q]**</font> Utiliser le package `seaborn` ainsi que les fonctions statistiques vues lors du TME 1 pour afficher tout un ensemble de résultats permettant d'analyser la base des Iris de Fisher. "
   ]
  },
  {
   "cell_type": "markdown",
   "metadata": {},
   "source": [
    "<font color=\"RED\" size=\"+1\">**[Q]**</font> Afin de pouvoir utiliser vos classifieurs sur la base des Iris, il est nécessaire de l'adapter : ce dataset contient 3 classes (qui sont des chaînes) alors que nos classifieurs sont binaires (et travaillent sur les labels -1 et +1).\n",
    "Le moyen le plus simple est de réaliser un encodage \"one hot\" :\n",
    "- choisir une classe et lui donner le label +1\n",
    "- toutes les autres classes sont alors associées au label -1\n",
    "\n",
    "Mettre au point une série d'expérimentation pour tester vos algorithmes sur la base des iris en utilisant ce codage."
   ]
  },
  {
   "cell_type": "code",
   "execution_count": null,
   "metadata": {},
   "outputs": [],
   "source": []
  }
 ],
 "metadata": {
  "kernelspec": {
   "display_name": "Python 3",
   "language": "python",
   "name": "python3"
  },
  "language_info": {
   "codemirror_mode": {
    "name": "ipython",
    "version": 3
   },
   "file_extension": ".py",
   "mimetype": "text/x-python",
   "name": "python",
   "nbconvert_exporter": "python",
   "pygments_lexer": "ipython3",
   "version": "3.7.3"
  }
 },
 "nbformat": 4,
 "nbformat_minor": 1
}
